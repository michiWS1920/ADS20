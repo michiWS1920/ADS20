{
  "nbformat": 4,
  "nbformat_minor": 0,
  "metadata": {
    "colab": {
      "name": "ADS_Programming_Assignment_1.ipynb",
      "provenance": [],
      "collapsed_sections": [],
      "include_colab_link": true
    },
    "kernelspec": {
      "display_name": "R",
      "language": "R",
      "name": "ir"
    },
    "language_info": {
      "codemirror_mode": "r",
      "file_extension": ".r",
      "mimetype": "text/x-r-source",
      "name": "R",
      "pygments_lexer": "r",
      "version": "3.6.3"
    }
  },
  "cells": [
    {
      "cell_type": "markdown",
      "metadata": {
        "id": "view-in-github",
        "colab_type": "text"
      },
      "source": [
        "<a href=\"https://colab.research.google.com/github/michiWS1920/ADS20/blob/master/ADS_Programming_Assignment_1.ipynb\" target=\"_parent\"><img src=\"https://colab.research.google.com/assets/colab-badge.svg\" alt=\"Open In Colab\"/></a>"
      ]
    },
    {
      "cell_type": "markdown",
      "metadata": {
        "colab_type": "text",
        "id": "nRxTtieS2WnT"
      },
      "source": [
        "# Programming Assignment 1\n",
        "**Data Wrangling**\n",
        "\n",
        "In this first problem set you will use your data wrangling skills to answer (hopefully) interessting questions regarding the COVID-19 pandemic.\n"
      ]
    },
    {
      "cell_type": "markdown",
      "metadata": {
        "colab_type": "text",
        "id": "XhX_7qxX36Zd"
      },
      "source": [
        "To perform your analysis you have to load the library ```tidyverse```. If you want to use additional libraries you can add them to the following cell:"
      ]
    },
    {
      "cell_type": "code",
      "metadata": {
        "colab_type": "code",
        "id": "buG0f_XT4WjT",
        "colab": {
          "base_uri": "https://localhost:8080/",
          "height": 461
        },
        "outputId": "04e8399f-fef7-4fa1-ced8-ba48e5eb8b85"
      },
      "source": [
        "library(tidyverse)\n",
        "library(lubridate)"
      ],
      "execution_count": 1,
      "outputs": [
        {
          "output_type": "stream",
          "text": [
            "── \u001b[1mAttaching packages\u001b[22m ─────────────────────────────────────── tidyverse 1.3.0 ──\n",
            "\n",
            "\u001b[32m✔\u001b[39m \u001b[34mggplot2\u001b[39m 3.3.0     \u001b[32m✔\u001b[39m \u001b[34mpurrr  \u001b[39m 0.3.4\n",
            "\u001b[32m✔\u001b[39m \u001b[34mtibble \u001b[39m 3.0.1     \u001b[32m✔\u001b[39m \u001b[34mdplyr  \u001b[39m 0.8.5\n",
            "\u001b[32m✔\u001b[39m \u001b[34mtidyr  \u001b[39m 1.0.3     \u001b[32m✔\u001b[39m \u001b[34mstringr\u001b[39m 1.4.0\n",
            "\u001b[32m✔\u001b[39m \u001b[34mreadr  \u001b[39m 1.3.1     \u001b[32m✔\u001b[39m \u001b[34mforcats\u001b[39m 0.5.0\n",
            "\n",
            "── \u001b[1mConflicts\u001b[22m ────────────────────────────────────────── tidyverse_conflicts() ──\n",
            "\u001b[31m✖\u001b[39m \u001b[34mdplyr\u001b[39m::\u001b[32mfilter()\u001b[39m masks \u001b[34mstats\u001b[39m::filter()\n",
            "\u001b[31m✖\u001b[39m \u001b[34mdplyr\u001b[39m::\u001b[32mlag()\u001b[39m    masks \u001b[34mstats\u001b[39m::lag()\n",
            "\n",
            "\n",
            "Attaching package: ‘lubridate’\n",
            "\n",
            "\n",
            "The following objects are masked from ‘package:dplyr’:\n",
            "\n",
            "    intersect, setdiff, union\n",
            "\n",
            "\n",
            "The following objects are masked from ‘package:base’:\n",
            "\n",
            "    date, intersect, setdiff, union\n",
            "\n",
            "\n"
          ],
          "name": "stderr"
        }
      ]
    },
    {
      "cell_type": "markdown",
      "metadata": {
        "colab_type": "text",
        "id": "r9lQQshq3WH4"
      },
      "source": [
        "## Task 1\n",
        "**COVID-19 cases worldwide**\n",
        "\n",
        "For you first task you will work with data provided by the [EU Open Data Portal](https://data.europa.eu/euodp/en/home). We will use a dataset providing information on the geographic distribution of COVID-19 cases worldwide. You can download the .csv file [here](https://data.europa.eu/euodp/en/data/dataset/covid-19-coronavirus-data/resource/260bbbde-2316-40eb-aec3-7cd7bfc2f590) or load it directly into your notebook by using the download link https://opendata.ecdc.europa.eu/covid19/casedistribution/csv .\n",
        "\n",
        "Your first task is to load the data into a dataframe:"
      ]
    },
    {
      "cell_type": "code",
      "metadata": {
        "colab_type": "code",
        "id": "m3ljQlax51bq",
        "outputId": "a6dffdab-c7cd-41bf-e772-df85918fbd36",
        "colab": {
          "base_uri": "https://localhost:8080/",
          "height": 1000
        }
      },
      "source": [
        "# Insert your code here\n",
        "covid <- as.data.frame(read.csv(url(\"https://opendata.ecdc.europa.eu/covid19/casedistribution/csv\")))\n",
        "covid"
      ],
      "execution_count": 2,
      "outputs": [
        {
          "output_type": "display_data",
          "data": {
            "text/plain": [
              "      dateRep    day month year cases deaths countriesAndTerritories geoId\n",
              "1     20/05/2020 20  5     2020  581   5     Afghanistan             AF   \n",
              "2     19/05/2020 19  5     2020  408   4     Afghanistan             AF   \n",
              "3     18/05/2020 18  5     2020  262   1     Afghanistan             AF   \n",
              "4     17/05/2020 17  5     2020    0   0     Afghanistan             AF   \n",
              "5     16/05/2020 16  5     2020 1063  32     Afghanistan             AF   \n",
              "6     15/05/2020 15  5     2020  113   6     Afghanistan             AF   \n",
              "7     14/05/2020 14  5     2020  259   3     Afghanistan             AF   \n",
              "8     13/05/2020 13  5     2020  280   5     Afghanistan             AF   \n",
              "9     12/05/2020 12  5     2020  285   2     Afghanistan             AF   \n",
              "10    11/05/2020 11  5     2020  369   5     Afghanistan             AF   \n",
              "11    10/05/2020 10  5     2020  255   6     Afghanistan             AF   \n",
              "12    09/05/2020  9  5     2020  215   3     Afghanistan             AF   \n",
              "13    08/05/2020  8  5     2020  171   2     Afghanistan             AF   \n",
              "14    07/05/2020  7  5     2020  168   9     Afghanistan             AF   \n",
              "15    06/05/2020  6  5     2020  330   5     Afghanistan             AF   \n",
              "16    05/05/2020  5  5     2020  190   5     Afghanistan             AF   \n",
              "17    04/05/2020  4  5     2020  235  13     Afghanistan             AF   \n",
              "18    03/05/2020  3  5     2020  134   4     Afghanistan             AF   \n",
              "19    02/05/2020  2  5     2020  164   4     Afghanistan             AF   \n",
              "20    01/05/2020  1  5     2020  222   4     Afghanistan             AF   \n",
              "21    30/04/2020 30  4     2020  122   0     Afghanistan             AF   \n",
              "22    29/04/2020 29  4     2020  124   3     Afghanistan             AF   \n",
              "23    28/04/2020 28  4     2020  172   0     Afghanistan             AF   \n",
              "24    27/04/2020 27  4     2020   68  10     Afghanistan             AF   \n",
              "25    26/04/2020 26  4     2020  112   4     Afghanistan             AF   \n",
              "26    25/04/2020 25  4     2020   70   1     Afghanistan             AF   \n",
              "27    24/04/2020 24  4     2020  105   2     Afghanistan             AF   \n",
              "28    23/04/2020 23  4     2020   84   4     Afghanistan             AF   \n",
              "29    22/04/2020 22  4     2020   61   1     Afghanistan             AF   \n",
              "30    21/04/2020 21  4     2020   35   2     Afghanistan             AF   \n",
              "⋮     ⋮          ⋮   ⋮     ⋮    ⋮     ⋮      ⋮                       ⋮    \n",
              "18174 19/04/2020 19  4     2020 1     0      Zimbabwe                ZW   \n",
              "18175 18/04/2020 18  4     2020 0     0      Zimbabwe                ZW   \n",
              "18176 17/04/2020 17  4     2020 1     0      Zimbabwe                ZW   \n",
              "18177 16/04/2020 16  4     2020 6     0      Zimbabwe                ZW   \n",
              "18178 15/04/2020 15  4     2020 0     0      Zimbabwe                ZW   \n",
              "18179 14/04/2020 14  4     2020 3     0      Zimbabwe                ZW   \n",
              "18180 13/04/2020 13  4     2020 0     0      Zimbabwe                ZW   \n",
              "18181 12/04/2020 12  4     2020 3     0      Zimbabwe                ZW   \n",
              "18182 11/04/2020 11  4     2020 0     0      Zimbabwe                ZW   \n",
              "18183 10/04/2020 10  4     2020 0     1      Zimbabwe                ZW   \n",
              "18184 09/04/2020  9  4     2020 1     1      Zimbabwe                ZW   \n",
              "18185 08/04/2020  8  4     2020 1     0      Zimbabwe                ZW   \n",
              "18186 07/04/2020  7  4     2020 0     0      Zimbabwe                ZW   \n",
              "18187 06/04/2020  6  4     2020 0     0      Zimbabwe                ZW   \n",
              "18188 05/04/2020  5  4     2020 0     0      Zimbabwe                ZW   \n",
              "18189 04/04/2020  4  4     2020 1     0      Zimbabwe                ZW   \n",
              "18190 03/04/2020  3  4     2020 0     0      Zimbabwe                ZW   \n",
              "18191 02/04/2020  2  4     2020 0     0      Zimbabwe                ZW   \n",
              "18192 01/04/2020  1  4     2020 1     0      Zimbabwe                ZW   \n",
              "18193 31/03/2020 31  3     2020 0     0      Zimbabwe                ZW   \n",
              "18194 30/03/2020 30  3     2020 0     0      Zimbabwe                ZW   \n",
              "18195 29/03/2020 29  3     2020 2     0      Zimbabwe                ZW   \n",
              "18196 28/03/2020 28  3     2020 2     0      Zimbabwe                ZW   \n",
              "18197 27/03/2020 27  3     2020 0     0      Zimbabwe                ZW   \n",
              "18198 26/03/2020 26  3     2020 1     0      Zimbabwe                ZW   \n",
              "18199 25/03/2020 25  3     2020 0     0      Zimbabwe                ZW   \n",
              "18200 24/03/2020 24  3     2020 0     1      Zimbabwe                ZW   \n",
              "18201 23/03/2020 23  3     2020 0     0      Zimbabwe                ZW   \n",
              "18202 22/03/2020 22  3     2020 1     0      Zimbabwe                ZW   \n",
              "18203 21/03/2020 21  3     2020 1     0      Zimbabwe                ZW   \n",
              "      countryterritoryCode popData2018 continentExp\n",
              "1     AFG                  37172386    Asia        \n",
              "2     AFG                  37172386    Asia        \n",
              "3     AFG                  37172386    Asia        \n",
              "4     AFG                  37172386    Asia        \n",
              "5     AFG                  37172386    Asia        \n",
              "6     AFG                  37172386    Asia        \n",
              "7     AFG                  37172386    Asia        \n",
              "8     AFG                  37172386    Asia        \n",
              "9     AFG                  37172386    Asia        \n",
              "10    AFG                  37172386    Asia        \n",
              "11    AFG                  37172386    Asia        \n",
              "12    AFG                  37172386    Asia        \n",
              "13    AFG                  37172386    Asia        \n",
              "14    AFG                  37172386    Asia        \n",
              "15    AFG                  37172386    Asia        \n",
              "16    AFG                  37172386    Asia        \n",
              "17    AFG                  37172386    Asia        \n",
              "18    AFG                  37172386    Asia        \n",
              "19    AFG                  37172386    Asia        \n",
              "20    AFG                  37172386    Asia        \n",
              "21    AFG                  37172386    Asia        \n",
              "22    AFG                  37172386    Asia        \n",
              "23    AFG                  37172386    Asia        \n",
              "24    AFG                  37172386    Asia        \n",
              "25    AFG                  37172386    Asia        \n",
              "26    AFG                  37172386    Asia        \n",
              "27    AFG                  37172386    Asia        \n",
              "28    AFG                  37172386    Asia        \n",
              "29    AFG                  37172386    Asia        \n",
              "30    AFG                  37172386    Asia        \n",
              "⋮     ⋮                    ⋮           ⋮           \n",
              "18174 ZWE                  14439018    Africa      \n",
              "18175 ZWE                  14439018    Africa      \n",
              "18176 ZWE                  14439018    Africa      \n",
              "18177 ZWE                  14439018    Africa      \n",
              "18178 ZWE                  14439018    Africa      \n",
              "18179 ZWE                  14439018    Africa      \n",
              "18180 ZWE                  14439018    Africa      \n",
              "18181 ZWE                  14439018    Africa      \n",
              "18182 ZWE                  14439018    Africa      \n",
              "18183 ZWE                  14439018    Africa      \n",
              "18184 ZWE                  14439018    Africa      \n",
              "18185 ZWE                  14439018    Africa      \n",
              "18186 ZWE                  14439018    Africa      \n",
              "18187 ZWE                  14439018    Africa      \n",
              "18188 ZWE                  14439018    Africa      \n",
              "18189 ZWE                  14439018    Africa      \n",
              "18190 ZWE                  14439018    Africa      \n",
              "18191 ZWE                  14439018    Africa      \n",
              "18192 ZWE                  14439018    Africa      \n",
              "18193 ZWE                  14439018    Africa      \n",
              "18194 ZWE                  14439018    Africa      \n",
              "18195 ZWE                  14439018    Africa      \n",
              "18196 ZWE                  14439018    Africa      \n",
              "18197 ZWE                  14439018    Africa      \n",
              "18198 ZWE                  14439018    Africa      \n",
              "18199 ZWE                  14439018    Africa      \n",
              "18200 ZWE                  14439018    Africa      \n",
              "18201 ZWE                  14439018    Africa      \n",
              "18202 ZWE                  14439018    Africa      \n",
              "18203 ZWE                  14439018    Africa      "
            ],
            "text/latex": "A data.frame: 18203 × 11\n\\begin{tabular}{lllllllllll}\n dateRep & day & month & year & cases & deaths & countriesAndTerritories & geoId & countryterritoryCode & popData2018 & continentExp\\\\\n <fct> & <int> & <int> & <int> & <int> & <int> & <fct> & <fct> & <fct> & <int> & <fct>\\\\\n\\hline\n\t 20/05/2020 & 20 & 5 & 2020 &  581 &  5 & Afghanistan & AF & AFG & 37172386 & Asia\\\\\n\t 19/05/2020 & 19 & 5 & 2020 &  408 &  4 & Afghanistan & AF & AFG & 37172386 & Asia\\\\\n\t 18/05/2020 & 18 & 5 & 2020 &  262 &  1 & Afghanistan & AF & AFG & 37172386 & Asia\\\\\n\t 17/05/2020 & 17 & 5 & 2020 &    0 &  0 & Afghanistan & AF & AFG & 37172386 & Asia\\\\\n\t 16/05/2020 & 16 & 5 & 2020 & 1063 & 32 & Afghanistan & AF & AFG & 37172386 & Asia\\\\\n\t 15/05/2020 & 15 & 5 & 2020 &  113 &  6 & Afghanistan & AF & AFG & 37172386 & Asia\\\\\n\t 14/05/2020 & 14 & 5 & 2020 &  259 &  3 & Afghanistan & AF & AFG & 37172386 & Asia\\\\\n\t 13/05/2020 & 13 & 5 & 2020 &  280 &  5 & Afghanistan & AF & AFG & 37172386 & Asia\\\\\n\t 12/05/2020 & 12 & 5 & 2020 &  285 &  2 & Afghanistan & AF & AFG & 37172386 & Asia\\\\\n\t 11/05/2020 & 11 & 5 & 2020 &  369 &  5 & Afghanistan & AF & AFG & 37172386 & Asia\\\\\n\t 10/05/2020 & 10 & 5 & 2020 &  255 &  6 & Afghanistan & AF & AFG & 37172386 & Asia\\\\\n\t 09/05/2020 &  9 & 5 & 2020 &  215 &  3 & Afghanistan & AF & AFG & 37172386 & Asia\\\\\n\t 08/05/2020 &  8 & 5 & 2020 &  171 &  2 & Afghanistan & AF & AFG & 37172386 & Asia\\\\\n\t 07/05/2020 &  7 & 5 & 2020 &  168 &  9 & Afghanistan & AF & AFG & 37172386 & Asia\\\\\n\t 06/05/2020 &  6 & 5 & 2020 &  330 &  5 & Afghanistan & AF & AFG & 37172386 & Asia\\\\\n\t 05/05/2020 &  5 & 5 & 2020 &  190 &  5 & Afghanistan & AF & AFG & 37172386 & Asia\\\\\n\t 04/05/2020 &  4 & 5 & 2020 &  235 & 13 & Afghanistan & AF & AFG & 37172386 & Asia\\\\\n\t 03/05/2020 &  3 & 5 & 2020 &  134 &  4 & Afghanistan & AF & AFG & 37172386 & Asia\\\\\n\t 02/05/2020 &  2 & 5 & 2020 &  164 &  4 & Afghanistan & AF & AFG & 37172386 & Asia\\\\\n\t 01/05/2020 &  1 & 5 & 2020 &  222 &  4 & Afghanistan & AF & AFG & 37172386 & Asia\\\\\n\t 30/04/2020 & 30 & 4 & 2020 &  122 &  0 & Afghanistan & AF & AFG & 37172386 & Asia\\\\\n\t 29/04/2020 & 29 & 4 & 2020 &  124 &  3 & Afghanistan & AF & AFG & 37172386 & Asia\\\\\n\t 28/04/2020 & 28 & 4 & 2020 &  172 &  0 & Afghanistan & AF & AFG & 37172386 & Asia\\\\\n\t 27/04/2020 & 27 & 4 & 2020 &   68 & 10 & Afghanistan & AF & AFG & 37172386 & Asia\\\\\n\t 26/04/2020 & 26 & 4 & 2020 &  112 &  4 & Afghanistan & AF & AFG & 37172386 & Asia\\\\\n\t 25/04/2020 & 25 & 4 & 2020 &   70 &  1 & Afghanistan & AF & AFG & 37172386 & Asia\\\\\n\t 24/04/2020 & 24 & 4 & 2020 &  105 &  2 & Afghanistan & AF & AFG & 37172386 & Asia\\\\\n\t 23/04/2020 & 23 & 4 & 2020 &   84 &  4 & Afghanistan & AF & AFG & 37172386 & Asia\\\\\n\t 22/04/2020 & 22 & 4 & 2020 &   61 &  1 & Afghanistan & AF & AFG & 37172386 & Asia\\\\\n\t 21/04/2020 & 21 & 4 & 2020 &   35 &  2 & Afghanistan & AF & AFG & 37172386 & Asia\\\\\n\t ⋮ & ⋮ & ⋮ & ⋮ & ⋮ & ⋮ & ⋮ & ⋮ & ⋮ & ⋮ & ⋮\\\\\n\t 19/04/2020 & 19 & 4 & 2020 & 1 & 0 & Zimbabwe & ZW & ZWE & 14439018 & Africa\\\\\n\t 18/04/2020 & 18 & 4 & 2020 & 0 & 0 & Zimbabwe & ZW & ZWE & 14439018 & Africa\\\\\n\t 17/04/2020 & 17 & 4 & 2020 & 1 & 0 & Zimbabwe & ZW & ZWE & 14439018 & Africa\\\\\n\t 16/04/2020 & 16 & 4 & 2020 & 6 & 0 & Zimbabwe & ZW & ZWE & 14439018 & Africa\\\\\n\t 15/04/2020 & 15 & 4 & 2020 & 0 & 0 & Zimbabwe & ZW & ZWE & 14439018 & Africa\\\\\n\t 14/04/2020 & 14 & 4 & 2020 & 3 & 0 & Zimbabwe & ZW & ZWE & 14439018 & Africa\\\\\n\t 13/04/2020 & 13 & 4 & 2020 & 0 & 0 & Zimbabwe & ZW & ZWE & 14439018 & Africa\\\\\n\t 12/04/2020 & 12 & 4 & 2020 & 3 & 0 & Zimbabwe & ZW & ZWE & 14439018 & Africa\\\\\n\t 11/04/2020 & 11 & 4 & 2020 & 0 & 0 & Zimbabwe & ZW & ZWE & 14439018 & Africa\\\\\n\t 10/04/2020 & 10 & 4 & 2020 & 0 & 1 & Zimbabwe & ZW & ZWE & 14439018 & Africa\\\\\n\t 09/04/2020 &  9 & 4 & 2020 & 1 & 1 & Zimbabwe & ZW & ZWE & 14439018 & Africa\\\\\n\t 08/04/2020 &  8 & 4 & 2020 & 1 & 0 & Zimbabwe & ZW & ZWE & 14439018 & Africa\\\\\n\t 07/04/2020 &  7 & 4 & 2020 & 0 & 0 & Zimbabwe & ZW & ZWE & 14439018 & Africa\\\\\n\t 06/04/2020 &  6 & 4 & 2020 & 0 & 0 & Zimbabwe & ZW & ZWE & 14439018 & Africa\\\\\n\t 05/04/2020 &  5 & 4 & 2020 & 0 & 0 & Zimbabwe & ZW & ZWE & 14439018 & Africa\\\\\n\t 04/04/2020 &  4 & 4 & 2020 & 1 & 0 & Zimbabwe & ZW & ZWE & 14439018 & Africa\\\\\n\t 03/04/2020 &  3 & 4 & 2020 & 0 & 0 & Zimbabwe & ZW & ZWE & 14439018 & Africa\\\\\n\t 02/04/2020 &  2 & 4 & 2020 & 0 & 0 & Zimbabwe & ZW & ZWE & 14439018 & Africa\\\\\n\t 01/04/2020 &  1 & 4 & 2020 & 1 & 0 & Zimbabwe & ZW & ZWE & 14439018 & Africa\\\\\n\t 31/03/2020 & 31 & 3 & 2020 & 0 & 0 & Zimbabwe & ZW & ZWE & 14439018 & Africa\\\\\n\t 30/03/2020 & 30 & 3 & 2020 & 0 & 0 & Zimbabwe & ZW & ZWE & 14439018 & Africa\\\\\n\t 29/03/2020 & 29 & 3 & 2020 & 2 & 0 & Zimbabwe & ZW & ZWE & 14439018 & Africa\\\\\n\t 28/03/2020 & 28 & 3 & 2020 & 2 & 0 & Zimbabwe & ZW & ZWE & 14439018 & Africa\\\\\n\t 27/03/2020 & 27 & 3 & 2020 & 0 & 0 & Zimbabwe & ZW & ZWE & 14439018 & Africa\\\\\n\t 26/03/2020 & 26 & 3 & 2020 & 1 & 0 & Zimbabwe & ZW & ZWE & 14439018 & Africa\\\\\n\t 25/03/2020 & 25 & 3 & 2020 & 0 & 0 & Zimbabwe & ZW & ZWE & 14439018 & Africa\\\\\n\t 24/03/2020 & 24 & 3 & 2020 & 0 & 1 & Zimbabwe & ZW & ZWE & 14439018 & Africa\\\\\n\t 23/03/2020 & 23 & 3 & 2020 & 0 & 0 & Zimbabwe & ZW & ZWE & 14439018 & Africa\\\\\n\t 22/03/2020 & 22 & 3 & 2020 & 1 & 0 & Zimbabwe & ZW & ZWE & 14439018 & Africa\\\\\n\t 21/03/2020 & 21 & 3 & 2020 & 1 & 0 & Zimbabwe & ZW & ZWE & 14439018 & Africa\\\\\n\\end{tabular}\n",
            "text/markdown": "\nA data.frame: 18203 × 11\n\n| dateRep &lt;fct&gt; | day &lt;int&gt; | month &lt;int&gt; | year &lt;int&gt; | cases &lt;int&gt; | deaths &lt;int&gt; | countriesAndTerritories &lt;fct&gt; | geoId &lt;fct&gt; | countryterritoryCode &lt;fct&gt; | popData2018 &lt;int&gt; | continentExp &lt;fct&gt; |\n|---|---|---|---|---|---|---|---|---|---|---|\n| 20/05/2020 | 20 | 5 | 2020 |  581 |  5 | Afghanistan | AF | AFG | 37172386 | Asia |\n| 19/05/2020 | 19 | 5 | 2020 |  408 |  4 | Afghanistan | AF | AFG | 37172386 | Asia |\n| 18/05/2020 | 18 | 5 | 2020 |  262 |  1 | Afghanistan | AF | AFG | 37172386 | Asia |\n| 17/05/2020 | 17 | 5 | 2020 |    0 |  0 | Afghanistan | AF | AFG | 37172386 | Asia |\n| 16/05/2020 | 16 | 5 | 2020 | 1063 | 32 | Afghanistan | AF | AFG | 37172386 | Asia |\n| 15/05/2020 | 15 | 5 | 2020 |  113 |  6 | Afghanistan | AF | AFG | 37172386 | Asia |\n| 14/05/2020 | 14 | 5 | 2020 |  259 |  3 | Afghanistan | AF | AFG | 37172386 | Asia |\n| 13/05/2020 | 13 | 5 | 2020 |  280 |  5 | Afghanistan | AF | AFG | 37172386 | Asia |\n| 12/05/2020 | 12 | 5 | 2020 |  285 |  2 | Afghanistan | AF | AFG | 37172386 | Asia |\n| 11/05/2020 | 11 | 5 | 2020 |  369 |  5 | Afghanistan | AF | AFG | 37172386 | Asia |\n| 10/05/2020 | 10 | 5 | 2020 |  255 |  6 | Afghanistan | AF | AFG | 37172386 | Asia |\n| 09/05/2020 |  9 | 5 | 2020 |  215 |  3 | Afghanistan | AF | AFG | 37172386 | Asia |\n| 08/05/2020 |  8 | 5 | 2020 |  171 |  2 | Afghanistan | AF | AFG | 37172386 | Asia |\n| 07/05/2020 |  7 | 5 | 2020 |  168 |  9 | Afghanistan | AF | AFG | 37172386 | Asia |\n| 06/05/2020 |  6 | 5 | 2020 |  330 |  5 | Afghanistan | AF | AFG | 37172386 | Asia |\n| 05/05/2020 |  5 | 5 | 2020 |  190 |  5 | Afghanistan | AF | AFG | 37172386 | Asia |\n| 04/05/2020 |  4 | 5 | 2020 |  235 | 13 | Afghanistan | AF | AFG | 37172386 | Asia |\n| 03/05/2020 |  3 | 5 | 2020 |  134 |  4 | Afghanistan | AF | AFG | 37172386 | Asia |\n| 02/05/2020 |  2 | 5 | 2020 |  164 |  4 | Afghanistan | AF | AFG | 37172386 | Asia |\n| 01/05/2020 |  1 | 5 | 2020 |  222 |  4 | Afghanistan | AF | AFG | 37172386 | Asia |\n| 30/04/2020 | 30 | 4 | 2020 |  122 |  0 | Afghanistan | AF | AFG | 37172386 | Asia |\n| 29/04/2020 | 29 | 4 | 2020 |  124 |  3 | Afghanistan | AF | AFG | 37172386 | Asia |\n| 28/04/2020 | 28 | 4 | 2020 |  172 |  0 | Afghanistan | AF | AFG | 37172386 | Asia |\n| 27/04/2020 | 27 | 4 | 2020 |   68 | 10 | Afghanistan | AF | AFG | 37172386 | Asia |\n| 26/04/2020 | 26 | 4 | 2020 |  112 |  4 | Afghanistan | AF | AFG | 37172386 | Asia |\n| 25/04/2020 | 25 | 4 | 2020 |   70 |  1 | Afghanistan | AF | AFG | 37172386 | Asia |\n| 24/04/2020 | 24 | 4 | 2020 |  105 |  2 | Afghanistan | AF | AFG | 37172386 | Asia |\n| 23/04/2020 | 23 | 4 | 2020 |   84 |  4 | Afghanistan | AF | AFG | 37172386 | Asia |\n| 22/04/2020 | 22 | 4 | 2020 |   61 |  1 | Afghanistan | AF | AFG | 37172386 | Asia |\n| 21/04/2020 | 21 | 4 | 2020 |   35 |  2 | Afghanistan | AF | AFG | 37172386 | Asia |\n| ⋮ | ⋮ | ⋮ | ⋮ | ⋮ | ⋮ | ⋮ | ⋮ | ⋮ | ⋮ | ⋮ |\n| 19/04/2020 | 19 | 4 | 2020 | 1 | 0 | Zimbabwe | ZW | ZWE | 14439018 | Africa |\n| 18/04/2020 | 18 | 4 | 2020 | 0 | 0 | Zimbabwe | ZW | ZWE | 14439018 | Africa |\n| 17/04/2020 | 17 | 4 | 2020 | 1 | 0 | Zimbabwe | ZW | ZWE | 14439018 | Africa |\n| 16/04/2020 | 16 | 4 | 2020 | 6 | 0 | Zimbabwe | ZW | ZWE | 14439018 | Africa |\n| 15/04/2020 | 15 | 4 | 2020 | 0 | 0 | Zimbabwe | ZW | ZWE | 14439018 | Africa |\n| 14/04/2020 | 14 | 4 | 2020 | 3 | 0 | Zimbabwe | ZW | ZWE | 14439018 | Africa |\n| 13/04/2020 | 13 | 4 | 2020 | 0 | 0 | Zimbabwe | ZW | ZWE | 14439018 | Africa |\n| 12/04/2020 | 12 | 4 | 2020 | 3 | 0 | Zimbabwe | ZW | ZWE | 14439018 | Africa |\n| 11/04/2020 | 11 | 4 | 2020 | 0 | 0 | Zimbabwe | ZW | ZWE | 14439018 | Africa |\n| 10/04/2020 | 10 | 4 | 2020 | 0 | 1 | Zimbabwe | ZW | ZWE | 14439018 | Africa |\n| 09/04/2020 |  9 | 4 | 2020 | 1 | 1 | Zimbabwe | ZW | ZWE | 14439018 | Africa |\n| 08/04/2020 |  8 | 4 | 2020 | 1 | 0 | Zimbabwe | ZW | ZWE | 14439018 | Africa |\n| 07/04/2020 |  7 | 4 | 2020 | 0 | 0 | Zimbabwe | ZW | ZWE | 14439018 | Africa |\n| 06/04/2020 |  6 | 4 | 2020 | 0 | 0 | Zimbabwe | ZW | ZWE | 14439018 | Africa |\n| 05/04/2020 |  5 | 4 | 2020 | 0 | 0 | Zimbabwe | ZW | ZWE | 14439018 | Africa |\n| 04/04/2020 |  4 | 4 | 2020 | 1 | 0 | Zimbabwe | ZW | ZWE | 14439018 | Africa |\n| 03/04/2020 |  3 | 4 | 2020 | 0 | 0 | Zimbabwe | ZW | ZWE | 14439018 | Africa |\n| 02/04/2020 |  2 | 4 | 2020 | 0 | 0 | Zimbabwe | ZW | ZWE | 14439018 | Africa |\n| 01/04/2020 |  1 | 4 | 2020 | 1 | 0 | Zimbabwe | ZW | ZWE | 14439018 | Africa |\n| 31/03/2020 | 31 | 3 | 2020 | 0 | 0 | Zimbabwe | ZW | ZWE | 14439018 | Africa |\n| 30/03/2020 | 30 | 3 | 2020 | 0 | 0 | Zimbabwe | ZW | ZWE | 14439018 | Africa |\n| 29/03/2020 | 29 | 3 | 2020 | 2 | 0 | Zimbabwe | ZW | ZWE | 14439018 | Africa |\n| 28/03/2020 | 28 | 3 | 2020 | 2 | 0 | Zimbabwe | ZW | ZWE | 14439018 | Africa |\n| 27/03/2020 | 27 | 3 | 2020 | 0 | 0 | Zimbabwe | ZW | ZWE | 14439018 | Africa |\n| 26/03/2020 | 26 | 3 | 2020 | 1 | 0 | Zimbabwe | ZW | ZWE | 14439018 | Africa |\n| 25/03/2020 | 25 | 3 | 2020 | 0 | 0 | Zimbabwe | ZW | ZWE | 14439018 | Africa |\n| 24/03/2020 | 24 | 3 | 2020 | 0 | 1 | Zimbabwe | ZW | ZWE | 14439018 | Africa |\n| 23/03/2020 | 23 | 3 | 2020 | 0 | 0 | Zimbabwe | ZW | ZWE | 14439018 | Africa |\n| 22/03/2020 | 22 | 3 | 2020 | 1 | 0 | Zimbabwe | ZW | ZWE | 14439018 | Africa |\n| 21/03/2020 | 21 | 3 | 2020 | 1 | 0 | Zimbabwe | ZW | ZWE | 14439018 | Africa |\n\n",
            "text/html": [
              "<table>\n",
              "<caption>A data.frame: 18203 × 11</caption>\n",
              "<thead>\n",
              "\t<tr><th scope=col>dateRep</th><th scope=col>day</th><th scope=col>month</th><th scope=col>year</th><th scope=col>cases</th><th scope=col>deaths</th><th scope=col>countriesAndTerritories</th><th scope=col>geoId</th><th scope=col>countryterritoryCode</th><th scope=col>popData2018</th><th scope=col>continentExp</th></tr>\n",
              "\t<tr><th scope=col>&lt;fct&gt;</th><th scope=col>&lt;int&gt;</th><th scope=col>&lt;int&gt;</th><th scope=col>&lt;int&gt;</th><th scope=col>&lt;int&gt;</th><th scope=col>&lt;int&gt;</th><th scope=col>&lt;fct&gt;</th><th scope=col>&lt;fct&gt;</th><th scope=col>&lt;fct&gt;</th><th scope=col>&lt;int&gt;</th><th scope=col>&lt;fct&gt;</th></tr>\n",
              "</thead>\n",
              "<tbody>\n",
              "\t<tr><td>20/05/2020</td><td>20</td><td>5</td><td>2020</td><td> 581</td><td> 5</td><td>Afghanistan</td><td>AF</td><td>AFG</td><td>37172386</td><td>Asia</td></tr>\n",
              "\t<tr><td>19/05/2020</td><td>19</td><td>5</td><td>2020</td><td> 408</td><td> 4</td><td>Afghanistan</td><td>AF</td><td>AFG</td><td>37172386</td><td>Asia</td></tr>\n",
              "\t<tr><td>18/05/2020</td><td>18</td><td>5</td><td>2020</td><td> 262</td><td> 1</td><td>Afghanistan</td><td>AF</td><td>AFG</td><td>37172386</td><td>Asia</td></tr>\n",
              "\t<tr><td>17/05/2020</td><td>17</td><td>5</td><td>2020</td><td>   0</td><td> 0</td><td>Afghanistan</td><td>AF</td><td>AFG</td><td>37172386</td><td>Asia</td></tr>\n",
              "\t<tr><td>16/05/2020</td><td>16</td><td>5</td><td>2020</td><td>1063</td><td>32</td><td>Afghanistan</td><td>AF</td><td>AFG</td><td>37172386</td><td>Asia</td></tr>\n",
              "\t<tr><td>15/05/2020</td><td>15</td><td>5</td><td>2020</td><td> 113</td><td> 6</td><td>Afghanistan</td><td>AF</td><td>AFG</td><td>37172386</td><td>Asia</td></tr>\n",
              "\t<tr><td>14/05/2020</td><td>14</td><td>5</td><td>2020</td><td> 259</td><td> 3</td><td>Afghanistan</td><td>AF</td><td>AFG</td><td>37172386</td><td>Asia</td></tr>\n",
              "\t<tr><td>13/05/2020</td><td>13</td><td>5</td><td>2020</td><td> 280</td><td> 5</td><td>Afghanistan</td><td>AF</td><td>AFG</td><td>37172386</td><td>Asia</td></tr>\n",
              "\t<tr><td>12/05/2020</td><td>12</td><td>5</td><td>2020</td><td> 285</td><td> 2</td><td>Afghanistan</td><td>AF</td><td>AFG</td><td>37172386</td><td>Asia</td></tr>\n",
              "\t<tr><td>11/05/2020</td><td>11</td><td>5</td><td>2020</td><td> 369</td><td> 5</td><td>Afghanistan</td><td>AF</td><td>AFG</td><td>37172386</td><td>Asia</td></tr>\n",
              "\t<tr><td>10/05/2020</td><td>10</td><td>5</td><td>2020</td><td> 255</td><td> 6</td><td>Afghanistan</td><td>AF</td><td>AFG</td><td>37172386</td><td>Asia</td></tr>\n",
              "\t<tr><td>09/05/2020</td><td> 9</td><td>5</td><td>2020</td><td> 215</td><td> 3</td><td>Afghanistan</td><td>AF</td><td>AFG</td><td>37172386</td><td>Asia</td></tr>\n",
              "\t<tr><td>08/05/2020</td><td> 8</td><td>5</td><td>2020</td><td> 171</td><td> 2</td><td>Afghanistan</td><td>AF</td><td>AFG</td><td>37172386</td><td>Asia</td></tr>\n",
              "\t<tr><td>07/05/2020</td><td> 7</td><td>5</td><td>2020</td><td> 168</td><td> 9</td><td>Afghanistan</td><td>AF</td><td>AFG</td><td>37172386</td><td>Asia</td></tr>\n",
              "\t<tr><td>06/05/2020</td><td> 6</td><td>5</td><td>2020</td><td> 330</td><td> 5</td><td>Afghanistan</td><td>AF</td><td>AFG</td><td>37172386</td><td>Asia</td></tr>\n",
              "\t<tr><td>05/05/2020</td><td> 5</td><td>5</td><td>2020</td><td> 190</td><td> 5</td><td>Afghanistan</td><td>AF</td><td>AFG</td><td>37172386</td><td>Asia</td></tr>\n",
              "\t<tr><td>04/05/2020</td><td> 4</td><td>5</td><td>2020</td><td> 235</td><td>13</td><td>Afghanistan</td><td>AF</td><td>AFG</td><td>37172386</td><td>Asia</td></tr>\n",
              "\t<tr><td>03/05/2020</td><td> 3</td><td>5</td><td>2020</td><td> 134</td><td> 4</td><td>Afghanistan</td><td>AF</td><td>AFG</td><td>37172386</td><td>Asia</td></tr>\n",
              "\t<tr><td>02/05/2020</td><td> 2</td><td>5</td><td>2020</td><td> 164</td><td> 4</td><td>Afghanistan</td><td>AF</td><td>AFG</td><td>37172386</td><td>Asia</td></tr>\n",
              "\t<tr><td>01/05/2020</td><td> 1</td><td>5</td><td>2020</td><td> 222</td><td> 4</td><td>Afghanistan</td><td>AF</td><td>AFG</td><td>37172386</td><td>Asia</td></tr>\n",
              "\t<tr><td>30/04/2020</td><td>30</td><td>4</td><td>2020</td><td> 122</td><td> 0</td><td>Afghanistan</td><td>AF</td><td>AFG</td><td>37172386</td><td>Asia</td></tr>\n",
              "\t<tr><td>29/04/2020</td><td>29</td><td>4</td><td>2020</td><td> 124</td><td> 3</td><td>Afghanistan</td><td>AF</td><td>AFG</td><td>37172386</td><td>Asia</td></tr>\n",
              "\t<tr><td>28/04/2020</td><td>28</td><td>4</td><td>2020</td><td> 172</td><td> 0</td><td>Afghanistan</td><td>AF</td><td>AFG</td><td>37172386</td><td>Asia</td></tr>\n",
              "\t<tr><td>27/04/2020</td><td>27</td><td>4</td><td>2020</td><td>  68</td><td>10</td><td>Afghanistan</td><td>AF</td><td>AFG</td><td>37172386</td><td>Asia</td></tr>\n",
              "\t<tr><td>26/04/2020</td><td>26</td><td>4</td><td>2020</td><td> 112</td><td> 4</td><td>Afghanistan</td><td>AF</td><td>AFG</td><td>37172386</td><td>Asia</td></tr>\n",
              "\t<tr><td>25/04/2020</td><td>25</td><td>4</td><td>2020</td><td>  70</td><td> 1</td><td>Afghanistan</td><td>AF</td><td>AFG</td><td>37172386</td><td>Asia</td></tr>\n",
              "\t<tr><td>24/04/2020</td><td>24</td><td>4</td><td>2020</td><td> 105</td><td> 2</td><td>Afghanistan</td><td>AF</td><td>AFG</td><td>37172386</td><td>Asia</td></tr>\n",
              "\t<tr><td>23/04/2020</td><td>23</td><td>4</td><td>2020</td><td>  84</td><td> 4</td><td>Afghanistan</td><td>AF</td><td>AFG</td><td>37172386</td><td>Asia</td></tr>\n",
              "\t<tr><td>22/04/2020</td><td>22</td><td>4</td><td>2020</td><td>  61</td><td> 1</td><td>Afghanistan</td><td>AF</td><td>AFG</td><td>37172386</td><td>Asia</td></tr>\n",
              "\t<tr><td>21/04/2020</td><td>21</td><td>4</td><td>2020</td><td>  35</td><td> 2</td><td>Afghanistan</td><td>AF</td><td>AFG</td><td>37172386</td><td>Asia</td></tr>\n",
              "\t<tr><td>⋮</td><td>⋮</td><td>⋮</td><td>⋮</td><td>⋮</td><td>⋮</td><td>⋮</td><td>⋮</td><td>⋮</td><td>⋮</td><td>⋮</td></tr>\n",
              "\t<tr><td>19/04/2020</td><td>19</td><td>4</td><td>2020</td><td>1</td><td>0</td><td>Zimbabwe</td><td>ZW</td><td>ZWE</td><td>14439018</td><td>Africa</td></tr>\n",
              "\t<tr><td>18/04/2020</td><td>18</td><td>4</td><td>2020</td><td>0</td><td>0</td><td>Zimbabwe</td><td>ZW</td><td>ZWE</td><td>14439018</td><td>Africa</td></tr>\n",
              "\t<tr><td>17/04/2020</td><td>17</td><td>4</td><td>2020</td><td>1</td><td>0</td><td>Zimbabwe</td><td>ZW</td><td>ZWE</td><td>14439018</td><td>Africa</td></tr>\n",
              "\t<tr><td>16/04/2020</td><td>16</td><td>4</td><td>2020</td><td>6</td><td>0</td><td>Zimbabwe</td><td>ZW</td><td>ZWE</td><td>14439018</td><td>Africa</td></tr>\n",
              "\t<tr><td>15/04/2020</td><td>15</td><td>4</td><td>2020</td><td>0</td><td>0</td><td>Zimbabwe</td><td>ZW</td><td>ZWE</td><td>14439018</td><td>Africa</td></tr>\n",
              "\t<tr><td>14/04/2020</td><td>14</td><td>4</td><td>2020</td><td>3</td><td>0</td><td>Zimbabwe</td><td>ZW</td><td>ZWE</td><td>14439018</td><td>Africa</td></tr>\n",
              "\t<tr><td>13/04/2020</td><td>13</td><td>4</td><td>2020</td><td>0</td><td>0</td><td>Zimbabwe</td><td>ZW</td><td>ZWE</td><td>14439018</td><td>Africa</td></tr>\n",
              "\t<tr><td>12/04/2020</td><td>12</td><td>4</td><td>2020</td><td>3</td><td>0</td><td>Zimbabwe</td><td>ZW</td><td>ZWE</td><td>14439018</td><td>Africa</td></tr>\n",
              "\t<tr><td>11/04/2020</td><td>11</td><td>4</td><td>2020</td><td>0</td><td>0</td><td>Zimbabwe</td><td>ZW</td><td>ZWE</td><td>14439018</td><td>Africa</td></tr>\n",
              "\t<tr><td>10/04/2020</td><td>10</td><td>4</td><td>2020</td><td>0</td><td>1</td><td>Zimbabwe</td><td>ZW</td><td>ZWE</td><td>14439018</td><td>Africa</td></tr>\n",
              "\t<tr><td>09/04/2020</td><td> 9</td><td>4</td><td>2020</td><td>1</td><td>1</td><td>Zimbabwe</td><td>ZW</td><td>ZWE</td><td>14439018</td><td>Africa</td></tr>\n",
              "\t<tr><td>08/04/2020</td><td> 8</td><td>4</td><td>2020</td><td>1</td><td>0</td><td>Zimbabwe</td><td>ZW</td><td>ZWE</td><td>14439018</td><td>Africa</td></tr>\n",
              "\t<tr><td>07/04/2020</td><td> 7</td><td>4</td><td>2020</td><td>0</td><td>0</td><td>Zimbabwe</td><td>ZW</td><td>ZWE</td><td>14439018</td><td>Africa</td></tr>\n",
              "\t<tr><td>06/04/2020</td><td> 6</td><td>4</td><td>2020</td><td>0</td><td>0</td><td>Zimbabwe</td><td>ZW</td><td>ZWE</td><td>14439018</td><td>Africa</td></tr>\n",
              "\t<tr><td>05/04/2020</td><td> 5</td><td>4</td><td>2020</td><td>0</td><td>0</td><td>Zimbabwe</td><td>ZW</td><td>ZWE</td><td>14439018</td><td>Africa</td></tr>\n",
              "\t<tr><td>04/04/2020</td><td> 4</td><td>4</td><td>2020</td><td>1</td><td>0</td><td>Zimbabwe</td><td>ZW</td><td>ZWE</td><td>14439018</td><td>Africa</td></tr>\n",
              "\t<tr><td>03/04/2020</td><td> 3</td><td>4</td><td>2020</td><td>0</td><td>0</td><td>Zimbabwe</td><td>ZW</td><td>ZWE</td><td>14439018</td><td>Africa</td></tr>\n",
              "\t<tr><td>02/04/2020</td><td> 2</td><td>4</td><td>2020</td><td>0</td><td>0</td><td>Zimbabwe</td><td>ZW</td><td>ZWE</td><td>14439018</td><td>Africa</td></tr>\n",
              "\t<tr><td>01/04/2020</td><td> 1</td><td>4</td><td>2020</td><td>1</td><td>0</td><td>Zimbabwe</td><td>ZW</td><td>ZWE</td><td>14439018</td><td>Africa</td></tr>\n",
              "\t<tr><td>31/03/2020</td><td>31</td><td>3</td><td>2020</td><td>0</td><td>0</td><td>Zimbabwe</td><td>ZW</td><td>ZWE</td><td>14439018</td><td>Africa</td></tr>\n",
              "\t<tr><td>30/03/2020</td><td>30</td><td>3</td><td>2020</td><td>0</td><td>0</td><td>Zimbabwe</td><td>ZW</td><td>ZWE</td><td>14439018</td><td>Africa</td></tr>\n",
              "\t<tr><td>29/03/2020</td><td>29</td><td>3</td><td>2020</td><td>2</td><td>0</td><td>Zimbabwe</td><td>ZW</td><td>ZWE</td><td>14439018</td><td>Africa</td></tr>\n",
              "\t<tr><td>28/03/2020</td><td>28</td><td>3</td><td>2020</td><td>2</td><td>0</td><td>Zimbabwe</td><td>ZW</td><td>ZWE</td><td>14439018</td><td>Africa</td></tr>\n",
              "\t<tr><td>27/03/2020</td><td>27</td><td>3</td><td>2020</td><td>0</td><td>0</td><td>Zimbabwe</td><td>ZW</td><td>ZWE</td><td>14439018</td><td>Africa</td></tr>\n",
              "\t<tr><td>26/03/2020</td><td>26</td><td>3</td><td>2020</td><td>1</td><td>0</td><td>Zimbabwe</td><td>ZW</td><td>ZWE</td><td>14439018</td><td>Africa</td></tr>\n",
              "\t<tr><td>25/03/2020</td><td>25</td><td>3</td><td>2020</td><td>0</td><td>0</td><td>Zimbabwe</td><td>ZW</td><td>ZWE</td><td>14439018</td><td>Africa</td></tr>\n",
              "\t<tr><td>24/03/2020</td><td>24</td><td>3</td><td>2020</td><td>0</td><td>1</td><td>Zimbabwe</td><td>ZW</td><td>ZWE</td><td>14439018</td><td>Africa</td></tr>\n",
              "\t<tr><td>23/03/2020</td><td>23</td><td>3</td><td>2020</td><td>0</td><td>0</td><td>Zimbabwe</td><td>ZW</td><td>ZWE</td><td>14439018</td><td>Africa</td></tr>\n",
              "\t<tr><td>22/03/2020</td><td>22</td><td>3</td><td>2020</td><td>1</td><td>0</td><td>Zimbabwe</td><td>ZW</td><td>ZWE</td><td>14439018</td><td>Africa</td></tr>\n",
              "\t<tr><td>21/03/2020</td><td>21</td><td>3</td><td>2020</td><td>1</td><td>0</td><td>Zimbabwe</td><td>ZW</td><td>ZWE</td><td>14439018</td><td>Africa</td></tr>\n",
              "</tbody>\n",
              "</table>\n"
            ]
          },
          "metadata": {
            "tags": []
          }
        }
      ]
    },
    {
      "cell_type": "markdown",
      "metadata": {
        "colab_type": "text",
        "id": "A63rscXH6pt6"
      },
      "source": [
        "You should always familiarize yourself with the dataset at hand befor you do calculations and try to gain insights.\n",
        "\n",
        "Use functions such as ```head()```, ```sample_n()```, ```summary()```, etc. to deepen your understanding of the available data and briefly describe the dataset (e.g., number of observations, sorting, variables, ...):"
      ]
    },
    {
      "cell_type": "code",
      "metadata": {
        "colab_type": "code",
        "id": "C7tZFKyS3z2Z",
        "outputId": "e349f88d-ec8b-4e03-991f-9fa0f66a5057",
        "colab": {
          "base_uri": "https://localhost:8080/",
          "height": 199
        }
      },
      "source": [
        "# Insert your code here\n",
        "covid %>%\n",
        "head()"
      ],
      "execution_count": 0,
      "outputs": [
        {
          "output_type": "display_data",
          "data": {
            "text/plain": [
              "  dateRep    day month year cases deaths countriesAndTerritories geoId\n",
              "1 15/05/2020 15  5     2020 113   6      Afghanistan             AF   \n",
              "2 14/05/2020 14  5     2020 259   3      Afghanistan             AF   \n",
              "3 13/05/2020 13  5     2020 280   5      Afghanistan             AF   \n",
              "4 12/05/2020 12  5     2020 285   2      Afghanistan             AF   \n",
              "5 11/05/2020 11  5     2020 369   5      Afghanistan             AF   \n",
              "6 10/05/2020 10  5     2020 255   6      Afghanistan             AF   \n",
              "  countryterritoryCode popData2018 continentExp\n",
              "1 AFG                  37172386    Asia        \n",
              "2 AFG                  37172386    Asia        \n",
              "3 AFG                  37172386    Asia        \n",
              "4 AFG                  37172386    Asia        \n",
              "5 AFG                  37172386    Asia        \n",
              "6 AFG                  37172386    Asia        "
            ],
            "text/latex": "A data.frame: 6 × 11\n\\begin{tabular}{r|lllllllllll}\n  & dateRep & day & month & year & cases & deaths & countriesAndTerritories & geoId & countryterritoryCode & popData2018 & continentExp\\\\\n  & <fct> & <int> & <int> & <int> & <int> & <int> & <fct> & <fct> & <fct> & <int> & <fct>\\\\\n\\hline\n\t1 & 15/05/2020 & 15 & 5 & 2020 & 113 & 6 & Afghanistan & AF & AFG & 37172386 & Asia\\\\\n\t2 & 14/05/2020 & 14 & 5 & 2020 & 259 & 3 & Afghanistan & AF & AFG & 37172386 & Asia\\\\\n\t3 & 13/05/2020 & 13 & 5 & 2020 & 280 & 5 & Afghanistan & AF & AFG & 37172386 & Asia\\\\\n\t4 & 12/05/2020 & 12 & 5 & 2020 & 285 & 2 & Afghanistan & AF & AFG & 37172386 & Asia\\\\\n\t5 & 11/05/2020 & 11 & 5 & 2020 & 369 & 5 & Afghanistan & AF & AFG & 37172386 & Asia\\\\\n\t6 & 10/05/2020 & 10 & 5 & 2020 & 255 & 6 & Afghanistan & AF & AFG & 37172386 & Asia\\\\\n\\end{tabular}\n",
            "text/markdown": "\nA data.frame: 6 × 11\n\n| <!--/--> | dateRep &lt;fct&gt; | day &lt;int&gt; | month &lt;int&gt; | year &lt;int&gt; | cases &lt;int&gt; | deaths &lt;int&gt; | countriesAndTerritories &lt;fct&gt; | geoId &lt;fct&gt; | countryterritoryCode &lt;fct&gt; | popData2018 &lt;int&gt; | continentExp &lt;fct&gt; |\n|---|---|---|---|---|---|---|---|---|---|---|---|\n| 1 | 15/05/2020 | 15 | 5 | 2020 | 113 | 6 | Afghanistan | AF | AFG | 37172386 | Asia |\n| 2 | 14/05/2020 | 14 | 5 | 2020 | 259 | 3 | Afghanistan | AF | AFG | 37172386 | Asia |\n| 3 | 13/05/2020 | 13 | 5 | 2020 | 280 | 5 | Afghanistan | AF | AFG | 37172386 | Asia |\n| 4 | 12/05/2020 | 12 | 5 | 2020 | 285 | 2 | Afghanistan | AF | AFG | 37172386 | Asia |\n| 5 | 11/05/2020 | 11 | 5 | 2020 | 369 | 5 | Afghanistan | AF | AFG | 37172386 | Asia |\n| 6 | 10/05/2020 | 10 | 5 | 2020 | 255 | 6 | Afghanistan | AF | AFG | 37172386 | Asia |\n\n",
            "text/html": [
              "<table>\n",
              "<caption>A data.frame: 6 × 11</caption>\n",
              "<thead>\n",
              "\t<tr><th></th><th scope=col>dateRep</th><th scope=col>day</th><th scope=col>month</th><th scope=col>year</th><th scope=col>cases</th><th scope=col>deaths</th><th scope=col>countriesAndTerritories</th><th scope=col>geoId</th><th scope=col>countryterritoryCode</th><th scope=col>popData2018</th><th scope=col>continentExp</th></tr>\n",
              "\t<tr><th></th><th scope=col>&lt;fct&gt;</th><th scope=col>&lt;int&gt;</th><th scope=col>&lt;int&gt;</th><th scope=col>&lt;int&gt;</th><th scope=col>&lt;int&gt;</th><th scope=col>&lt;int&gt;</th><th scope=col>&lt;fct&gt;</th><th scope=col>&lt;fct&gt;</th><th scope=col>&lt;fct&gt;</th><th scope=col>&lt;int&gt;</th><th scope=col>&lt;fct&gt;</th></tr>\n",
              "</thead>\n",
              "<tbody>\n",
              "\t<tr><th scope=row>1</th><td>15/05/2020</td><td>15</td><td>5</td><td>2020</td><td>113</td><td>6</td><td>Afghanistan</td><td>AF</td><td>AFG</td><td>37172386</td><td>Asia</td></tr>\n",
              "\t<tr><th scope=row>2</th><td>14/05/2020</td><td>14</td><td>5</td><td>2020</td><td>259</td><td>3</td><td>Afghanistan</td><td>AF</td><td>AFG</td><td>37172386</td><td>Asia</td></tr>\n",
              "\t<tr><th scope=row>3</th><td>13/05/2020</td><td>13</td><td>5</td><td>2020</td><td>280</td><td>5</td><td>Afghanistan</td><td>AF</td><td>AFG</td><td>37172386</td><td>Asia</td></tr>\n",
              "\t<tr><th scope=row>4</th><td>12/05/2020</td><td>12</td><td>5</td><td>2020</td><td>285</td><td>2</td><td>Afghanistan</td><td>AF</td><td>AFG</td><td>37172386</td><td>Asia</td></tr>\n",
              "\t<tr><th scope=row>5</th><td>11/05/2020</td><td>11</td><td>5</td><td>2020</td><td>369</td><td>5</td><td>Afghanistan</td><td>AF</td><td>AFG</td><td>37172386</td><td>Asia</td></tr>\n",
              "\t<tr><th scope=row>6</th><td>10/05/2020</td><td>10</td><td>5</td><td>2020</td><td>255</td><td>6</td><td>Afghanistan</td><td>AF</td><td>AFG</td><td>37172386</td><td>Asia</td></tr>\n",
              "</tbody>\n",
              "</table>\n"
            ]
          },
          "metadata": {
            "tags": []
          }
        }
      ]
    },
    {
      "cell_type": "code",
      "metadata": {
        "id": "fhh0b2dUM_jS",
        "colab_type": "code",
        "outputId": "32df58e8-eba4-411c-d89f-a1857cafb8f5",
        "colab": {
          "base_uri": "https://localhost:8080/",
          "height": 444
        }
      },
      "source": [
        "covid %>%\n",
        "sample_n(10) %>%\n",
        "summary()"
      ],
      "execution_count": 0,
      "outputs": [
        {
          "output_type": "display_data",
          "data": {
            "text/plain": [
              "       dateRep       day           month           year          cases       \n",
              " 25/04/2020:2   Min.   : 2.0   Min.   :1.00   Min.   :2020   Min.   :  0.00  \n",
              " 02/05/2020:1   1st Qu.: 5.5   1st Qu.:3.25   1st Qu.:2020   1st Qu.:  2.25  \n",
              " 04/01/2020:1   Median :15.0   Median :4.00   Median :2020   Median : 23.00  \n",
              " 05/04/2020:1   Mean   :15.2   Mean   :3.50   Mean   :2020   Mean   : 54.10  \n",
              " 07/04/2020:1   3rd Qu.:25.0   3rd Qu.:4.00   3rd Qu.:2020   3rd Qu.: 37.75  \n",
              " 09/04/2020:1   Max.   :29.0   Max.   :5.00   Max.   :2020   Max.   :312.00  \n",
              " (Other)   :3                                                                \n",
              "     deaths     countriesAndTerritories     geoId   countryterritoryCode\n",
              " Min.   : 0.0   Algeria:1               AT     :1   AUT    :1           \n",
              " 1st Qu.: 0.0   Austria:1               BT     :1   BTN    :1           \n",
              " Median : 2.5   Bhutan :1               DK     :1   DNK    :1           \n",
              " Mean   : 3.5   Denmark:1               DZ     :1   DZA    :1           \n",
              " 3rd Qu.: 5.0   Egypt  :1               EG     :1   EGY    :1           \n",
              " Max.   :12.0   Greece :1               EL     :1   GRC    :1           \n",
              "                (Other):4               (Other):4   (Other):4           \n",
              "  popData2018         continentExp\n",
              " Min.   :7.544e+05   Africa :3    \n",
              " 1st Qu.:6.560e+06   America:1    \n",
              " Median :1.093e+07   Asia   :3    \n",
              " Mean   :1.564e+08   Europe :3    \n",
              " 3rd Qu.:3.905e+07   Oceania:0    \n",
              " Max.   :1.353e+09   Other  :0    \n",
              "                                  "
            ]
          },
          "metadata": {
            "tags": []
          }
        }
      ]
    },
    {
      "cell_type": "code",
      "metadata": {
        "id": "6L69RR1_Nx0d",
        "colab_type": "code",
        "outputId": "1b5f0844-8564-47cd-d554-15cb5abe45f3",
        "colab": {
          "base_uri": "https://localhost:8080/",
          "height": 1000
        }
      },
      "source": [
        "covid %>%\n",
        "distinct(countriesAndTerritories)"
      ],
      "execution_count": 0,
      "outputs": [
        {
          "output_type": "display_data",
          "data": {
            "text/plain": [
              "    countriesAndTerritories          \n",
              "1   Afghanistan                      \n",
              "2   Albania                          \n",
              "3   Algeria                          \n",
              "4   Andorra                          \n",
              "5   Angola                           \n",
              "6   Anguilla                         \n",
              "7   Antigua_and_Barbuda              \n",
              "8   Argentina                        \n",
              "9   Armenia                          \n",
              "10  Aruba                            \n",
              "11  Australia                        \n",
              "12  Austria                          \n",
              "13  Azerbaijan                       \n",
              "14  Bahamas                          \n",
              "15  Bahrain                          \n",
              "16  Bangladesh                       \n",
              "17  Barbados                         \n",
              "18  Belarus                          \n",
              "19  Belgium                          \n",
              "20  Belize                           \n",
              "21  Benin                            \n",
              "22  Bermuda                          \n",
              "23  Bhutan                           \n",
              "24  Bolivia                          \n",
              "25  Bonaire, Saint Eustatius and Saba\n",
              "26  Bosnia_and_Herzegovina           \n",
              "27  Botswana                         \n",
              "28  Brazil                           \n",
              "29  British_Virgin_Islands           \n",
              "30  Brunei_Darussalam                \n",
              "⋮   ⋮                                \n",
              "181 Sri_Lanka                        \n",
              "182 Sudan                            \n",
              "183 Suriname                         \n",
              "184 Sweden                           \n",
              "185 Switzerland                      \n",
              "186 Syria                            \n",
              "187 Taiwan                           \n",
              "188 Tajikistan                       \n",
              "189 Thailand                         \n",
              "190 Timor_Leste                      \n",
              "191 Togo                             \n",
              "192 Trinidad_and_Tobago              \n",
              "193 Tunisia                          \n",
              "194 Turkey                           \n",
              "195 Turks_and_Caicos_islands         \n",
              "196 Uganda                           \n",
              "197 Ukraine                          \n",
              "198 United_Arab_Emirates             \n",
              "199 United_Kingdom                   \n",
              "200 United_Republic_of_Tanzania      \n",
              "201 United_States_of_America         \n",
              "202 United_States_Virgin_Islands     \n",
              "203 Uruguay                          \n",
              "204 Uzbekistan                       \n",
              "205 Venezuela                        \n",
              "206 Vietnam                          \n",
              "207 Western_Sahara                   \n",
              "208 Yemen                            \n",
              "209 Zambia                           \n",
              "210 Zimbabwe                         "
            ],
            "text/latex": "A data.frame: 210 × 1\n\\begin{tabular}{l}\n countriesAndTerritories\\\\\n <fct>\\\\\n\\hline\n\t Afghanistan                      \\\\\n\t Albania                          \\\\\n\t Algeria                          \\\\\n\t Andorra                          \\\\\n\t Angola                           \\\\\n\t Anguilla                         \\\\\n\t Antigua\\_and\\_Barbuda              \\\\\n\t Argentina                        \\\\\n\t Armenia                          \\\\\n\t Aruba                            \\\\\n\t Australia                        \\\\\n\t Austria                          \\\\\n\t Azerbaijan                       \\\\\n\t Bahamas                          \\\\\n\t Bahrain                          \\\\\n\t Bangladesh                       \\\\\n\t Barbados                         \\\\\n\t Belarus                          \\\\\n\t Belgium                          \\\\\n\t Belize                           \\\\\n\t Benin                            \\\\\n\t Bermuda                          \\\\\n\t Bhutan                           \\\\\n\t Bolivia                          \\\\\n\t Bonaire, Saint Eustatius and Saba\\\\\n\t Bosnia\\_and\\_Herzegovina           \\\\\n\t Botswana                         \\\\\n\t Brazil                           \\\\\n\t British\\_Virgin\\_Islands           \\\\\n\t Brunei\\_Darussalam                \\\\\n\t ⋮\\\\\n\t Sri\\_Lanka                   \\\\\n\t Sudan                       \\\\\n\t Suriname                    \\\\\n\t Sweden                      \\\\\n\t Switzerland                 \\\\\n\t Syria                       \\\\\n\t Taiwan                      \\\\\n\t Tajikistan                  \\\\\n\t Thailand                    \\\\\n\t Timor\\_Leste                 \\\\\n\t Togo                        \\\\\n\t Trinidad\\_and\\_Tobago         \\\\\n\t Tunisia                     \\\\\n\t Turkey                      \\\\\n\t Turks\\_and\\_Caicos\\_islands    \\\\\n\t Uganda                      \\\\\n\t Ukraine                     \\\\\n\t United\\_Arab\\_Emirates        \\\\\n\t United\\_Kingdom              \\\\\n\t United\\_Republic\\_of\\_Tanzania \\\\\n\t United\\_States\\_of\\_America    \\\\\n\t United\\_States\\_Virgin\\_Islands\\\\\n\t Uruguay                     \\\\\n\t Uzbekistan                  \\\\\n\t Venezuela                   \\\\\n\t Vietnam                     \\\\\n\t Western\\_Sahara              \\\\\n\t Yemen                       \\\\\n\t Zambia                      \\\\\n\t Zimbabwe                    \\\\\n\\end{tabular}\n",
            "text/markdown": "\nA data.frame: 210 × 1\n\n| countriesAndTerritories &lt;fct&gt; |\n|---|\n| Afghanistan                       |\n| Albania                           |\n| Algeria                           |\n| Andorra                           |\n| Angola                            |\n| Anguilla                          |\n| Antigua_and_Barbuda               |\n| Argentina                         |\n| Armenia                           |\n| Aruba                             |\n| Australia                         |\n| Austria                           |\n| Azerbaijan                        |\n| Bahamas                           |\n| Bahrain                           |\n| Bangladesh                        |\n| Barbados                          |\n| Belarus                           |\n| Belgium                           |\n| Belize                            |\n| Benin                             |\n| Bermuda                           |\n| Bhutan                            |\n| Bolivia                           |\n| Bonaire, Saint Eustatius and Saba |\n| Bosnia_and_Herzegovina            |\n| Botswana                          |\n| Brazil                            |\n| British_Virgin_Islands            |\n| Brunei_Darussalam                 |\n| ⋮ |\n| Sri_Lanka                    |\n| Sudan                        |\n| Suriname                     |\n| Sweden                       |\n| Switzerland                  |\n| Syria                        |\n| Taiwan                       |\n| Tajikistan                   |\n| Thailand                     |\n| Timor_Leste                  |\n| Togo                         |\n| Trinidad_and_Tobago          |\n| Tunisia                      |\n| Turkey                       |\n| Turks_and_Caicos_islands     |\n| Uganda                       |\n| Ukraine                      |\n| United_Arab_Emirates         |\n| United_Kingdom               |\n| United_Republic_of_Tanzania  |\n| United_States_of_America     |\n| United_States_Virgin_Islands |\n| Uruguay                      |\n| Uzbekistan                   |\n| Venezuela                    |\n| Vietnam                      |\n| Western_Sahara               |\n| Yemen                        |\n| Zambia                       |\n| Zimbabwe                     |\n\n",
            "text/html": [
              "<table>\n",
              "<caption>A data.frame: 210 × 1</caption>\n",
              "<thead>\n",
              "\t<tr><th scope=col>countriesAndTerritories</th></tr>\n",
              "\t<tr><th scope=col>&lt;fct&gt;</th></tr>\n",
              "</thead>\n",
              "<tbody>\n",
              "\t<tr><td>Afghanistan                      </td></tr>\n",
              "\t<tr><td>Albania                          </td></tr>\n",
              "\t<tr><td>Algeria                          </td></tr>\n",
              "\t<tr><td>Andorra                          </td></tr>\n",
              "\t<tr><td>Angola                           </td></tr>\n",
              "\t<tr><td>Anguilla                         </td></tr>\n",
              "\t<tr><td>Antigua_and_Barbuda              </td></tr>\n",
              "\t<tr><td>Argentina                        </td></tr>\n",
              "\t<tr><td>Armenia                          </td></tr>\n",
              "\t<tr><td>Aruba                            </td></tr>\n",
              "\t<tr><td>Australia                        </td></tr>\n",
              "\t<tr><td>Austria                          </td></tr>\n",
              "\t<tr><td>Azerbaijan                       </td></tr>\n",
              "\t<tr><td>Bahamas                          </td></tr>\n",
              "\t<tr><td>Bahrain                          </td></tr>\n",
              "\t<tr><td>Bangladesh                       </td></tr>\n",
              "\t<tr><td>Barbados                         </td></tr>\n",
              "\t<tr><td>Belarus                          </td></tr>\n",
              "\t<tr><td>Belgium                          </td></tr>\n",
              "\t<tr><td>Belize                           </td></tr>\n",
              "\t<tr><td>Benin                            </td></tr>\n",
              "\t<tr><td>Bermuda                          </td></tr>\n",
              "\t<tr><td>Bhutan                           </td></tr>\n",
              "\t<tr><td>Bolivia                          </td></tr>\n",
              "\t<tr><td>Bonaire, Saint Eustatius and Saba</td></tr>\n",
              "\t<tr><td>Bosnia_and_Herzegovina           </td></tr>\n",
              "\t<tr><td>Botswana                         </td></tr>\n",
              "\t<tr><td>Brazil                           </td></tr>\n",
              "\t<tr><td>British_Virgin_Islands           </td></tr>\n",
              "\t<tr><td>Brunei_Darussalam                </td></tr>\n",
              "\t<tr><td>⋮</td></tr>\n",
              "\t<tr><td>Sri_Lanka                   </td></tr>\n",
              "\t<tr><td>Sudan                       </td></tr>\n",
              "\t<tr><td>Suriname                    </td></tr>\n",
              "\t<tr><td>Sweden                      </td></tr>\n",
              "\t<tr><td>Switzerland                 </td></tr>\n",
              "\t<tr><td>Syria                       </td></tr>\n",
              "\t<tr><td>Taiwan                      </td></tr>\n",
              "\t<tr><td>Tajikistan                  </td></tr>\n",
              "\t<tr><td>Thailand                    </td></tr>\n",
              "\t<tr><td>Timor_Leste                 </td></tr>\n",
              "\t<tr><td>Togo                        </td></tr>\n",
              "\t<tr><td>Trinidad_and_Tobago         </td></tr>\n",
              "\t<tr><td>Tunisia                     </td></tr>\n",
              "\t<tr><td>Turkey                      </td></tr>\n",
              "\t<tr><td>Turks_and_Caicos_islands    </td></tr>\n",
              "\t<tr><td>Uganda                      </td></tr>\n",
              "\t<tr><td>Ukraine                     </td></tr>\n",
              "\t<tr><td>United_Arab_Emirates        </td></tr>\n",
              "\t<tr><td>United_Kingdom              </td></tr>\n",
              "\t<tr><td>United_Republic_of_Tanzania </td></tr>\n",
              "\t<tr><td>United_States_of_America    </td></tr>\n",
              "\t<tr><td>United_States_Virgin_Islands</td></tr>\n",
              "\t<tr><td>Uruguay                     </td></tr>\n",
              "\t<tr><td>Uzbekistan                  </td></tr>\n",
              "\t<tr><td>Venezuela                   </td></tr>\n",
              "\t<tr><td>Vietnam                     </td></tr>\n",
              "\t<tr><td>Western_Sahara              </td></tr>\n",
              "\t<tr><td>Yemen                       </td></tr>\n",
              "\t<tr><td>Zambia                      </td></tr>\n",
              "\t<tr><td>Zimbabwe                    </td></tr>\n",
              "</tbody>\n",
              "</table>\n"
            ]
          },
          "metadata": {
            "tags": []
          }
        }
      ]
    },
    {
      "cell_type": "code",
      "metadata": {
        "id": "P3h2FfFgPodQ",
        "colab_type": "code",
        "outputId": "55b3d86c-1fa7-4ee8-d8ed-621e60b95622",
        "colab": {
          "base_uri": "https://localhost:8080/",
          "height": 199
        }
      },
      "source": [
        "covid %>%\n",
        "arrange(desc(dateRep)) %>%\n",
        "head()"
      ],
      "execution_count": 0,
      "outputs": [
        {
          "output_type": "display_data",
          "data": {
            "text/plain": [
              "  dateRep    day month year cases deaths countriesAndTerritories geoId\n",
              "1 31/12/2019 31  12    2019 0     0      Afghanistan             AF   \n",
              "2 31/12/2019 31  12    2019 0     0      Algeria                 DZ   \n",
              "3 31/12/2019 31  12    2019 0     0      Armenia                 AM   \n",
              "4 31/12/2019 31  12    2019 0     0      Australia               AU   \n",
              "5 31/12/2019 31  12    2019 0     0      Austria                 AT   \n",
              "6 31/12/2019 31  12    2019 0     0      Azerbaijan              AZ   \n",
              "  countryterritoryCode popData2018 continentExp\n",
              "1 AFG                  37172386    Asia        \n",
              "2 DZA                  42228429    Africa      \n",
              "3 ARM                   2951776    Europe      \n",
              "4 AUS                  24992369    Oceania     \n",
              "5 AUT                   8847037    Europe      \n",
              "6 AZE                   9942334    Europe      "
            ],
            "text/latex": "A data.frame: 6 × 11\n\\begin{tabular}{r|lllllllllll}\n  & dateRep & day & month & year & cases & deaths & countriesAndTerritories & geoId & countryterritoryCode & popData2018 & continentExp\\\\\n  & <fct> & <int> & <int> & <int> & <int> & <int> & <fct> & <fct> & <fct> & <int> & <fct>\\\\\n\\hline\n\t1 & 31/12/2019 & 31 & 12 & 2019 & 0 & 0 & Afghanistan & AF & AFG & 37172386 & Asia   \\\\\n\t2 & 31/12/2019 & 31 & 12 & 2019 & 0 & 0 & Algeria     & DZ & DZA & 42228429 & Africa \\\\\n\t3 & 31/12/2019 & 31 & 12 & 2019 & 0 & 0 & Armenia     & AM & ARM &  2951776 & Europe \\\\\n\t4 & 31/12/2019 & 31 & 12 & 2019 & 0 & 0 & Australia   & AU & AUS & 24992369 & Oceania\\\\\n\t5 & 31/12/2019 & 31 & 12 & 2019 & 0 & 0 & Austria     & AT & AUT &  8847037 & Europe \\\\\n\t6 & 31/12/2019 & 31 & 12 & 2019 & 0 & 0 & Azerbaijan  & AZ & AZE &  9942334 & Europe \\\\\n\\end{tabular}\n",
            "text/markdown": "\nA data.frame: 6 × 11\n\n| <!--/--> | dateRep &lt;fct&gt; | day &lt;int&gt; | month &lt;int&gt; | year &lt;int&gt; | cases &lt;int&gt; | deaths &lt;int&gt; | countriesAndTerritories &lt;fct&gt; | geoId &lt;fct&gt; | countryterritoryCode &lt;fct&gt; | popData2018 &lt;int&gt; | continentExp &lt;fct&gt; |\n|---|---|---|---|---|---|---|---|---|---|---|---|\n| 1 | 31/12/2019 | 31 | 12 | 2019 | 0 | 0 | Afghanistan | AF | AFG | 37172386 | Asia    |\n| 2 | 31/12/2019 | 31 | 12 | 2019 | 0 | 0 | Algeria     | DZ | DZA | 42228429 | Africa  |\n| 3 | 31/12/2019 | 31 | 12 | 2019 | 0 | 0 | Armenia     | AM | ARM |  2951776 | Europe  |\n| 4 | 31/12/2019 | 31 | 12 | 2019 | 0 | 0 | Australia   | AU | AUS | 24992369 | Oceania |\n| 5 | 31/12/2019 | 31 | 12 | 2019 | 0 | 0 | Austria     | AT | AUT |  8847037 | Europe  |\n| 6 | 31/12/2019 | 31 | 12 | 2019 | 0 | 0 | Azerbaijan  | AZ | AZE |  9942334 | Europe  |\n\n",
            "text/html": [
              "<table>\n",
              "<caption>A data.frame: 6 × 11</caption>\n",
              "<thead>\n",
              "\t<tr><th></th><th scope=col>dateRep</th><th scope=col>day</th><th scope=col>month</th><th scope=col>year</th><th scope=col>cases</th><th scope=col>deaths</th><th scope=col>countriesAndTerritories</th><th scope=col>geoId</th><th scope=col>countryterritoryCode</th><th scope=col>popData2018</th><th scope=col>continentExp</th></tr>\n",
              "\t<tr><th></th><th scope=col>&lt;fct&gt;</th><th scope=col>&lt;int&gt;</th><th scope=col>&lt;int&gt;</th><th scope=col>&lt;int&gt;</th><th scope=col>&lt;int&gt;</th><th scope=col>&lt;int&gt;</th><th scope=col>&lt;fct&gt;</th><th scope=col>&lt;fct&gt;</th><th scope=col>&lt;fct&gt;</th><th scope=col>&lt;int&gt;</th><th scope=col>&lt;fct&gt;</th></tr>\n",
              "</thead>\n",
              "<tbody>\n",
              "\t<tr><th scope=row>1</th><td>31/12/2019</td><td>31</td><td>12</td><td>2019</td><td>0</td><td>0</td><td>Afghanistan</td><td>AF</td><td>AFG</td><td>37172386</td><td>Asia   </td></tr>\n",
              "\t<tr><th scope=row>2</th><td>31/12/2019</td><td>31</td><td>12</td><td>2019</td><td>0</td><td>0</td><td>Algeria    </td><td>DZ</td><td>DZA</td><td>42228429</td><td>Africa </td></tr>\n",
              "\t<tr><th scope=row>3</th><td>31/12/2019</td><td>31</td><td>12</td><td>2019</td><td>0</td><td>0</td><td>Armenia    </td><td>AM</td><td>ARM</td><td> 2951776</td><td>Europe </td></tr>\n",
              "\t<tr><th scope=row>4</th><td>31/12/2019</td><td>31</td><td>12</td><td>2019</td><td>0</td><td>0</td><td>Australia  </td><td>AU</td><td>AUS</td><td>24992369</td><td>Oceania</td></tr>\n",
              "\t<tr><th scope=row>5</th><td>31/12/2019</td><td>31</td><td>12</td><td>2019</td><td>0</td><td>0</td><td>Austria    </td><td>AT</td><td>AUT</td><td> 8847037</td><td>Europe </td></tr>\n",
              "\t<tr><th scope=row>6</th><td>31/12/2019</td><td>31</td><td>12</td><td>2019</td><td>0</td><td>0</td><td>Azerbaijan </td><td>AZ</td><td>AZE</td><td> 9942334</td><td>Europe </td></tr>\n",
              "</tbody>\n",
              "</table>\n"
            ]
          },
          "metadata": {
            "tags": []
          }
        }
      ]
    },
    {
      "cell_type": "code",
      "metadata": {
        "id": "Brn6yAbPQPIc",
        "colab_type": "code",
        "outputId": "2da3c848-ee82-44dc-8135-ca417e6bbaef",
        "colab": {
          "base_uri": "https://localhost:8080/",
          "height": 316
        }
      },
      "source": [
        "covid %>%\n",
        "arrange(desc(-dateRep)) %>%\n",
        "sample_n(10)"
      ],
      "execution_count": 0,
      "outputs": [
        {
          "output_type": "stream",
          "text": [
            "Warning message in Ops.factor(dateRep):\n",
            "“‘-’ not meaningful for factors”\n"
          ],
          "name": "stderr"
        },
        {
          "output_type": "display_data",
          "data": {
            "text/plain": [
              "   dateRep    day month year cases deaths countriesAndTerritories geoId\n",
              "1  28/03/2020 28  3     2020    1    0    Curaçao                 CW   \n",
              "2  27/03/2020 27  3     2020    0    0    Tunisia                 TN   \n",
              "3  02/04/2020  2  4     2020    0    0    Cape_Verde              CV   \n",
              "4  04/03/2020  4  3     2020    2    0    Bahrain                 BH   \n",
              "5  29/01/2020 29  1     2020    0    0    Lebanon                 LB   \n",
              "6  04/04/2020  4  4     2020 6663  932    Spain                   ES   \n",
              "7  19/01/2020 19  1     2020    0    0    Iraq                    IQ   \n",
              "8  06/04/2020  6  4     2020  387   28    Sweden                  SE   \n",
              "9  29/04/2020 29  4     2020    0    0    Benin                   BJ   \n",
              "10 24/03/2020 24  3     2020   35    0    Argentina               AR   \n",
              "   countryterritoryCode popData2018 continentExp\n",
              "1  CUW                    159849    America     \n",
              "2  TUN                  11565204    Africa      \n",
              "3  CPV                    543767    Africa      \n",
              "4  BHR                   1569439    Asia        \n",
              "5  LBN                   6848925    Asia        \n",
              "6  ESP                  46723749    Europe      \n",
              "7  IRQ                  38433600    Asia        \n",
              "8  SWE                  10183175    Europe      \n",
              "9  BEN                  11485048    Africa      \n",
              "10 ARG                  44494502    America     "
            ],
            "text/latex": "A data.frame: 10 × 11\n\\begin{tabular}{lllllllllll}\n dateRep & day & month & year & cases & deaths & countriesAndTerritories & geoId & countryterritoryCode & popData2018 & continentExp\\\\\n <fct> & <int> & <int> & <int> & <int> & <int> & <fct> & <fct> & <fct> & <int> & <fct>\\\\\n\\hline\n\t 28/03/2020 & 28 & 3 & 2020 &    1 &   0 & Curaçao    & CW & CUW &   159849 & America\\\\\n\t 27/03/2020 & 27 & 3 & 2020 &    0 &   0 & Tunisia    & TN & TUN & 11565204 & Africa \\\\\n\t 02/04/2020 &  2 & 4 & 2020 &    0 &   0 & Cape\\_Verde & CV & CPV &   543767 & Africa \\\\\n\t 04/03/2020 &  4 & 3 & 2020 &    2 &   0 & Bahrain    & BH & BHR &  1569439 & Asia   \\\\\n\t 29/01/2020 & 29 & 1 & 2020 &    0 &   0 & Lebanon    & LB & LBN &  6848925 & Asia   \\\\\n\t 04/04/2020 &  4 & 4 & 2020 & 6663 & 932 & Spain      & ES & ESP & 46723749 & Europe \\\\\n\t 19/01/2020 & 19 & 1 & 2020 &    0 &   0 & Iraq       & IQ & IRQ & 38433600 & Asia   \\\\\n\t 06/04/2020 &  6 & 4 & 2020 &  387 &  28 & Sweden     & SE & SWE & 10183175 & Europe \\\\\n\t 29/04/2020 & 29 & 4 & 2020 &    0 &   0 & Benin      & BJ & BEN & 11485048 & Africa \\\\\n\t 24/03/2020 & 24 & 3 & 2020 &   35 &   0 & Argentina  & AR & ARG & 44494502 & America\\\\\n\\end{tabular}\n",
            "text/markdown": "\nA data.frame: 10 × 11\n\n| dateRep &lt;fct&gt; | day &lt;int&gt; | month &lt;int&gt; | year &lt;int&gt; | cases &lt;int&gt; | deaths &lt;int&gt; | countriesAndTerritories &lt;fct&gt; | geoId &lt;fct&gt; | countryterritoryCode &lt;fct&gt; | popData2018 &lt;int&gt; | continentExp &lt;fct&gt; |\n|---|---|---|---|---|---|---|---|---|---|---|\n| 28/03/2020 | 28 | 3 | 2020 |    1 |   0 | Curaçao    | CW | CUW |   159849 | America |\n| 27/03/2020 | 27 | 3 | 2020 |    0 |   0 | Tunisia    | TN | TUN | 11565204 | Africa  |\n| 02/04/2020 |  2 | 4 | 2020 |    0 |   0 | Cape_Verde | CV | CPV |   543767 | Africa  |\n| 04/03/2020 |  4 | 3 | 2020 |    2 |   0 | Bahrain    | BH | BHR |  1569439 | Asia    |\n| 29/01/2020 | 29 | 1 | 2020 |    0 |   0 | Lebanon    | LB | LBN |  6848925 | Asia    |\n| 04/04/2020 |  4 | 4 | 2020 | 6663 | 932 | Spain      | ES | ESP | 46723749 | Europe  |\n| 19/01/2020 | 19 | 1 | 2020 |    0 |   0 | Iraq       | IQ | IRQ | 38433600 | Asia    |\n| 06/04/2020 |  6 | 4 | 2020 |  387 |  28 | Sweden     | SE | SWE | 10183175 | Europe  |\n| 29/04/2020 | 29 | 4 | 2020 |    0 |   0 | Benin      | BJ | BEN | 11485048 | Africa  |\n| 24/03/2020 | 24 | 3 | 2020 |   35 |   0 | Argentina  | AR | ARG | 44494502 | America |\n\n",
            "text/html": [
              "<table>\n",
              "<caption>A data.frame: 10 × 11</caption>\n",
              "<thead>\n",
              "\t<tr><th scope=col>dateRep</th><th scope=col>day</th><th scope=col>month</th><th scope=col>year</th><th scope=col>cases</th><th scope=col>deaths</th><th scope=col>countriesAndTerritories</th><th scope=col>geoId</th><th scope=col>countryterritoryCode</th><th scope=col>popData2018</th><th scope=col>continentExp</th></tr>\n",
              "\t<tr><th scope=col>&lt;fct&gt;</th><th scope=col>&lt;int&gt;</th><th scope=col>&lt;int&gt;</th><th scope=col>&lt;int&gt;</th><th scope=col>&lt;int&gt;</th><th scope=col>&lt;int&gt;</th><th scope=col>&lt;fct&gt;</th><th scope=col>&lt;fct&gt;</th><th scope=col>&lt;fct&gt;</th><th scope=col>&lt;int&gt;</th><th scope=col>&lt;fct&gt;</th></tr>\n",
              "</thead>\n",
              "<tbody>\n",
              "\t<tr><td>28/03/2020</td><td>28</td><td>3</td><td>2020</td><td>   1</td><td>  0</td><td>Curaçao   </td><td>CW</td><td>CUW</td><td>  159849</td><td>America</td></tr>\n",
              "\t<tr><td>27/03/2020</td><td>27</td><td>3</td><td>2020</td><td>   0</td><td>  0</td><td>Tunisia   </td><td>TN</td><td>TUN</td><td>11565204</td><td>Africa </td></tr>\n",
              "\t<tr><td>02/04/2020</td><td> 2</td><td>4</td><td>2020</td><td>   0</td><td>  0</td><td>Cape_Verde</td><td>CV</td><td>CPV</td><td>  543767</td><td>Africa </td></tr>\n",
              "\t<tr><td>04/03/2020</td><td> 4</td><td>3</td><td>2020</td><td>   2</td><td>  0</td><td>Bahrain   </td><td>BH</td><td>BHR</td><td> 1569439</td><td>Asia   </td></tr>\n",
              "\t<tr><td>29/01/2020</td><td>29</td><td>1</td><td>2020</td><td>   0</td><td>  0</td><td>Lebanon   </td><td>LB</td><td>LBN</td><td> 6848925</td><td>Asia   </td></tr>\n",
              "\t<tr><td>04/04/2020</td><td> 4</td><td>4</td><td>2020</td><td>6663</td><td>932</td><td>Spain     </td><td>ES</td><td>ESP</td><td>46723749</td><td>Europe </td></tr>\n",
              "\t<tr><td>19/01/2020</td><td>19</td><td>1</td><td>2020</td><td>   0</td><td>  0</td><td>Iraq      </td><td>IQ</td><td>IRQ</td><td>38433600</td><td>Asia   </td></tr>\n",
              "\t<tr><td>06/04/2020</td><td> 6</td><td>4</td><td>2020</td><td> 387</td><td> 28</td><td>Sweden    </td><td>SE</td><td>SWE</td><td>10183175</td><td>Europe </td></tr>\n",
              "\t<tr><td>29/04/2020</td><td>29</td><td>4</td><td>2020</td><td>   0</td><td>  0</td><td>Benin     </td><td>BJ</td><td>BEN</td><td>11485048</td><td>Africa </td></tr>\n",
              "\t<tr><td>24/03/2020</td><td>24</td><td>3</td><td>2020</td><td>  35</td><td>  0</td><td>Argentina </td><td>AR</td><td>ARG</td><td>44494502</td><td>America</td></tr>\n",
              "</tbody>\n",
              "</table>\n"
            ]
          },
          "metadata": {
            "tags": []
          }
        }
      ]
    },
    {
      "cell_type": "markdown",
      "metadata": {
        "colab_type": "text",
        "id": "vXHeRsBK7rXJ"
      },
      "source": [
        "*Describe the dataset here*\n",
        "\n",
        "o deepen your understanding of the available data and briefly describe the dataset (e.g., number of observations, sorting, variables, ...):\n",
        "\n",
        "Dataset shows data regarding covid cases. \n",
        "* Counts new cases/deaths per day per country\n",
        "* Shows population data for said country/continent\n",
        "* 17158 rows of data\n",
        "* sorted by country and date\n",
        "* Starting with 31/12/2019 until today (15/5/2020)\n",
        "* includes 210 different countries\n",
        "* 11 different variables - date in D/M/Y format. 3 columns for day/month/year split up - Cases - Deaths - Country - GeoID - CountryCode - Population data from 2018 and the Continent\n"
      ]
    },
    {
      "cell_type": "markdown",
      "metadata": {
        "colab_type": "text",
        "id": "rWahnB0Y9Fij"
      },
      "source": [
        "Next, you should filter and sort the dataset to answer the following questions:\n",
        "\n",
        "1.   Which 5 days had the highest number of reported new cases in Germany?\n",
        "2.   Which 5 days had the highest number of reported deaths in Brazil?"
      ]
    },
    {
      "cell_type": "code",
      "metadata": {
        "colab_type": "code",
        "id": "lrkGJYQ8_Ax3",
        "outputId": "20a56159-f77e-46a9-caaf-596e9ba1bde1",
        "colab": {
          "base_uri": "https://localhost:8080/",
          "height": 179
        }
      },
      "source": [
        "# Insert your code here\n",
        "covid %>%\n",
        "filter(countriesAndTerritories == \"Germany\") %>%\n",
        "arrange(desc(cases)) %>%\n",
        "head(5)"
      ],
      "execution_count": 0,
      "outputs": [
        {
          "output_type": "display_data",
          "data": {
            "text/plain": [
              "  dateRep    day month year cases deaths countriesAndTerritories geoId\n",
              "1 28/03/2020 28  3     2020 6294   72    Germany                 DE   \n",
              "2 03/04/2020  3  4     2020 6174  145    Germany                 DE   \n",
              "3 02/04/2020  2  4     2020 6156  140    Germany                 DE   \n",
              "4 04/04/2020  4  4     2020 6082  141    Germany                 DE   \n",
              "5 20/03/2020 20  3     2020 5940   30    Germany                 DE   \n",
              "  countryterritoryCode popData2018 continentExp\n",
              "1 DEU                  82927922    Europe      \n",
              "2 DEU                  82927922    Europe      \n",
              "3 DEU                  82927922    Europe      \n",
              "4 DEU                  82927922    Europe      \n",
              "5 DEU                  82927922    Europe      "
            ],
            "text/latex": "A data.frame: 5 × 11\n\\begin{tabular}{r|lllllllllll}\n  & dateRep & day & month & year & cases & deaths & countriesAndTerritories & geoId & countryterritoryCode & popData2018 & continentExp\\\\\n  & <fct> & <int> & <int> & <int> & <int> & <int> & <fct> & <fct> & <fct> & <int> & <fct>\\\\\n\\hline\n\t1 & 28/03/2020 & 28 & 3 & 2020 & 6294 &  72 & Germany & DE & DEU & 82927922 & Europe\\\\\n\t2 & 03/04/2020 &  3 & 4 & 2020 & 6174 & 145 & Germany & DE & DEU & 82927922 & Europe\\\\\n\t3 & 02/04/2020 &  2 & 4 & 2020 & 6156 & 140 & Germany & DE & DEU & 82927922 & Europe\\\\\n\t4 & 04/04/2020 &  4 & 4 & 2020 & 6082 & 141 & Germany & DE & DEU & 82927922 & Europe\\\\\n\t5 & 20/03/2020 & 20 & 3 & 2020 & 5940 &  30 & Germany & DE & DEU & 82927922 & Europe\\\\\n\\end{tabular}\n",
            "text/markdown": "\nA data.frame: 5 × 11\n\n| <!--/--> | dateRep &lt;fct&gt; | day &lt;int&gt; | month &lt;int&gt; | year &lt;int&gt; | cases &lt;int&gt; | deaths &lt;int&gt; | countriesAndTerritories &lt;fct&gt; | geoId &lt;fct&gt; | countryterritoryCode &lt;fct&gt; | popData2018 &lt;int&gt; | continentExp &lt;fct&gt; |\n|---|---|---|---|---|---|---|---|---|---|---|---|\n| 1 | 28/03/2020 | 28 | 3 | 2020 | 6294 |  72 | Germany | DE | DEU | 82927922 | Europe |\n| 2 | 03/04/2020 |  3 | 4 | 2020 | 6174 | 145 | Germany | DE | DEU | 82927922 | Europe |\n| 3 | 02/04/2020 |  2 | 4 | 2020 | 6156 | 140 | Germany | DE | DEU | 82927922 | Europe |\n| 4 | 04/04/2020 |  4 | 4 | 2020 | 6082 | 141 | Germany | DE | DEU | 82927922 | Europe |\n| 5 | 20/03/2020 | 20 | 3 | 2020 | 5940 |  30 | Germany | DE | DEU | 82927922 | Europe |\n\n",
            "text/html": [
              "<table>\n",
              "<caption>A data.frame: 5 × 11</caption>\n",
              "<thead>\n",
              "\t<tr><th></th><th scope=col>dateRep</th><th scope=col>day</th><th scope=col>month</th><th scope=col>year</th><th scope=col>cases</th><th scope=col>deaths</th><th scope=col>countriesAndTerritories</th><th scope=col>geoId</th><th scope=col>countryterritoryCode</th><th scope=col>popData2018</th><th scope=col>continentExp</th></tr>\n",
              "\t<tr><th></th><th scope=col>&lt;fct&gt;</th><th scope=col>&lt;int&gt;</th><th scope=col>&lt;int&gt;</th><th scope=col>&lt;int&gt;</th><th scope=col>&lt;int&gt;</th><th scope=col>&lt;int&gt;</th><th scope=col>&lt;fct&gt;</th><th scope=col>&lt;fct&gt;</th><th scope=col>&lt;fct&gt;</th><th scope=col>&lt;int&gt;</th><th scope=col>&lt;fct&gt;</th></tr>\n",
              "</thead>\n",
              "<tbody>\n",
              "\t<tr><th scope=row>1</th><td>28/03/2020</td><td>28</td><td>3</td><td>2020</td><td>6294</td><td> 72</td><td>Germany</td><td>DE</td><td>DEU</td><td>82927922</td><td>Europe</td></tr>\n",
              "\t<tr><th scope=row>2</th><td>03/04/2020</td><td> 3</td><td>4</td><td>2020</td><td>6174</td><td>145</td><td>Germany</td><td>DE</td><td>DEU</td><td>82927922</td><td>Europe</td></tr>\n",
              "\t<tr><th scope=row>3</th><td>02/04/2020</td><td> 2</td><td>4</td><td>2020</td><td>6156</td><td>140</td><td>Germany</td><td>DE</td><td>DEU</td><td>82927922</td><td>Europe</td></tr>\n",
              "\t<tr><th scope=row>4</th><td>04/04/2020</td><td> 4</td><td>4</td><td>2020</td><td>6082</td><td>141</td><td>Germany</td><td>DE</td><td>DEU</td><td>82927922</td><td>Europe</td></tr>\n",
              "\t<tr><th scope=row>5</th><td>20/03/2020</td><td>20</td><td>3</td><td>2020</td><td>5940</td><td> 30</td><td>Germany</td><td>DE</td><td>DEU</td><td>82927922</td><td>Europe</td></tr>\n",
              "</tbody>\n",
              "</table>\n"
            ]
          },
          "metadata": {
            "tags": []
          }
        }
      ]
    },
    {
      "cell_type": "code",
      "metadata": {
        "id": "RJwRyzXOVUAy",
        "colab_type": "code",
        "outputId": "57109a87-9cd2-4227-a732-1e9ae877bf83",
        "colab": {
          "base_uri": "https://localhost:8080/",
          "height": 179
        }
      },
      "source": [
        "covid %>%\n",
        "filter(countriesAndTerritories == \"Brazil\") %>%\n",
        "arrange(desc(deaths)) %>%\n",
        "head(5)"
      ],
      "execution_count": 0,
      "outputs": [
        {
          "output_type": "display_data",
          "data": {
            "text/plain": [
              "  dateRep    day month year cases deaths countriesAndTerritories geoId\n",
              "1 13/05/2020 13  5     2020  9258 881    Brazil                  BR   \n",
              "2 15/05/2020 15  5     2020 13944 844    Brazil                  BR   \n",
              "3 09/05/2020  9  5     2020 10222 751    Brazil                  BR   \n",
              "4 14/05/2020 14  5     2020 11385 749    Brazil                  BR   \n",
              "5 10/05/2020 10  5     2020 10611 730    Brazil                  BR   \n",
              "  countryterritoryCode popData2018 continentExp\n",
              "1 BRA                  209469333   America     \n",
              "2 BRA                  209469333   America     \n",
              "3 BRA                  209469333   America     \n",
              "4 BRA                  209469333   America     \n",
              "5 BRA                  209469333   America     "
            ],
            "text/latex": "A data.frame: 5 × 11\n\\begin{tabular}{r|lllllllllll}\n  & dateRep & day & month & year & cases & deaths & countriesAndTerritories & geoId & countryterritoryCode & popData2018 & continentExp\\\\\n  & <fct> & <int> & <int> & <int> & <int> & <int> & <fct> & <fct> & <fct> & <int> & <fct>\\\\\n\\hline\n\t1 & 13/05/2020 & 13 & 5 & 2020 &  9258 & 881 & Brazil & BR & BRA & 209469333 & America\\\\\n\t2 & 15/05/2020 & 15 & 5 & 2020 & 13944 & 844 & Brazil & BR & BRA & 209469333 & America\\\\\n\t3 & 09/05/2020 &  9 & 5 & 2020 & 10222 & 751 & Brazil & BR & BRA & 209469333 & America\\\\\n\t4 & 14/05/2020 & 14 & 5 & 2020 & 11385 & 749 & Brazil & BR & BRA & 209469333 & America\\\\\n\t5 & 10/05/2020 & 10 & 5 & 2020 & 10611 & 730 & Brazil & BR & BRA & 209469333 & America\\\\\n\\end{tabular}\n",
            "text/markdown": "\nA data.frame: 5 × 11\n\n| <!--/--> | dateRep &lt;fct&gt; | day &lt;int&gt; | month &lt;int&gt; | year &lt;int&gt; | cases &lt;int&gt; | deaths &lt;int&gt; | countriesAndTerritories &lt;fct&gt; | geoId &lt;fct&gt; | countryterritoryCode &lt;fct&gt; | popData2018 &lt;int&gt; | continentExp &lt;fct&gt; |\n|---|---|---|---|---|---|---|---|---|---|---|---|\n| 1 | 13/05/2020 | 13 | 5 | 2020 |  9258 | 881 | Brazil | BR | BRA | 209469333 | America |\n| 2 | 15/05/2020 | 15 | 5 | 2020 | 13944 | 844 | Brazil | BR | BRA | 209469333 | America |\n| 3 | 09/05/2020 |  9 | 5 | 2020 | 10222 | 751 | Brazil | BR | BRA | 209469333 | America |\n| 4 | 14/05/2020 | 14 | 5 | 2020 | 11385 | 749 | Brazil | BR | BRA | 209469333 | America |\n| 5 | 10/05/2020 | 10 | 5 | 2020 | 10611 | 730 | Brazil | BR | BRA | 209469333 | America |\n\n",
            "text/html": [
              "<table>\n",
              "<caption>A data.frame: 5 × 11</caption>\n",
              "<thead>\n",
              "\t<tr><th></th><th scope=col>dateRep</th><th scope=col>day</th><th scope=col>month</th><th scope=col>year</th><th scope=col>cases</th><th scope=col>deaths</th><th scope=col>countriesAndTerritories</th><th scope=col>geoId</th><th scope=col>countryterritoryCode</th><th scope=col>popData2018</th><th scope=col>continentExp</th></tr>\n",
              "\t<tr><th></th><th scope=col>&lt;fct&gt;</th><th scope=col>&lt;int&gt;</th><th scope=col>&lt;int&gt;</th><th scope=col>&lt;int&gt;</th><th scope=col>&lt;int&gt;</th><th scope=col>&lt;int&gt;</th><th scope=col>&lt;fct&gt;</th><th scope=col>&lt;fct&gt;</th><th scope=col>&lt;fct&gt;</th><th scope=col>&lt;int&gt;</th><th scope=col>&lt;fct&gt;</th></tr>\n",
              "</thead>\n",
              "<tbody>\n",
              "\t<tr><th scope=row>1</th><td>13/05/2020</td><td>13</td><td>5</td><td>2020</td><td> 9258</td><td>881</td><td>Brazil</td><td>BR</td><td>BRA</td><td>209469333</td><td>America</td></tr>\n",
              "\t<tr><th scope=row>2</th><td>15/05/2020</td><td>15</td><td>5</td><td>2020</td><td>13944</td><td>844</td><td>Brazil</td><td>BR</td><td>BRA</td><td>209469333</td><td>America</td></tr>\n",
              "\t<tr><th scope=row>3</th><td>09/05/2020</td><td> 9</td><td>5</td><td>2020</td><td>10222</td><td>751</td><td>Brazil</td><td>BR</td><td>BRA</td><td>209469333</td><td>America</td></tr>\n",
              "\t<tr><th scope=row>4</th><td>14/05/2020</td><td>14</td><td>5</td><td>2020</td><td>11385</td><td>749</td><td>Brazil</td><td>BR</td><td>BRA</td><td>209469333</td><td>America</td></tr>\n",
              "\t<tr><th scope=row>5</th><td>10/05/2020</td><td>10</td><td>5</td><td>2020</td><td>10611</td><td>730</td><td>Brazil</td><td>BR</td><td>BRA</td><td>209469333</td><td>America</td></tr>\n",
              "</tbody>\n",
              "</table>\n"
            ]
          },
          "metadata": {
            "tags": []
          }
        }
      ]
    },
    {
      "cell_type": "code",
      "metadata": {
        "id": "4zepFhbAV_5C",
        "colab_type": "code",
        "outputId": "6c434522-8b43-45d9-f287-511dcd597291",
        "colab": {
          "base_uri": "https://localhost:8080/",
          "height": 179
        }
      },
      "source": [
        "covid %>%\n",
        "filter(countriesAndTerritories == \"United_States_of_America\") %>%\n",
        "arrange(desc(cases)) %>%\n",
        "head(5)"
      ],
      "execution_count": 0,
      "outputs": [
        {
          "output_type": "display_data",
          "data": {
            "text/plain": [
              "  dateRep    day month year cases deaths countriesAndTerritories  geoId\n",
              "1 26/04/2020 26  4     2020 48529 2172   United_States_of_America US   \n",
              "2 22/04/2020 22  4     2020 37289 2524   United_States_of_America US   \n",
              "3 11/04/2020 11  4     2020 35527 2087   United_States_of_America US   \n",
              "4 05/04/2020  5  4     2020 34272 1344   United_States_of_America US   \n",
              "5 02/05/2020  2  5     2020 33955 2062   United_States_of_America US   \n",
              "  countryterritoryCode popData2018 continentExp\n",
              "1 USA                  327167434   America     \n",
              "2 USA                  327167434   America     \n",
              "3 USA                  327167434   America     \n",
              "4 USA                  327167434   America     \n",
              "5 USA                  327167434   America     "
            ],
            "text/latex": "A data.frame: 5 × 11\n\\begin{tabular}{r|lllllllllll}\n  & dateRep & day & month & year & cases & deaths & countriesAndTerritories & geoId & countryterritoryCode & popData2018 & continentExp\\\\\n  & <fct> & <int> & <int> & <int> & <int> & <int> & <fct> & <fct> & <fct> & <int> & <fct>\\\\\n\\hline\n\t1 & 26/04/2020 & 26 & 4 & 2020 & 48529 & 2172 & United\\_States\\_of\\_America & US & USA & 327167434 & America\\\\\n\t2 & 22/04/2020 & 22 & 4 & 2020 & 37289 & 2524 & United\\_States\\_of\\_America & US & USA & 327167434 & America\\\\\n\t3 & 11/04/2020 & 11 & 4 & 2020 & 35527 & 2087 & United\\_States\\_of\\_America & US & USA & 327167434 & America\\\\\n\t4 & 05/04/2020 &  5 & 4 & 2020 & 34272 & 1344 & United\\_States\\_of\\_America & US & USA & 327167434 & America\\\\\n\t5 & 02/05/2020 &  2 & 5 & 2020 & 33955 & 2062 & United\\_States\\_of\\_America & US & USA & 327167434 & America\\\\\n\\end{tabular}\n",
            "text/markdown": "\nA data.frame: 5 × 11\n\n| <!--/--> | dateRep &lt;fct&gt; | day &lt;int&gt; | month &lt;int&gt; | year &lt;int&gt; | cases &lt;int&gt; | deaths &lt;int&gt; | countriesAndTerritories &lt;fct&gt; | geoId &lt;fct&gt; | countryterritoryCode &lt;fct&gt; | popData2018 &lt;int&gt; | continentExp &lt;fct&gt; |\n|---|---|---|---|---|---|---|---|---|---|---|---|\n| 1 | 26/04/2020 | 26 | 4 | 2020 | 48529 | 2172 | United_States_of_America | US | USA | 327167434 | America |\n| 2 | 22/04/2020 | 22 | 4 | 2020 | 37289 | 2524 | United_States_of_America | US | USA | 327167434 | America |\n| 3 | 11/04/2020 | 11 | 4 | 2020 | 35527 | 2087 | United_States_of_America | US | USA | 327167434 | America |\n| 4 | 05/04/2020 |  5 | 4 | 2020 | 34272 | 1344 | United_States_of_America | US | USA | 327167434 | America |\n| 5 | 02/05/2020 |  2 | 5 | 2020 | 33955 | 2062 | United_States_of_America | US | USA | 327167434 | America |\n\n",
            "text/html": [
              "<table>\n",
              "<caption>A data.frame: 5 × 11</caption>\n",
              "<thead>\n",
              "\t<tr><th></th><th scope=col>dateRep</th><th scope=col>day</th><th scope=col>month</th><th scope=col>year</th><th scope=col>cases</th><th scope=col>deaths</th><th scope=col>countriesAndTerritories</th><th scope=col>geoId</th><th scope=col>countryterritoryCode</th><th scope=col>popData2018</th><th scope=col>continentExp</th></tr>\n",
              "\t<tr><th></th><th scope=col>&lt;fct&gt;</th><th scope=col>&lt;int&gt;</th><th scope=col>&lt;int&gt;</th><th scope=col>&lt;int&gt;</th><th scope=col>&lt;int&gt;</th><th scope=col>&lt;int&gt;</th><th scope=col>&lt;fct&gt;</th><th scope=col>&lt;fct&gt;</th><th scope=col>&lt;fct&gt;</th><th scope=col>&lt;int&gt;</th><th scope=col>&lt;fct&gt;</th></tr>\n",
              "</thead>\n",
              "<tbody>\n",
              "\t<tr><th scope=row>1</th><td>26/04/2020</td><td>26</td><td>4</td><td>2020</td><td>48529</td><td>2172</td><td>United_States_of_America</td><td>US</td><td>USA</td><td>327167434</td><td>America</td></tr>\n",
              "\t<tr><th scope=row>2</th><td>22/04/2020</td><td>22</td><td>4</td><td>2020</td><td>37289</td><td>2524</td><td>United_States_of_America</td><td>US</td><td>USA</td><td>327167434</td><td>America</td></tr>\n",
              "\t<tr><th scope=row>3</th><td>11/04/2020</td><td>11</td><td>4</td><td>2020</td><td>35527</td><td>2087</td><td>United_States_of_America</td><td>US</td><td>USA</td><td>327167434</td><td>America</td></tr>\n",
              "\t<tr><th scope=row>4</th><td>05/04/2020</td><td> 5</td><td>4</td><td>2020</td><td>34272</td><td>1344</td><td>United_States_of_America</td><td>US</td><td>USA</td><td>327167434</td><td>America</td></tr>\n",
              "\t<tr><th scope=row>5</th><td>02/05/2020</td><td> 2</td><td>5</td><td>2020</td><td>33955</td><td>2062</td><td>United_States_of_America</td><td>US</td><td>USA</td><td>327167434</td><td>America</td></tr>\n",
              "</tbody>\n",
              "</table>\n"
            ]
          },
          "metadata": {
            "tags": []
          }
        }
      ]
    },
    {
      "cell_type": "markdown",
      "metadata": {
        "colab_type": "text",
        "id": "5EEGn4zg3CIf"
      },
      "source": [
        "Having established first insights, you now have to aggregate and transform the dataset for further analysis. \n",
        "\n",
        "First, calculate the number of total confirmed cases and the number of total deaths for each country. Which countries are hit hardest in terms of total cases and total deaths? "
      ]
    },
    {
      "cell_type": "code",
      "metadata": {
        "id": "FNedlRVcZr-4",
        "colab_type": "code",
        "outputId": "775c4900-f6a8-453f-c02b-bdd217da5500",
        "colab": {
          "base_uri": "https://localhost:8080/",
          "height": 199
        }
      },
      "source": [
        "covid %>%\n",
        "group_by(countriesAndTerritories) %>%\n",
        "summarise(totalcases = sum(cases), totaldeaths = sum(deaths)) %>%\n",
        "arrange(-totalcases) -> covid_sum\n",
        "covid_sum %>%\n",
        "head()"
      ],
      "execution_count": 0,
      "outputs": [
        {
          "output_type": "display_data",
          "data": {
            "text/plain": [
              "  countriesAndTerritories  totalcases totaldeaths\n",
              "1 United_States_of_America 1417889    85906      \n",
              "2 Russia                    252245     2305      \n",
              "3 United_Kingdom            233151    33614      \n",
              "4 Spain                     229540    27321      \n",
              "5 Italy                     223096    31368      \n",
              "6 Brazil                    202918    13993      "
            ],
            "text/latex": "A tibble: 6 × 3\n\\begin{tabular}{lll}\n countriesAndTerritories & totalcases & totaldeaths\\\\\n <fct> & <int> & <int>\\\\\n\\hline\n\t United\\_States\\_of\\_America & 1417889 & 85906\\\\\n\t Russia                   &  252245 &  2305\\\\\n\t United\\_Kingdom           &  233151 & 33614\\\\\n\t Spain                    &  229540 & 27321\\\\\n\t Italy                    &  223096 & 31368\\\\\n\t Brazil                   &  202918 & 13993\\\\\n\\end{tabular}\n",
            "text/markdown": "\nA tibble: 6 × 3\n\n| countriesAndTerritories &lt;fct&gt; | totalcases &lt;int&gt; | totaldeaths &lt;int&gt; |\n|---|---|---|\n| United_States_of_America | 1417889 | 85906 |\n| Russia                   |  252245 |  2305 |\n| United_Kingdom           |  233151 | 33614 |\n| Spain                    |  229540 | 27321 |\n| Italy                    |  223096 | 31368 |\n| Brazil                   |  202918 | 13993 |\n\n",
            "text/html": [
              "<table>\n",
              "<caption>A tibble: 6 × 3</caption>\n",
              "<thead>\n",
              "\t<tr><th scope=col>countriesAndTerritories</th><th scope=col>totalcases</th><th scope=col>totaldeaths</th></tr>\n",
              "\t<tr><th scope=col>&lt;fct&gt;</th><th scope=col>&lt;int&gt;</th><th scope=col>&lt;int&gt;</th></tr>\n",
              "</thead>\n",
              "<tbody>\n",
              "\t<tr><td>United_States_of_America</td><td>1417889</td><td>85906</td></tr>\n",
              "\t<tr><td>Russia                  </td><td> 252245</td><td> 2305</td></tr>\n",
              "\t<tr><td>United_Kingdom          </td><td> 233151</td><td>33614</td></tr>\n",
              "\t<tr><td>Spain                   </td><td> 229540</td><td>27321</td></tr>\n",
              "\t<tr><td>Italy                   </td><td> 223096</td><td>31368</td></tr>\n",
              "\t<tr><td>Brazil                  </td><td> 202918</td><td>13993</td></tr>\n",
              "</tbody>\n",
              "</table>\n"
            ]
          },
          "metadata": {
            "tags": []
          }
        }
      ]
    },
    {
      "cell_type": "code",
      "metadata": {
        "id": "xUj_t3nsuuvN",
        "colab_type": "code",
        "outputId": "a26c9dd1-0269-413f-80ef-94e422fffe98",
        "colab": {
          "base_uri": "https://localhost:8080/",
          "height": 199
        }
      },
      "source": [
        "covid_sum %>%\n",
        "arrange(-totaldeaths) %>%\n",
        "head()"
      ],
      "execution_count": 0,
      "outputs": [
        {
          "output_type": "display_data",
          "data": {
            "text/plain": [
              "  countriesAndTerritories  totalcases totaldeaths\n",
              "1 United_States_of_America 1417889    85906      \n",
              "2 United_Kingdom            233151    33614      \n",
              "3 Italy                     223096    31368      \n",
              "4 France                    141356    27425      \n",
              "5 Spain                     229540    27321      \n",
              "6 Brazil                    202918    13993      "
            ],
            "text/latex": "A tibble: 6 × 3\n\\begin{tabular}{lll}\n countriesAndTerritories & totalcases & totaldeaths\\\\\n <fct> & <int> & <int>\\\\\n\\hline\n\t United\\_States\\_of\\_America & 1417889 & 85906\\\\\n\t United\\_Kingdom           &  233151 & 33614\\\\\n\t Italy                    &  223096 & 31368\\\\\n\t France                   &  141356 & 27425\\\\\n\t Spain                    &  229540 & 27321\\\\\n\t Brazil                   &  202918 & 13993\\\\\n\\end{tabular}\n",
            "text/markdown": "\nA tibble: 6 × 3\n\n| countriesAndTerritories &lt;fct&gt; | totalcases &lt;int&gt; | totaldeaths &lt;int&gt; |\n|---|---|---|\n| United_States_of_America | 1417889 | 85906 |\n| United_Kingdom           |  233151 | 33614 |\n| Italy                    |  223096 | 31368 |\n| France                   |  141356 | 27425 |\n| Spain                    |  229540 | 27321 |\n| Brazil                   |  202918 | 13993 |\n\n",
            "text/html": [
              "<table>\n",
              "<caption>A tibble: 6 × 3</caption>\n",
              "<thead>\n",
              "\t<tr><th scope=col>countriesAndTerritories</th><th scope=col>totalcases</th><th scope=col>totaldeaths</th></tr>\n",
              "\t<tr><th scope=col>&lt;fct&gt;</th><th scope=col>&lt;int&gt;</th><th scope=col>&lt;int&gt;</th></tr>\n",
              "</thead>\n",
              "<tbody>\n",
              "\t<tr><td>United_States_of_America</td><td>1417889</td><td>85906</td></tr>\n",
              "\t<tr><td>United_Kingdom          </td><td> 233151</td><td>33614</td></tr>\n",
              "\t<tr><td>Italy                   </td><td> 223096</td><td>31368</td></tr>\n",
              "\t<tr><td>France                  </td><td> 141356</td><td>27425</td></tr>\n",
              "\t<tr><td>Spain                   </td><td> 229540</td><td>27321</td></tr>\n",
              "\t<tr><td>Brazil                  </td><td> 202918</td><td>13993</td></tr>\n",
              "</tbody>\n",
              "</table>\n"
            ]
          },
          "metadata": {
            "tags": []
          }
        }
      ]
    },
    {
      "cell_type": "markdown",
      "metadata": {
        "colab_type": "text",
        "id": "BpC_lzmP7ZyD"
      },
      "source": [
        "Next, we are interested in the monthly [incidence rate](https://en.wikipedia.org/wiki/Incidence_(epidemiology)) on a continent level. To calculate this rate, you first have to summarize the dataset on a year, month and continent level. Subsequently, you can calculate the incidence rate by using the ```mutate()``` function.\n",
        "\n",
        "Hint 1: Some countries do not report population data. To ignore NA values you can use the parameter ```na.rm=TRUE``` in most dplyr functions.\n",
        "\n",
        "Hint 2: You can remove the continet ```other``` prior to your analysis."
      ]
    },
    {
      "cell_type": "markdown",
      "metadata": {
        "id": "ZMptgtxryTaR",
        "colab_type": "text"
      },
      "source": [
        "![alt text](https://i.imgur.com/BdeWYT8.png)"
      ]
    },
    {
      "cell_type": "code",
      "metadata": {
        "id": "ESj8GIxuyqqy",
        "colab_type": "code",
        "outputId": "ae782f6f-500f-4a47-ea44-19799a185baa",
        "colab": {
          "base_uri": "https://localhost:8080/",
          "height": 196
        }
      },
      "source": [
        "#filter out Other\n",
        "covid %>%\n",
        "filter(continentExp != \"Other\") -> covid_continent\n",
        "covid_continent %>%\n",
        "distinct(continentExp)"
      ],
      "execution_count": 3,
      "outputs": [
        {
          "output_type": "display_data",
          "data": {
            "text/plain": [
              "  continentExp\n",
              "1 Asia        \n",
              "2 Europe      \n",
              "3 Africa      \n",
              "4 America     \n",
              "5 Oceania     "
            ],
            "text/latex": "A data.frame: 5 × 1\n\\begin{tabular}{l}\n continentExp\\\\\n <fct>\\\\\n\\hline\n\t Asia   \\\\\n\t Europe \\\\\n\t Africa \\\\\n\t America\\\\\n\t Oceania\\\\\n\\end{tabular}\n",
            "text/markdown": "\nA data.frame: 5 × 1\n\n| continentExp &lt;fct&gt; |\n|---|\n| Asia    |\n| Europe  |\n| Africa  |\n| America |\n| Oceania |\n\n",
            "text/html": [
              "<table>\n",
              "<caption>A data.frame: 5 × 1</caption>\n",
              "<thead>\n",
              "\t<tr><th scope=col>continentExp</th></tr>\n",
              "\t<tr><th scope=col>&lt;fct&gt;</th></tr>\n",
              "</thead>\n",
              "<tbody>\n",
              "\t<tr><td>Asia   </td></tr>\n",
              "\t<tr><td>Europe </td></tr>\n",
              "\t<tr><td>Africa </td></tr>\n",
              "\t<tr><td>America</td></tr>\n",
              "\t<tr><td>Oceania</td></tr>\n",
              "</tbody>\n",
              "</table>\n"
            ]
          },
          "metadata": {
            "tags": []
          }
        }
      ]
    },
    {
      "cell_type": "code",
      "metadata": {
        "id": "oCCI_mSt8jCS",
        "colab_type": "code",
        "outputId": "69ff8783-e8fe-4509-b8cd-ca7e1e9fe967",
        "colab": {
          "base_uri": "https://localhost:8080/",
          "height": 1000
        }
      },
      "source": [
        "#replace NA with 0\n",
        "covid_continent[is.na(covid_continent)] <- 0\n",
        "covid_continent"
      ],
      "execution_count": 4,
      "outputs": [
        {
          "output_type": "stream",
          "text": [
            "Warning message in `[<-.factor`(`*tmp*`, thisvar, value = 0):\n",
            "“invalid factor level, NA generated”\n"
          ],
          "name": "stderr"
        },
        {
          "output_type": "display_data",
          "data": {
            "text/plain": [
              "      dateRep    day month year cases deaths countriesAndTerritories geoId\n",
              "1     20/05/2020 20  5     2020  581   5     Afghanistan             AF   \n",
              "2     19/05/2020 19  5     2020  408   4     Afghanistan             AF   \n",
              "3     18/05/2020 18  5     2020  262   1     Afghanistan             AF   \n",
              "4     17/05/2020 17  5     2020    0   0     Afghanistan             AF   \n",
              "5     16/05/2020 16  5     2020 1063  32     Afghanistan             AF   \n",
              "6     15/05/2020 15  5     2020  113   6     Afghanistan             AF   \n",
              "7     14/05/2020 14  5     2020  259   3     Afghanistan             AF   \n",
              "8     13/05/2020 13  5     2020  280   5     Afghanistan             AF   \n",
              "9     12/05/2020 12  5     2020  285   2     Afghanistan             AF   \n",
              "10    11/05/2020 11  5     2020  369   5     Afghanistan             AF   \n",
              "11    10/05/2020 10  5     2020  255   6     Afghanistan             AF   \n",
              "12    09/05/2020  9  5     2020  215   3     Afghanistan             AF   \n",
              "13    08/05/2020  8  5     2020  171   2     Afghanistan             AF   \n",
              "14    07/05/2020  7  5     2020  168   9     Afghanistan             AF   \n",
              "15    06/05/2020  6  5     2020  330   5     Afghanistan             AF   \n",
              "16    05/05/2020  5  5     2020  190   5     Afghanistan             AF   \n",
              "17    04/05/2020  4  5     2020  235  13     Afghanistan             AF   \n",
              "18    03/05/2020  3  5     2020  134   4     Afghanistan             AF   \n",
              "19    02/05/2020  2  5     2020  164   4     Afghanistan             AF   \n",
              "20    01/05/2020  1  5     2020  222   4     Afghanistan             AF   \n",
              "21    30/04/2020 30  4     2020  122   0     Afghanistan             AF   \n",
              "22    29/04/2020 29  4     2020  124   3     Afghanistan             AF   \n",
              "23    28/04/2020 28  4     2020  172   0     Afghanistan             AF   \n",
              "24    27/04/2020 27  4     2020   68  10     Afghanistan             AF   \n",
              "25    26/04/2020 26  4     2020  112   4     Afghanistan             AF   \n",
              "26    25/04/2020 25  4     2020   70   1     Afghanistan             AF   \n",
              "27    24/04/2020 24  4     2020  105   2     Afghanistan             AF   \n",
              "28    23/04/2020 23  4     2020   84   4     Afghanistan             AF   \n",
              "29    22/04/2020 22  4     2020   61   1     Afghanistan             AF   \n",
              "30    21/04/2020 21  4     2020   35   2     Afghanistan             AF   \n",
              "⋮     ⋮          ⋮   ⋮     ⋮    ⋮     ⋮      ⋮                       ⋮    \n",
              "18110 19/04/2020 19  4     2020 1     0      Zimbabwe                ZW   \n",
              "18111 18/04/2020 18  4     2020 0     0      Zimbabwe                ZW   \n",
              "18112 17/04/2020 17  4     2020 1     0      Zimbabwe                ZW   \n",
              "18113 16/04/2020 16  4     2020 6     0      Zimbabwe                ZW   \n",
              "18114 15/04/2020 15  4     2020 0     0      Zimbabwe                ZW   \n",
              "18115 14/04/2020 14  4     2020 3     0      Zimbabwe                ZW   \n",
              "18116 13/04/2020 13  4     2020 0     0      Zimbabwe                ZW   \n",
              "18117 12/04/2020 12  4     2020 3     0      Zimbabwe                ZW   \n",
              "18118 11/04/2020 11  4     2020 0     0      Zimbabwe                ZW   \n",
              "18119 10/04/2020 10  4     2020 0     1      Zimbabwe                ZW   \n",
              "18120 09/04/2020  9  4     2020 1     1      Zimbabwe                ZW   \n",
              "18121 08/04/2020  8  4     2020 1     0      Zimbabwe                ZW   \n",
              "18122 07/04/2020  7  4     2020 0     0      Zimbabwe                ZW   \n",
              "18123 06/04/2020  6  4     2020 0     0      Zimbabwe                ZW   \n",
              "18124 05/04/2020  5  4     2020 0     0      Zimbabwe                ZW   \n",
              "18125 04/04/2020  4  4     2020 1     0      Zimbabwe                ZW   \n",
              "18126 03/04/2020  3  4     2020 0     0      Zimbabwe                ZW   \n",
              "18127 02/04/2020  2  4     2020 0     0      Zimbabwe                ZW   \n",
              "18128 01/04/2020  1  4     2020 1     0      Zimbabwe                ZW   \n",
              "18129 31/03/2020 31  3     2020 0     0      Zimbabwe                ZW   \n",
              "18130 30/03/2020 30  3     2020 0     0      Zimbabwe                ZW   \n",
              "18131 29/03/2020 29  3     2020 2     0      Zimbabwe                ZW   \n",
              "18132 28/03/2020 28  3     2020 2     0      Zimbabwe                ZW   \n",
              "18133 27/03/2020 27  3     2020 0     0      Zimbabwe                ZW   \n",
              "18134 26/03/2020 26  3     2020 1     0      Zimbabwe                ZW   \n",
              "18135 25/03/2020 25  3     2020 0     0      Zimbabwe                ZW   \n",
              "18136 24/03/2020 24  3     2020 0     1      Zimbabwe                ZW   \n",
              "18137 23/03/2020 23  3     2020 0     0      Zimbabwe                ZW   \n",
              "18138 22/03/2020 22  3     2020 1     0      Zimbabwe                ZW   \n",
              "18139 21/03/2020 21  3     2020 1     0      Zimbabwe                ZW   \n",
              "      countryterritoryCode popData2018 continentExp\n",
              "1     AFG                  37172386    Asia        \n",
              "2     AFG                  37172386    Asia        \n",
              "3     AFG                  37172386    Asia        \n",
              "4     AFG                  37172386    Asia        \n",
              "5     AFG                  37172386    Asia        \n",
              "6     AFG                  37172386    Asia        \n",
              "7     AFG                  37172386    Asia        \n",
              "8     AFG                  37172386    Asia        \n",
              "9     AFG                  37172386    Asia        \n",
              "10    AFG                  37172386    Asia        \n",
              "11    AFG                  37172386    Asia        \n",
              "12    AFG                  37172386    Asia        \n",
              "13    AFG                  37172386    Asia        \n",
              "14    AFG                  37172386    Asia        \n",
              "15    AFG                  37172386    Asia        \n",
              "16    AFG                  37172386    Asia        \n",
              "17    AFG                  37172386    Asia        \n",
              "18    AFG                  37172386    Asia        \n",
              "19    AFG                  37172386    Asia        \n",
              "20    AFG                  37172386    Asia        \n",
              "21    AFG                  37172386    Asia        \n",
              "22    AFG                  37172386    Asia        \n",
              "23    AFG                  37172386    Asia        \n",
              "24    AFG                  37172386    Asia        \n",
              "25    AFG                  37172386    Asia        \n",
              "26    AFG                  37172386    Asia        \n",
              "27    AFG                  37172386    Asia        \n",
              "28    AFG                  37172386    Asia        \n",
              "29    AFG                  37172386    Asia        \n",
              "30    AFG                  37172386    Asia        \n",
              "⋮     ⋮                    ⋮           ⋮           \n",
              "18110 ZWE                  14439018    Africa      \n",
              "18111 ZWE                  14439018    Africa      \n",
              "18112 ZWE                  14439018    Africa      \n",
              "18113 ZWE                  14439018    Africa      \n",
              "18114 ZWE                  14439018    Africa      \n",
              "18115 ZWE                  14439018    Africa      \n",
              "18116 ZWE                  14439018    Africa      \n",
              "18117 ZWE                  14439018    Africa      \n",
              "18118 ZWE                  14439018    Africa      \n",
              "18119 ZWE                  14439018    Africa      \n",
              "18120 ZWE                  14439018    Africa      \n",
              "18121 ZWE                  14439018    Africa      \n",
              "18122 ZWE                  14439018    Africa      \n",
              "18123 ZWE                  14439018    Africa      \n",
              "18124 ZWE                  14439018    Africa      \n",
              "18125 ZWE                  14439018    Africa      \n",
              "18126 ZWE                  14439018    Africa      \n",
              "18127 ZWE                  14439018    Africa      \n",
              "18128 ZWE                  14439018    Africa      \n",
              "18129 ZWE                  14439018    Africa      \n",
              "18130 ZWE                  14439018    Africa      \n",
              "18131 ZWE                  14439018    Africa      \n",
              "18132 ZWE                  14439018    Africa      \n",
              "18133 ZWE                  14439018    Africa      \n",
              "18134 ZWE                  14439018    Africa      \n",
              "18135 ZWE                  14439018    Africa      \n",
              "18136 ZWE                  14439018    Africa      \n",
              "18137 ZWE                  14439018    Africa      \n",
              "18138 ZWE                  14439018    Africa      \n",
              "18139 ZWE                  14439018    Africa      "
            ],
            "text/latex": "A data.frame: 18139 × 11\n\\begin{tabular}{lllllllllll}\n dateRep & day & month & year & cases & deaths & countriesAndTerritories & geoId & countryterritoryCode & popData2018 & continentExp\\\\\n <fct> & <int> & <int> & <int> & <int> & <int> & <fct> & <fct> & <fct> & <dbl> & <fct>\\\\\n\\hline\n\t 20/05/2020 & 20 & 5 & 2020 &  581 &  5 & Afghanistan & AF & AFG & 37172386 & Asia\\\\\n\t 19/05/2020 & 19 & 5 & 2020 &  408 &  4 & Afghanistan & AF & AFG & 37172386 & Asia\\\\\n\t 18/05/2020 & 18 & 5 & 2020 &  262 &  1 & Afghanistan & AF & AFG & 37172386 & Asia\\\\\n\t 17/05/2020 & 17 & 5 & 2020 &    0 &  0 & Afghanistan & AF & AFG & 37172386 & Asia\\\\\n\t 16/05/2020 & 16 & 5 & 2020 & 1063 & 32 & Afghanistan & AF & AFG & 37172386 & Asia\\\\\n\t 15/05/2020 & 15 & 5 & 2020 &  113 &  6 & Afghanistan & AF & AFG & 37172386 & Asia\\\\\n\t 14/05/2020 & 14 & 5 & 2020 &  259 &  3 & Afghanistan & AF & AFG & 37172386 & Asia\\\\\n\t 13/05/2020 & 13 & 5 & 2020 &  280 &  5 & Afghanistan & AF & AFG & 37172386 & Asia\\\\\n\t 12/05/2020 & 12 & 5 & 2020 &  285 &  2 & Afghanistan & AF & AFG & 37172386 & Asia\\\\\n\t 11/05/2020 & 11 & 5 & 2020 &  369 &  5 & Afghanistan & AF & AFG & 37172386 & Asia\\\\\n\t 10/05/2020 & 10 & 5 & 2020 &  255 &  6 & Afghanistan & AF & AFG & 37172386 & Asia\\\\\n\t 09/05/2020 &  9 & 5 & 2020 &  215 &  3 & Afghanistan & AF & AFG & 37172386 & Asia\\\\\n\t 08/05/2020 &  8 & 5 & 2020 &  171 &  2 & Afghanistan & AF & AFG & 37172386 & Asia\\\\\n\t 07/05/2020 &  7 & 5 & 2020 &  168 &  9 & Afghanistan & AF & AFG & 37172386 & Asia\\\\\n\t 06/05/2020 &  6 & 5 & 2020 &  330 &  5 & Afghanistan & AF & AFG & 37172386 & Asia\\\\\n\t 05/05/2020 &  5 & 5 & 2020 &  190 &  5 & Afghanistan & AF & AFG & 37172386 & Asia\\\\\n\t 04/05/2020 &  4 & 5 & 2020 &  235 & 13 & Afghanistan & AF & AFG & 37172386 & Asia\\\\\n\t 03/05/2020 &  3 & 5 & 2020 &  134 &  4 & Afghanistan & AF & AFG & 37172386 & Asia\\\\\n\t 02/05/2020 &  2 & 5 & 2020 &  164 &  4 & Afghanistan & AF & AFG & 37172386 & Asia\\\\\n\t 01/05/2020 &  1 & 5 & 2020 &  222 &  4 & Afghanistan & AF & AFG & 37172386 & Asia\\\\\n\t 30/04/2020 & 30 & 4 & 2020 &  122 &  0 & Afghanistan & AF & AFG & 37172386 & Asia\\\\\n\t 29/04/2020 & 29 & 4 & 2020 &  124 &  3 & Afghanistan & AF & AFG & 37172386 & Asia\\\\\n\t 28/04/2020 & 28 & 4 & 2020 &  172 &  0 & Afghanistan & AF & AFG & 37172386 & Asia\\\\\n\t 27/04/2020 & 27 & 4 & 2020 &   68 & 10 & Afghanistan & AF & AFG & 37172386 & Asia\\\\\n\t 26/04/2020 & 26 & 4 & 2020 &  112 &  4 & Afghanistan & AF & AFG & 37172386 & Asia\\\\\n\t 25/04/2020 & 25 & 4 & 2020 &   70 &  1 & Afghanistan & AF & AFG & 37172386 & Asia\\\\\n\t 24/04/2020 & 24 & 4 & 2020 &  105 &  2 & Afghanistan & AF & AFG & 37172386 & Asia\\\\\n\t 23/04/2020 & 23 & 4 & 2020 &   84 &  4 & Afghanistan & AF & AFG & 37172386 & Asia\\\\\n\t 22/04/2020 & 22 & 4 & 2020 &   61 &  1 & Afghanistan & AF & AFG & 37172386 & Asia\\\\\n\t 21/04/2020 & 21 & 4 & 2020 &   35 &  2 & Afghanistan & AF & AFG & 37172386 & Asia\\\\\n\t ⋮ & ⋮ & ⋮ & ⋮ & ⋮ & ⋮ & ⋮ & ⋮ & ⋮ & ⋮ & ⋮\\\\\n\t 19/04/2020 & 19 & 4 & 2020 & 1 & 0 & Zimbabwe & ZW & ZWE & 14439018 & Africa\\\\\n\t 18/04/2020 & 18 & 4 & 2020 & 0 & 0 & Zimbabwe & ZW & ZWE & 14439018 & Africa\\\\\n\t 17/04/2020 & 17 & 4 & 2020 & 1 & 0 & Zimbabwe & ZW & ZWE & 14439018 & Africa\\\\\n\t 16/04/2020 & 16 & 4 & 2020 & 6 & 0 & Zimbabwe & ZW & ZWE & 14439018 & Africa\\\\\n\t 15/04/2020 & 15 & 4 & 2020 & 0 & 0 & Zimbabwe & ZW & ZWE & 14439018 & Africa\\\\\n\t 14/04/2020 & 14 & 4 & 2020 & 3 & 0 & Zimbabwe & ZW & ZWE & 14439018 & Africa\\\\\n\t 13/04/2020 & 13 & 4 & 2020 & 0 & 0 & Zimbabwe & ZW & ZWE & 14439018 & Africa\\\\\n\t 12/04/2020 & 12 & 4 & 2020 & 3 & 0 & Zimbabwe & ZW & ZWE & 14439018 & Africa\\\\\n\t 11/04/2020 & 11 & 4 & 2020 & 0 & 0 & Zimbabwe & ZW & ZWE & 14439018 & Africa\\\\\n\t 10/04/2020 & 10 & 4 & 2020 & 0 & 1 & Zimbabwe & ZW & ZWE & 14439018 & Africa\\\\\n\t 09/04/2020 &  9 & 4 & 2020 & 1 & 1 & Zimbabwe & ZW & ZWE & 14439018 & Africa\\\\\n\t 08/04/2020 &  8 & 4 & 2020 & 1 & 0 & Zimbabwe & ZW & ZWE & 14439018 & Africa\\\\\n\t 07/04/2020 &  7 & 4 & 2020 & 0 & 0 & Zimbabwe & ZW & ZWE & 14439018 & Africa\\\\\n\t 06/04/2020 &  6 & 4 & 2020 & 0 & 0 & Zimbabwe & ZW & ZWE & 14439018 & Africa\\\\\n\t 05/04/2020 &  5 & 4 & 2020 & 0 & 0 & Zimbabwe & ZW & ZWE & 14439018 & Africa\\\\\n\t 04/04/2020 &  4 & 4 & 2020 & 1 & 0 & Zimbabwe & ZW & ZWE & 14439018 & Africa\\\\\n\t 03/04/2020 &  3 & 4 & 2020 & 0 & 0 & Zimbabwe & ZW & ZWE & 14439018 & Africa\\\\\n\t 02/04/2020 &  2 & 4 & 2020 & 0 & 0 & Zimbabwe & ZW & ZWE & 14439018 & Africa\\\\\n\t 01/04/2020 &  1 & 4 & 2020 & 1 & 0 & Zimbabwe & ZW & ZWE & 14439018 & Africa\\\\\n\t 31/03/2020 & 31 & 3 & 2020 & 0 & 0 & Zimbabwe & ZW & ZWE & 14439018 & Africa\\\\\n\t 30/03/2020 & 30 & 3 & 2020 & 0 & 0 & Zimbabwe & ZW & ZWE & 14439018 & Africa\\\\\n\t 29/03/2020 & 29 & 3 & 2020 & 2 & 0 & Zimbabwe & ZW & ZWE & 14439018 & Africa\\\\\n\t 28/03/2020 & 28 & 3 & 2020 & 2 & 0 & Zimbabwe & ZW & ZWE & 14439018 & Africa\\\\\n\t 27/03/2020 & 27 & 3 & 2020 & 0 & 0 & Zimbabwe & ZW & ZWE & 14439018 & Africa\\\\\n\t 26/03/2020 & 26 & 3 & 2020 & 1 & 0 & Zimbabwe & ZW & ZWE & 14439018 & Africa\\\\\n\t 25/03/2020 & 25 & 3 & 2020 & 0 & 0 & Zimbabwe & ZW & ZWE & 14439018 & Africa\\\\\n\t 24/03/2020 & 24 & 3 & 2020 & 0 & 1 & Zimbabwe & ZW & ZWE & 14439018 & Africa\\\\\n\t 23/03/2020 & 23 & 3 & 2020 & 0 & 0 & Zimbabwe & ZW & ZWE & 14439018 & Africa\\\\\n\t 22/03/2020 & 22 & 3 & 2020 & 1 & 0 & Zimbabwe & ZW & ZWE & 14439018 & Africa\\\\\n\t 21/03/2020 & 21 & 3 & 2020 & 1 & 0 & Zimbabwe & ZW & ZWE & 14439018 & Africa\\\\\n\\end{tabular}\n",
            "text/markdown": "\nA data.frame: 18139 × 11\n\n| dateRep &lt;fct&gt; | day &lt;int&gt; | month &lt;int&gt; | year &lt;int&gt; | cases &lt;int&gt; | deaths &lt;int&gt; | countriesAndTerritories &lt;fct&gt; | geoId &lt;fct&gt; | countryterritoryCode &lt;fct&gt; | popData2018 &lt;dbl&gt; | continentExp &lt;fct&gt; |\n|---|---|---|---|---|---|---|---|---|---|---|\n| 20/05/2020 | 20 | 5 | 2020 |  581 |  5 | Afghanistan | AF | AFG | 37172386 | Asia |\n| 19/05/2020 | 19 | 5 | 2020 |  408 |  4 | Afghanistan | AF | AFG | 37172386 | Asia |\n| 18/05/2020 | 18 | 5 | 2020 |  262 |  1 | Afghanistan | AF | AFG | 37172386 | Asia |\n| 17/05/2020 | 17 | 5 | 2020 |    0 |  0 | Afghanistan | AF | AFG | 37172386 | Asia |\n| 16/05/2020 | 16 | 5 | 2020 | 1063 | 32 | Afghanistan | AF | AFG | 37172386 | Asia |\n| 15/05/2020 | 15 | 5 | 2020 |  113 |  6 | Afghanistan | AF | AFG | 37172386 | Asia |\n| 14/05/2020 | 14 | 5 | 2020 |  259 |  3 | Afghanistan | AF | AFG | 37172386 | Asia |\n| 13/05/2020 | 13 | 5 | 2020 |  280 |  5 | Afghanistan | AF | AFG | 37172386 | Asia |\n| 12/05/2020 | 12 | 5 | 2020 |  285 |  2 | Afghanistan | AF | AFG | 37172386 | Asia |\n| 11/05/2020 | 11 | 5 | 2020 |  369 |  5 | Afghanistan | AF | AFG | 37172386 | Asia |\n| 10/05/2020 | 10 | 5 | 2020 |  255 |  6 | Afghanistan | AF | AFG | 37172386 | Asia |\n| 09/05/2020 |  9 | 5 | 2020 |  215 |  3 | Afghanistan | AF | AFG | 37172386 | Asia |\n| 08/05/2020 |  8 | 5 | 2020 |  171 |  2 | Afghanistan | AF | AFG | 37172386 | Asia |\n| 07/05/2020 |  7 | 5 | 2020 |  168 |  9 | Afghanistan | AF | AFG | 37172386 | Asia |\n| 06/05/2020 |  6 | 5 | 2020 |  330 |  5 | Afghanistan | AF | AFG | 37172386 | Asia |\n| 05/05/2020 |  5 | 5 | 2020 |  190 |  5 | Afghanistan | AF | AFG | 37172386 | Asia |\n| 04/05/2020 |  4 | 5 | 2020 |  235 | 13 | Afghanistan | AF | AFG | 37172386 | Asia |\n| 03/05/2020 |  3 | 5 | 2020 |  134 |  4 | Afghanistan | AF | AFG | 37172386 | Asia |\n| 02/05/2020 |  2 | 5 | 2020 |  164 |  4 | Afghanistan | AF | AFG | 37172386 | Asia |\n| 01/05/2020 |  1 | 5 | 2020 |  222 |  4 | Afghanistan | AF | AFG | 37172386 | Asia |\n| 30/04/2020 | 30 | 4 | 2020 |  122 |  0 | Afghanistan | AF | AFG | 37172386 | Asia |\n| 29/04/2020 | 29 | 4 | 2020 |  124 |  3 | Afghanistan | AF | AFG | 37172386 | Asia |\n| 28/04/2020 | 28 | 4 | 2020 |  172 |  0 | Afghanistan | AF | AFG | 37172386 | Asia |\n| 27/04/2020 | 27 | 4 | 2020 |   68 | 10 | Afghanistan | AF | AFG | 37172386 | Asia |\n| 26/04/2020 | 26 | 4 | 2020 |  112 |  4 | Afghanistan | AF | AFG | 37172386 | Asia |\n| 25/04/2020 | 25 | 4 | 2020 |   70 |  1 | Afghanistan | AF | AFG | 37172386 | Asia |\n| 24/04/2020 | 24 | 4 | 2020 |  105 |  2 | Afghanistan | AF | AFG | 37172386 | Asia |\n| 23/04/2020 | 23 | 4 | 2020 |   84 |  4 | Afghanistan | AF | AFG | 37172386 | Asia |\n| 22/04/2020 | 22 | 4 | 2020 |   61 |  1 | Afghanistan | AF | AFG | 37172386 | Asia |\n| 21/04/2020 | 21 | 4 | 2020 |   35 |  2 | Afghanistan | AF | AFG | 37172386 | Asia |\n| ⋮ | ⋮ | ⋮ | ⋮ | ⋮ | ⋮ | ⋮ | ⋮ | ⋮ | ⋮ | ⋮ |\n| 19/04/2020 | 19 | 4 | 2020 | 1 | 0 | Zimbabwe | ZW | ZWE | 14439018 | Africa |\n| 18/04/2020 | 18 | 4 | 2020 | 0 | 0 | Zimbabwe | ZW | ZWE | 14439018 | Africa |\n| 17/04/2020 | 17 | 4 | 2020 | 1 | 0 | Zimbabwe | ZW | ZWE | 14439018 | Africa |\n| 16/04/2020 | 16 | 4 | 2020 | 6 | 0 | Zimbabwe | ZW | ZWE | 14439018 | Africa |\n| 15/04/2020 | 15 | 4 | 2020 | 0 | 0 | Zimbabwe | ZW | ZWE | 14439018 | Africa |\n| 14/04/2020 | 14 | 4 | 2020 | 3 | 0 | Zimbabwe | ZW | ZWE | 14439018 | Africa |\n| 13/04/2020 | 13 | 4 | 2020 | 0 | 0 | Zimbabwe | ZW | ZWE | 14439018 | Africa |\n| 12/04/2020 | 12 | 4 | 2020 | 3 | 0 | Zimbabwe | ZW | ZWE | 14439018 | Africa |\n| 11/04/2020 | 11 | 4 | 2020 | 0 | 0 | Zimbabwe | ZW | ZWE | 14439018 | Africa |\n| 10/04/2020 | 10 | 4 | 2020 | 0 | 1 | Zimbabwe | ZW | ZWE | 14439018 | Africa |\n| 09/04/2020 |  9 | 4 | 2020 | 1 | 1 | Zimbabwe | ZW | ZWE | 14439018 | Africa |\n| 08/04/2020 |  8 | 4 | 2020 | 1 | 0 | Zimbabwe | ZW | ZWE | 14439018 | Africa |\n| 07/04/2020 |  7 | 4 | 2020 | 0 | 0 | Zimbabwe | ZW | ZWE | 14439018 | Africa |\n| 06/04/2020 |  6 | 4 | 2020 | 0 | 0 | Zimbabwe | ZW | ZWE | 14439018 | Africa |\n| 05/04/2020 |  5 | 4 | 2020 | 0 | 0 | Zimbabwe | ZW | ZWE | 14439018 | Africa |\n| 04/04/2020 |  4 | 4 | 2020 | 1 | 0 | Zimbabwe | ZW | ZWE | 14439018 | Africa |\n| 03/04/2020 |  3 | 4 | 2020 | 0 | 0 | Zimbabwe | ZW | ZWE | 14439018 | Africa |\n| 02/04/2020 |  2 | 4 | 2020 | 0 | 0 | Zimbabwe | ZW | ZWE | 14439018 | Africa |\n| 01/04/2020 |  1 | 4 | 2020 | 1 | 0 | Zimbabwe | ZW | ZWE | 14439018 | Africa |\n| 31/03/2020 | 31 | 3 | 2020 | 0 | 0 | Zimbabwe | ZW | ZWE | 14439018 | Africa |\n| 30/03/2020 | 30 | 3 | 2020 | 0 | 0 | Zimbabwe | ZW | ZWE | 14439018 | Africa |\n| 29/03/2020 | 29 | 3 | 2020 | 2 | 0 | Zimbabwe | ZW | ZWE | 14439018 | Africa |\n| 28/03/2020 | 28 | 3 | 2020 | 2 | 0 | Zimbabwe | ZW | ZWE | 14439018 | Africa |\n| 27/03/2020 | 27 | 3 | 2020 | 0 | 0 | Zimbabwe | ZW | ZWE | 14439018 | Africa |\n| 26/03/2020 | 26 | 3 | 2020 | 1 | 0 | Zimbabwe | ZW | ZWE | 14439018 | Africa |\n| 25/03/2020 | 25 | 3 | 2020 | 0 | 0 | Zimbabwe | ZW | ZWE | 14439018 | Africa |\n| 24/03/2020 | 24 | 3 | 2020 | 0 | 1 | Zimbabwe | ZW | ZWE | 14439018 | Africa |\n| 23/03/2020 | 23 | 3 | 2020 | 0 | 0 | Zimbabwe | ZW | ZWE | 14439018 | Africa |\n| 22/03/2020 | 22 | 3 | 2020 | 1 | 0 | Zimbabwe | ZW | ZWE | 14439018 | Africa |\n| 21/03/2020 | 21 | 3 | 2020 | 1 | 0 | Zimbabwe | ZW | ZWE | 14439018 | Africa |\n\n",
            "text/html": [
              "<table>\n",
              "<caption>A data.frame: 18139 × 11</caption>\n",
              "<thead>\n",
              "\t<tr><th scope=col>dateRep</th><th scope=col>day</th><th scope=col>month</th><th scope=col>year</th><th scope=col>cases</th><th scope=col>deaths</th><th scope=col>countriesAndTerritories</th><th scope=col>geoId</th><th scope=col>countryterritoryCode</th><th scope=col>popData2018</th><th scope=col>continentExp</th></tr>\n",
              "\t<tr><th scope=col>&lt;fct&gt;</th><th scope=col>&lt;int&gt;</th><th scope=col>&lt;int&gt;</th><th scope=col>&lt;int&gt;</th><th scope=col>&lt;int&gt;</th><th scope=col>&lt;int&gt;</th><th scope=col>&lt;fct&gt;</th><th scope=col>&lt;fct&gt;</th><th scope=col>&lt;fct&gt;</th><th scope=col>&lt;dbl&gt;</th><th scope=col>&lt;fct&gt;</th></tr>\n",
              "</thead>\n",
              "<tbody>\n",
              "\t<tr><td>20/05/2020</td><td>20</td><td>5</td><td>2020</td><td> 581</td><td> 5</td><td>Afghanistan</td><td>AF</td><td>AFG</td><td>37172386</td><td>Asia</td></tr>\n",
              "\t<tr><td>19/05/2020</td><td>19</td><td>5</td><td>2020</td><td> 408</td><td> 4</td><td>Afghanistan</td><td>AF</td><td>AFG</td><td>37172386</td><td>Asia</td></tr>\n",
              "\t<tr><td>18/05/2020</td><td>18</td><td>5</td><td>2020</td><td> 262</td><td> 1</td><td>Afghanistan</td><td>AF</td><td>AFG</td><td>37172386</td><td>Asia</td></tr>\n",
              "\t<tr><td>17/05/2020</td><td>17</td><td>5</td><td>2020</td><td>   0</td><td> 0</td><td>Afghanistan</td><td>AF</td><td>AFG</td><td>37172386</td><td>Asia</td></tr>\n",
              "\t<tr><td>16/05/2020</td><td>16</td><td>5</td><td>2020</td><td>1063</td><td>32</td><td>Afghanistan</td><td>AF</td><td>AFG</td><td>37172386</td><td>Asia</td></tr>\n",
              "\t<tr><td>15/05/2020</td><td>15</td><td>5</td><td>2020</td><td> 113</td><td> 6</td><td>Afghanistan</td><td>AF</td><td>AFG</td><td>37172386</td><td>Asia</td></tr>\n",
              "\t<tr><td>14/05/2020</td><td>14</td><td>5</td><td>2020</td><td> 259</td><td> 3</td><td>Afghanistan</td><td>AF</td><td>AFG</td><td>37172386</td><td>Asia</td></tr>\n",
              "\t<tr><td>13/05/2020</td><td>13</td><td>5</td><td>2020</td><td> 280</td><td> 5</td><td>Afghanistan</td><td>AF</td><td>AFG</td><td>37172386</td><td>Asia</td></tr>\n",
              "\t<tr><td>12/05/2020</td><td>12</td><td>5</td><td>2020</td><td> 285</td><td> 2</td><td>Afghanistan</td><td>AF</td><td>AFG</td><td>37172386</td><td>Asia</td></tr>\n",
              "\t<tr><td>11/05/2020</td><td>11</td><td>5</td><td>2020</td><td> 369</td><td> 5</td><td>Afghanistan</td><td>AF</td><td>AFG</td><td>37172386</td><td>Asia</td></tr>\n",
              "\t<tr><td>10/05/2020</td><td>10</td><td>5</td><td>2020</td><td> 255</td><td> 6</td><td>Afghanistan</td><td>AF</td><td>AFG</td><td>37172386</td><td>Asia</td></tr>\n",
              "\t<tr><td>09/05/2020</td><td> 9</td><td>5</td><td>2020</td><td> 215</td><td> 3</td><td>Afghanistan</td><td>AF</td><td>AFG</td><td>37172386</td><td>Asia</td></tr>\n",
              "\t<tr><td>08/05/2020</td><td> 8</td><td>5</td><td>2020</td><td> 171</td><td> 2</td><td>Afghanistan</td><td>AF</td><td>AFG</td><td>37172386</td><td>Asia</td></tr>\n",
              "\t<tr><td>07/05/2020</td><td> 7</td><td>5</td><td>2020</td><td> 168</td><td> 9</td><td>Afghanistan</td><td>AF</td><td>AFG</td><td>37172386</td><td>Asia</td></tr>\n",
              "\t<tr><td>06/05/2020</td><td> 6</td><td>5</td><td>2020</td><td> 330</td><td> 5</td><td>Afghanistan</td><td>AF</td><td>AFG</td><td>37172386</td><td>Asia</td></tr>\n",
              "\t<tr><td>05/05/2020</td><td> 5</td><td>5</td><td>2020</td><td> 190</td><td> 5</td><td>Afghanistan</td><td>AF</td><td>AFG</td><td>37172386</td><td>Asia</td></tr>\n",
              "\t<tr><td>04/05/2020</td><td> 4</td><td>5</td><td>2020</td><td> 235</td><td>13</td><td>Afghanistan</td><td>AF</td><td>AFG</td><td>37172386</td><td>Asia</td></tr>\n",
              "\t<tr><td>03/05/2020</td><td> 3</td><td>5</td><td>2020</td><td> 134</td><td> 4</td><td>Afghanistan</td><td>AF</td><td>AFG</td><td>37172386</td><td>Asia</td></tr>\n",
              "\t<tr><td>02/05/2020</td><td> 2</td><td>5</td><td>2020</td><td> 164</td><td> 4</td><td>Afghanistan</td><td>AF</td><td>AFG</td><td>37172386</td><td>Asia</td></tr>\n",
              "\t<tr><td>01/05/2020</td><td> 1</td><td>5</td><td>2020</td><td> 222</td><td> 4</td><td>Afghanistan</td><td>AF</td><td>AFG</td><td>37172386</td><td>Asia</td></tr>\n",
              "\t<tr><td>30/04/2020</td><td>30</td><td>4</td><td>2020</td><td> 122</td><td> 0</td><td>Afghanistan</td><td>AF</td><td>AFG</td><td>37172386</td><td>Asia</td></tr>\n",
              "\t<tr><td>29/04/2020</td><td>29</td><td>4</td><td>2020</td><td> 124</td><td> 3</td><td>Afghanistan</td><td>AF</td><td>AFG</td><td>37172386</td><td>Asia</td></tr>\n",
              "\t<tr><td>28/04/2020</td><td>28</td><td>4</td><td>2020</td><td> 172</td><td> 0</td><td>Afghanistan</td><td>AF</td><td>AFG</td><td>37172386</td><td>Asia</td></tr>\n",
              "\t<tr><td>27/04/2020</td><td>27</td><td>4</td><td>2020</td><td>  68</td><td>10</td><td>Afghanistan</td><td>AF</td><td>AFG</td><td>37172386</td><td>Asia</td></tr>\n",
              "\t<tr><td>26/04/2020</td><td>26</td><td>4</td><td>2020</td><td> 112</td><td> 4</td><td>Afghanistan</td><td>AF</td><td>AFG</td><td>37172386</td><td>Asia</td></tr>\n",
              "\t<tr><td>25/04/2020</td><td>25</td><td>4</td><td>2020</td><td>  70</td><td> 1</td><td>Afghanistan</td><td>AF</td><td>AFG</td><td>37172386</td><td>Asia</td></tr>\n",
              "\t<tr><td>24/04/2020</td><td>24</td><td>4</td><td>2020</td><td> 105</td><td> 2</td><td>Afghanistan</td><td>AF</td><td>AFG</td><td>37172386</td><td>Asia</td></tr>\n",
              "\t<tr><td>23/04/2020</td><td>23</td><td>4</td><td>2020</td><td>  84</td><td> 4</td><td>Afghanistan</td><td>AF</td><td>AFG</td><td>37172386</td><td>Asia</td></tr>\n",
              "\t<tr><td>22/04/2020</td><td>22</td><td>4</td><td>2020</td><td>  61</td><td> 1</td><td>Afghanistan</td><td>AF</td><td>AFG</td><td>37172386</td><td>Asia</td></tr>\n",
              "\t<tr><td>21/04/2020</td><td>21</td><td>4</td><td>2020</td><td>  35</td><td> 2</td><td>Afghanistan</td><td>AF</td><td>AFG</td><td>37172386</td><td>Asia</td></tr>\n",
              "\t<tr><td>⋮</td><td>⋮</td><td>⋮</td><td>⋮</td><td>⋮</td><td>⋮</td><td>⋮</td><td>⋮</td><td>⋮</td><td>⋮</td><td>⋮</td></tr>\n",
              "\t<tr><td>19/04/2020</td><td>19</td><td>4</td><td>2020</td><td>1</td><td>0</td><td>Zimbabwe</td><td>ZW</td><td>ZWE</td><td>14439018</td><td>Africa</td></tr>\n",
              "\t<tr><td>18/04/2020</td><td>18</td><td>4</td><td>2020</td><td>0</td><td>0</td><td>Zimbabwe</td><td>ZW</td><td>ZWE</td><td>14439018</td><td>Africa</td></tr>\n",
              "\t<tr><td>17/04/2020</td><td>17</td><td>4</td><td>2020</td><td>1</td><td>0</td><td>Zimbabwe</td><td>ZW</td><td>ZWE</td><td>14439018</td><td>Africa</td></tr>\n",
              "\t<tr><td>16/04/2020</td><td>16</td><td>4</td><td>2020</td><td>6</td><td>0</td><td>Zimbabwe</td><td>ZW</td><td>ZWE</td><td>14439018</td><td>Africa</td></tr>\n",
              "\t<tr><td>15/04/2020</td><td>15</td><td>4</td><td>2020</td><td>0</td><td>0</td><td>Zimbabwe</td><td>ZW</td><td>ZWE</td><td>14439018</td><td>Africa</td></tr>\n",
              "\t<tr><td>14/04/2020</td><td>14</td><td>4</td><td>2020</td><td>3</td><td>0</td><td>Zimbabwe</td><td>ZW</td><td>ZWE</td><td>14439018</td><td>Africa</td></tr>\n",
              "\t<tr><td>13/04/2020</td><td>13</td><td>4</td><td>2020</td><td>0</td><td>0</td><td>Zimbabwe</td><td>ZW</td><td>ZWE</td><td>14439018</td><td>Africa</td></tr>\n",
              "\t<tr><td>12/04/2020</td><td>12</td><td>4</td><td>2020</td><td>3</td><td>0</td><td>Zimbabwe</td><td>ZW</td><td>ZWE</td><td>14439018</td><td>Africa</td></tr>\n",
              "\t<tr><td>11/04/2020</td><td>11</td><td>4</td><td>2020</td><td>0</td><td>0</td><td>Zimbabwe</td><td>ZW</td><td>ZWE</td><td>14439018</td><td>Africa</td></tr>\n",
              "\t<tr><td>10/04/2020</td><td>10</td><td>4</td><td>2020</td><td>0</td><td>1</td><td>Zimbabwe</td><td>ZW</td><td>ZWE</td><td>14439018</td><td>Africa</td></tr>\n",
              "\t<tr><td>09/04/2020</td><td> 9</td><td>4</td><td>2020</td><td>1</td><td>1</td><td>Zimbabwe</td><td>ZW</td><td>ZWE</td><td>14439018</td><td>Africa</td></tr>\n",
              "\t<tr><td>08/04/2020</td><td> 8</td><td>4</td><td>2020</td><td>1</td><td>0</td><td>Zimbabwe</td><td>ZW</td><td>ZWE</td><td>14439018</td><td>Africa</td></tr>\n",
              "\t<tr><td>07/04/2020</td><td> 7</td><td>4</td><td>2020</td><td>0</td><td>0</td><td>Zimbabwe</td><td>ZW</td><td>ZWE</td><td>14439018</td><td>Africa</td></tr>\n",
              "\t<tr><td>06/04/2020</td><td> 6</td><td>4</td><td>2020</td><td>0</td><td>0</td><td>Zimbabwe</td><td>ZW</td><td>ZWE</td><td>14439018</td><td>Africa</td></tr>\n",
              "\t<tr><td>05/04/2020</td><td> 5</td><td>4</td><td>2020</td><td>0</td><td>0</td><td>Zimbabwe</td><td>ZW</td><td>ZWE</td><td>14439018</td><td>Africa</td></tr>\n",
              "\t<tr><td>04/04/2020</td><td> 4</td><td>4</td><td>2020</td><td>1</td><td>0</td><td>Zimbabwe</td><td>ZW</td><td>ZWE</td><td>14439018</td><td>Africa</td></tr>\n",
              "\t<tr><td>03/04/2020</td><td> 3</td><td>4</td><td>2020</td><td>0</td><td>0</td><td>Zimbabwe</td><td>ZW</td><td>ZWE</td><td>14439018</td><td>Africa</td></tr>\n",
              "\t<tr><td>02/04/2020</td><td> 2</td><td>4</td><td>2020</td><td>0</td><td>0</td><td>Zimbabwe</td><td>ZW</td><td>ZWE</td><td>14439018</td><td>Africa</td></tr>\n",
              "\t<tr><td>01/04/2020</td><td> 1</td><td>4</td><td>2020</td><td>1</td><td>0</td><td>Zimbabwe</td><td>ZW</td><td>ZWE</td><td>14439018</td><td>Africa</td></tr>\n",
              "\t<tr><td>31/03/2020</td><td>31</td><td>3</td><td>2020</td><td>0</td><td>0</td><td>Zimbabwe</td><td>ZW</td><td>ZWE</td><td>14439018</td><td>Africa</td></tr>\n",
              "\t<tr><td>30/03/2020</td><td>30</td><td>3</td><td>2020</td><td>0</td><td>0</td><td>Zimbabwe</td><td>ZW</td><td>ZWE</td><td>14439018</td><td>Africa</td></tr>\n",
              "\t<tr><td>29/03/2020</td><td>29</td><td>3</td><td>2020</td><td>2</td><td>0</td><td>Zimbabwe</td><td>ZW</td><td>ZWE</td><td>14439018</td><td>Africa</td></tr>\n",
              "\t<tr><td>28/03/2020</td><td>28</td><td>3</td><td>2020</td><td>2</td><td>0</td><td>Zimbabwe</td><td>ZW</td><td>ZWE</td><td>14439018</td><td>Africa</td></tr>\n",
              "\t<tr><td>27/03/2020</td><td>27</td><td>3</td><td>2020</td><td>0</td><td>0</td><td>Zimbabwe</td><td>ZW</td><td>ZWE</td><td>14439018</td><td>Africa</td></tr>\n",
              "\t<tr><td>26/03/2020</td><td>26</td><td>3</td><td>2020</td><td>1</td><td>0</td><td>Zimbabwe</td><td>ZW</td><td>ZWE</td><td>14439018</td><td>Africa</td></tr>\n",
              "\t<tr><td>25/03/2020</td><td>25</td><td>3</td><td>2020</td><td>0</td><td>0</td><td>Zimbabwe</td><td>ZW</td><td>ZWE</td><td>14439018</td><td>Africa</td></tr>\n",
              "\t<tr><td>24/03/2020</td><td>24</td><td>3</td><td>2020</td><td>0</td><td>1</td><td>Zimbabwe</td><td>ZW</td><td>ZWE</td><td>14439018</td><td>Africa</td></tr>\n",
              "\t<tr><td>23/03/2020</td><td>23</td><td>3</td><td>2020</td><td>0</td><td>0</td><td>Zimbabwe</td><td>ZW</td><td>ZWE</td><td>14439018</td><td>Africa</td></tr>\n",
              "\t<tr><td>22/03/2020</td><td>22</td><td>3</td><td>2020</td><td>1</td><td>0</td><td>Zimbabwe</td><td>ZW</td><td>ZWE</td><td>14439018</td><td>Africa</td></tr>\n",
              "\t<tr><td>21/03/2020</td><td>21</td><td>3</td><td>2020</td><td>1</td><td>0</td><td>Zimbabwe</td><td>ZW</td><td>ZWE</td><td>14439018</td><td>Africa</td></tr>\n",
              "</tbody>\n",
              "</table>\n"
            ]
          },
          "metadata": {
            "tags": []
          }
        }
      ]
    },
    {
      "cell_type": "code",
      "metadata": {
        "id": "hZRpAZE55q0M",
        "colab_type": "code",
        "outputId": "58ece392-b796-423c-bbfe-ed1a8b6bb406",
        "colab": {
          "base_uri": "https://localhost:8080/",
          "height": 179
        }
      },
      "source": [
        "#new column for continentPop\n",
        "covid_continent %>%\n",
        "distinct(popData2018, continentExp) %>%\n",
        "group_by(continentExp) %>%\n",
        "summarize(contpop = sum(popData2018)) -> covid_cont_pop\n",
        "covid_cont_pop"
      ],
      "execution_count": 5,
      "outputs": [
        {
          "output_type": "display_data",
          "data": {
            "text/plain": [
              "  continentExp contpop   \n",
              "1 Africa       1270968396\n",
              "2 America      1005667059\n",
              "3 Asia         4468915667\n",
              "4 Europe        764402254\n",
              "5 Oceania        40152057"
            ],
            "text/latex": "A tibble: 5 × 2\n\\begin{tabular}{ll}\n continentExp & contpop\\\\\n <fct> & <dbl>\\\\\n\\hline\n\t Africa  & 1270968396\\\\\n\t America & 1005667059\\\\\n\t Asia    & 4468915667\\\\\n\t Europe  &  764402254\\\\\n\t Oceania &   40152057\\\\\n\\end{tabular}\n",
            "text/markdown": "\nA tibble: 5 × 2\n\n| continentExp &lt;fct&gt; | contpop &lt;dbl&gt; |\n|---|---|\n| Africa  | 1270968396 |\n| America | 1005667059 |\n| Asia    | 4468915667 |\n| Europe  |  764402254 |\n| Oceania |   40152057 |\n\n",
            "text/html": [
              "<table>\n",
              "<caption>A tibble: 5 × 2</caption>\n",
              "<thead>\n",
              "\t<tr><th scope=col>continentExp</th><th scope=col>contpop</th></tr>\n",
              "\t<tr><th scope=col>&lt;fct&gt;</th><th scope=col>&lt;dbl&gt;</th></tr>\n",
              "</thead>\n",
              "<tbody>\n",
              "\t<tr><td>Africa </td><td>1270968396</td></tr>\n",
              "\t<tr><td>America</td><td>1005667059</td></tr>\n",
              "\t<tr><td>Asia   </td><td>4468915667</td></tr>\n",
              "\t<tr><td>Europe </td><td> 764402254</td></tr>\n",
              "\t<tr><td>Oceania</td><td>  40152057</td></tr>\n",
              "</tbody>\n",
              "</table>\n"
            ]
          },
          "metadata": {
            "tags": []
          }
        }
      ]
    },
    {
      "cell_type": "code",
      "metadata": {
        "id": "NLt6C-36GdBP",
        "colab_type": "code",
        "outputId": "a18db002-82b2-400f-e1f5-35504b510a86",
        "colab": {
          "base_uri": "https://localhost:8080/",
          "height": 690
        }
      },
      "source": [
        "covid_continent %>%\n",
        "group_by(month, year, continentExp) %>%\n",
        "summarise(monthly_cases = sum(cases)) -> covid_monthly_cases\n",
        "covid_monthly_cases"
      ],
      "execution_count": 6,
      "outputs": [
        {
          "output_type": "display_data",
          "data": {
            "text/plain": [
              "   month year continentExp monthly_cases\n",
              "1   1    2020 Africa             0      \n",
              "2   1    2020 America            9      \n",
              "3   1    2020 Asia            9766      \n",
              "4   1    2020 Europe            17      \n",
              "5   1    2020 Oceania            7      \n",
              "6   2    2020 Africa             3      \n",
              "7   2    2020 America           76      \n",
              "8   2    2020 Asia           73468      \n",
              "9   2    2020 Europe          1126      \n",
              "10  2    2020 Oceania           19      \n",
              "11  3    2020 Africa          5134      \n",
              "12  3    2020 America       188660      \n",
              "13  3    2020 Asia           85873      \n",
              "14  3    2020 Europe        426089      \n",
              "15  3    2020 Oceania         5298      \n",
              "16  4    2020 Africa         31598      \n",
              "17  4    2020 America      1104862      \n",
              "18  4    2020 Asia          333821      \n",
              "19  4    2020 Europe        863874      \n",
              "20  4    2020 Oceania         2812      \n",
              "21  5    2020 Africa         54630      \n",
              "22  5    2020 America       893300      \n",
              "23  5    2020 Asia          330482      \n",
              "24  5    2020 Europe        449445      \n",
              "25  5    2020 Oceania          364      \n",
              "26 12    2019 Africa             0      \n",
              "27 12    2019 America            0      \n",
              "28 12    2019 Asia              27      \n",
              "29 12    2019 Europe             0      \n",
              "30 12    2019 Oceania            0      "
            ],
            "text/latex": "A grouped\\_df: 30 × 4\n\\begin{tabular}{llll}\n month & year & continentExp & monthly\\_cases\\\\\n <int> & <int> & <fct> & <int>\\\\\n\\hline\n\t  1 & 2020 & Africa  &       0\\\\\n\t  1 & 2020 & America &       9\\\\\n\t  1 & 2020 & Asia    &    9766\\\\\n\t  1 & 2020 & Europe  &      17\\\\\n\t  1 & 2020 & Oceania &       7\\\\\n\t  2 & 2020 & Africa  &       3\\\\\n\t  2 & 2020 & America &      76\\\\\n\t  2 & 2020 & Asia    &   73468\\\\\n\t  2 & 2020 & Europe  &    1126\\\\\n\t  2 & 2020 & Oceania &      19\\\\\n\t  3 & 2020 & Africa  &    5134\\\\\n\t  3 & 2020 & America &  188660\\\\\n\t  3 & 2020 & Asia    &   85873\\\\\n\t  3 & 2020 & Europe  &  426089\\\\\n\t  3 & 2020 & Oceania &    5298\\\\\n\t  4 & 2020 & Africa  &   31598\\\\\n\t  4 & 2020 & America & 1104862\\\\\n\t  4 & 2020 & Asia    &  333821\\\\\n\t  4 & 2020 & Europe  &  863874\\\\\n\t  4 & 2020 & Oceania &    2812\\\\\n\t  5 & 2020 & Africa  &   54630\\\\\n\t  5 & 2020 & America &  893300\\\\\n\t  5 & 2020 & Asia    &  330482\\\\\n\t  5 & 2020 & Europe  &  449445\\\\\n\t  5 & 2020 & Oceania &     364\\\\\n\t 12 & 2019 & Africa  &       0\\\\\n\t 12 & 2019 & America &       0\\\\\n\t 12 & 2019 & Asia    &      27\\\\\n\t 12 & 2019 & Europe  &       0\\\\\n\t 12 & 2019 & Oceania &       0\\\\\n\\end{tabular}\n",
            "text/markdown": "\nA grouped_df: 30 × 4\n\n| month &lt;int&gt; | year &lt;int&gt; | continentExp &lt;fct&gt; | monthly_cases &lt;int&gt; |\n|---|---|---|---|\n|  1 | 2020 | Africa  |       0 |\n|  1 | 2020 | America |       9 |\n|  1 | 2020 | Asia    |    9766 |\n|  1 | 2020 | Europe  |      17 |\n|  1 | 2020 | Oceania |       7 |\n|  2 | 2020 | Africa  |       3 |\n|  2 | 2020 | America |      76 |\n|  2 | 2020 | Asia    |   73468 |\n|  2 | 2020 | Europe  |    1126 |\n|  2 | 2020 | Oceania |      19 |\n|  3 | 2020 | Africa  |    5134 |\n|  3 | 2020 | America |  188660 |\n|  3 | 2020 | Asia    |   85873 |\n|  3 | 2020 | Europe  |  426089 |\n|  3 | 2020 | Oceania |    5298 |\n|  4 | 2020 | Africa  |   31598 |\n|  4 | 2020 | America | 1104862 |\n|  4 | 2020 | Asia    |  333821 |\n|  4 | 2020 | Europe  |  863874 |\n|  4 | 2020 | Oceania |    2812 |\n|  5 | 2020 | Africa  |   54630 |\n|  5 | 2020 | America |  893300 |\n|  5 | 2020 | Asia    |  330482 |\n|  5 | 2020 | Europe  |  449445 |\n|  5 | 2020 | Oceania |     364 |\n| 12 | 2019 | Africa  |       0 |\n| 12 | 2019 | America |       0 |\n| 12 | 2019 | Asia    |      27 |\n| 12 | 2019 | Europe  |       0 |\n| 12 | 2019 | Oceania |       0 |\n\n",
            "text/html": [
              "<table>\n",
              "<caption>A grouped_df: 30 × 4</caption>\n",
              "<thead>\n",
              "\t<tr><th scope=col>month</th><th scope=col>year</th><th scope=col>continentExp</th><th scope=col>monthly_cases</th></tr>\n",
              "\t<tr><th scope=col>&lt;int&gt;</th><th scope=col>&lt;int&gt;</th><th scope=col>&lt;fct&gt;</th><th scope=col>&lt;int&gt;</th></tr>\n",
              "</thead>\n",
              "<tbody>\n",
              "\t<tr><td> 1</td><td>2020</td><td>Africa </td><td>      0</td></tr>\n",
              "\t<tr><td> 1</td><td>2020</td><td>America</td><td>      9</td></tr>\n",
              "\t<tr><td> 1</td><td>2020</td><td>Asia   </td><td>   9766</td></tr>\n",
              "\t<tr><td> 1</td><td>2020</td><td>Europe </td><td>     17</td></tr>\n",
              "\t<tr><td> 1</td><td>2020</td><td>Oceania</td><td>      7</td></tr>\n",
              "\t<tr><td> 2</td><td>2020</td><td>Africa </td><td>      3</td></tr>\n",
              "\t<tr><td> 2</td><td>2020</td><td>America</td><td>     76</td></tr>\n",
              "\t<tr><td> 2</td><td>2020</td><td>Asia   </td><td>  73468</td></tr>\n",
              "\t<tr><td> 2</td><td>2020</td><td>Europe </td><td>   1126</td></tr>\n",
              "\t<tr><td> 2</td><td>2020</td><td>Oceania</td><td>     19</td></tr>\n",
              "\t<tr><td> 3</td><td>2020</td><td>Africa </td><td>   5134</td></tr>\n",
              "\t<tr><td> 3</td><td>2020</td><td>America</td><td> 188660</td></tr>\n",
              "\t<tr><td> 3</td><td>2020</td><td>Asia   </td><td>  85873</td></tr>\n",
              "\t<tr><td> 3</td><td>2020</td><td>Europe </td><td> 426089</td></tr>\n",
              "\t<tr><td> 3</td><td>2020</td><td>Oceania</td><td>   5298</td></tr>\n",
              "\t<tr><td> 4</td><td>2020</td><td>Africa </td><td>  31598</td></tr>\n",
              "\t<tr><td> 4</td><td>2020</td><td>America</td><td>1104862</td></tr>\n",
              "\t<tr><td> 4</td><td>2020</td><td>Asia   </td><td> 333821</td></tr>\n",
              "\t<tr><td> 4</td><td>2020</td><td>Europe </td><td> 863874</td></tr>\n",
              "\t<tr><td> 4</td><td>2020</td><td>Oceania</td><td>   2812</td></tr>\n",
              "\t<tr><td> 5</td><td>2020</td><td>Africa </td><td>  54630</td></tr>\n",
              "\t<tr><td> 5</td><td>2020</td><td>America</td><td> 893300</td></tr>\n",
              "\t<tr><td> 5</td><td>2020</td><td>Asia   </td><td> 330482</td></tr>\n",
              "\t<tr><td> 5</td><td>2020</td><td>Europe </td><td> 449445</td></tr>\n",
              "\t<tr><td> 5</td><td>2020</td><td>Oceania</td><td>    364</td></tr>\n",
              "\t<tr><td>12</td><td>2019</td><td>Africa </td><td>      0</td></tr>\n",
              "\t<tr><td>12</td><td>2019</td><td>America</td><td>      0</td></tr>\n",
              "\t<tr><td>12</td><td>2019</td><td>Asia   </td><td>     27</td></tr>\n",
              "\t<tr><td>12</td><td>2019</td><td>Europe </td><td>      0</td></tr>\n",
              "\t<tr><td>12</td><td>2019</td><td>Oceania</td><td>      0</td></tr>\n",
              "</tbody>\n",
              "</table>\n"
            ]
          },
          "metadata": {
            "tags": []
          }
        }
      ]
    },
    {
      "cell_type": "code",
      "metadata": {
        "id": "LHX2V6e4HfHJ",
        "colab_type": "code",
        "outputId": "26f7fcff-f706-4778-f695-1a8e268f6317",
        "colab": {
          "base_uri": "https://localhost:8080/",
          "height": 690
        }
      },
      "source": [
        "covid_monthly_cases %>%\n",
        "left_join(covid_cont_pop, covid_monthly_cases, by= \"continentExp\") -> covid_join\n",
        "covid_join"
      ],
      "execution_count": 7,
      "outputs": [
        {
          "output_type": "display_data",
          "data": {
            "text/plain": [
              "   month year continentExp monthly_cases contpop   \n",
              "1   1    2020 Africa             0       1270968396\n",
              "2   1    2020 America            9       1005667059\n",
              "3   1    2020 Asia            9766       4468915667\n",
              "4   1    2020 Europe            17        764402254\n",
              "5   1    2020 Oceania            7         40152057\n",
              "6   2    2020 Africa             3       1270968396\n",
              "7   2    2020 America           76       1005667059\n",
              "8   2    2020 Asia           73468       4468915667\n",
              "9   2    2020 Europe          1126        764402254\n",
              "10  2    2020 Oceania           19         40152057\n",
              "11  3    2020 Africa          5134       1270968396\n",
              "12  3    2020 America       188660       1005667059\n",
              "13  3    2020 Asia           85873       4468915667\n",
              "14  3    2020 Europe        426089        764402254\n",
              "15  3    2020 Oceania         5298         40152057\n",
              "16  4    2020 Africa         31598       1270968396\n",
              "17  4    2020 America      1104862       1005667059\n",
              "18  4    2020 Asia          333821       4468915667\n",
              "19  4    2020 Europe        863874        764402254\n",
              "20  4    2020 Oceania         2812         40152057\n",
              "21  5    2020 Africa         54630       1270968396\n",
              "22  5    2020 America       893300       1005667059\n",
              "23  5    2020 Asia          330482       4468915667\n",
              "24  5    2020 Europe        449445        764402254\n",
              "25  5    2020 Oceania          364         40152057\n",
              "26 12    2019 Africa             0       1270968396\n",
              "27 12    2019 America            0       1005667059\n",
              "28 12    2019 Asia              27       4468915667\n",
              "29 12    2019 Europe             0        764402254\n",
              "30 12    2019 Oceania            0         40152057"
            ],
            "text/latex": "A grouped\\_df: 30 × 5\n\\begin{tabular}{lllll}\n month & year & continentExp & monthly\\_cases & contpop\\\\\n <int> & <int> & <fct> & <int> & <dbl>\\\\\n\\hline\n\t  1 & 2020 & Africa  &       0 & 1270968396\\\\\n\t  1 & 2020 & America &       9 & 1005667059\\\\\n\t  1 & 2020 & Asia    &    9766 & 4468915667\\\\\n\t  1 & 2020 & Europe  &      17 &  764402254\\\\\n\t  1 & 2020 & Oceania &       7 &   40152057\\\\\n\t  2 & 2020 & Africa  &       3 & 1270968396\\\\\n\t  2 & 2020 & America &      76 & 1005667059\\\\\n\t  2 & 2020 & Asia    &   73468 & 4468915667\\\\\n\t  2 & 2020 & Europe  &    1126 &  764402254\\\\\n\t  2 & 2020 & Oceania &      19 &   40152057\\\\\n\t  3 & 2020 & Africa  &    5134 & 1270968396\\\\\n\t  3 & 2020 & America &  188660 & 1005667059\\\\\n\t  3 & 2020 & Asia    &   85873 & 4468915667\\\\\n\t  3 & 2020 & Europe  &  426089 &  764402254\\\\\n\t  3 & 2020 & Oceania &    5298 &   40152057\\\\\n\t  4 & 2020 & Africa  &   31598 & 1270968396\\\\\n\t  4 & 2020 & America & 1104862 & 1005667059\\\\\n\t  4 & 2020 & Asia    &  333821 & 4468915667\\\\\n\t  4 & 2020 & Europe  &  863874 &  764402254\\\\\n\t  4 & 2020 & Oceania &    2812 &   40152057\\\\\n\t  5 & 2020 & Africa  &   54630 & 1270968396\\\\\n\t  5 & 2020 & America &  893300 & 1005667059\\\\\n\t  5 & 2020 & Asia    &  330482 & 4468915667\\\\\n\t  5 & 2020 & Europe  &  449445 &  764402254\\\\\n\t  5 & 2020 & Oceania &     364 &   40152057\\\\\n\t 12 & 2019 & Africa  &       0 & 1270968396\\\\\n\t 12 & 2019 & America &       0 & 1005667059\\\\\n\t 12 & 2019 & Asia    &      27 & 4468915667\\\\\n\t 12 & 2019 & Europe  &       0 &  764402254\\\\\n\t 12 & 2019 & Oceania &       0 &   40152057\\\\\n\\end{tabular}\n",
            "text/markdown": "\nA grouped_df: 30 × 5\n\n| month &lt;int&gt; | year &lt;int&gt; | continentExp &lt;fct&gt; | monthly_cases &lt;int&gt; | contpop &lt;dbl&gt; |\n|---|---|---|---|---|\n|  1 | 2020 | Africa  |       0 | 1270968396 |\n|  1 | 2020 | America |       9 | 1005667059 |\n|  1 | 2020 | Asia    |    9766 | 4468915667 |\n|  1 | 2020 | Europe  |      17 |  764402254 |\n|  1 | 2020 | Oceania |       7 |   40152057 |\n|  2 | 2020 | Africa  |       3 | 1270968396 |\n|  2 | 2020 | America |      76 | 1005667059 |\n|  2 | 2020 | Asia    |   73468 | 4468915667 |\n|  2 | 2020 | Europe  |    1126 |  764402254 |\n|  2 | 2020 | Oceania |      19 |   40152057 |\n|  3 | 2020 | Africa  |    5134 | 1270968396 |\n|  3 | 2020 | America |  188660 | 1005667059 |\n|  3 | 2020 | Asia    |   85873 | 4468915667 |\n|  3 | 2020 | Europe  |  426089 |  764402254 |\n|  3 | 2020 | Oceania |    5298 |   40152057 |\n|  4 | 2020 | Africa  |   31598 | 1270968396 |\n|  4 | 2020 | America | 1104862 | 1005667059 |\n|  4 | 2020 | Asia    |  333821 | 4468915667 |\n|  4 | 2020 | Europe  |  863874 |  764402254 |\n|  4 | 2020 | Oceania |    2812 |   40152057 |\n|  5 | 2020 | Africa  |   54630 | 1270968396 |\n|  5 | 2020 | America |  893300 | 1005667059 |\n|  5 | 2020 | Asia    |  330482 | 4468915667 |\n|  5 | 2020 | Europe  |  449445 |  764402254 |\n|  5 | 2020 | Oceania |     364 |   40152057 |\n| 12 | 2019 | Africa  |       0 | 1270968396 |\n| 12 | 2019 | America |       0 | 1005667059 |\n| 12 | 2019 | Asia    |      27 | 4468915667 |\n| 12 | 2019 | Europe  |       0 |  764402254 |\n| 12 | 2019 | Oceania |       0 |   40152057 |\n\n",
            "text/html": [
              "<table>\n",
              "<caption>A grouped_df: 30 × 5</caption>\n",
              "<thead>\n",
              "\t<tr><th scope=col>month</th><th scope=col>year</th><th scope=col>continentExp</th><th scope=col>monthly_cases</th><th scope=col>contpop</th></tr>\n",
              "\t<tr><th scope=col>&lt;int&gt;</th><th scope=col>&lt;int&gt;</th><th scope=col>&lt;fct&gt;</th><th scope=col>&lt;int&gt;</th><th scope=col>&lt;dbl&gt;</th></tr>\n",
              "</thead>\n",
              "<tbody>\n",
              "\t<tr><td> 1</td><td>2020</td><td>Africa </td><td>      0</td><td>1270968396</td></tr>\n",
              "\t<tr><td> 1</td><td>2020</td><td>America</td><td>      9</td><td>1005667059</td></tr>\n",
              "\t<tr><td> 1</td><td>2020</td><td>Asia   </td><td>   9766</td><td>4468915667</td></tr>\n",
              "\t<tr><td> 1</td><td>2020</td><td>Europe </td><td>     17</td><td> 764402254</td></tr>\n",
              "\t<tr><td> 1</td><td>2020</td><td>Oceania</td><td>      7</td><td>  40152057</td></tr>\n",
              "\t<tr><td> 2</td><td>2020</td><td>Africa </td><td>      3</td><td>1270968396</td></tr>\n",
              "\t<tr><td> 2</td><td>2020</td><td>America</td><td>     76</td><td>1005667059</td></tr>\n",
              "\t<tr><td> 2</td><td>2020</td><td>Asia   </td><td>  73468</td><td>4468915667</td></tr>\n",
              "\t<tr><td> 2</td><td>2020</td><td>Europe </td><td>   1126</td><td> 764402254</td></tr>\n",
              "\t<tr><td> 2</td><td>2020</td><td>Oceania</td><td>     19</td><td>  40152057</td></tr>\n",
              "\t<tr><td> 3</td><td>2020</td><td>Africa </td><td>   5134</td><td>1270968396</td></tr>\n",
              "\t<tr><td> 3</td><td>2020</td><td>America</td><td> 188660</td><td>1005667059</td></tr>\n",
              "\t<tr><td> 3</td><td>2020</td><td>Asia   </td><td>  85873</td><td>4468915667</td></tr>\n",
              "\t<tr><td> 3</td><td>2020</td><td>Europe </td><td> 426089</td><td> 764402254</td></tr>\n",
              "\t<tr><td> 3</td><td>2020</td><td>Oceania</td><td>   5298</td><td>  40152057</td></tr>\n",
              "\t<tr><td> 4</td><td>2020</td><td>Africa </td><td>  31598</td><td>1270968396</td></tr>\n",
              "\t<tr><td> 4</td><td>2020</td><td>America</td><td>1104862</td><td>1005667059</td></tr>\n",
              "\t<tr><td> 4</td><td>2020</td><td>Asia   </td><td> 333821</td><td>4468915667</td></tr>\n",
              "\t<tr><td> 4</td><td>2020</td><td>Europe </td><td> 863874</td><td> 764402254</td></tr>\n",
              "\t<tr><td> 4</td><td>2020</td><td>Oceania</td><td>   2812</td><td>  40152057</td></tr>\n",
              "\t<tr><td> 5</td><td>2020</td><td>Africa </td><td>  54630</td><td>1270968396</td></tr>\n",
              "\t<tr><td> 5</td><td>2020</td><td>America</td><td> 893300</td><td>1005667059</td></tr>\n",
              "\t<tr><td> 5</td><td>2020</td><td>Asia   </td><td> 330482</td><td>4468915667</td></tr>\n",
              "\t<tr><td> 5</td><td>2020</td><td>Europe </td><td> 449445</td><td> 764402254</td></tr>\n",
              "\t<tr><td> 5</td><td>2020</td><td>Oceania</td><td>    364</td><td>  40152057</td></tr>\n",
              "\t<tr><td>12</td><td>2019</td><td>Africa </td><td>      0</td><td>1270968396</td></tr>\n",
              "\t<tr><td>12</td><td>2019</td><td>America</td><td>      0</td><td>1005667059</td></tr>\n",
              "\t<tr><td>12</td><td>2019</td><td>Asia   </td><td>     27</td><td>4468915667</td></tr>\n",
              "\t<tr><td>12</td><td>2019</td><td>Europe </td><td>      0</td><td> 764402254</td></tr>\n",
              "\t<tr><td>12</td><td>2019</td><td>Oceania</td><td>      0</td><td>  40152057</td></tr>\n",
              "</tbody>\n",
              "</table>\n"
            ]
          },
          "metadata": {
            "tags": []
          }
        }
      ]
    },
    {
      "cell_type": "code",
      "metadata": {
        "id": "89ieqOWRIjyL",
        "colab_type": "code",
        "outputId": "4cf8a01a-05f6-4178-ea1b-25ee60731a04",
        "colab": {
          "base_uri": "https://localhost:8080/",
          "height": 690
        }
      },
      "source": [
        "covid_join %>%\n",
        "mutate(incidence_rate = (monthly_cases / contpop)*100) %>%\n",
        "arrange(-month) -> covid_inc_rate\n",
        "covid_inc_rate"
      ],
      "execution_count": 20,
      "outputs": [
        {
          "output_type": "display_data",
          "data": {
            "text/plain": [
              "   month year continentExp monthly_cases contpop    incidence_rate\n",
              "1  12    2019 Africa             0       1270968396 0.000000e+00  \n",
              "2  12    2019 America            0       1005667059 0.000000e+00  \n",
              "3  12    2019 Asia              27       4468915667 6.041734e-07  \n",
              "4  12    2019 Europe             0        764402254 0.000000e+00  \n",
              "5  12    2019 Oceania            0         40152057 0.000000e+00  \n",
              "6   5    2020 Africa         54630       1270968396 4.298297e-03  \n",
              "7   5    2020 America       893300       1005667059 8.882661e-02  \n",
              "8   5    2020 Asia          330482       4468915667 7.395127e-03  \n",
              "9   5    2020 Europe        449445        764402254 5.879692e-02  \n",
              "10  5    2020 Oceania          364         40152057 9.065538e-04  \n",
              "11  4    2020 Africa         31598       1270968396 2.486136e-03  \n",
              "12  4    2020 America      1104862       1005667059 1.098636e-01  \n",
              "13  4    2020 Asia          333821       4468915667 7.469843e-03  \n",
              "14  4    2020 Europe        863874        764402254 1.130130e-01  \n",
              "15  4    2020 Oceania         2812         40152057 7.003377e-03  \n",
              "16  3    2020 Africa          5134       1270968396 4.039440e-04  \n",
              "17  3    2020 America       188660       1005667059 1.875969e-02  \n",
              "18  3    2020 Asia           85873       4468915667 1.921562e-03  \n",
              "19  3    2020 Europe        426089        764402254 5.574146e-02  \n",
              "20  3    2020 Oceania         5298         40152057 1.319484e-02  \n",
              "21  2    2020 Africa             3       1270968396 2.360405e-07  \n",
              "22  2    2020 America           76       1005667059 7.557173e-06  \n",
              "23  2    2020 Asia           73468       4468915667 1.643978e-03  \n",
              "24  2    2020 Europe          1126        764402254 1.473046e-04  \n",
              "25  2    2020 Oceania           19         40152057 4.732012e-05  \n",
              "26  1    2020 Africa             0       1270968396 0.000000e+00  \n",
              "27  1    2020 America            9       1005667059 8.949284e-07  \n",
              "28  1    2020 Asia            9766       4468915667 2.185318e-04  \n",
              "29  1    2020 Europe            17        764402254 2.223960e-06  \n",
              "30  1    2020 Oceania            7         40152057 1.743373e-05  "
            ],
            "text/latex": "A grouped\\_df: 30 × 6\n\\begin{tabular}{llllll}\n month & year & continentExp & monthly\\_cases & contpop & incidence\\_rate\\\\\n <int> & <int> & <fct> & <int> & <dbl> & <dbl>\\\\\n\\hline\n\t 12 & 2019 & Africa  &       0 & 1270968396 & 0.000000e+00\\\\\n\t 12 & 2019 & America &       0 & 1005667059 & 0.000000e+00\\\\\n\t 12 & 2019 & Asia    &      27 & 4468915667 & 6.041734e-07\\\\\n\t 12 & 2019 & Europe  &       0 &  764402254 & 0.000000e+00\\\\\n\t 12 & 2019 & Oceania &       0 &   40152057 & 0.000000e+00\\\\\n\t  5 & 2020 & Africa  &   54630 & 1270968396 & 4.298297e-03\\\\\n\t  5 & 2020 & America &  893300 & 1005667059 & 8.882661e-02\\\\\n\t  5 & 2020 & Asia    &  330482 & 4468915667 & 7.395127e-03\\\\\n\t  5 & 2020 & Europe  &  449445 &  764402254 & 5.879692e-02\\\\\n\t  5 & 2020 & Oceania &     364 &   40152057 & 9.065538e-04\\\\\n\t  4 & 2020 & Africa  &   31598 & 1270968396 & 2.486136e-03\\\\\n\t  4 & 2020 & America & 1104862 & 1005667059 & 1.098636e-01\\\\\n\t  4 & 2020 & Asia    &  333821 & 4468915667 & 7.469843e-03\\\\\n\t  4 & 2020 & Europe  &  863874 &  764402254 & 1.130130e-01\\\\\n\t  4 & 2020 & Oceania &    2812 &   40152057 & 7.003377e-03\\\\\n\t  3 & 2020 & Africa  &    5134 & 1270968396 & 4.039440e-04\\\\\n\t  3 & 2020 & America &  188660 & 1005667059 & 1.875969e-02\\\\\n\t  3 & 2020 & Asia    &   85873 & 4468915667 & 1.921562e-03\\\\\n\t  3 & 2020 & Europe  &  426089 &  764402254 & 5.574146e-02\\\\\n\t  3 & 2020 & Oceania &    5298 &   40152057 & 1.319484e-02\\\\\n\t  2 & 2020 & Africa  &       3 & 1270968396 & 2.360405e-07\\\\\n\t  2 & 2020 & America &      76 & 1005667059 & 7.557173e-06\\\\\n\t  2 & 2020 & Asia    &   73468 & 4468915667 & 1.643978e-03\\\\\n\t  2 & 2020 & Europe  &    1126 &  764402254 & 1.473046e-04\\\\\n\t  2 & 2020 & Oceania &      19 &   40152057 & 4.732012e-05\\\\\n\t  1 & 2020 & Africa  &       0 & 1270968396 & 0.000000e+00\\\\\n\t  1 & 2020 & America &       9 & 1005667059 & 8.949284e-07\\\\\n\t  1 & 2020 & Asia    &    9766 & 4468915667 & 2.185318e-04\\\\\n\t  1 & 2020 & Europe  &      17 &  764402254 & 2.223960e-06\\\\\n\t  1 & 2020 & Oceania &       7 &   40152057 & 1.743373e-05\\\\\n\\end{tabular}\n",
            "text/markdown": "\nA grouped_df: 30 × 6\n\n| month &lt;int&gt; | year &lt;int&gt; | continentExp &lt;fct&gt; | monthly_cases &lt;int&gt; | contpop &lt;dbl&gt; | incidence_rate &lt;dbl&gt; |\n|---|---|---|---|---|---|\n| 12 | 2019 | Africa  |       0 | 1270968396 | 0.000000e+00 |\n| 12 | 2019 | America |       0 | 1005667059 | 0.000000e+00 |\n| 12 | 2019 | Asia    |      27 | 4468915667 | 6.041734e-07 |\n| 12 | 2019 | Europe  |       0 |  764402254 | 0.000000e+00 |\n| 12 | 2019 | Oceania |       0 |   40152057 | 0.000000e+00 |\n|  5 | 2020 | Africa  |   54630 | 1270968396 | 4.298297e-03 |\n|  5 | 2020 | America |  893300 | 1005667059 | 8.882661e-02 |\n|  5 | 2020 | Asia    |  330482 | 4468915667 | 7.395127e-03 |\n|  5 | 2020 | Europe  |  449445 |  764402254 | 5.879692e-02 |\n|  5 | 2020 | Oceania |     364 |   40152057 | 9.065538e-04 |\n|  4 | 2020 | Africa  |   31598 | 1270968396 | 2.486136e-03 |\n|  4 | 2020 | America | 1104862 | 1005667059 | 1.098636e-01 |\n|  4 | 2020 | Asia    |  333821 | 4468915667 | 7.469843e-03 |\n|  4 | 2020 | Europe  |  863874 |  764402254 | 1.130130e-01 |\n|  4 | 2020 | Oceania |    2812 |   40152057 | 7.003377e-03 |\n|  3 | 2020 | Africa  |    5134 | 1270968396 | 4.039440e-04 |\n|  3 | 2020 | America |  188660 | 1005667059 | 1.875969e-02 |\n|  3 | 2020 | Asia    |   85873 | 4468915667 | 1.921562e-03 |\n|  3 | 2020 | Europe  |  426089 |  764402254 | 5.574146e-02 |\n|  3 | 2020 | Oceania |    5298 |   40152057 | 1.319484e-02 |\n|  2 | 2020 | Africa  |       3 | 1270968396 | 2.360405e-07 |\n|  2 | 2020 | America |      76 | 1005667059 | 7.557173e-06 |\n|  2 | 2020 | Asia    |   73468 | 4468915667 | 1.643978e-03 |\n|  2 | 2020 | Europe  |    1126 |  764402254 | 1.473046e-04 |\n|  2 | 2020 | Oceania |      19 |   40152057 | 4.732012e-05 |\n|  1 | 2020 | Africa  |       0 | 1270968396 | 0.000000e+00 |\n|  1 | 2020 | America |       9 | 1005667059 | 8.949284e-07 |\n|  1 | 2020 | Asia    |    9766 | 4468915667 | 2.185318e-04 |\n|  1 | 2020 | Europe  |      17 |  764402254 | 2.223960e-06 |\n|  1 | 2020 | Oceania |       7 |   40152057 | 1.743373e-05 |\n\n",
            "text/html": [
              "<table>\n",
              "<caption>A grouped_df: 30 × 6</caption>\n",
              "<thead>\n",
              "\t<tr><th scope=col>month</th><th scope=col>year</th><th scope=col>continentExp</th><th scope=col>monthly_cases</th><th scope=col>contpop</th><th scope=col>incidence_rate</th></tr>\n",
              "\t<tr><th scope=col>&lt;int&gt;</th><th scope=col>&lt;int&gt;</th><th scope=col>&lt;fct&gt;</th><th scope=col>&lt;int&gt;</th><th scope=col>&lt;dbl&gt;</th><th scope=col>&lt;dbl&gt;</th></tr>\n",
              "</thead>\n",
              "<tbody>\n",
              "\t<tr><td>12</td><td>2019</td><td>Africa </td><td>      0</td><td>1270968396</td><td>0.000000e+00</td></tr>\n",
              "\t<tr><td>12</td><td>2019</td><td>America</td><td>      0</td><td>1005667059</td><td>0.000000e+00</td></tr>\n",
              "\t<tr><td>12</td><td>2019</td><td>Asia   </td><td>     27</td><td>4468915667</td><td>6.041734e-07</td></tr>\n",
              "\t<tr><td>12</td><td>2019</td><td>Europe </td><td>      0</td><td> 764402254</td><td>0.000000e+00</td></tr>\n",
              "\t<tr><td>12</td><td>2019</td><td>Oceania</td><td>      0</td><td>  40152057</td><td>0.000000e+00</td></tr>\n",
              "\t<tr><td> 5</td><td>2020</td><td>Africa </td><td>  54630</td><td>1270968396</td><td>4.298297e-03</td></tr>\n",
              "\t<tr><td> 5</td><td>2020</td><td>America</td><td> 893300</td><td>1005667059</td><td>8.882661e-02</td></tr>\n",
              "\t<tr><td> 5</td><td>2020</td><td>Asia   </td><td> 330482</td><td>4468915667</td><td>7.395127e-03</td></tr>\n",
              "\t<tr><td> 5</td><td>2020</td><td>Europe </td><td> 449445</td><td> 764402254</td><td>5.879692e-02</td></tr>\n",
              "\t<tr><td> 5</td><td>2020</td><td>Oceania</td><td>    364</td><td>  40152057</td><td>9.065538e-04</td></tr>\n",
              "\t<tr><td> 4</td><td>2020</td><td>Africa </td><td>  31598</td><td>1270968396</td><td>2.486136e-03</td></tr>\n",
              "\t<tr><td> 4</td><td>2020</td><td>America</td><td>1104862</td><td>1005667059</td><td>1.098636e-01</td></tr>\n",
              "\t<tr><td> 4</td><td>2020</td><td>Asia   </td><td> 333821</td><td>4468915667</td><td>7.469843e-03</td></tr>\n",
              "\t<tr><td> 4</td><td>2020</td><td>Europe </td><td> 863874</td><td> 764402254</td><td>1.130130e-01</td></tr>\n",
              "\t<tr><td> 4</td><td>2020</td><td>Oceania</td><td>   2812</td><td>  40152057</td><td>7.003377e-03</td></tr>\n",
              "\t<tr><td> 3</td><td>2020</td><td>Africa </td><td>   5134</td><td>1270968396</td><td>4.039440e-04</td></tr>\n",
              "\t<tr><td> 3</td><td>2020</td><td>America</td><td> 188660</td><td>1005667059</td><td>1.875969e-02</td></tr>\n",
              "\t<tr><td> 3</td><td>2020</td><td>Asia   </td><td>  85873</td><td>4468915667</td><td>1.921562e-03</td></tr>\n",
              "\t<tr><td> 3</td><td>2020</td><td>Europe </td><td> 426089</td><td> 764402254</td><td>5.574146e-02</td></tr>\n",
              "\t<tr><td> 3</td><td>2020</td><td>Oceania</td><td>   5298</td><td>  40152057</td><td>1.319484e-02</td></tr>\n",
              "\t<tr><td> 2</td><td>2020</td><td>Africa </td><td>      3</td><td>1270968396</td><td>2.360405e-07</td></tr>\n",
              "\t<tr><td> 2</td><td>2020</td><td>America</td><td>     76</td><td>1005667059</td><td>7.557173e-06</td></tr>\n",
              "\t<tr><td> 2</td><td>2020</td><td>Asia   </td><td>  73468</td><td>4468915667</td><td>1.643978e-03</td></tr>\n",
              "\t<tr><td> 2</td><td>2020</td><td>Europe </td><td>   1126</td><td> 764402254</td><td>1.473046e-04</td></tr>\n",
              "\t<tr><td> 2</td><td>2020</td><td>Oceania</td><td>     19</td><td>  40152057</td><td>4.732012e-05</td></tr>\n",
              "\t<tr><td> 1</td><td>2020</td><td>Africa </td><td>      0</td><td>1270968396</td><td>0.000000e+00</td></tr>\n",
              "\t<tr><td> 1</td><td>2020</td><td>America</td><td>      9</td><td>1005667059</td><td>8.949284e-07</td></tr>\n",
              "\t<tr><td> 1</td><td>2020</td><td>Asia   </td><td>   9766</td><td>4468915667</td><td>2.185318e-04</td></tr>\n",
              "\t<tr><td> 1</td><td>2020</td><td>Europe </td><td>     17</td><td> 764402254</td><td>2.223960e-06</td></tr>\n",
              "\t<tr><td> 1</td><td>2020</td><td>Oceania</td><td>      7</td><td>  40152057</td><td>1.743373e-05</td></tr>\n",
              "</tbody>\n",
              "</table>\n"
            ]
          },
          "metadata": {
            "tags": []
          }
        }
      ]
    },
    {
      "cell_type": "markdown",
      "metadata": {
        "colab_type": "text",
        "id": "_YO05_QF_PRV"
      },
      "source": [
        "Modify your code to also calculate the death rate on the same aggregation level."
      ]
    },
    {
      "cell_type": "code",
      "metadata": {
        "colab_type": "code",
        "id": "MiuH6s-Q_WAl",
        "colab": {
          "base_uri": "https://localhost:8080/",
          "height": 690
        },
        "outputId": "ac14cf82-d6d1-480d-a98a-0667f6c1a803"
      },
      "source": [
        "covid_continent %>%\n",
        "group_by(month, year, continentExp) %>%\n",
        "summarise(monthly_deaths = sum(deaths)) -> monthly_deaths\n",
        "monthly_deaths"
      ],
      "execution_count": 12,
      "outputs": [
        {
          "output_type": "display_data",
          "data": {
            "text/plain": [
              "   month year continentExp monthly_deaths\n",
              "1   1    2020 Africa            0        \n",
              "2   1    2020 America           0        \n",
              "3   1    2020 Asia            213        \n",
              "4   1    2020 Europe            0        \n",
              "5   1    2020 Oceania           0        \n",
              "6   2    2020 Africa            0        \n",
              "7   2    2020 America           0        \n",
              "8   2    2020 Asia           2679        \n",
              "9   2    2020 Europe           23        \n",
              "10  2    2020 Oceania           0        \n",
              "11  3    2020 Africa          166        \n",
              "12  3    2020 America        3687        \n",
              "13  3    2020 Asia           3990        \n",
              "14  3    2020 Europe        27125        \n",
              "15  3    2020 Oceania          21        \n",
              "16  4    2020 Africa         1425        \n",
              "17  4    2020 America       70904        \n",
              "18  4    2020 Asia          11321        \n",
              "19  4    2020 Europe       105674        \n",
              "20  4    2020 Oceania          95        \n",
              "21  5    2020 Africa         1312        \n",
              "22  5    2020 America       55089        \n",
              "23  5    2020 Asia           7214        \n",
              "24  5    2020 Europe        31527        \n",
              "25  5    2020 Oceania          11        \n",
              "26 12    2019 Africa            0        \n",
              "27 12    2019 America           0        \n",
              "28 12    2019 Asia              0        \n",
              "29 12    2019 Europe            0        \n",
              "30 12    2019 Oceania           0        "
            ],
            "text/latex": "A grouped\\_df: 30 × 4\n\\begin{tabular}{llll}\n month & year & continentExp & monthly\\_deaths\\\\\n <int> & <int> & <fct> & <int>\\\\\n\\hline\n\t  1 & 2020 & Africa  &      0\\\\\n\t  1 & 2020 & America &      0\\\\\n\t  1 & 2020 & Asia    &    213\\\\\n\t  1 & 2020 & Europe  &      0\\\\\n\t  1 & 2020 & Oceania &      0\\\\\n\t  2 & 2020 & Africa  &      0\\\\\n\t  2 & 2020 & America &      0\\\\\n\t  2 & 2020 & Asia    &   2679\\\\\n\t  2 & 2020 & Europe  &     23\\\\\n\t  2 & 2020 & Oceania &      0\\\\\n\t  3 & 2020 & Africa  &    166\\\\\n\t  3 & 2020 & America &   3687\\\\\n\t  3 & 2020 & Asia    &   3990\\\\\n\t  3 & 2020 & Europe  &  27125\\\\\n\t  3 & 2020 & Oceania &     21\\\\\n\t  4 & 2020 & Africa  &   1425\\\\\n\t  4 & 2020 & America &  70904\\\\\n\t  4 & 2020 & Asia    &  11321\\\\\n\t  4 & 2020 & Europe  & 105674\\\\\n\t  4 & 2020 & Oceania &     95\\\\\n\t  5 & 2020 & Africa  &   1312\\\\\n\t  5 & 2020 & America &  55089\\\\\n\t  5 & 2020 & Asia    &   7214\\\\\n\t  5 & 2020 & Europe  &  31527\\\\\n\t  5 & 2020 & Oceania &     11\\\\\n\t 12 & 2019 & Africa  &      0\\\\\n\t 12 & 2019 & America &      0\\\\\n\t 12 & 2019 & Asia    &      0\\\\\n\t 12 & 2019 & Europe  &      0\\\\\n\t 12 & 2019 & Oceania &      0\\\\\n\\end{tabular}\n",
            "text/markdown": "\nA grouped_df: 30 × 4\n\n| month &lt;int&gt; | year &lt;int&gt; | continentExp &lt;fct&gt; | monthly_deaths &lt;int&gt; |\n|---|---|---|---|\n|  1 | 2020 | Africa  |      0 |\n|  1 | 2020 | America |      0 |\n|  1 | 2020 | Asia    |    213 |\n|  1 | 2020 | Europe  |      0 |\n|  1 | 2020 | Oceania |      0 |\n|  2 | 2020 | Africa  |      0 |\n|  2 | 2020 | America |      0 |\n|  2 | 2020 | Asia    |   2679 |\n|  2 | 2020 | Europe  |     23 |\n|  2 | 2020 | Oceania |      0 |\n|  3 | 2020 | Africa  |    166 |\n|  3 | 2020 | America |   3687 |\n|  3 | 2020 | Asia    |   3990 |\n|  3 | 2020 | Europe  |  27125 |\n|  3 | 2020 | Oceania |     21 |\n|  4 | 2020 | Africa  |   1425 |\n|  4 | 2020 | America |  70904 |\n|  4 | 2020 | Asia    |  11321 |\n|  4 | 2020 | Europe  | 105674 |\n|  4 | 2020 | Oceania |     95 |\n|  5 | 2020 | Africa  |   1312 |\n|  5 | 2020 | America |  55089 |\n|  5 | 2020 | Asia    |   7214 |\n|  5 | 2020 | Europe  |  31527 |\n|  5 | 2020 | Oceania |     11 |\n| 12 | 2019 | Africa  |      0 |\n| 12 | 2019 | America |      0 |\n| 12 | 2019 | Asia    |      0 |\n| 12 | 2019 | Europe  |      0 |\n| 12 | 2019 | Oceania |      0 |\n\n",
            "text/html": [
              "<table>\n",
              "<caption>A grouped_df: 30 × 4</caption>\n",
              "<thead>\n",
              "\t<tr><th scope=col>month</th><th scope=col>year</th><th scope=col>continentExp</th><th scope=col>monthly_deaths</th></tr>\n",
              "\t<tr><th scope=col>&lt;int&gt;</th><th scope=col>&lt;int&gt;</th><th scope=col>&lt;fct&gt;</th><th scope=col>&lt;int&gt;</th></tr>\n",
              "</thead>\n",
              "<tbody>\n",
              "\t<tr><td> 1</td><td>2020</td><td>Africa </td><td>     0</td></tr>\n",
              "\t<tr><td> 1</td><td>2020</td><td>America</td><td>     0</td></tr>\n",
              "\t<tr><td> 1</td><td>2020</td><td>Asia   </td><td>   213</td></tr>\n",
              "\t<tr><td> 1</td><td>2020</td><td>Europe </td><td>     0</td></tr>\n",
              "\t<tr><td> 1</td><td>2020</td><td>Oceania</td><td>     0</td></tr>\n",
              "\t<tr><td> 2</td><td>2020</td><td>Africa </td><td>     0</td></tr>\n",
              "\t<tr><td> 2</td><td>2020</td><td>America</td><td>     0</td></tr>\n",
              "\t<tr><td> 2</td><td>2020</td><td>Asia   </td><td>  2679</td></tr>\n",
              "\t<tr><td> 2</td><td>2020</td><td>Europe </td><td>    23</td></tr>\n",
              "\t<tr><td> 2</td><td>2020</td><td>Oceania</td><td>     0</td></tr>\n",
              "\t<tr><td> 3</td><td>2020</td><td>Africa </td><td>   166</td></tr>\n",
              "\t<tr><td> 3</td><td>2020</td><td>America</td><td>  3687</td></tr>\n",
              "\t<tr><td> 3</td><td>2020</td><td>Asia   </td><td>  3990</td></tr>\n",
              "\t<tr><td> 3</td><td>2020</td><td>Europe </td><td> 27125</td></tr>\n",
              "\t<tr><td> 3</td><td>2020</td><td>Oceania</td><td>    21</td></tr>\n",
              "\t<tr><td> 4</td><td>2020</td><td>Africa </td><td>  1425</td></tr>\n",
              "\t<tr><td> 4</td><td>2020</td><td>America</td><td> 70904</td></tr>\n",
              "\t<tr><td> 4</td><td>2020</td><td>Asia   </td><td> 11321</td></tr>\n",
              "\t<tr><td> 4</td><td>2020</td><td>Europe </td><td>105674</td></tr>\n",
              "\t<tr><td> 4</td><td>2020</td><td>Oceania</td><td>    95</td></tr>\n",
              "\t<tr><td> 5</td><td>2020</td><td>Africa </td><td>  1312</td></tr>\n",
              "\t<tr><td> 5</td><td>2020</td><td>America</td><td> 55089</td></tr>\n",
              "\t<tr><td> 5</td><td>2020</td><td>Asia   </td><td>  7214</td></tr>\n",
              "\t<tr><td> 5</td><td>2020</td><td>Europe </td><td> 31527</td></tr>\n",
              "\t<tr><td> 5</td><td>2020</td><td>Oceania</td><td>    11</td></tr>\n",
              "\t<tr><td>12</td><td>2019</td><td>Africa </td><td>     0</td></tr>\n",
              "\t<tr><td>12</td><td>2019</td><td>America</td><td>     0</td></tr>\n",
              "\t<tr><td>12</td><td>2019</td><td>Asia   </td><td>     0</td></tr>\n",
              "\t<tr><td>12</td><td>2019</td><td>Europe </td><td>     0</td></tr>\n",
              "\t<tr><td>12</td><td>2019</td><td>Oceania</td><td>     0</td></tr>\n",
              "</tbody>\n",
              "</table>\n"
            ]
          },
          "metadata": {
            "tags": []
          }
        }
      ]
    },
    {
      "cell_type": "code",
      "metadata": {
        "id": "-CMKVNb0d4Dr",
        "colab_type": "code",
        "colab": {
          "base_uri": "https://localhost:8080/",
          "height": 725
        },
        "outputId": "f804696b-60be-4545-ef15-e3be67fe291f"
      },
      "source": [
        "covid_inc_rate %>%\n",
        "left_join(covid_inc_rate, monthly_deaths, by) -> covid_join_deaths\n",
        "covid_join_deaths\n"
      ],
      "execution_count": 23,
      "outputs": [
        {
          "output_type": "stream",
          "text": [
            "Joining, by = c(\"month\", \"year\", \"continentExp\", \"monthly_cases\", \"contpop\", \"incidence_rate\")\n",
            "\n"
          ],
          "name": "stderr"
        },
        {
          "output_type": "display_data",
          "data": {
            "text/plain": [
              "   month year continentExp monthly_cases contpop    incidence_rate\n",
              "1  12    2019 Africa             0       1270968396 0.000000e+00  \n",
              "2  12    2019 America            0       1005667059 0.000000e+00  \n",
              "3  12    2019 Asia              27       4468915667 6.041734e-07  \n",
              "4  12    2019 Europe             0        764402254 0.000000e+00  \n",
              "5  12    2019 Oceania            0         40152057 0.000000e+00  \n",
              "6   5    2020 Africa         54630       1270968396 4.298297e-03  \n",
              "7   5    2020 America       893300       1005667059 8.882661e-02  \n",
              "8   5    2020 Asia          330482       4468915667 7.395127e-03  \n",
              "9   5    2020 Europe        449445        764402254 5.879692e-02  \n",
              "10  5    2020 Oceania          364         40152057 9.065538e-04  \n",
              "11  4    2020 Africa         31598       1270968396 2.486136e-03  \n",
              "12  4    2020 America      1104862       1005667059 1.098636e-01  \n",
              "13  4    2020 Asia          333821       4468915667 7.469843e-03  \n",
              "14  4    2020 Europe        863874        764402254 1.130130e-01  \n",
              "15  4    2020 Oceania         2812         40152057 7.003377e-03  \n",
              "16  3    2020 Africa          5134       1270968396 4.039440e-04  \n",
              "17  3    2020 America       188660       1005667059 1.875969e-02  \n",
              "18  3    2020 Asia           85873       4468915667 1.921562e-03  \n",
              "19  3    2020 Europe        426089        764402254 5.574146e-02  \n",
              "20  3    2020 Oceania         5298         40152057 1.319484e-02  \n",
              "21  2    2020 Africa             3       1270968396 2.360405e-07  \n",
              "22  2    2020 America           76       1005667059 7.557173e-06  \n",
              "23  2    2020 Asia           73468       4468915667 1.643978e-03  \n",
              "24  2    2020 Europe          1126        764402254 1.473046e-04  \n",
              "25  2    2020 Oceania           19         40152057 4.732012e-05  \n",
              "26  1    2020 Africa             0       1270968396 0.000000e+00  \n",
              "27  1    2020 America            9       1005667059 8.949284e-07  \n",
              "28  1    2020 Asia            9766       4468915667 2.185318e-04  \n",
              "29  1    2020 Europe            17        764402254 2.223960e-06  \n",
              "30  1    2020 Oceania            7         40152057 1.743373e-05  "
            ],
            "text/latex": "A grouped\\_df: 30 × 6\n\\begin{tabular}{llllll}\n month & year & continentExp & monthly\\_cases & contpop & incidence\\_rate\\\\\n <int> & <int> & <fct> & <int> & <dbl> & <dbl>\\\\\n\\hline\n\t 12 & 2019 & Africa  &       0 & 1270968396 & 0.000000e+00\\\\\n\t 12 & 2019 & America &       0 & 1005667059 & 0.000000e+00\\\\\n\t 12 & 2019 & Asia    &      27 & 4468915667 & 6.041734e-07\\\\\n\t 12 & 2019 & Europe  &       0 &  764402254 & 0.000000e+00\\\\\n\t 12 & 2019 & Oceania &       0 &   40152057 & 0.000000e+00\\\\\n\t  5 & 2020 & Africa  &   54630 & 1270968396 & 4.298297e-03\\\\\n\t  5 & 2020 & America &  893300 & 1005667059 & 8.882661e-02\\\\\n\t  5 & 2020 & Asia    &  330482 & 4468915667 & 7.395127e-03\\\\\n\t  5 & 2020 & Europe  &  449445 &  764402254 & 5.879692e-02\\\\\n\t  5 & 2020 & Oceania &     364 &   40152057 & 9.065538e-04\\\\\n\t  4 & 2020 & Africa  &   31598 & 1270968396 & 2.486136e-03\\\\\n\t  4 & 2020 & America & 1104862 & 1005667059 & 1.098636e-01\\\\\n\t  4 & 2020 & Asia    &  333821 & 4468915667 & 7.469843e-03\\\\\n\t  4 & 2020 & Europe  &  863874 &  764402254 & 1.130130e-01\\\\\n\t  4 & 2020 & Oceania &    2812 &   40152057 & 7.003377e-03\\\\\n\t  3 & 2020 & Africa  &    5134 & 1270968396 & 4.039440e-04\\\\\n\t  3 & 2020 & America &  188660 & 1005667059 & 1.875969e-02\\\\\n\t  3 & 2020 & Asia    &   85873 & 4468915667 & 1.921562e-03\\\\\n\t  3 & 2020 & Europe  &  426089 &  764402254 & 5.574146e-02\\\\\n\t  3 & 2020 & Oceania &    5298 &   40152057 & 1.319484e-02\\\\\n\t  2 & 2020 & Africa  &       3 & 1270968396 & 2.360405e-07\\\\\n\t  2 & 2020 & America &      76 & 1005667059 & 7.557173e-06\\\\\n\t  2 & 2020 & Asia    &   73468 & 4468915667 & 1.643978e-03\\\\\n\t  2 & 2020 & Europe  &    1126 &  764402254 & 1.473046e-04\\\\\n\t  2 & 2020 & Oceania &      19 &   40152057 & 4.732012e-05\\\\\n\t  1 & 2020 & Africa  &       0 & 1270968396 & 0.000000e+00\\\\\n\t  1 & 2020 & America &       9 & 1005667059 & 8.949284e-07\\\\\n\t  1 & 2020 & Asia    &    9766 & 4468915667 & 2.185318e-04\\\\\n\t  1 & 2020 & Europe  &      17 &  764402254 & 2.223960e-06\\\\\n\t  1 & 2020 & Oceania &       7 &   40152057 & 1.743373e-05\\\\\n\\end{tabular}\n",
            "text/markdown": "\nA grouped_df: 30 × 6\n\n| month &lt;int&gt; | year &lt;int&gt; | continentExp &lt;fct&gt; | monthly_cases &lt;int&gt; | contpop &lt;dbl&gt; | incidence_rate &lt;dbl&gt; |\n|---|---|---|---|---|---|\n| 12 | 2019 | Africa  |       0 | 1270968396 | 0.000000e+00 |\n| 12 | 2019 | America |       0 | 1005667059 | 0.000000e+00 |\n| 12 | 2019 | Asia    |      27 | 4468915667 | 6.041734e-07 |\n| 12 | 2019 | Europe  |       0 |  764402254 | 0.000000e+00 |\n| 12 | 2019 | Oceania |       0 |   40152057 | 0.000000e+00 |\n|  5 | 2020 | Africa  |   54630 | 1270968396 | 4.298297e-03 |\n|  5 | 2020 | America |  893300 | 1005667059 | 8.882661e-02 |\n|  5 | 2020 | Asia    |  330482 | 4468915667 | 7.395127e-03 |\n|  5 | 2020 | Europe  |  449445 |  764402254 | 5.879692e-02 |\n|  5 | 2020 | Oceania |     364 |   40152057 | 9.065538e-04 |\n|  4 | 2020 | Africa  |   31598 | 1270968396 | 2.486136e-03 |\n|  4 | 2020 | America | 1104862 | 1005667059 | 1.098636e-01 |\n|  4 | 2020 | Asia    |  333821 | 4468915667 | 7.469843e-03 |\n|  4 | 2020 | Europe  |  863874 |  764402254 | 1.130130e-01 |\n|  4 | 2020 | Oceania |    2812 |   40152057 | 7.003377e-03 |\n|  3 | 2020 | Africa  |    5134 | 1270968396 | 4.039440e-04 |\n|  3 | 2020 | America |  188660 | 1005667059 | 1.875969e-02 |\n|  3 | 2020 | Asia    |   85873 | 4468915667 | 1.921562e-03 |\n|  3 | 2020 | Europe  |  426089 |  764402254 | 5.574146e-02 |\n|  3 | 2020 | Oceania |    5298 |   40152057 | 1.319484e-02 |\n|  2 | 2020 | Africa  |       3 | 1270968396 | 2.360405e-07 |\n|  2 | 2020 | America |      76 | 1005667059 | 7.557173e-06 |\n|  2 | 2020 | Asia    |   73468 | 4468915667 | 1.643978e-03 |\n|  2 | 2020 | Europe  |    1126 |  764402254 | 1.473046e-04 |\n|  2 | 2020 | Oceania |      19 |   40152057 | 4.732012e-05 |\n|  1 | 2020 | Africa  |       0 | 1270968396 | 0.000000e+00 |\n|  1 | 2020 | America |       9 | 1005667059 | 8.949284e-07 |\n|  1 | 2020 | Asia    |    9766 | 4468915667 | 2.185318e-04 |\n|  1 | 2020 | Europe  |      17 |  764402254 | 2.223960e-06 |\n|  1 | 2020 | Oceania |       7 |   40152057 | 1.743373e-05 |\n\n",
            "text/html": [
              "<table>\n",
              "<caption>A grouped_df: 30 × 6</caption>\n",
              "<thead>\n",
              "\t<tr><th scope=col>month</th><th scope=col>year</th><th scope=col>continentExp</th><th scope=col>monthly_cases</th><th scope=col>contpop</th><th scope=col>incidence_rate</th></tr>\n",
              "\t<tr><th scope=col>&lt;int&gt;</th><th scope=col>&lt;int&gt;</th><th scope=col>&lt;fct&gt;</th><th scope=col>&lt;int&gt;</th><th scope=col>&lt;dbl&gt;</th><th scope=col>&lt;dbl&gt;</th></tr>\n",
              "</thead>\n",
              "<tbody>\n",
              "\t<tr><td>12</td><td>2019</td><td>Africa </td><td>      0</td><td>1270968396</td><td>0.000000e+00</td></tr>\n",
              "\t<tr><td>12</td><td>2019</td><td>America</td><td>      0</td><td>1005667059</td><td>0.000000e+00</td></tr>\n",
              "\t<tr><td>12</td><td>2019</td><td>Asia   </td><td>     27</td><td>4468915667</td><td>6.041734e-07</td></tr>\n",
              "\t<tr><td>12</td><td>2019</td><td>Europe </td><td>      0</td><td> 764402254</td><td>0.000000e+00</td></tr>\n",
              "\t<tr><td>12</td><td>2019</td><td>Oceania</td><td>      0</td><td>  40152057</td><td>0.000000e+00</td></tr>\n",
              "\t<tr><td> 5</td><td>2020</td><td>Africa </td><td>  54630</td><td>1270968396</td><td>4.298297e-03</td></tr>\n",
              "\t<tr><td> 5</td><td>2020</td><td>America</td><td> 893300</td><td>1005667059</td><td>8.882661e-02</td></tr>\n",
              "\t<tr><td> 5</td><td>2020</td><td>Asia   </td><td> 330482</td><td>4468915667</td><td>7.395127e-03</td></tr>\n",
              "\t<tr><td> 5</td><td>2020</td><td>Europe </td><td> 449445</td><td> 764402254</td><td>5.879692e-02</td></tr>\n",
              "\t<tr><td> 5</td><td>2020</td><td>Oceania</td><td>    364</td><td>  40152057</td><td>9.065538e-04</td></tr>\n",
              "\t<tr><td> 4</td><td>2020</td><td>Africa </td><td>  31598</td><td>1270968396</td><td>2.486136e-03</td></tr>\n",
              "\t<tr><td> 4</td><td>2020</td><td>America</td><td>1104862</td><td>1005667059</td><td>1.098636e-01</td></tr>\n",
              "\t<tr><td> 4</td><td>2020</td><td>Asia   </td><td> 333821</td><td>4468915667</td><td>7.469843e-03</td></tr>\n",
              "\t<tr><td> 4</td><td>2020</td><td>Europe </td><td> 863874</td><td> 764402254</td><td>1.130130e-01</td></tr>\n",
              "\t<tr><td> 4</td><td>2020</td><td>Oceania</td><td>   2812</td><td>  40152057</td><td>7.003377e-03</td></tr>\n",
              "\t<tr><td> 3</td><td>2020</td><td>Africa </td><td>   5134</td><td>1270968396</td><td>4.039440e-04</td></tr>\n",
              "\t<tr><td> 3</td><td>2020</td><td>America</td><td> 188660</td><td>1005667059</td><td>1.875969e-02</td></tr>\n",
              "\t<tr><td> 3</td><td>2020</td><td>Asia   </td><td>  85873</td><td>4468915667</td><td>1.921562e-03</td></tr>\n",
              "\t<tr><td> 3</td><td>2020</td><td>Europe </td><td> 426089</td><td> 764402254</td><td>5.574146e-02</td></tr>\n",
              "\t<tr><td> 3</td><td>2020</td><td>Oceania</td><td>   5298</td><td>  40152057</td><td>1.319484e-02</td></tr>\n",
              "\t<tr><td> 2</td><td>2020</td><td>Africa </td><td>      3</td><td>1270968396</td><td>2.360405e-07</td></tr>\n",
              "\t<tr><td> 2</td><td>2020</td><td>America</td><td>     76</td><td>1005667059</td><td>7.557173e-06</td></tr>\n",
              "\t<tr><td> 2</td><td>2020</td><td>Asia   </td><td>  73468</td><td>4468915667</td><td>1.643978e-03</td></tr>\n",
              "\t<tr><td> 2</td><td>2020</td><td>Europe </td><td>   1126</td><td> 764402254</td><td>1.473046e-04</td></tr>\n",
              "\t<tr><td> 2</td><td>2020</td><td>Oceania</td><td>     19</td><td>  40152057</td><td>4.732012e-05</td></tr>\n",
              "\t<tr><td> 1</td><td>2020</td><td>Africa </td><td>      0</td><td>1270968396</td><td>0.000000e+00</td></tr>\n",
              "\t<tr><td> 1</td><td>2020</td><td>America</td><td>      9</td><td>1005667059</td><td>8.949284e-07</td></tr>\n",
              "\t<tr><td> 1</td><td>2020</td><td>Asia   </td><td>   9766</td><td>4468915667</td><td>2.185318e-04</td></tr>\n",
              "\t<tr><td> 1</td><td>2020</td><td>Europe </td><td>     17</td><td> 764402254</td><td>2.223960e-06</td></tr>\n",
              "\t<tr><td> 1</td><td>2020</td><td>Oceania</td><td>      7</td><td>  40152057</td><td>1.743373e-05</td></tr>\n",
              "</tbody>\n",
              "</table>\n"
            ]
          },
          "metadata": {
            "tags": []
          }
        }
      ]
    },
    {
      "cell_type": "markdown",
      "metadata": {
        "colab_type": "text",
        "id": "QUWvGqQ3_k9q"
      },
      "source": [
        "## Task 2\n",
        "\n",
        "**Contact tracing**\n",
        "\n",
        "Governments rely on contact tracing to avoid the spread of the COVID-19 disease. Once a new case has been identified, health authorities track down people who may have been in contact with the sick person. \n",
        "\n",
        "Recently, there has been a new case and you are tasked to help local authorities to identify all contact persons. Initially, your only infomation is that the infected person (Mike) started to show symptoms on May 1, 2020 and was tested positiv and quarantined on the same day. However, infected persons can be contagious for up to 2 weeks without showing any symptoms. Hence, you have to reconstruct all contacts in that time window. \n",
        "\n",
        "The health authorities provide you with a dataframe ```df``` containing the personal information on Mike."
      ]
    },
    {
      "cell_type": "code",
      "metadata": {
        "colab_type": "code",
        "id": "LKfMMd47_mWg",
        "colab": {}
      },
      "source": [
        "df = data.frame(first_name = 'Mike', last_name = 'Williams', job = 'Student', passport_number = 204934343, phone_number = '+1-202-555-0121', quarantine_date = '2020-05-1', stringsAsFactors = FALSE)\n",
        "df"
      ],
      "execution_count": 0,
      "outputs": []
    },
    {
      "cell_type": "markdown",
      "metadata": {
        "colab_type": "text",
        "id": "l_h8EWJ2GYvy"
      },
      "source": [
        "In order to identify all contacts you first have to find the date Mike stated to be contagious.\n",
        "\n",
        "Hint: You should use the ```lubridate``` package."
      ]
    },
    {
      "cell_type": "code",
      "metadata": {
        "colab_type": "code",
        "id": "t7-FwmNYHxo5",
        "colab": {}
      },
      "source": [
        "# Insert your code here"
      ],
      "execution_count": 0,
      "outputs": []
    },
    {
      "cell_type": "markdown",
      "metadata": {
        "colab_type": "text",
        "id": "VtxFrJ_qES3I"
      },
      "source": [
        "During your investigations you find out that Mike visited the local gym once in the last month. Luckily, the gym uses an electronic gate and logs all visits with time stamps and member id. To help you reconstruct the data, the gym owner provides you with an additional file containing information on the members.  \n",
        "\n",
        "You can downlaod the member data from https://raw.githubusercontent.com/NikoStein/ADS20_Data/master/Assignment%201/gym_data.csv\n",
        "and the visitor logs from https://raw.githubusercontent.com/NikoStein/ADS20_Data/master/Assignment%201/gym_log.csv\n",
        "\n",
        "Load both dataframes and identify all possible contact persons (by name and member number) that could have met Mike in the gym for at least 15 minutes while he was contagious.\n",
        "\n",
        "\n",
        "\n",
        "Hint: You might have to use ```lubridate``` to transform the checkin and checkout columns\n"
      ]
    },
    {
      "cell_type": "code",
      "metadata": {
        "colab_type": "code",
        "id": "zQNlJHh4OeLV",
        "colab": {}
      },
      "source": [
        "# Insert your code here"
      ],
      "execution_count": 0,
      "outputs": []
    },
    {
      "cell_type": "markdown",
      "metadata": {
        "colab_type": "text",
        "id": "Cgn3psPZkLD7"
      },
      "source": [
        "Additionally, you learn that Mike took several exams in the university. While the university has social distancing measures in place it is still important to identify all students sitting close to Mike during one of the exams. Students with seat numbers in the range of -5 to +5 to Mike have to be identified. \n",
        "\n",
        "You can download a list of all exams Mike was registered for from https://raw.githubusercontent.com/NikoStein/ADS20_Data/master/Assignment%201/exams_data.csv\n",
        "\n",
        "\n",
        "\n"
      ]
    },
    {
      "cell_type": "code",
      "metadata": {
        "colab_type": "code",
        "id": "C5GZDYBZoD4n",
        "colab": {}
      },
      "source": [
        "# Insert your code here"
      ],
      "execution_count": 0,
      "outputs": []
    },
    {
      "cell_type": "markdown",
      "metadata": {
        "colab_type": "text",
        "id": "4OzpizX5oOvo"
      },
      "source": [
        "After downloading and inspecting the files you have to find all exams taken by Mike while he was contagious."
      ]
    },
    {
      "cell_type": "code",
      "metadata": {
        "colab_type": "code",
        "id": "nam6SmALot90",
        "colab": {}
      },
      "source": [
        "# Insert your code here"
      ],
      "execution_count": 0,
      "outputs": []
    },
    {
      "cell_type": "markdown",
      "metadata": {
        "colab_type": "text",
        "id": "ubbwbYb8pa7T"
      },
      "source": [
        "Next, identify all students that came into contact with Mike during one of the relevant exams. Store the first and last names of the students in a new data frame."
      ]
    },
    {
      "cell_type": "code",
      "metadata": {
        "colab_type": "code",
        "id": "KfSDY0dIpikI",
        "colab": {}
      },
      "source": [
        "# Insert your code here"
      ],
      "execution_count": 0,
      "outputs": []
    }
  ]
}