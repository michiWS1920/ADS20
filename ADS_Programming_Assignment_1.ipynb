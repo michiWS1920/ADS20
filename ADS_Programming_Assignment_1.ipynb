{
  "nbformat": 4,
  "nbformat_minor": 0,
  "metadata": {
    "colab": {
      "name": "ADS_Programming_Assignment_1.ipynb",
      "provenance": [],
      "collapsed_sections": [],
      "include_colab_link": true
    },
    "kernelspec": {
      "display_name": "R",
      "language": "R",
      "name": "ir"
    },
    "language_info": {
      "codemirror_mode": "r",
      "file_extension": ".r",
      "mimetype": "text/x-r-source",
      "name": "R",
      "pygments_lexer": "r",
      "version": "3.6.3"
    }
  },
  "cells": [
    {
      "cell_type": "markdown",
      "metadata": {
        "id": "view-in-github",
        "colab_type": "text"
      },
      "source": [
        "<a href=\"https://colab.research.google.com/github/michiWS1920/ADS20/blob/master/ADS_Programming_Assignment_1.ipynb\" target=\"_parent\"><img src=\"https://colab.research.google.com/assets/colab-badge.svg\" alt=\"Open In Colab\"/></a>"
      ]
    },
    {
      "cell_type": "markdown",
      "metadata": {
        "colab_type": "text",
        "id": "nRxTtieS2WnT"
      },
      "source": [
        "# Programming Assignment 1\n",
        "**Data Wrangling**\n",
        "\n",
        "In this first problem set you will use your data wrangling skills to answer (hopefully) interessting questions regarding the COVID-19 pandemic.\n"
      ]
    },
    {
      "cell_type": "markdown",
      "metadata": {
        "colab_type": "text",
        "id": "XhX_7qxX36Zd"
      },
      "source": [
        "To perform your analysis you have to load the library ```tidyverse```. If you want to use additional libraries you can add them to the following cell:"
      ]
    },
    {
      "cell_type": "code",
      "metadata": {
        "colab_type": "code",
        "id": "buG0f_XT4WjT",
        "colab": {
          "base_uri": "https://localhost:8080/",
          "height": 461
        },
        "outputId": "17732b7a-f9a2-4f7e-ef74-c4637edac67c"
      },
      "source": [
        "library(tidyverse)\n",
        "library(lubridate)"
      ],
      "execution_count": 1,
      "outputs": [
        {
          "output_type": "stream",
          "text": [
            "── \u001b[1mAttaching packages\u001b[22m ─────────────────────────────────────── tidyverse 1.3.0 ──\n",
            "\n",
            "\u001b[32m✔\u001b[39m \u001b[34mggplot2\u001b[39m 3.3.0     \u001b[32m✔\u001b[39m \u001b[34mpurrr  \u001b[39m 0.3.4\n",
            "\u001b[32m✔\u001b[39m \u001b[34mtibble \u001b[39m 3.0.1     \u001b[32m✔\u001b[39m \u001b[34mdplyr  \u001b[39m 0.8.5\n",
            "\u001b[32m✔\u001b[39m \u001b[34mtidyr  \u001b[39m 1.0.2     \u001b[32m✔\u001b[39m \u001b[34mstringr\u001b[39m 1.4.0\n",
            "\u001b[32m✔\u001b[39m \u001b[34mreadr  \u001b[39m 1.3.1     \u001b[32m✔\u001b[39m \u001b[34mforcats\u001b[39m 0.5.0\n",
            "\n",
            "── \u001b[1mConflicts\u001b[22m ────────────────────────────────────────── tidyverse_conflicts() ──\n",
            "\u001b[31m✖\u001b[39m \u001b[34mdplyr\u001b[39m::\u001b[32mfilter()\u001b[39m masks \u001b[34mstats\u001b[39m::filter()\n",
            "\u001b[31m✖\u001b[39m \u001b[34mdplyr\u001b[39m::\u001b[32mlag()\u001b[39m    masks \u001b[34mstats\u001b[39m::lag()\n",
            "\n",
            "\n",
            "Attaching package: ‘lubridate’\n",
            "\n",
            "\n",
            "The following objects are masked from ‘package:dplyr’:\n",
            "\n",
            "    intersect, setdiff, union\n",
            "\n",
            "\n",
            "The following objects are masked from ‘package:base’:\n",
            "\n",
            "    date, intersect, setdiff, union\n",
            "\n",
            "\n"
          ],
          "name": "stderr"
        }
      ]
    },
    {
      "cell_type": "markdown",
      "metadata": {
        "colab_type": "text",
        "id": "r9lQQshq3WH4"
      },
      "source": [
        "## Task 1\n",
        "**COVID-19 cases worldwide**\n",
        "\n",
        "For you first task you will work with data provided by the [EU Open Data Portal](https://data.europa.eu/euodp/en/home). We will use a dataset providing information on the geographic distribution of COVID-19 cases worldwide. You can download the .csv file [here](https://data.europa.eu/euodp/en/data/dataset/covid-19-coronavirus-data/resource/260bbbde-2316-40eb-aec3-7cd7bfc2f590) or load it directly into your notebook by using the download link https://opendata.ecdc.europa.eu/covid19/casedistribution/csv .\n",
        "\n",
        "Your first task is to load the data into a dataframe:"
      ]
    },
    {
      "cell_type": "code",
      "metadata": {
        "colab_type": "code",
        "id": "m3ljQlax51bq",
        "colab": {
          "base_uri": "https://localhost:8080/",
          "height": 1000
        },
        "outputId": "10ec6e25-cb27-44e9-920a-d4df20997088"
      },
      "source": [
        "# Insert your code here\n",
        "covid <- as.data.frame(read.csv(url(\"https://opendata.ecdc.europa.eu/covid19/casedistribution/csv\")))\n",
        "covid"
      ],
      "execution_count": 5,
      "outputs": [
        {
          "output_type": "display_data",
          "data": {
            "text/plain": [
              "      dateRep    day month year cases deaths countriesAndTerritories geoId\n",
              "1     15/05/2020 15  5     2020 113    6     Afghanistan             AF   \n",
              "2     14/05/2020 14  5     2020 259    3     Afghanistan             AF   \n",
              "3     13/05/2020 13  5     2020 280    5     Afghanistan             AF   \n",
              "4     12/05/2020 12  5     2020 285    2     Afghanistan             AF   \n",
              "5     11/05/2020 11  5     2020 369    5     Afghanistan             AF   \n",
              "6     10/05/2020 10  5     2020 255    6     Afghanistan             AF   \n",
              "7     09/05/2020  9  5     2020 215    3     Afghanistan             AF   \n",
              "8     08/05/2020  8  5     2020 171    2     Afghanistan             AF   \n",
              "9     07/05/2020  7  5     2020 168    9     Afghanistan             AF   \n",
              "10    06/05/2020  6  5     2020 330    5     Afghanistan             AF   \n",
              "11    05/05/2020  5  5     2020 190    5     Afghanistan             AF   \n",
              "12    04/05/2020  4  5     2020 235   13     Afghanistan             AF   \n",
              "13    03/05/2020  3  5     2020 134    4     Afghanistan             AF   \n",
              "14    02/05/2020  2  5     2020 164    4     Afghanistan             AF   \n",
              "15    01/05/2020  1  5     2020 222    4     Afghanistan             AF   \n",
              "16    30/04/2020 30  4     2020 122    0     Afghanistan             AF   \n",
              "17    29/04/2020 29  4     2020 124    3     Afghanistan             AF   \n",
              "18    28/04/2020 28  4     2020 172    0     Afghanistan             AF   \n",
              "19    27/04/2020 27  4     2020  68   10     Afghanistan             AF   \n",
              "20    26/04/2020 26  4     2020 112    4     Afghanistan             AF   \n",
              "21    25/04/2020 25  4     2020  70    1     Afghanistan             AF   \n",
              "22    24/04/2020 24  4     2020 105    2     Afghanistan             AF   \n",
              "23    23/04/2020 23  4     2020  84    4     Afghanistan             AF   \n",
              "24    22/04/2020 22  4     2020  61    1     Afghanistan             AF   \n",
              "25    21/04/2020 21  4     2020  35    2     Afghanistan             AF   \n",
              "26    20/04/2020 20  4     2020  88    3     Afghanistan             AF   \n",
              "27    19/04/2020 19  4     2020  63    0     Afghanistan             AF   \n",
              "28    18/04/2020 18  4     2020  51    1     Afghanistan             AF   \n",
              "29    17/04/2020 17  4     2020  10    4     Afghanistan             AF   \n",
              "30    16/04/2020 16  4     2020  70    2     Afghanistan             AF   \n",
              "⋮     ⋮          ⋮   ⋮     ⋮    ⋮     ⋮      ⋮                       ⋮    \n",
              "17129 19/04/2020 19  4     2020 1     0      Zimbabwe                ZW   \n",
              "17130 18/04/2020 18  4     2020 0     0      Zimbabwe                ZW   \n",
              "17131 17/04/2020 17  4     2020 1     0      Zimbabwe                ZW   \n",
              "17132 16/04/2020 16  4     2020 6     0      Zimbabwe                ZW   \n",
              "17133 15/04/2020 15  4     2020 0     0      Zimbabwe                ZW   \n",
              "17134 14/04/2020 14  4     2020 3     0      Zimbabwe                ZW   \n",
              "17135 13/04/2020 13  4     2020 0     0      Zimbabwe                ZW   \n",
              "17136 12/04/2020 12  4     2020 3     0      Zimbabwe                ZW   \n",
              "17137 11/04/2020 11  4     2020 0     0      Zimbabwe                ZW   \n",
              "17138 10/04/2020 10  4     2020 0     1      Zimbabwe                ZW   \n",
              "17139 09/04/2020  9  4     2020 1     1      Zimbabwe                ZW   \n",
              "17140 08/04/2020  8  4     2020 1     0      Zimbabwe                ZW   \n",
              "17141 07/04/2020  7  4     2020 0     0      Zimbabwe                ZW   \n",
              "17142 06/04/2020  6  4     2020 0     0      Zimbabwe                ZW   \n",
              "17143 05/04/2020  5  4     2020 0     0      Zimbabwe                ZW   \n",
              "17144 04/04/2020  4  4     2020 1     0      Zimbabwe                ZW   \n",
              "17145 03/04/2020  3  4     2020 0     0      Zimbabwe                ZW   \n",
              "17146 02/04/2020  2  4     2020 0     0      Zimbabwe                ZW   \n",
              "17147 01/04/2020  1  4     2020 1     0      Zimbabwe                ZW   \n",
              "17148 31/03/2020 31  3     2020 0     0      Zimbabwe                ZW   \n",
              "17149 30/03/2020 30  3     2020 0     0      Zimbabwe                ZW   \n",
              "17150 29/03/2020 29  3     2020 2     0      Zimbabwe                ZW   \n",
              "17151 28/03/2020 28  3     2020 2     0      Zimbabwe                ZW   \n",
              "17152 27/03/2020 27  3     2020 0     0      Zimbabwe                ZW   \n",
              "17153 26/03/2020 26  3     2020 1     0      Zimbabwe                ZW   \n",
              "17154 25/03/2020 25  3     2020 0     0      Zimbabwe                ZW   \n",
              "17155 24/03/2020 24  3     2020 0     1      Zimbabwe                ZW   \n",
              "17156 23/03/2020 23  3     2020 0     0      Zimbabwe                ZW   \n",
              "17157 22/03/2020 22  3     2020 1     0      Zimbabwe                ZW   \n",
              "17158 21/03/2020 21  3     2020 1     0      Zimbabwe                ZW   \n",
              "      countryterritoryCode popData2018 continentExp\n",
              "1     AFG                  37172386    Asia        \n",
              "2     AFG                  37172386    Asia        \n",
              "3     AFG                  37172386    Asia        \n",
              "4     AFG                  37172386    Asia        \n",
              "5     AFG                  37172386    Asia        \n",
              "6     AFG                  37172386    Asia        \n",
              "7     AFG                  37172386    Asia        \n",
              "8     AFG                  37172386    Asia        \n",
              "9     AFG                  37172386    Asia        \n",
              "10    AFG                  37172386    Asia        \n",
              "11    AFG                  37172386    Asia        \n",
              "12    AFG                  37172386    Asia        \n",
              "13    AFG                  37172386    Asia        \n",
              "14    AFG                  37172386    Asia        \n",
              "15    AFG                  37172386    Asia        \n",
              "16    AFG                  37172386    Asia        \n",
              "17    AFG                  37172386    Asia        \n",
              "18    AFG                  37172386    Asia        \n",
              "19    AFG                  37172386    Asia        \n",
              "20    AFG                  37172386    Asia        \n",
              "21    AFG                  37172386    Asia        \n",
              "22    AFG                  37172386    Asia        \n",
              "23    AFG                  37172386    Asia        \n",
              "24    AFG                  37172386    Asia        \n",
              "25    AFG                  37172386    Asia        \n",
              "26    AFG                  37172386    Asia        \n",
              "27    AFG                  37172386    Asia        \n",
              "28    AFG                  37172386    Asia        \n",
              "29    AFG                  37172386    Asia        \n",
              "30    AFG                  37172386    Asia        \n",
              "⋮     ⋮                    ⋮           ⋮           \n",
              "17129 ZWE                  14439018    Africa      \n",
              "17130 ZWE                  14439018    Africa      \n",
              "17131 ZWE                  14439018    Africa      \n",
              "17132 ZWE                  14439018    Africa      \n",
              "17133 ZWE                  14439018    Africa      \n",
              "17134 ZWE                  14439018    Africa      \n",
              "17135 ZWE                  14439018    Africa      \n",
              "17136 ZWE                  14439018    Africa      \n",
              "17137 ZWE                  14439018    Africa      \n",
              "17138 ZWE                  14439018    Africa      \n",
              "17139 ZWE                  14439018    Africa      \n",
              "17140 ZWE                  14439018    Africa      \n",
              "17141 ZWE                  14439018    Africa      \n",
              "17142 ZWE                  14439018    Africa      \n",
              "17143 ZWE                  14439018    Africa      \n",
              "17144 ZWE                  14439018    Africa      \n",
              "17145 ZWE                  14439018    Africa      \n",
              "17146 ZWE                  14439018    Africa      \n",
              "17147 ZWE                  14439018    Africa      \n",
              "17148 ZWE                  14439018    Africa      \n",
              "17149 ZWE                  14439018    Africa      \n",
              "17150 ZWE                  14439018    Africa      \n",
              "17151 ZWE                  14439018    Africa      \n",
              "17152 ZWE                  14439018    Africa      \n",
              "17153 ZWE                  14439018    Africa      \n",
              "17154 ZWE                  14439018    Africa      \n",
              "17155 ZWE                  14439018    Africa      \n",
              "17156 ZWE                  14439018    Africa      \n",
              "17157 ZWE                  14439018    Africa      \n",
              "17158 ZWE                  14439018    Africa      "
            ],
            "text/latex": "A data.frame: 17158 × 11\n\\begin{tabular}{lllllllllll}\n dateRep & day & month & year & cases & deaths & countriesAndTerritories & geoId & countryterritoryCode & popData2018 & continentExp\\\\\n <fct> & <int> & <int> & <int> & <int> & <int> & <fct> & <fct> & <fct> & <int> & <fct>\\\\\n\\hline\n\t 15/05/2020 & 15 & 5 & 2020 & 113 &  6 & Afghanistan & AF & AFG & 37172386 & Asia\\\\\n\t 14/05/2020 & 14 & 5 & 2020 & 259 &  3 & Afghanistan & AF & AFG & 37172386 & Asia\\\\\n\t 13/05/2020 & 13 & 5 & 2020 & 280 &  5 & Afghanistan & AF & AFG & 37172386 & Asia\\\\\n\t 12/05/2020 & 12 & 5 & 2020 & 285 &  2 & Afghanistan & AF & AFG & 37172386 & Asia\\\\\n\t 11/05/2020 & 11 & 5 & 2020 & 369 &  5 & Afghanistan & AF & AFG & 37172386 & Asia\\\\\n\t 10/05/2020 & 10 & 5 & 2020 & 255 &  6 & Afghanistan & AF & AFG & 37172386 & Asia\\\\\n\t 09/05/2020 &  9 & 5 & 2020 & 215 &  3 & Afghanistan & AF & AFG & 37172386 & Asia\\\\\n\t 08/05/2020 &  8 & 5 & 2020 & 171 &  2 & Afghanistan & AF & AFG & 37172386 & Asia\\\\\n\t 07/05/2020 &  7 & 5 & 2020 & 168 &  9 & Afghanistan & AF & AFG & 37172386 & Asia\\\\\n\t 06/05/2020 &  6 & 5 & 2020 & 330 &  5 & Afghanistan & AF & AFG & 37172386 & Asia\\\\\n\t 05/05/2020 &  5 & 5 & 2020 & 190 &  5 & Afghanistan & AF & AFG & 37172386 & Asia\\\\\n\t 04/05/2020 &  4 & 5 & 2020 & 235 & 13 & Afghanistan & AF & AFG & 37172386 & Asia\\\\\n\t 03/05/2020 &  3 & 5 & 2020 & 134 &  4 & Afghanistan & AF & AFG & 37172386 & Asia\\\\\n\t 02/05/2020 &  2 & 5 & 2020 & 164 &  4 & Afghanistan & AF & AFG & 37172386 & Asia\\\\\n\t 01/05/2020 &  1 & 5 & 2020 & 222 &  4 & Afghanistan & AF & AFG & 37172386 & Asia\\\\\n\t 30/04/2020 & 30 & 4 & 2020 & 122 &  0 & Afghanistan & AF & AFG & 37172386 & Asia\\\\\n\t 29/04/2020 & 29 & 4 & 2020 & 124 &  3 & Afghanistan & AF & AFG & 37172386 & Asia\\\\\n\t 28/04/2020 & 28 & 4 & 2020 & 172 &  0 & Afghanistan & AF & AFG & 37172386 & Asia\\\\\n\t 27/04/2020 & 27 & 4 & 2020 &  68 & 10 & Afghanistan & AF & AFG & 37172386 & Asia\\\\\n\t 26/04/2020 & 26 & 4 & 2020 & 112 &  4 & Afghanistan & AF & AFG & 37172386 & Asia\\\\\n\t 25/04/2020 & 25 & 4 & 2020 &  70 &  1 & Afghanistan & AF & AFG & 37172386 & Asia\\\\\n\t 24/04/2020 & 24 & 4 & 2020 & 105 &  2 & Afghanistan & AF & AFG & 37172386 & Asia\\\\\n\t 23/04/2020 & 23 & 4 & 2020 &  84 &  4 & Afghanistan & AF & AFG & 37172386 & Asia\\\\\n\t 22/04/2020 & 22 & 4 & 2020 &  61 &  1 & Afghanistan & AF & AFG & 37172386 & Asia\\\\\n\t 21/04/2020 & 21 & 4 & 2020 &  35 &  2 & Afghanistan & AF & AFG & 37172386 & Asia\\\\\n\t 20/04/2020 & 20 & 4 & 2020 &  88 &  3 & Afghanistan & AF & AFG & 37172386 & Asia\\\\\n\t 19/04/2020 & 19 & 4 & 2020 &  63 &  0 & Afghanistan & AF & AFG & 37172386 & Asia\\\\\n\t 18/04/2020 & 18 & 4 & 2020 &  51 &  1 & Afghanistan & AF & AFG & 37172386 & Asia\\\\\n\t 17/04/2020 & 17 & 4 & 2020 &  10 &  4 & Afghanistan & AF & AFG & 37172386 & Asia\\\\\n\t 16/04/2020 & 16 & 4 & 2020 &  70 &  2 & Afghanistan & AF & AFG & 37172386 & Asia\\\\\n\t ⋮ & ⋮ & ⋮ & ⋮ & ⋮ & ⋮ & ⋮ & ⋮ & ⋮ & ⋮ & ⋮\\\\\n\t 19/04/2020 & 19 & 4 & 2020 & 1 & 0 & Zimbabwe & ZW & ZWE & 14439018 & Africa\\\\\n\t 18/04/2020 & 18 & 4 & 2020 & 0 & 0 & Zimbabwe & ZW & ZWE & 14439018 & Africa\\\\\n\t 17/04/2020 & 17 & 4 & 2020 & 1 & 0 & Zimbabwe & ZW & ZWE & 14439018 & Africa\\\\\n\t 16/04/2020 & 16 & 4 & 2020 & 6 & 0 & Zimbabwe & ZW & ZWE & 14439018 & Africa\\\\\n\t 15/04/2020 & 15 & 4 & 2020 & 0 & 0 & Zimbabwe & ZW & ZWE & 14439018 & Africa\\\\\n\t 14/04/2020 & 14 & 4 & 2020 & 3 & 0 & Zimbabwe & ZW & ZWE & 14439018 & Africa\\\\\n\t 13/04/2020 & 13 & 4 & 2020 & 0 & 0 & Zimbabwe & ZW & ZWE & 14439018 & Africa\\\\\n\t 12/04/2020 & 12 & 4 & 2020 & 3 & 0 & Zimbabwe & ZW & ZWE & 14439018 & Africa\\\\\n\t 11/04/2020 & 11 & 4 & 2020 & 0 & 0 & Zimbabwe & ZW & ZWE & 14439018 & Africa\\\\\n\t 10/04/2020 & 10 & 4 & 2020 & 0 & 1 & Zimbabwe & ZW & ZWE & 14439018 & Africa\\\\\n\t 09/04/2020 &  9 & 4 & 2020 & 1 & 1 & Zimbabwe & ZW & ZWE & 14439018 & Africa\\\\\n\t 08/04/2020 &  8 & 4 & 2020 & 1 & 0 & Zimbabwe & ZW & ZWE & 14439018 & Africa\\\\\n\t 07/04/2020 &  7 & 4 & 2020 & 0 & 0 & Zimbabwe & ZW & ZWE & 14439018 & Africa\\\\\n\t 06/04/2020 &  6 & 4 & 2020 & 0 & 0 & Zimbabwe & ZW & ZWE & 14439018 & Africa\\\\\n\t 05/04/2020 &  5 & 4 & 2020 & 0 & 0 & Zimbabwe & ZW & ZWE & 14439018 & Africa\\\\\n\t 04/04/2020 &  4 & 4 & 2020 & 1 & 0 & Zimbabwe & ZW & ZWE & 14439018 & Africa\\\\\n\t 03/04/2020 &  3 & 4 & 2020 & 0 & 0 & Zimbabwe & ZW & ZWE & 14439018 & Africa\\\\\n\t 02/04/2020 &  2 & 4 & 2020 & 0 & 0 & Zimbabwe & ZW & ZWE & 14439018 & Africa\\\\\n\t 01/04/2020 &  1 & 4 & 2020 & 1 & 0 & Zimbabwe & ZW & ZWE & 14439018 & Africa\\\\\n\t 31/03/2020 & 31 & 3 & 2020 & 0 & 0 & Zimbabwe & ZW & ZWE & 14439018 & Africa\\\\\n\t 30/03/2020 & 30 & 3 & 2020 & 0 & 0 & Zimbabwe & ZW & ZWE & 14439018 & Africa\\\\\n\t 29/03/2020 & 29 & 3 & 2020 & 2 & 0 & Zimbabwe & ZW & ZWE & 14439018 & Africa\\\\\n\t 28/03/2020 & 28 & 3 & 2020 & 2 & 0 & Zimbabwe & ZW & ZWE & 14439018 & Africa\\\\\n\t 27/03/2020 & 27 & 3 & 2020 & 0 & 0 & Zimbabwe & ZW & ZWE & 14439018 & Africa\\\\\n\t 26/03/2020 & 26 & 3 & 2020 & 1 & 0 & Zimbabwe & ZW & ZWE & 14439018 & Africa\\\\\n\t 25/03/2020 & 25 & 3 & 2020 & 0 & 0 & Zimbabwe & ZW & ZWE & 14439018 & Africa\\\\\n\t 24/03/2020 & 24 & 3 & 2020 & 0 & 1 & Zimbabwe & ZW & ZWE & 14439018 & Africa\\\\\n\t 23/03/2020 & 23 & 3 & 2020 & 0 & 0 & Zimbabwe & ZW & ZWE & 14439018 & Africa\\\\\n\t 22/03/2020 & 22 & 3 & 2020 & 1 & 0 & Zimbabwe & ZW & ZWE & 14439018 & Africa\\\\\n\t 21/03/2020 & 21 & 3 & 2020 & 1 & 0 & Zimbabwe & ZW & ZWE & 14439018 & Africa\\\\\n\\end{tabular}\n",
            "text/markdown": "\nA data.frame: 17158 × 11\n\n| dateRep &lt;fct&gt; | day &lt;int&gt; | month &lt;int&gt; | year &lt;int&gt; | cases &lt;int&gt; | deaths &lt;int&gt; | countriesAndTerritories &lt;fct&gt; | geoId &lt;fct&gt; | countryterritoryCode &lt;fct&gt; | popData2018 &lt;int&gt; | continentExp &lt;fct&gt; |\n|---|---|---|---|---|---|---|---|---|---|---|\n| 15/05/2020 | 15 | 5 | 2020 | 113 |  6 | Afghanistan | AF | AFG | 37172386 | Asia |\n| 14/05/2020 | 14 | 5 | 2020 | 259 |  3 | Afghanistan | AF | AFG | 37172386 | Asia |\n| 13/05/2020 | 13 | 5 | 2020 | 280 |  5 | Afghanistan | AF | AFG | 37172386 | Asia |\n| 12/05/2020 | 12 | 5 | 2020 | 285 |  2 | Afghanistan | AF | AFG | 37172386 | Asia |\n| 11/05/2020 | 11 | 5 | 2020 | 369 |  5 | Afghanistan | AF | AFG | 37172386 | Asia |\n| 10/05/2020 | 10 | 5 | 2020 | 255 |  6 | Afghanistan | AF | AFG | 37172386 | Asia |\n| 09/05/2020 |  9 | 5 | 2020 | 215 |  3 | Afghanistan | AF | AFG | 37172386 | Asia |\n| 08/05/2020 |  8 | 5 | 2020 | 171 |  2 | Afghanistan | AF | AFG | 37172386 | Asia |\n| 07/05/2020 |  7 | 5 | 2020 | 168 |  9 | Afghanistan | AF | AFG | 37172386 | Asia |\n| 06/05/2020 |  6 | 5 | 2020 | 330 |  5 | Afghanistan | AF | AFG | 37172386 | Asia |\n| 05/05/2020 |  5 | 5 | 2020 | 190 |  5 | Afghanistan | AF | AFG | 37172386 | Asia |\n| 04/05/2020 |  4 | 5 | 2020 | 235 | 13 | Afghanistan | AF | AFG | 37172386 | Asia |\n| 03/05/2020 |  3 | 5 | 2020 | 134 |  4 | Afghanistan | AF | AFG | 37172386 | Asia |\n| 02/05/2020 |  2 | 5 | 2020 | 164 |  4 | Afghanistan | AF | AFG | 37172386 | Asia |\n| 01/05/2020 |  1 | 5 | 2020 | 222 |  4 | Afghanistan | AF | AFG | 37172386 | Asia |\n| 30/04/2020 | 30 | 4 | 2020 | 122 |  0 | Afghanistan | AF | AFG | 37172386 | Asia |\n| 29/04/2020 | 29 | 4 | 2020 | 124 |  3 | Afghanistan | AF | AFG | 37172386 | Asia |\n| 28/04/2020 | 28 | 4 | 2020 | 172 |  0 | Afghanistan | AF | AFG | 37172386 | Asia |\n| 27/04/2020 | 27 | 4 | 2020 |  68 | 10 | Afghanistan | AF | AFG | 37172386 | Asia |\n| 26/04/2020 | 26 | 4 | 2020 | 112 |  4 | Afghanistan | AF | AFG | 37172386 | Asia |\n| 25/04/2020 | 25 | 4 | 2020 |  70 |  1 | Afghanistan | AF | AFG | 37172386 | Asia |\n| 24/04/2020 | 24 | 4 | 2020 | 105 |  2 | Afghanistan | AF | AFG | 37172386 | Asia |\n| 23/04/2020 | 23 | 4 | 2020 |  84 |  4 | Afghanistan | AF | AFG | 37172386 | Asia |\n| 22/04/2020 | 22 | 4 | 2020 |  61 |  1 | Afghanistan | AF | AFG | 37172386 | Asia |\n| 21/04/2020 | 21 | 4 | 2020 |  35 |  2 | Afghanistan | AF | AFG | 37172386 | Asia |\n| 20/04/2020 | 20 | 4 | 2020 |  88 |  3 | Afghanistan | AF | AFG | 37172386 | Asia |\n| 19/04/2020 | 19 | 4 | 2020 |  63 |  0 | Afghanistan | AF | AFG | 37172386 | Asia |\n| 18/04/2020 | 18 | 4 | 2020 |  51 |  1 | Afghanistan | AF | AFG | 37172386 | Asia |\n| 17/04/2020 | 17 | 4 | 2020 |  10 |  4 | Afghanistan | AF | AFG | 37172386 | Asia |\n| 16/04/2020 | 16 | 4 | 2020 |  70 |  2 | Afghanistan | AF | AFG | 37172386 | Asia |\n| ⋮ | ⋮ | ⋮ | ⋮ | ⋮ | ⋮ | ⋮ | ⋮ | ⋮ | ⋮ | ⋮ |\n| 19/04/2020 | 19 | 4 | 2020 | 1 | 0 | Zimbabwe | ZW | ZWE | 14439018 | Africa |\n| 18/04/2020 | 18 | 4 | 2020 | 0 | 0 | Zimbabwe | ZW | ZWE | 14439018 | Africa |\n| 17/04/2020 | 17 | 4 | 2020 | 1 | 0 | Zimbabwe | ZW | ZWE | 14439018 | Africa |\n| 16/04/2020 | 16 | 4 | 2020 | 6 | 0 | Zimbabwe | ZW | ZWE | 14439018 | Africa |\n| 15/04/2020 | 15 | 4 | 2020 | 0 | 0 | Zimbabwe | ZW | ZWE | 14439018 | Africa |\n| 14/04/2020 | 14 | 4 | 2020 | 3 | 0 | Zimbabwe | ZW | ZWE | 14439018 | Africa |\n| 13/04/2020 | 13 | 4 | 2020 | 0 | 0 | Zimbabwe | ZW | ZWE | 14439018 | Africa |\n| 12/04/2020 | 12 | 4 | 2020 | 3 | 0 | Zimbabwe | ZW | ZWE | 14439018 | Africa |\n| 11/04/2020 | 11 | 4 | 2020 | 0 | 0 | Zimbabwe | ZW | ZWE | 14439018 | Africa |\n| 10/04/2020 | 10 | 4 | 2020 | 0 | 1 | Zimbabwe | ZW | ZWE | 14439018 | Africa |\n| 09/04/2020 |  9 | 4 | 2020 | 1 | 1 | Zimbabwe | ZW | ZWE | 14439018 | Africa |\n| 08/04/2020 |  8 | 4 | 2020 | 1 | 0 | Zimbabwe | ZW | ZWE | 14439018 | Africa |\n| 07/04/2020 |  7 | 4 | 2020 | 0 | 0 | Zimbabwe | ZW | ZWE | 14439018 | Africa |\n| 06/04/2020 |  6 | 4 | 2020 | 0 | 0 | Zimbabwe | ZW | ZWE | 14439018 | Africa |\n| 05/04/2020 |  5 | 4 | 2020 | 0 | 0 | Zimbabwe | ZW | ZWE | 14439018 | Africa |\n| 04/04/2020 |  4 | 4 | 2020 | 1 | 0 | Zimbabwe | ZW | ZWE | 14439018 | Africa |\n| 03/04/2020 |  3 | 4 | 2020 | 0 | 0 | Zimbabwe | ZW | ZWE | 14439018 | Africa |\n| 02/04/2020 |  2 | 4 | 2020 | 0 | 0 | Zimbabwe | ZW | ZWE | 14439018 | Africa |\n| 01/04/2020 |  1 | 4 | 2020 | 1 | 0 | Zimbabwe | ZW | ZWE | 14439018 | Africa |\n| 31/03/2020 | 31 | 3 | 2020 | 0 | 0 | Zimbabwe | ZW | ZWE | 14439018 | Africa |\n| 30/03/2020 | 30 | 3 | 2020 | 0 | 0 | Zimbabwe | ZW | ZWE | 14439018 | Africa |\n| 29/03/2020 | 29 | 3 | 2020 | 2 | 0 | Zimbabwe | ZW | ZWE | 14439018 | Africa |\n| 28/03/2020 | 28 | 3 | 2020 | 2 | 0 | Zimbabwe | ZW | ZWE | 14439018 | Africa |\n| 27/03/2020 | 27 | 3 | 2020 | 0 | 0 | Zimbabwe | ZW | ZWE | 14439018 | Africa |\n| 26/03/2020 | 26 | 3 | 2020 | 1 | 0 | Zimbabwe | ZW | ZWE | 14439018 | Africa |\n| 25/03/2020 | 25 | 3 | 2020 | 0 | 0 | Zimbabwe | ZW | ZWE | 14439018 | Africa |\n| 24/03/2020 | 24 | 3 | 2020 | 0 | 1 | Zimbabwe | ZW | ZWE | 14439018 | Africa |\n| 23/03/2020 | 23 | 3 | 2020 | 0 | 0 | Zimbabwe | ZW | ZWE | 14439018 | Africa |\n| 22/03/2020 | 22 | 3 | 2020 | 1 | 0 | Zimbabwe | ZW | ZWE | 14439018 | Africa |\n| 21/03/2020 | 21 | 3 | 2020 | 1 | 0 | Zimbabwe | ZW | ZWE | 14439018 | Africa |\n\n",
            "text/html": [
              "<table>\n",
              "<caption>A data.frame: 17158 × 11</caption>\n",
              "<thead>\n",
              "\t<tr><th scope=col>dateRep</th><th scope=col>day</th><th scope=col>month</th><th scope=col>year</th><th scope=col>cases</th><th scope=col>deaths</th><th scope=col>countriesAndTerritories</th><th scope=col>geoId</th><th scope=col>countryterritoryCode</th><th scope=col>popData2018</th><th scope=col>continentExp</th></tr>\n",
              "\t<tr><th scope=col>&lt;fct&gt;</th><th scope=col>&lt;int&gt;</th><th scope=col>&lt;int&gt;</th><th scope=col>&lt;int&gt;</th><th scope=col>&lt;int&gt;</th><th scope=col>&lt;int&gt;</th><th scope=col>&lt;fct&gt;</th><th scope=col>&lt;fct&gt;</th><th scope=col>&lt;fct&gt;</th><th scope=col>&lt;int&gt;</th><th scope=col>&lt;fct&gt;</th></tr>\n",
              "</thead>\n",
              "<tbody>\n",
              "\t<tr><td>15/05/2020</td><td>15</td><td>5</td><td>2020</td><td>113</td><td> 6</td><td>Afghanistan</td><td>AF</td><td>AFG</td><td>37172386</td><td>Asia</td></tr>\n",
              "\t<tr><td>14/05/2020</td><td>14</td><td>5</td><td>2020</td><td>259</td><td> 3</td><td>Afghanistan</td><td>AF</td><td>AFG</td><td>37172386</td><td>Asia</td></tr>\n",
              "\t<tr><td>13/05/2020</td><td>13</td><td>5</td><td>2020</td><td>280</td><td> 5</td><td>Afghanistan</td><td>AF</td><td>AFG</td><td>37172386</td><td>Asia</td></tr>\n",
              "\t<tr><td>12/05/2020</td><td>12</td><td>5</td><td>2020</td><td>285</td><td> 2</td><td>Afghanistan</td><td>AF</td><td>AFG</td><td>37172386</td><td>Asia</td></tr>\n",
              "\t<tr><td>11/05/2020</td><td>11</td><td>5</td><td>2020</td><td>369</td><td> 5</td><td>Afghanistan</td><td>AF</td><td>AFG</td><td>37172386</td><td>Asia</td></tr>\n",
              "\t<tr><td>10/05/2020</td><td>10</td><td>5</td><td>2020</td><td>255</td><td> 6</td><td>Afghanistan</td><td>AF</td><td>AFG</td><td>37172386</td><td>Asia</td></tr>\n",
              "\t<tr><td>09/05/2020</td><td> 9</td><td>5</td><td>2020</td><td>215</td><td> 3</td><td>Afghanistan</td><td>AF</td><td>AFG</td><td>37172386</td><td>Asia</td></tr>\n",
              "\t<tr><td>08/05/2020</td><td> 8</td><td>5</td><td>2020</td><td>171</td><td> 2</td><td>Afghanistan</td><td>AF</td><td>AFG</td><td>37172386</td><td>Asia</td></tr>\n",
              "\t<tr><td>07/05/2020</td><td> 7</td><td>5</td><td>2020</td><td>168</td><td> 9</td><td>Afghanistan</td><td>AF</td><td>AFG</td><td>37172386</td><td>Asia</td></tr>\n",
              "\t<tr><td>06/05/2020</td><td> 6</td><td>5</td><td>2020</td><td>330</td><td> 5</td><td>Afghanistan</td><td>AF</td><td>AFG</td><td>37172386</td><td>Asia</td></tr>\n",
              "\t<tr><td>05/05/2020</td><td> 5</td><td>5</td><td>2020</td><td>190</td><td> 5</td><td>Afghanistan</td><td>AF</td><td>AFG</td><td>37172386</td><td>Asia</td></tr>\n",
              "\t<tr><td>04/05/2020</td><td> 4</td><td>5</td><td>2020</td><td>235</td><td>13</td><td>Afghanistan</td><td>AF</td><td>AFG</td><td>37172386</td><td>Asia</td></tr>\n",
              "\t<tr><td>03/05/2020</td><td> 3</td><td>5</td><td>2020</td><td>134</td><td> 4</td><td>Afghanistan</td><td>AF</td><td>AFG</td><td>37172386</td><td>Asia</td></tr>\n",
              "\t<tr><td>02/05/2020</td><td> 2</td><td>5</td><td>2020</td><td>164</td><td> 4</td><td>Afghanistan</td><td>AF</td><td>AFG</td><td>37172386</td><td>Asia</td></tr>\n",
              "\t<tr><td>01/05/2020</td><td> 1</td><td>5</td><td>2020</td><td>222</td><td> 4</td><td>Afghanistan</td><td>AF</td><td>AFG</td><td>37172386</td><td>Asia</td></tr>\n",
              "\t<tr><td>30/04/2020</td><td>30</td><td>4</td><td>2020</td><td>122</td><td> 0</td><td>Afghanistan</td><td>AF</td><td>AFG</td><td>37172386</td><td>Asia</td></tr>\n",
              "\t<tr><td>29/04/2020</td><td>29</td><td>4</td><td>2020</td><td>124</td><td> 3</td><td>Afghanistan</td><td>AF</td><td>AFG</td><td>37172386</td><td>Asia</td></tr>\n",
              "\t<tr><td>28/04/2020</td><td>28</td><td>4</td><td>2020</td><td>172</td><td> 0</td><td>Afghanistan</td><td>AF</td><td>AFG</td><td>37172386</td><td>Asia</td></tr>\n",
              "\t<tr><td>27/04/2020</td><td>27</td><td>4</td><td>2020</td><td> 68</td><td>10</td><td>Afghanistan</td><td>AF</td><td>AFG</td><td>37172386</td><td>Asia</td></tr>\n",
              "\t<tr><td>26/04/2020</td><td>26</td><td>4</td><td>2020</td><td>112</td><td> 4</td><td>Afghanistan</td><td>AF</td><td>AFG</td><td>37172386</td><td>Asia</td></tr>\n",
              "\t<tr><td>25/04/2020</td><td>25</td><td>4</td><td>2020</td><td> 70</td><td> 1</td><td>Afghanistan</td><td>AF</td><td>AFG</td><td>37172386</td><td>Asia</td></tr>\n",
              "\t<tr><td>24/04/2020</td><td>24</td><td>4</td><td>2020</td><td>105</td><td> 2</td><td>Afghanistan</td><td>AF</td><td>AFG</td><td>37172386</td><td>Asia</td></tr>\n",
              "\t<tr><td>23/04/2020</td><td>23</td><td>4</td><td>2020</td><td> 84</td><td> 4</td><td>Afghanistan</td><td>AF</td><td>AFG</td><td>37172386</td><td>Asia</td></tr>\n",
              "\t<tr><td>22/04/2020</td><td>22</td><td>4</td><td>2020</td><td> 61</td><td> 1</td><td>Afghanistan</td><td>AF</td><td>AFG</td><td>37172386</td><td>Asia</td></tr>\n",
              "\t<tr><td>21/04/2020</td><td>21</td><td>4</td><td>2020</td><td> 35</td><td> 2</td><td>Afghanistan</td><td>AF</td><td>AFG</td><td>37172386</td><td>Asia</td></tr>\n",
              "\t<tr><td>20/04/2020</td><td>20</td><td>4</td><td>2020</td><td> 88</td><td> 3</td><td>Afghanistan</td><td>AF</td><td>AFG</td><td>37172386</td><td>Asia</td></tr>\n",
              "\t<tr><td>19/04/2020</td><td>19</td><td>4</td><td>2020</td><td> 63</td><td> 0</td><td>Afghanistan</td><td>AF</td><td>AFG</td><td>37172386</td><td>Asia</td></tr>\n",
              "\t<tr><td>18/04/2020</td><td>18</td><td>4</td><td>2020</td><td> 51</td><td> 1</td><td>Afghanistan</td><td>AF</td><td>AFG</td><td>37172386</td><td>Asia</td></tr>\n",
              "\t<tr><td>17/04/2020</td><td>17</td><td>4</td><td>2020</td><td> 10</td><td> 4</td><td>Afghanistan</td><td>AF</td><td>AFG</td><td>37172386</td><td>Asia</td></tr>\n",
              "\t<tr><td>16/04/2020</td><td>16</td><td>4</td><td>2020</td><td> 70</td><td> 2</td><td>Afghanistan</td><td>AF</td><td>AFG</td><td>37172386</td><td>Asia</td></tr>\n",
              "\t<tr><td>⋮</td><td>⋮</td><td>⋮</td><td>⋮</td><td>⋮</td><td>⋮</td><td>⋮</td><td>⋮</td><td>⋮</td><td>⋮</td><td>⋮</td></tr>\n",
              "\t<tr><td>19/04/2020</td><td>19</td><td>4</td><td>2020</td><td>1</td><td>0</td><td>Zimbabwe</td><td>ZW</td><td>ZWE</td><td>14439018</td><td>Africa</td></tr>\n",
              "\t<tr><td>18/04/2020</td><td>18</td><td>4</td><td>2020</td><td>0</td><td>0</td><td>Zimbabwe</td><td>ZW</td><td>ZWE</td><td>14439018</td><td>Africa</td></tr>\n",
              "\t<tr><td>17/04/2020</td><td>17</td><td>4</td><td>2020</td><td>1</td><td>0</td><td>Zimbabwe</td><td>ZW</td><td>ZWE</td><td>14439018</td><td>Africa</td></tr>\n",
              "\t<tr><td>16/04/2020</td><td>16</td><td>4</td><td>2020</td><td>6</td><td>0</td><td>Zimbabwe</td><td>ZW</td><td>ZWE</td><td>14439018</td><td>Africa</td></tr>\n",
              "\t<tr><td>15/04/2020</td><td>15</td><td>4</td><td>2020</td><td>0</td><td>0</td><td>Zimbabwe</td><td>ZW</td><td>ZWE</td><td>14439018</td><td>Africa</td></tr>\n",
              "\t<tr><td>14/04/2020</td><td>14</td><td>4</td><td>2020</td><td>3</td><td>0</td><td>Zimbabwe</td><td>ZW</td><td>ZWE</td><td>14439018</td><td>Africa</td></tr>\n",
              "\t<tr><td>13/04/2020</td><td>13</td><td>4</td><td>2020</td><td>0</td><td>0</td><td>Zimbabwe</td><td>ZW</td><td>ZWE</td><td>14439018</td><td>Africa</td></tr>\n",
              "\t<tr><td>12/04/2020</td><td>12</td><td>4</td><td>2020</td><td>3</td><td>0</td><td>Zimbabwe</td><td>ZW</td><td>ZWE</td><td>14439018</td><td>Africa</td></tr>\n",
              "\t<tr><td>11/04/2020</td><td>11</td><td>4</td><td>2020</td><td>0</td><td>0</td><td>Zimbabwe</td><td>ZW</td><td>ZWE</td><td>14439018</td><td>Africa</td></tr>\n",
              "\t<tr><td>10/04/2020</td><td>10</td><td>4</td><td>2020</td><td>0</td><td>1</td><td>Zimbabwe</td><td>ZW</td><td>ZWE</td><td>14439018</td><td>Africa</td></tr>\n",
              "\t<tr><td>09/04/2020</td><td> 9</td><td>4</td><td>2020</td><td>1</td><td>1</td><td>Zimbabwe</td><td>ZW</td><td>ZWE</td><td>14439018</td><td>Africa</td></tr>\n",
              "\t<tr><td>08/04/2020</td><td> 8</td><td>4</td><td>2020</td><td>1</td><td>0</td><td>Zimbabwe</td><td>ZW</td><td>ZWE</td><td>14439018</td><td>Africa</td></tr>\n",
              "\t<tr><td>07/04/2020</td><td> 7</td><td>4</td><td>2020</td><td>0</td><td>0</td><td>Zimbabwe</td><td>ZW</td><td>ZWE</td><td>14439018</td><td>Africa</td></tr>\n",
              "\t<tr><td>06/04/2020</td><td> 6</td><td>4</td><td>2020</td><td>0</td><td>0</td><td>Zimbabwe</td><td>ZW</td><td>ZWE</td><td>14439018</td><td>Africa</td></tr>\n",
              "\t<tr><td>05/04/2020</td><td> 5</td><td>4</td><td>2020</td><td>0</td><td>0</td><td>Zimbabwe</td><td>ZW</td><td>ZWE</td><td>14439018</td><td>Africa</td></tr>\n",
              "\t<tr><td>04/04/2020</td><td> 4</td><td>4</td><td>2020</td><td>1</td><td>0</td><td>Zimbabwe</td><td>ZW</td><td>ZWE</td><td>14439018</td><td>Africa</td></tr>\n",
              "\t<tr><td>03/04/2020</td><td> 3</td><td>4</td><td>2020</td><td>0</td><td>0</td><td>Zimbabwe</td><td>ZW</td><td>ZWE</td><td>14439018</td><td>Africa</td></tr>\n",
              "\t<tr><td>02/04/2020</td><td> 2</td><td>4</td><td>2020</td><td>0</td><td>0</td><td>Zimbabwe</td><td>ZW</td><td>ZWE</td><td>14439018</td><td>Africa</td></tr>\n",
              "\t<tr><td>01/04/2020</td><td> 1</td><td>4</td><td>2020</td><td>1</td><td>0</td><td>Zimbabwe</td><td>ZW</td><td>ZWE</td><td>14439018</td><td>Africa</td></tr>\n",
              "\t<tr><td>31/03/2020</td><td>31</td><td>3</td><td>2020</td><td>0</td><td>0</td><td>Zimbabwe</td><td>ZW</td><td>ZWE</td><td>14439018</td><td>Africa</td></tr>\n",
              "\t<tr><td>30/03/2020</td><td>30</td><td>3</td><td>2020</td><td>0</td><td>0</td><td>Zimbabwe</td><td>ZW</td><td>ZWE</td><td>14439018</td><td>Africa</td></tr>\n",
              "\t<tr><td>29/03/2020</td><td>29</td><td>3</td><td>2020</td><td>2</td><td>0</td><td>Zimbabwe</td><td>ZW</td><td>ZWE</td><td>14439018</td><td>Africa</td></tr>\n",
              "\t<tr><td>28/03/2020</td><td>28</td><td>3</td><td>2020</td><td>2</td><td>0</td><td>Zimbabwe</td><td>ZW</td><td>ZWE</td><td>14439018</td><td>Africa</td></tr>\n",
              "\t<tr><td>27/03/2020</td><td>27</td><td>3</td><td>2020</td><td>0</td><td>0</td><td>Zimbabwe</td><td>ZW</td><td>ZWE</td><td>14439018</td><td>Africa</td></tr>\n",
              "\t<tr><td>26/03/2020</td><td>26</td><td>3</td><td>2020</td><td>1</td><td>0</td><td>Zimbabwe</td><td>ZW</td><td>ZWE</td><td>14439018</td><td>Africa</td></tr>\n",
              "\t<tr><td>25/03/2020</td><td>25</td><td>3</td><td>2020</td><td>0</td><td>0</td><td>Zimbabwe</td><td>ZW</td><td>ZWE</td><td>14439018</td><td>Africa</td></tr>\n",
              "\t<tr><td>24/03/2020</td><td>24</td><td>3</td><td>2020</td><td>0</td><td>1</td><td>Zimbabwe</td><td>ZW</td><td>ZWE</td><td>14439018</td><td>Africa</td></tr>\n",
              "\t<tr><td>23/03/2020</td><td>23</td><td>3</td><td>2020</td><td>0</td><td>0</td><td>Zimbabwe</td><td>ZW</td><td>ZWE</td><td>14439018</td><td>Africa</td></tr>\n",
              "\t<tr><td>22/03/2020</td><td>22</td><td>3</td><td>2020</td><td>1</td><td>0</td><td>Zimbabwe</td><td>ZW</td><td>ZWE</td><td>14439018</td><td>Africa</td></tr>\n",
              "\t<tr><td>21/03/2020</td><td>21</td><td>3</td><td>2020</td><td>1</td><td>0</td><td>Zimbabwe</td><td>ZW</td><td>ZWE</td><td>14439018</td><td>Africa</td></tr>\n",
              "</tbody>\n",
              "</table>\n"
            ]
          },
          "metadata": {
            "tags": []
          }
        }
      ]
    },
    {
      "cell_type": "markdown",
      "metadata": {
        "colab_type": "text",
        "id": "A63rscXH6pt6"
      },
      "source": [
        "You should always familiarize yourself with the dataset at hand befor you do calculations and try to gain insights.\n",
        "\n",
        "Use functions such as ```head()```, ```sample_n()```, ```summary()```, etc. to deepen your understanding of the available data and briefly describe the dataset (e.g., number of observations, sorting, variables, ...):"
      ]
    },
    {
      "cell_type": "code",
      "metadata": {
        "colab_type": "code",
        "id": "C7tZFKyS3z2Z",
        "colab": {
          "base_uri": "https://localhost:8080/",
          "height": 199
        },
        "outputId": "e349f88d-ec8b-4e03-991f-9fa0f66a5057"
      },
      "source": [
        "# Insert your code here\n",
        "covid %>%\n",
        "head()"
      ],
      "execution_count": 6,
      "outputs": [
        {
          "output_type": "display_data",
          "data": {
            "text/plain": [
              "  dateRep    day month year cases deaths countriesAndTerritories geoId\n",
              "1 15/05/2020 15  5     2020 113   6      Afghanistan             AF   \n",
              "2 14/05/2020 14  5     2020 259   3      Afghanistan             AF   \n",
              "3 13/05/2020 13  5     2020 280   5      Afghanistan             AF   \n",
              "4 12/05/2020 12  5     2020 285   2      Afghanistan             AF   \n",
              "5 11/05/2020 11  5     2020 369   5      Afghanistan             AF   \n",
              "6 10/05/2020 10  5     2020 255   6      Afghanistan             AF   \n",
              "  countryterritoryCode popData2018 continentExp\n",
              "1 AFG                  37172386    Asia        \n",
              "2 AFG                  37172386    Asia        \n",
              "3 AFG                  37172386    Asia        \n",
              "4 AFG                  37172386    Asia        \n",
              "5 AFG                  37172386    Asia        \n",
              "6 AFG                  37172386    Asia        "
            ],
            "text/latex": "A data.frame: 6 × 11\n\\begin{tabular}{r|lllllllllll}\n  & dateRep & day & month & year & cases & deaths & countriesAndTerritories & geoId & countryterritoryCode & popData2018 & continentExp\\\\\n  & <fct> & <int> & <int> & <int> & <int> & <int> & <fct> & <fct> & <fct> & <int> & <fct>\\\\\n\\hline\n\t1 & 15/05/2020 & 15 & 5 & 2020 & 113 & 6 & Afghanistan & AF & AFG & 37172386 & Asia\\\\\n\t2 & 14/05/2020 & 14 & 5 & 2020 & 259 & 3 & Afghanistan & AF & AFG & 37172386 & Asia\\\\\n\t3 & 13/05/2020 & 13 & 5 & 2020 & 280 & 5 & Afghanistan & AF & AFG & 37172386 & Asia\\\\\n\t4 & 12/05/2020 & 12 & 5 & 2020 & 285 & 2 & Afghanistan & AF & AFG & 37172386 & Asia\\\\\n\t5 & 11/05/2020 & 11 & 5 & 2020 & 369 & 5 & Afghanistan & AF & AFG & 37172386 & Asia\\\\\n\t6 & 10/05/2020 & 10 & 5 & 2020 & 255 & 6 & Afghanistan & AF & AFG & 37172386 & Asia\\\\\n\\end{tabular}\n",
            "text/markdown": "\nA data.frame: 6 × 11\n\n| <!--/--> | dateRep &lt;fct&gt; | day &lt;int&gt; | month &lt;int&gt; | year &lt;int&gt; | cases &lt;int&gt; | deaths &lt;int&gt; | countriesAndTerritories &lt;fct&gt; | geoId &lt;fct&gt; | countryterritoryCode &lt;fct&gt; | popData2018 &lt;int&gt; | continentExp &lt;fct&gt; |\n|---|---|---|---|---|---|---|---|---|---|---|---|\n| 1 | 15/05/2020 | 15 | 5 | 2020 | 113 | 6 | Afghanistan | AF | AFG | 37172386 | Asia |\n| 2 | 14/05/2020 | 14 | 5 | 2020 | 259 | 3 | Afghanistan | AF | AFG | 37172386 | Asia |\n| 3 | 13/05/2020 | 13 | 5 | 2020 | 280 | 5 | Afghanistan | AF | AFG | 37172386 | Asia |\n| 4 | 12/05/2020 | 12 | 5 | 2020 | 285 | 2 | Afghanistan | AF | AFG | 37172386 | Asia |\n| 5 | 11/05/2020 | 11 | 5 | 2020 | 369 | 5 | Afghanistan | AF | AFG | 37172386 | Asia |\n| 6 | 10/05/2020 | 10 | 5 | 2020 | 255 | 6 | Afghanistan | AF | AFG | 37172386 | Asia |\n\n",
            "text/html": [
              "<table>\n",
              "<caption>A data.frame: 6 × 11</caption>\n",
              "<thead>\n",
              "\t<tr><th></th><th scope=col>dateRep</th><th scope=col>day</th><th scope=col>month</th><th scope=col>year</th><th scope=col>cases</th><th scope=col>deaths</th><th scope=col>countriesAndTerritories</th><th scope=col>geoId</th><th scope=col>countryterritoryCode</th><th scope=col>popData2018</th><th scope=col>continentExp</th></tr>\n",
              "\t<tr><th></th><th scope=col>&lt;fct&gt;</th><th scope=col>&lt;int&gt;</th><th scope=col>&lt;int&gt;</th><th scope=col>&lt;int&gt;</th><th scope=col>&lt;int&gt;</th><th scope=col>&lt;int&gt;</th><th scope=col>&lt;fct&gt;</th><th scope=col>&lt;fct&gt;</th><th scope=col>&lt;fct&gt;</th><th scope=col>&lt;int&gt;</th><th scope=col>&lt;fct&gt;</th></tr>\n",
              "</thead>\n",
              "<tbody>\n",
              "\t<tr><th scope=row>1</th><td>15/05/2020</td><td>15</td><td>5</td><td>2020</td><td>113</td><td>6</td><td>Afghanistan</td><td>AF</td><td>AFG</td><td>37172386</td><td>Asia</td></tr>\n",
              "\t<tr><th scope=row>2</th><td>14/05/2020</td><td>14</td><td>5</td><td>2020</td><td>259</td><td>3</td><td>Afghanistan</td><td>AF</td><td>AFG</td><td>37172386</td><td>Asia</td></tr>\n",
              "\t<tr><th scope=row>3</th><td>13/05/2020</td><td>13</td><td>5</td><td>2020</td><td>280</td><td>5</td><td>Afghanistan</td><td>AF</td><td>AFG</td><td>37172386</td><td>Asia</td></tr>\n",
              "\t<tr><th scope=row>4</th><td>12/05/2020</td><td>12</td><td>5</td><td>2020</td><td>285</td><td>2</td><td>Afghanistan</td><td>AF</td><td>AFG</td><td>37172386</td><td>Asia</td></tr>\n",
              "\t<tr><th scope=row>5</th><td>11/05/2020</td><td>11</td><td>5</td><td>2020</td><td>369</td><td>5</td><td>Afghanistan</td><td>AF</td><td>AFG</td><td>37172386</td><td>Asia</td></tr>\n",
              "\t<tr><th scope=row>6</th><td>10/05/2020</td><td>10</td><td>5</td><td>2020</td><td>255</td><td>6</td><td>Afghanistan</td><td>AF</td><td>AFG</td><td>37172386</td><td>Asia</td></tr>\n",
              "</tbody>\n",
              "</table>\n"
            ]
          },
          "metadata": {
            "tags": []
          }
        }
      ]
    },
    {
      "cell_type": "code",
      "metadata": {
        "id": "fhh0b2dUM_jS",
        "colab_type": "code",
        "colab": {
          "base_uri": "https://localhost:8080/",
          "height": 444
        },
        "outputId": "32df58e8-eba4-411c-d89f-a1857cafb8f5"
      },
      "source": [
        "covid %>%\n",
        "sample_n(10) %>%\n",
        "summary()"
      ],
      "execution_count": 12,
      "outputs": [
        {
          "output_type": "display_data",
          "data": {
            "text/plain": [
              "       dateRep       day           month           year          cases       \n",
              " 25/04/2020:2   Min.   : 2.0   Min.   :1.00   Min.   :2020   Min.   :  0.00  \n",
              " 02/05/2020:1   1st Qu.: 5.5   1st Qu.:3.25   1st Qu.:2020   1st Qu.:  2.25  \n",
              " 04/01/2020:1   Median :15.0   Median :4.00   Median :2020   Median : 23.00  \n",
              " 05/04/2020:1   Mean   :15.2   Mean   :3.50   Mean   :2020   Mean   : 54.10  \n",
              " 07/04/2020:1   3rd Qu.:25.0   3rd Qu.:4.00   3rd Qu.:2020   3rd Qu.: 37.75  \n",
              " 09/04/2020:1   Max.   :29.0   Max.   :5.00   Max.   :2020   Max.   :312.00  \n",
              " (Other)   :3                                                                \n",
              "     deaths     countriesAndTerritories     geoId   countryterritoryCode\n",
              " Min.   : 0.0   Algeria:1               AT     :1   AUT    :1           \n",
              " 1st Qu.: 0.0   Austria:1               BT     :1   BTN    :1           \n",
              " Median : 2.5   Bhutan :1               DK     :1   DNK    :1           \n",
              " Mean   : 3.5   Denmark:1               DZ     :1   DZA    :1           \n",
              " 3rd Qu.: 5.0   Egypt  :1               EG     :1   EGY    :1           \n",
              " Max.   :12.0   Greece :1               EL     :1   GRC    :1           \n",
              "                (Other):4               (Other):4   (Other):4           \n",
              "  popData2018         continentExp\n",
              " Min.   :7.544e+05   Africa :3    \n",
              " 1st Qu.:6.560e+06   America:1    \n",
              " Median :1.093e+07   Asia   :3    \n",
              " Mean   :1.564e+08   Europe :3    \n",
              " 3rd Qu.:3.905e+07   Oceania:0    \n",
              " Max.   :1.353e+09   Other  :0    \n",
              "                                  "
            ]
          },
          "metadata": {
            "tags": []
          }
        }
      ]
    },
    {
      "cell_type": "code",
      "metadata": {
        "id": "6L69RR1_Nx0d",
        "colab_type": "code",
        "colab": {
          "base_uri": "https://localhost:8080/",
          "height": 1000
        },
        "outputId": "1b5f0844-8564-47cd-d554-15cb5abe45f3"
      },
      "source": [
        "covid %>%\n",
        "distinct(countriesAndTerritories)"
      ],
      "execution_count": 23,
      "outputs": [
        {
          "output_type": "display_data",
          "data": {
            "text/plain": [
              "    countriesAndTerritories          \n",
              "1   Afghanistan                      \n",
              "2   Albania                          \n",
              "3   Algeria                          \n",
              "4   Andorra                          \n",
              "5   Angola                           \n",
              "6   Anguilla                         \n",
              "7   Antigua_and_Barbuda              \n",
              "8   Argentina                        \n",
              "9   Armenia                          \n",
              "10  Aruba                            \n",
              "11  Australia                        \n",
              "12  Austria                          \n",
              "13  Azerbaijan                       \n",
              "14  Bahamas                          \n",
              "15  Bahrain                          \n",
              "16  Bangladesh                       \n",
              "17  Barbados                         \n",
              "18  Belarus                          \n",
              "19  Belgium                          \n",
              "20  Belize                           \n",
              "21  Benin                            \n",
              "22  Bermuda                          \n",
              "23  Bhutan                           \n",
              "24  Bolivia                          \n",
              "25  Bonaire, Saint Eustatius and Saba\n",
              "26  Bosnia_and_Herzegovina           \n",
              "27  Botswana                         \n",
              "28  Brazil                           \n",
              "29  British_Virgin_Islands           \n",
              "30  Brunei_Darussalam                \n",
              "⋮   ⋮                                \n",
              "181 Sri_Lanka                        \n",
              "182 Sudan                            \n",
              "183 Suriname                         \n",
              "184 Sweden                           \n",
              "185 Switzerland                      \n",
              "186 Syria                            \n",
              "187 Taiwan                           \n",
              "188 Tajikistan                       \n",
              "189 Thailand                         \n",
              "190 Timor_Leste                      \n",
              "191 Togo                             \n",
              "192 Trinidad_and_Tobago              \n",
              "193 Tunisia                          \n",
              "194 Turkey                           \n",
              "195 Turks_and_Caicos_islands         \n",
              "196 Uganda                           \n",
              "197 Ukraine                          \n",
              "198 United_Arab_Emirates             \n",
              "199 United_Kingdom                   \n",
              "200 United_Republic_of_Tanzania      \n",
              "201 United_States_of_America         \n",
              "202 United_States_Virgin_Islands     \n",
              "203 Uruguay                          \n",
              "204 Uzbekistan                       \n",
              "205 Venezuela                        \n",
              "206 Vietnam                          \n",
              "207 Western_Sahara                   \n",
              "208 Yemen                            \n",
              "209 Zambia                           \n",
              "210 Zimbabwe                         "
            ],
            "text/latex": "A data.frame: 210 × 1\n\\begin{tabular}{l}\n countriesAndTerritories\\\\\n <fct>\\\\\n\\hline\n\t Afghanistan                      \\\\\n\t Albania                          \\\\\n\t Algeria                          \\\\\n\t Andorra                          \\\\\n\t Angola                           \\\\\n\t Anguilla                         \\\\\n\t Antigua\\_and\\_Barbuda              \\\\\n\t Argentina                        \\\\\n\t Armenia                          \\\\\n\t Aruba                            \\\\\n\t Australia                        \\\\\n\t Austria                          \\\\\n\t Azerbaijan                       \\\\\n\t Bahamas                          \\\\\n\t Bahrain                          \\\\\n\t Bangladesh                       \\\\\n\t Barbados                         \\\\\n\t Belarus                          \\\\\n\t Belgium                          \\\\\n\t Belize                           \\\\\n\t Benin                            \\\\\n\t Bermuda                          \\\\\n\t Bhutan                           \\\\\n\t Bolivia                          \\\\\n\t Bonaire, Saint Eustatius and Saba\\\\\n\t Bosnia\\_and\\_Herzegovina           \\\\\n\t Botswana                         \\\\\n\t Brazil                           \\\\\n\t British\\_Virgin\\_Islands           \\\\\n\t Brunei\\_Darussalam                \\\\\n\t ⋮\\\\\n\t Sri\\_Lanka                   \\\\\n\t Sudan                       \\\\\n\t Suriname                    \\\\\n\t Sweden                      \\\\\n\t Switzerland                 \\\\\n\t Syria                       \\\\\n\t Taiwan                      \\\\\n\t Tajikistan                  \\\\\n\t Thailand                    \\\\\n\t Timor\\_Leste                 \\\\\n\t Togo                        \\\\\n\t Trinidad\\_and\\_Tobago         \\\\\n\t Tunisia                     \\\\\n\t Turkey                      \\\\\n\t Turks\\_and\\_Caicos\\_islands    \\\\\n\t Uganda                      \\\\\n\t Ukraine                     \\\\\n\t United\\_Arab\\_Emirates        \\\\\n\t United\\_Kingdom              \\\\\n\t United\\_Republic\\_of\\_Tanzania \\\\\n\t United\\_States\\_of\\_America    \\\\\n\t United\\_States\\_Virgin\\_Islands\\\\\n\t Uruguay                     \\\\\n\t Uzbekistan                  \\\\\n\t Venezuela                   \\\\\n\t Vietnam                     \\\\\n\t Western\\_Sahara              \\\\\n\t Yemen                       \\\\\n\t Zambia                      \\\\\n\t Zimbabwe                    \\\\\n\\end{tabular}\n",
            "text/markdown": "\nA data.frame: 210 × 1\n\n| countriesAndTerritories &lt;fct&gt; |\n|---|\n| Afghanistan                       |\n| Albania                           |\n| Algeria                           |\n| Andorra                           |\n| Angola                            |\n| Anguilla                          |\n| Antigua_and_Barbuda               |\n| Argentina                         |\n| Armenia                           |\n| Aruba                             |\n| Australia                         |\n| Austria                           |\n| Azerbaijan                        |\n| Bahamas                           |\n| Bahrain                           |\n| Bangladesh                        |\n| Barbados                          |\n| Belarus                           |\n| Belgium                           |\n| Belize                            |\n| Benin                             |\n| Bermuda                           |\n| Bhutan                            |\n| Bolivia                           |\n| Bonaire, Saint Eustatius and Saba |\n| Bosnia_and_Herzegovina            |\n| Botswana                          |\n| Brazil                            |\n| British_Virgin_Islands            |\n| Brunei_Darussalam                 |\n| ⋮ |\n| Sri_Lanka                    |\n| Sudan                        |\n| Suriname                     |\n| Sweden                       |\n| Switzerland                  |\n| Syria                        |\n| Taiwan                       |\n| Tajikistan                   |\n| Thailand                     |\n| Timor_Leste                  |\n| Togo                         |\n| Trinidad_and_Tobago          |\n| Tunisia                      |\n| Turkey                       |\n| Turks_and_Caicos_islands     |\n| Uganda                       |\n| Ukraine                      |\n| United_Arab_Emirates         |\n| United_Kingdom               |\n| United_Republic_of_Tanzania  |\n| United_States_of_America     |\n| United_States_Virgin_Islands |\n| Uruguay                      |\n| Uzbekistan                   |\n| Venezuela                    |\n| Vietnam                      |\n| Western_Sahara               |\n| Yemen                        |\n| Zambia                       |\n| Zimbabwe                     |\n\n",
            "text/html": [
              "<table>\n",
              "<caption>A data.frame: 210 × 1</caption>\n",
              "<thead>\n",
              "\t<tr><th scope=col>countriesAndTerritories</th></tr>\n",
              "\t<tr><th scope=col>&lt;fct&gt;</th></tr>\n",
              "</thead>\n",
              "<tbody>\n",
              "\t<tr><td>Afghanistan                      </td></tr>\n",
              "\t<tr><td>Albania                          </td></tr>\n",
              "\t<tr><td>Algeria                          </td></tr>\n",
              "\t<tr><td>Andorra                          </td></tr>\n",
              "\t<tr><td>Angola                           </td></tr>\n",
              "\t<tr><td>Anguilla                         </td></tr>\n",
              "\t<tr><td>Antigua_and_Barbuda              </td></tr>\n",
              "\t<tr><td>Argentina                        </td></tr>\n",
              "\t<tr><td>Armenia                          </td></tr>\n",
              "\t<tr><td>Aruba                            </td></tr>\n",
              "\t<tr><td>Australia                        </td></tr>\n",
              "\t<tr><td>Austria                          </td></tr>\n",
              "\t<tr><td>Azerbaijan                       </td></tr>\n",
              "\t<tr><td>Bahamas                          </td></tr>\n",
              "\t<tr><td>Bahrain                          </td></tr>\n",
              "\t<tr><td>Bangladesh                       </td></tr>\n",
              "\t<tr><td>Barbados                         </td></tr>\n",
              "\t<tr><td>Belarus                          </td></tr>\n",
              "\t<tr><td>Belgium                          </td></tr>\n",
              "\t<tr><td>Belize                           </td></tr>\n",
              "\t<tr><td>Benin                            </td></tr>\n",
              "\t<tr><td>Bermuda                          </td></tr>\n",
              "\t<tr><td>Bhutan                           </td></tr>\n",
              "\t<tr><td>Bolivia                          </td></tr>\n",
              "\t<tr><td>Bonaire, Saint Eustatius and Saba</td></tr>\n",
              "\t<tr><td>Bosnia_and_Herzegovina           </td></tr>\n",
              "\t<tr><td>Botswana                         </td></tr>\n",
              "\t<tr><td>Brazil                           </td></tr>\n",
              "\t<tr><td>British_Virgin_Islands           </td></tr>\n",
              "\t<tr><td>Brunei_Darussalam                </td></tr>\n",
              "\t<tr><td>⋮</td></tr>\n",
              "\t<tr><td>Sri_Lanka                   </td></tr>\n",
              "\t<tr><td>Sudan                       </td></tr>\n",
              "\t<tr><td>Suriname                    </td></tr>\n",
              "\t<tr><td>Sweden                      </td></tr>\n",
              "\t<tr><td>Switzerland                 </td></tr>\n",
              "\t<tr><td>Syria                       </td></tr>\n",
              "\t<tr><td>Taiwan                      </td></tr>\n",
              "\t<tr><td>Tajikistan                  </td></tr>\n",
              "\t<tr><td>Thailand                    </td></tr>\n",
              "\t<tr><td>Timor_Leste                 </td></tr>\n",
              "\t<tr><td>Togo                        </td></tr>\n",
              "\t<tr><td>Trinidad_and_Tobago         </td></tr>\n",
              "\t<tr><td>Tunisia                     </td></tr>\n",
              "\t<tr><td>Turkey                      </td></tr>\n",
              "\t<tr><td>Turks_and_Caicos_islands    </td></tr>\n",
              "\t<tr><td>Uganda                      </td></tr>\n",
              "\t<tr><td>Ukraine                     </td></tr>\n",
              "\t<tr><td>United_Arab_Emirates        </td></tr>\n",
              "\t<tr><td>United_Kingdom              </td></tr>\n",
              "\t<tr><td>United_Republic_of_Tanzania </td></tr>\n",
              "\t<tr><td>United_States_of_America    </td></tr>\n",
              "\t<tr><td>United_States_Virgin_Islands</td></tr>\n",
              "\t<tr><td>Uruguay                     </td></tr>\n",
              "\t<tr><td>Uzbekistan                  </td></tr>\n",
              "\t<tr><td>Venezuela                   </td></tr>\n",
              "\t<tr><td>Vietnam                     </td></tr>\n",
              "\t<tr><td>Western_Sahara              </td></tr>\n",
              "\t<tr><td>Yemen                       </td></tr>\n",
              "\t<tr><td>Zambia                      </td></tr>\n",
              "\t<tr><td>Zimbabwe                    </td></tr>\n",
              "</tbody>\n",
              "</table>\n"
            ]
          },
          "metadata": {
            "tags": []
          }
        }
      ]
    },
    {
      "cell_type": "code",
      "metadata": {
        "id": "P3h2FfFgPodQ",
        "colab_type": "code",
        "colab": {
          "base_uri": "https://localhost:8080/",
          "height": 199
        },
        "outputId": "55b3d86c-1fa7-4ee8-d8ed-621e60b95622"
      },
      "source": [
        "covid %>%\n",
        "arrange(desc(dateRep)) %>%\n",
        "head()"
      ],
      "execution_count": 27,
      "outputs": [
        {
          "output_type": "display_data",
          "data": {
            "text/plain": [
              "  dateRep    day month year cases deaths countriesAndTerritories geoId\n",
              "1 31/12/2019 31  12    2019 0     0      Afghanistan             AF   \n",
              "2 31/12/2019 31  12    2019 0     0      Algeria                 DZ   \n",
              "3 31/12/2019 31  12    2019 0     0      Armenia                 AM   \n",
              "4 31/12/2019 31  12    2019 0     0      Australia               AU   \n",
              "5 31/12/2019 31  12    2019 0     0      Austria                 AT   \n",
              "6 31/12/2019 31  12    2019 0     0      Azerbaijan              AZ   \n",
              "  countryterritoryCode popData2018 continentExp\n",
              "1 AFG                  37172386    Asia        \n",
              "2 DZA                  42228429    Africa      \n",
              "3 ARM                   2951776    Europe      \n",
              "4 AUS                  24992369    Oceania     \n",
              "5 AUT                   8847037    Europe      \n",
              "6 AZE                   9942334    Europe      "
            ],
            "text/latex": "A data.frame: 6 × 11\n\\begin{tabular}{r|lllllllllll}\n  & dateRep & day & month & year & cases & deaths & countriesAndTerritories & geoId & countryterritoryCode & popData2018 & continentExp\\\\\n  & <fct> & <int> & <int> & <int> & <int> & <int> & <fct> & <fct> & <fct> & <int> & <fct>\\\\\n\\hline\n\t1 & 31/12/2019 & 31 & 12 & 2019 & 0 & 0 & Afghanistan & AF & AFG & 37172386 & Asia   \\\\\n\t2 & 31/12/2019 & 31 & 12 & 2019 & 0 & 0 & Algeria     & DZ & DZA & 42228429 & Africa \\\\\n\t3 & 31/12/2019 & 31 & 12 & 2019 & 0 & 0 & Armenia     & AM & ARM &  2951776 & Europe \\\\\n\t4 & 31/12/2019 & 31 & 12 & 2019 & 0 & 0 & Australia   & AU & AUS & 24992369 & Oceania\\\\\n\t5 & 31/12/2019 & 31 & 12 & 2019 & 0 & 0 & Austria     & AT & AUT &  8847037 & Europe \\\\\n\t6 & 31/12/2019 & 31 & 12 & 2019 & 0 & 0 & Azerbaijan  & AZ & AZE &  9942334 & Europe \\\\\n\\end{tabular}\n",
            "text/markdown": "\nA data.frame: 6 × 11\n\n| <!--/--> | dateRep &lt;fct&gt; | day &lt;int&gt; | month &lt;int&gt; | year &lt;int&gt; | cases &lt;int&gt; | deaths &lt;int&gt; | countriesAndTerritories &lt;fct&gt; | geoId &lt;fct&gt; | countryterritoryCode &lt;fct&gt; | popData2018 &lt;int&gt; | continentExp &lt;fct&gt; |\n|---|---|---|---|---|---|---|---|---|---|---|---|\n| 1 | 31/12/2019 | 31 | 12 | 2019 | 0 | 0 | Afghanistan | AF | AFG | 37172386 | Asia    |\n| 2 | 31/12/2019 | 31 | 12 | 2019 | 0 | 0 | Algeria     | DZ | DZA | 42228429 | Africa  |\n| 3 | 31/12/2019 | 31 | 12 | 2019 | 0 | 0 | Armenia     | AM | ARM |  2951776 | Europe  |\n| 4 | 31/12/2019 | 31 | 12 | 2019 | 0 | 0 | Australia   | AU | AUS | 24992369 | Oceania |\n| 5 | 31/12/2019 | 31 | 12 | 2019 | 0 | 0 | Austria     | AT | AUT |  8847037 | Europe  |\n| 6 | 31/12/2019 | 31 | 12 | 2019 | 0 | 0 | Azerbaijan  | AZ | AZE |  9942334 | Europe  |\n\n",
            "text/html": [
              "<table>\n",
              "<caption>A data.frame: 6 × 11</caption>\n",
              "<thead>\n",
              "\t<tr><th></th><th scope=col>dateRep</th><th scope=col>day</th><th scope=col>month</th><th scope=col>year</th><th scope=col>cases</th><th scope=col>deaths</th><th scope=col>countriesAndTerritories</th><th scope=col>geoId</th><th scope=col>countryterritoryCode</th><th scope=col>popData2018</th><th scope=col>continentExp</th></tr>\n",
              "\t<tr><th></th><th scope=col>&lt;fct&gt;</th><th scope=col>&lt;int&gt;</th><th scope=col>&lt;int&gt;</th><th scope=col>&lt;int&gt;</th><th scope=col>&lt;int&gt;</th><th scope=col>&lt;int&gt;</th><th scope=col>&lt;fct&gt;</th><th scope=col>&lt;fct&gt;</th><th scope=col>&lt;fct&gt;</th><th scope=col>&lt;int&gt;</th><th scope=col>&lt;fct&gt;</th></tr>\n",
              "</thead>\n",
              "<tbody>\n",
              "\t<tr><th scope=row>1</th><td>31/12/2019</td><td>31</td><td>12</td><td>2019</td><td>0</td><td>0</td><td>Afghanistan</td><td>AF</td><td>AFG</td><td>37172386</td><td>Asia   </td></tr>\n",
              "\t<tr><th scope=row>2</th><td>31/12/2019</td><td>31</td><td>12</td><td>2019</td><td>0</td><td>0</td><td>Algeria    </td><td>DZ</td><td>DZA</td><td>42228429</td><td>Africa </td></tr>\n",
              "\t<tr><th scope=row>3</th><td>31/12/2019</td><td>31</td><td>12</td><td>2019</td><td>0</td><td>0</td><td>Armenia    </td><td>AM</td><td>ARM</td><td> 2951776</td><td>Europe </td></tr>\n",
              "\t<tr><th scope=row>4</th><td>31/12/2019</td><td>31</td><td>12</td><td>2019</td><td>0</td><td>0</td><td>Australia  </td><td>AU</td><td>AUS</td><td>24992369</td><td>Oceania</td></tr>\n",
              "\t<tr><th scope=row>5</th><td>31/12/2019</td><td>31</td><td>12</td><td>2019</td><td>0</td><td>0</td><td>Austria    </td><td>AT</td><td>AUT</td><td> 8847037</td><td>Europe </td></tr>\n",
              "\t<tr><th scope=row>6</th><td>31/12/2019</td><td>31</td><td>12</td><td>2019</td><td>0</td><td>0</td><td>Azerbaijan </td><td>AZ</td><td>AZE</td><td> 9942334</td><td>Europe </td></tr>\n",
              "</tbody>\n",
              "</table>\n"
            ]
          },
          "metadata": {
            "tags": []
          }
        }
      ]
    },
    {
      "cell_type": "code",
      "metadata": {
        "id": "Brn6yAbPQPIc",
        "colab_type": "code",
        "colab": {
          "base_uri": "https://localhost:8080/",
          "height": 316
        },
        "outputId": "2da3c848-ee82-44dc-8135-ca417e6bbaef"
      },
      "source": [
        "covid %>%\n",
        "arrange(desc(-dateRep)) %>%\n",
        "sample_n(10)"
      ],
      "execution_count": 30,
      "outputs": [
        {
          "output_type": "stream",
          "text": [
            "Warning message in Ops.factor(dateRep):\n",
            "“‘-’ not meaningful for factors”\n"
          ],
          "name": "stderr"
        },
        {
          "output_type": "display_data",
          "data": {
            "text/plain": [
              "   dateRep    day month year cases deaths countriesAndTerritories geoId\n",
              "1  28/03/2020 28  3     2020    1    0    Curaçao                 CW   \n",
              "2  27/03/2020 27  3     2020    0    0    Tunisia                 TN   \n",
              "3  02/04/2020  2  4     2020    0    0    Cape_Verde              CV   \n",
              "4  04/03/2020  4  3     2020    2    0    Bahrain                 BH   \n",
              "5  29/01/2020 29  1     2020    0    0    Lebanon                 LB   \n",
              "6  04/04/2020  4  4     2020 6663  932    Spain                   ES   \n",
              "7  19/01/2020 19  1     2020    0    0    Iraq                    IQ   \n",
              "8  06/04/2020  6  4     2020  387   28    Sweden                  SE   \n",
              "9  29/04/2020 29  4     2020    0    0    Benin                   BJ   \n",
              "10 24/03/2020 24  3     2020   35    0    Argentina               AR   \n",
              "   countryterritoryCode popData2018 continentExp\n",
              "1  CUW                    159849    America     \n",
              "2  TUN                  11565204    Africa      \n",
              "3  CPV                    543767    Africa      \n",
              "4  BHR                   1569439    Asia        \n",
              "5  LBN                   6848925    Asia        \n",
              "6  ESP                  46723749    Europe      \n",
              "7  IRQ                  38433600    Asia        \n",
              "8  SWE                  10183175    Europe      \n",
              "9  BEN                  11485048    Africa      \n",
              "10 ARG                  44494502    America     "
            ],
            "text/latex": "A data.frame: 10 × 11\n\\begin{tabular}{lllllllllll}\n dateRep & day & month & year & cases & deaths & countriesAndTerritories & geoId & countryterritoryCode & popData2018 & continentExp\\\\\n <fct> & <int> & <int> & <int> & <int> & <int> & <fct> & <fct> & <fct> & <int> & <fct>\\\\\n\\hline\n\t 28/03/2020 & 28 & 3 & 2020 &    1 &   0 & Curaçao    & CW & CUW &   159849 & America\\\\\n\t 27/03/2020 & 27 & 3 & 2020 &    0 &   0 & Tunisia    & TN & TUN & 11565204 & Africa \\\\\n\t 02/04/2020 &  2 & 4 & 2020 &    0 &   0 & Cape\\_Verde & CV & CPV &   543767 & Africa \\\\\n\t 04/03/2020 &  4 & 3 & 2020 &    2 &   0 & Bahrain    & BH & BHR &  1569439 & Asia   \\\\\n\t 29/01/2020 & 29 & 1 & 2020 &    0 &   0 & Lebanon    & LB & LBN &  6848925 & Asia   \\\\\n\t 04/04/2020 &  4 & 4 & 2020 & 6663 & 932 & Spain      & ES & ESP & 46723749 & Europe \\\\\n\t 19/01/2020 & 19 & 1 & 2020 &    0 &   0 & Iraq       & IQ & IRQ & 38433600 & Asia   \\\\\n\t 06/04/2020 &  6 & 4 & 2020 &  387 &  28 & Sweden     & SE & SWE & 10183175 & Europe \\\\\n\t 29/04/2020 & 29 & 4 & 2020 &    0 &   0 & Benin      & BJ & BEN & 11485048 & Africa \\\\\n\t 24/03/2020 & 24 & 3 & 2020 &   35 &   0 & Argentina  & AR & ARG & 44494502 & America\\\\\n\\end{tabular}\n",
            "text/markdown": "\nA data.frame: 10 × 11\n\n| dateRep &lt;fct&gt; | day &lt;int&gt; | month &lt;int&gt; | year &lt;int&gt; | cases &lt;int&gt; | deaths &lt;int&gt; | countriesAndTerritories &lt;fct&gt; | geoId &lt;fct&gt; | countryterritoryCode &lt;fct&gt; | popData2018 &lt;int&gt; | continentExp &lt;fct&gt; |\n|---|---|---|---|---|---|---|---|---|---|---|\n| 28/03/2020 | 28 | 3 | 2020 |    1 |   0 | Curaçao    | CW | CUW |   159849 | America |\n| 27/03/2020 | 27 | 3 | 2020 |    0 |   0 | Tunisia    | TN | TUN | 11565204 | Africa  |\n| 02/04/2020 |  2 | 4 | 2020 |    0 |   0 | Cape_Verde | CV | CPV |   543767 | Africa  |\n| 04/03/2020 |  4 | 3 | 2020 |    2 |   0 | Bahrain    | BH | BHR |  1569439 | Asia    |\n| 29/01/2020 | 29 | 1 | 2020 |    0 |   0 | Lebanon    | LB | LBN |  6848925 | Asia    |\n| 04/04/2020 |  4 | 4 | 2020 | 6663 | 932 | Spain      | ES | ESP | 46723749 | Europe  |\n| 19/01/2020 | 19 | 1 | 2020 |    0 |   0 | Iraq       | IQ | IRQ | 38433600 | Asia    |\n| 06/04/2020 |  6 | 4 | 2020 |  387 |  28 | Sweden     | SE | SWE | 10183175 | Europe  |\n| 29/04/2020 | 29 | 4 | 2020 |    0 |   0 | Benin      | BJ | BEN | 11485048 | Africa  |\n| 24/03/2020 | 24 | 3 | 2020 |   35 |   0 | Argentina  | AR | ARG | 44494502 | America |\n\n",
            "text/html": [
              "<table>\n",
              "<caption>A data.frame: 10 × 11</caption>\n",
              "<thead>\n",
              "\t<tr><th scope=col>dateRep</th><th scope=col>day</th><th scope=col>month</th><th scope=col>year</th><th scope=col>cases</th><th scope=col>deaths</th><th scope=col>countriesAndTerritories</th><th scope=col>geoId</th><th scope=col>countryterritoryCode</th><th scope=col>popData2018</th><th scope=col>continentExp</th></tr>\n",
              "\t<tr><th scope=col>&lt;fct&gt;</th><th scope=col>&lt;int&gt;</th><th scope=col>&lt;int&gt;</th><th scope=col>&lt;int&gt;</th><th scope=col>&lt;int&gt;</th><th scope=col>&lt;int&gt;</th><th scope=col>&lt;fct&gt;</th><th scope=col>&lt;fct&gt;</th><th scope=col>&lt;fct&gt;</th><th scope=col>&lt;int&gt;</th><th scope=col>&lt;fct&gt;</th></tr>\n",
              "</thead>\n",
              "<tbody>\n",
              "\t<tr><td>28/03/2020</td><td>28</td><td>3</td><td>2020</td><td>   1</td><td>  0</td><td>Curaçao   </td><td>CW</td><td>CUW</td><td>  159849</td><td>America</td></tr>\n",
              "\t<tr><td>27/03/2020</td><td>27</td><td>3</td><td>2020</td><td>   0</td><td>  0</td><td>Tunisia   </td><td>TN</td><td>TUN</td><td>11565204</td><td>Africa </td></tr>\n",
              "\t<tr><td>02/04/2020</td><td> 2</td><td>4</td><td>2020</td><td>   0</td><td>  0</td><td>Cape_Verde</td><td>CV</td><td>CPV</td><td>  543767</td><td>Africa </td></tr>\n",
              "\t<tr><td>04/03/2020</td><td> 4</td><td>3</td><td>2020</td><td>   2</td><td>  0</td><td>Bahrain   </td><td>BH</td><td>BHR</td><td> 1569439</td><td>Asia   </td></tr>\n",
              "\t<tr><td>29/01/2020</td><td>29</td><td>1</td><td>2020</td><td>   0</td><td>  0</td><td>Lebanon   </td><td>LB</td><td>LBN</td><td> 6848925</td><td>Asia   </td></tr>\n",
              "\t<tr><td>04/04/2020</td><td> 4</td><td>4</td><td>2020</td><td>6663</td><td>932</td><td>Spain     </td><td>ES</td><td>ESP</td><td>46723749</td><td>Europe </td></tr>\n",
              "\t<tr><td>19/01/2020</td><td>19</td><td>1</td><td>2020</td><td>   0</td><td>  0</td><td>Iraq      </td><td>IQ</td><td>IRQ</td><td>38433600</td><td>Asia   </td></tr>\n",
              "\t<tr><td>06/04/2020</td><td> 6</td><td>4</td><td>2020</td><td> 387</td><td> 28</td><td>Sweden    </td><td>SE</td><td>SWE</td><td>10183175</td><td>Europe </td></tr>\n",
              "\t<tr><td>29/04/2020</td><td>29</td><td>4</td><td>2020</td><td>   0</td><td>  0</td><td>Benin     </td><td>BJ</td><td>BEN</td><td>11485048</td><td>Africa </td></tr>\n",
              "\t<tr><td>24/03/2020</td><td>24</td><td>3</td><td>2020</td><td>  35</td><td>  0</td><td>Argentina </td><td>AR</td><td>ARG</td><td>44494502</td><td>America</td></tr>\n",
              "</tbody>\n",
              "</table>\n"
            ]
          },
          "metadata": {
            "tags": []
          }
        }
      ]
    },
    {
      "cell_type": "markdown",
      "metadata": {
        "colab_type": "text",
        "id": "vXHeRsBK7rXJ"
      },
      "source": [
        "*Describe the dataset here*\n",
        "\n",
        "o deepen your understanding of the available data and briefly describe the dataset (e.g., number of observations, sorting, variables, ...):\n",
        "\n",
        "Dataset shows data regarding covid cases. \n",
        "* Counts new cases/deaths per day per country\n",
        "* Shows population data for said country/continent\n",
        "* 17158 rows of data\n",
        "* sorted by country and date\n",
        "* Starting with 31/12/2019 until today (15/5/2020)\n",
        "* includes 210 different countries\n",
        "* 11 different variables - date in D/M/Y format. 3 columns for day/month/year split up - Cases - Deaths - Country - GeoID - CountryCode - Population data from 2018 and the Continent\n"
      ]
    },
    {
      "cell_type": "markdown",
      "metadata": {
        "colab_type": "text",
        "id": "rWahnB0Y9Fij"
      },
      "source": [
        "Next, you should filter and sort the dataset to answer the following questions:\n",
        "\n",
        "1.   Which 5 days had the highest number of reported new cases in Germany?\n",
        "2.   Which 5 days had the highest number of reported deaths in Brazil?"
      ]
    },
    {
      "cell_type": "code",
      "metadata": {
        "colab_type": "code",
        "id": "lrkGJYQ8_Ax3",
        "colab": {
          "base_uri": "https://localhost:8080/",
          "height": 179
        },
        "outputId": "20a56159-f77e-46a9-caaf-596e9ba1bde1"
      },
      "source": [
        "# Insert your code here\n",
        "covid %>%\n",
        "filter(countriesAndTerritories == \"Germany\") %>%\n",
        "arrange(desc(cases)) %>%\n",
        "head(5)"
      ],
      "execution_count": 35,
      "outputs": [
        {
          "output_type": "display_data",
          "data": {
            "text/plain": [
              "  dateRep    day month year cases deaths countriesAndTerritories geoId\n",
              "1 28/03/2020 28  3     2020 6294   72    Germany                 DE   \n",
              "2 03/04/2020  3  4     2020 6174  145    Germany                 DE   \n",
              "3 02/04/2020  2  4     2020 6156  140    Germany                 DE   \n",
              "4 04/04/2020  4  4     2020 6082  141    Germany                 DE   \n",
              "5 20/03/2020 20  3     2020 5940   30    Germany                 DE   \n",
              "  countryterritoryCode popData2018 continentExp\n",
              "1 DEU                  82927922    Europe      \n",
              "2 DEU                  82927922    Europe      \n",
              "3 DEU                  82927922    Europe      \n",
              "4 DEU                  82927922    Europe      \n",
              "5 DEU                  82927922    Europe      "
            ],
            "text/latex": "A data.frame: 5 × 11\n\\begin{tabular}{r|lllllllllll}\n  & dateRep & day & month & year & cases & deaths & countriesAndTerritories & geoId & countryterritoryCode & popData2018 & continentExp\\\\\n  & <fct> & <int> & <int> & <int> & <int> & <int> & <fct> & <fct> & <fct> & <int> & <fct>\\\\\n\\hline\n\t1 & 28/03/2020 & 28 & 3 & 2020 & 6294 &  72 & Germany & DE & DEU & 82927922 & Europe\\\\\n\t2 & 03/04/2020 &  3 & 4 & 2020 & 6174 & 145 & Germany & DE & DEU & 82927922 & Europe\\\\\n\t3 & 02/04/2020 &  2 & 4 & 2020 & 6156 & 140 & Germany & DE & DEU & 82927922 & Europe\\\\\n\t4 & 04/04/2020 &  4 & 4 & 2020 & 6082 & 141 & Germany & DE & DEU & 82927922 & Europe\\\\\n\t5 & 20/03/2020 & 20 & 3 & 2020 & 5940 &  30 & Germany & DE & DEU & 82927922 & Europe\\\\\n\\end{tabular}\n",
            "text/markdown": "\nA data.frame: 5 × 11\n\n| <!--/--> | dateRep &lt;fct&gt; | day &lt;int&gt; | month &lt;int&gt; | year &lt;int&gt; | cases &lt;int&gt; | deaths &lt;int&gt; | countriesAndTerritories &lt;fct&gt; | geoId &lt;fct&gt; | countryterritoryCode &lt;fct&gt; | popData2018 &lt;int&gt; | continentExp &lt;fct&gt; |\n|---|---|---|---|---|---|---|---|---|---|---|---|\n| 1 | 28/03/2020 | 28 | 3 | 2020 | 6294 |  72 | Germany | DE | DEU | 82927922 | Europe |\n| 2 | 03/04/2020 |  3 | 4 | 2020 | 6174 | 145 | Germany | DE | DEU | 82927922 | Europe |\n| 3 | 02/04/2020 |  2 | 4 | 2020 | 6156 | 140 | Germany | DE | DEU | 82927922 | Europe |\n| 4 | 04/04/2020 |  4 | 4 | 2020 | 6082 | 141 | Germany | DE | DEU | 82927922 | Europe |\n| 5 | 20/03/2020 | 20 | 3 | 2020 | 5940 |  30 | Germany | DE | DEU | 82927922 | Europe |\n\n",
            "text/html": [
              "<table>\n",
              "<caption>A data.frame: 5 × 11</caption>\n",
              "<thead>\n",
              "\t<tr><th></th><th scope=col>dateRep</th><th scope=col>day</th><th scope=col>month</th><th scope=col>year</th><th scope=col>cases</th><th scope=col>deaths</th><th scope=col>countriesAndTerritories</th><th scope=col>geoId</th><th scope=col>countryterritoryCode</th><th scope=col>popData2018</th><th scope=col>continentExp</th></tr>\n",
              "\t<tr><th></th><th scope=col>&lt;fct&gt;</th><th scope=col>&lt;int&gt;</th><th scope=col>&lt;int&gt;</th><th scope=col>&lt;int&gt;</th><th scope=col>&lt;int&gt;</th><th scope=col>&lt;int&gt;</th><th scope=col>&lt;fct&gt;</th><th scope=col>&lt;fct&gt;</th><th scope=col>&lt;fct&gt;</th><th scope=col>&lt;int&gt;</th><th scope=col>&lt;fct&gt;</th></tr>\n",
              "</thead>\n",
              "<tbody>\n",
              "\t<tr><th scope=row>1</th><td>28/03/2020</td><td>28</td><td>3</td><td>2020</td><td>6294</td><td> 72</td><td>Germany</td><td>DE</td><td>DEU</td><td>82927922</td><td>Europe</td></tr>\n",
              "\t<tr><th scope=row>2</th><td>03/04/2020</td><td> 3</td><td>4</td><td>2020</td><td>6174</td><td>145</td><td>Germany</td><td>DE</td><td>DEU</td><td>82927922</td><td>Europe</td></tr>\n",
              "\t<tr><th scope=row>3</th><td>02/04/2020</td><td> 2</td><td>4</td><td>2020</td><td>6156</td><td>140</td><td>Germany</td><td>DE</td><td>DEU</td><td>82927922</td><td>Europe</td></tr>\n",
              "\t<tr><th scope=row>4</th><td>04/04/2020</td><td> 4</td><td>4</td><td>2020</td><td>6082</td><td>141</td><td>Germany</td><td>DE</td><td>DEU</td><td>82927922</td><td>Europe</td></tr>\n",
              "\t<tr><th scope=row>5</th><td>20/03/2020</td><td>20</td><td>3</td><td>2020</td><td>5940</td><td> 30</td><td>Germany</td><td>DE</td><td>DEU</td><td>82927922</td><td>Europe</td></tr>\n",
              "</tbody>\n",
              "</table>\n"
            ]
          },
          "metadata": {
            "tags": []
          }
        }
      ]
    },
    {
      "cell_type": "code",
      "metadata": {
        "id": "RJwRyzXOVUAy",
        "colab_type": "code",
        "colab": {
          "base_uri": "https://localhost:8080/",
          "height": 179
        },
        "outputId": "57109a87-9cd2-4227-a732-1e9ae877bf83"
      },
      "source": [
        "covid %>%\n",
        "filter(countriesAndTerritories == \"Brazil\") %>%\n",
        "arrange(desc(deaths)) %>%\n",
        "head(5)"
      ],
      "execution_count": 40,
      "outputs": [
        {
          "output_type": "display_data",
          "data": {
            "text/plain": [
              "  dateRep    day month year cases deaths countriesAndTerritories geoId\n",
              "1 13/05/2020 13  5     2020  9258 881    Brazil                  BR   \n",
              "2 15/05/2020 15  5     2020 13944 844    Brazil                  BR   \n",
              "3 09/05/2020  9  5     2020 10222 751    Brazil                  BR   \n",
              "4 14/05/2020 14  5     2020 11385 749    Brazil                  BR   \n",
              "5 10/05/2020 10  5     2020 10611 730    Brazil                  BR   \n",
              "  countryterritoryCode popData2018 continentExp\n",
              "1 BRA                  209469333   America     \n",
              "2 BRA                  209469333   America     \n",
              "3 BRA                  209469333   America     \n",
              "4 BRA                  209469333   America     \n",
              "5 BRA                  209469333   America     "
            ],
            "text/latex": "A data.frame: 5 × 11\n\\begin{tabular}{r|lllllllllll}\n  & dateRep & day & month & year & cases & deaths & countriesAndTerritories & geoId & countryterritoryCode & popData2018 & continentExp\\\\\n  & <fct> & <int> & <int> & <int> & <int> & <int> & <fct> & <fct> & <fct> & <int> & <fct>\\\\\n\\hline\n\t1 & 13/05/2020 & 13 & 5 & 2020 &  9258 & 881 & Brazil & BR & BRA & 209469333 & America\\\\\n\t2 & 15/05/2020 & 15 & 5 & 2020 & 13944 & 844 & Brazil & BR & BRA & 209469333 & America\\\\\n\t3 & 09/05/2020 &  9 & 5 & 2020 & 10222 & 751 & Brazil & BR & BRA & 209469333 & America\\\\\n\t4 & 14/05/2020 & 14 & 5 & 2020 & 11385 & 749 & Brazil & BR & BRA & 209469333 & America\\\\\n\t5 & 10/05/2020 & 10 & 5 & 2020 & 10611 & 730 & Brazil & BR & BRA & 209469333 & America\\\\\n\\end{tabular}\n",
            "text/markdown": "\nA data.frame: 5 × 11\n\n| <!--/--> | dateRep &lt;fct&gt; | day &lt;int&gt; | month &lt;int&gt; | year &lt;int&gt; | cases &lt;int&gt; | deaths &lt;int&gt; | countriesAndTerritories &lt;fct&gt; | geoId &lt;fct&gt; | countryterritoryCode &lt;fct&gt; | popData2018 &lt;int&gt; | continentExp &lt;fct&gt; |\n|---|---|---|---|---|---|---|---|---|---|---|---|\n| 1 | 13/05/2020 | 13 | 5 | 2020 |  9258 | 881 | Brazil | BR | BRA | 209469333 | America |\n| 2 | 15/05/2020 | 15 | 5 | 2020 | 13944 | 844 | Brazil | BR | BRA | 209469333 | America |\n| 3 | 09/05/2020 |  9 | 5 | 2020 | 10222 | 751 | Brazil | BR | BRA | 209469333 | America |\n| 4 | 14/05/2020 | 14 | 5 | 2020 | 11385 | 749 | Brazil | BR | BRA | 209469333 | America |\n| 5 | 10/05/2020 | 10 | 5 | 2020 | 10611 | 730 | Brazil | BR | BRA | 209469333 | America |\n\n",
            "text/html": [
              "<table>\n",
              "<caption>A data.frame: 5 × 11</caption>\n",
              "<thead>\n",
              "\t<tr><th></th><th scope=col>dateRep</th><th scope=col>day</th><th scope=col>month</th><th scope=col>year</th><th scope=col>cases</th><th scope=col>deaths</th><th scope=col>countriesAndTerritories</th><th scope=col>geoId</th><th scope=col>countryterritoryCode</th><th scope=col>popData2018</th><th scope=col>continentExp</th></tr>\n",
              "\t<tr><th></th><th scope=col>&lt;fct&gt;</th><th scope=col>&lt;int&gt;</th><th scope=col>&lt;int&gt;</th><th scope=col>&lt;int&gt;</th><th scope=col>&lt;int&gt;</th><th scope=col>&lt;int&gt;</th><th scope=col>&lt;fct&gt;</th><th scope=col>&lt;fct&gt;</th><th scope=col>&lt;fct&gt;</th><th scope=col>&lt;int&gt;</th><th scope=col>&lt;fct&gt;</th></tr>\n",
              "</thead>\n",
              "<tbody>\n",
              "\t<tr><th scope=row>1</th><td>13/05/2020</td><td>13</td><td>5</td><td>2020</td><td> 9258</td><td>881</td><td>Brazil</td><td>BR</td><td>BRA</td><td>209469333</td><td>America</td></tr>\n",
              "\t<tr><th scope=row>2</th><td>15/05/2020</td><td>15</td><td>5</td><td>2020</td><td>13944</td><td>844</td><td>Brazil</td><td>BR</td><td>BRA</td><td>209469333</td><td>America</td></tr>\n",
              "\t<tr><th scope=row>3</th><td>09/05/2020</td><td> 9</td><td>5</td><td>2020</td><td>10222</td><td>751</td><td>Brazil</td><td>BR</td><td>BRA</td><td>209469333</td><td>America</td></tr>\n",
              "\t<tr><th scope=row>4</th><td>14/05/2020</td><td>14</td><td>5</td><td>2020</td><td>11385</td><td>749</td><td>Brazil</td><td>BR</td><td>BRA</td><td>209469333</td><td>America</td></tr>\n",
              "\t<tr><th scope=row>5</th><td>10/05/2020</td><td>10</td><td>5</td><td>2020</td><td>10611</td><td>730</td><td>Brazil</td><td>BR</td><td>BRA</td><td>209469333</td><td>America</td></tr>\n",
              "</tbody>\n",
              "</table>\n"
            ]
          },
          "metadata": {
            "tags": []
          }
        }
      ]
    },
    {
      "cell_type": "code",
      "metadata": {
        "id": "4zepFhbAV_5C",
        "colab_type": "code",
        "colab": {
          "base_uri": "https://localhost:8080/",
          "height": 179
        },
        "outputId": "6c434522-8b43-45d9-f287-511dcd597291"
      },
      "source": [
        "covid %>%\n",
        "filter(countriesAndTerritories == \"United_States_of_America\") %>%\n",
        "arrange(desc(cases)) %>%\n",
        "head(5)"
      ],
      "execution_count": 42,
      "outputs": [
        {
          "output_type": "display_data",
          "data": {
            "text/plain": [
              "  dateRep    day month year cases deaths countriesAndTerritories  geoId\n",
              "1 26/04/2020 26  4     2020 48529 2172   United_States_of_America US   \n",
              "2 22/04/2020 22  4     2020 37289 2524   United_States_of_America US   \n",
              "3 11/04/2020 11  4     2020 35527 2087   United_States_of_America US   \n",
              "4 05/04/2020  5  4     2020 34272 1344   United_States_of_America US   \n",
              "5 02/05/2020  2  5     2020 33955 2062   United_States_of_America US   \n",
              "  countryterritoryCode popData2018 continentExp\n",
              "1 USA                  327167434   America     \n",
              "2 USA                  327167434   America     \n",
              "3 USA                  327167434   America     \n",
              "4 USA                  327167434   America     \n",
              "5 USA                  327167434   America     "
            ],
            "text/latex": "A data.frame: 5 × 11\n\\begin{tabular}{r|lllllllllll}\n  & dateRep & day & month & year & cases & deaths & countriesAndTerritories & geoId & countryterritoryCode & popData2018 & continentExp\\\\\n  & <fct> & <int> & <int> & <int> & <int> & <int> & <fct> & <fct> & <fct> & <int> & <fct>\\\\\n\\hline\n\t1 & 26/04/2020 & 26 & 4 & 2020 & 48529 & 2172 & United\\_States\\_of\\_America & US & USA & 327167434 & America\\\\\n\t2 & 22/04/2020 & 22 & 4 & 2020 & 37289 & 2524 & United\\_States\\_of\\_America & US & USA & 327167434 & America\\\\\n\t3 & 11/04/2020 & 11 & 4 & 2020 & 35527 & 2087 & United\\_States\\_of\\_America & US & USA & 327167434 & America\\\\\n\t4 & 05/04/2020 &  5 & 4 & 2020 & 34272 & 1344 & United\\_States\\_of\\_America & US & USA & 327167434 & America\\\\\n\t5 & 02/05/2020 &  2 & 5 & 2020 & 33955 & 2062 & United\\_States\\_of\\_America & US & USA & 327167434 & America\\\\\n\\end{tabular}\n",
            "text/markdown": "\nA data.frame: 5 × 11\n\n| <!--/--> | dateRep &lt;fct&gt; | day &lt;int&gt; | month &lt;int&gt; | year &lt;int&gt; | cases &lt;int&gt; | deaths &lt;int&gt; | countriesAndTerritories &lt;fct&gt; | geoId &lt;fct&gt; | countryterritoryCode &lt;fct&gt; | popData2018 &lt;int&gt; | continentExp &lt;fct&gt; |\n|---|---|---|---|---|---|---|---|---|---|---|---|\n| 1 | 26/04/2020 | 26 | 4 | 2020 | 48529 | 2172 | United_States_of_America | US | USA | 327167434 | America |\n| 2 | 22/04/2020 | 22 | 4 | 2020 | 37289 | 2524 | United_States_of_America | US | USA | 327167434 | America |\n| 3 | 11/04/2020 | 11 | 4 | 2020 | 35527 | 2087 | United_States_of_America | US | USA | 327167434 | America |\n| 4 | 05/04/2020 |  5 | 4 | 2020 | 34272 | 1344 | United_States_of_America | US | USA | 327167434 | America |\n| 5 | 02/05/2020 |  2 | 5 | 2020 | 33955 | 2062 | United_States_of_America | US | USA | 327167434 | America |\n\n",
            "text/html": [
              "<table>\n",
              "<caption>A data.frame: 5 × 11</caption>\n",
              "<thead>\n",
              "\t<tr><th></th><th scope=col>dateRep</th><th scope=col>day</th><th scope=col>month</th><th scope=col>year</th><th scope=col>cases</th><th scope=col>deaths</th><th scope=col>countriesAndTerritories</th><th scope=col>geoId</th><th scope=col>countryterritoryCode</th><th scope=col>popData2018</th><th scope=col>continentExp</th></tr>\n",
              "\t<tr><th></th><th scope=col>&lt;fct&gt;</th><th scope=col>&lt;int&gt;</th><th scope=col>&lt;int&gt;</th><th scope=col>&lt;int&gt;</th><th scope=col>&lt;int&gt;</th><th scope=col>&lt;int&gt;</th><th scope=col>&lt;fct&gt;</th><th scope=col>&lt;fct&gt;</th><th scope=col>&lt;fct&gt;</th><th scope=col>&lt;int&gt;</th><th scope=col>&lt;fct&gt;</th></tr>\n",
              "</thead>\n",
              "<tbody>\n",
              "\t<tr><th scope=row>1</th><td>26/04/2020</td><td>26</td><td>4</td><td>2020</td><td>48529</td><td>2172</td><td>United_States_of_America</td><td>US</td><td>USA</td><td>327167434</td><td>America</td></tr>\n",
              "\t<tr><th scope=row>2</th><td>22/04/2020</td><td>22</td><td>4</td><td>2020</td><td>37289</td><td>2524</td><td>United_States_of_America</td><td>US</td><td>USA</td><td>327167434</td><td>America</td></tr>\n",
              "\t<tr><th scope=row>3</th><td>11/04/2020</td><td>11</td><td>4</td><td>2020</td><td>35527</td><td>2087</td><td>United_States_of_America</td><td>US</td><td>USA</td><td>327167434</td><td>America</td></tr>\n",
              "\t<tr><th scope=row>4</th><td>05/04/2020</td><td> 5</td><td>4</td><td>2020</td><td>34272</td><td>1344</td><td>United_States_of_America</td><td>US</td><td>USA</td><td>327167434</td><td>America</td></tr>\n",
              "\t<tr><th scope=row>5</th><td>02/05/2020</td><td> 2</td><td>5</td><td>2020</td><td>33955</td><td>2062</td><td>United_States_of_America</td><td>US</td><td>USA</td><td>327167434</td><td>America</td></tr>\n",
              "</tbody>\n",
              "</table>\n"
            ]
          },
          "metadata": {
            "tags": []
          }
        }
      ]
    },
    {
      "cell_type": "markdown",
      "metadata": {
        "colab_type": "text",
        "id": "5EEGn4zg3CIf"
      },
      "source": [
        "Having established first insights, you now have to aggregate and transform the dataset for further analysis. \n",
        "\n",
        "First, calculate the number of total confirmed cases and the number of total deaths for each country. Which countries are hit hardest in terms of total cases and total deaths? "
      ]
    },
    {
      "cell_type": "code",
      "metadata": {
        "id": "FNedlRVcZr-4",
        "colab_type": "code",
        "colab": {
          "base_uri": "https://localhost:8080/",
          "height": 1000
        },
        "outputId": "f962e614-9ad1-4fb7-b38c-1f6166e5bc75"
      },
      "source": [
        "covid %>%\n",
        "group_by(countryterritoryCode) %>%\n",
        "mutate(cumcases = cumsum(cases)) -> covid_sum\n",
        "covid_sum %>%\n",
        "select(countriesAndTerritories, cumcases)"
      ],
      "execution_count": 78,
      "outputs": [
        {
          "output_type": "stream",
          "text": [
            "Adding missing grouping variables: `countryterritoryCode`\n",
            "\n"
          ],
          "name": "stderr"
        },
        {
          "output_type": "display_data",
          "data": {
            "text/plain": [
              "      countryterritoryCode countriesAndTerritories cumcases\n",
              "1     AFG                  Afghanistan              113    \n",
              "2     AFG                  Afghanistan              372    \n",
              "3     AFG                  Afghanistan              652    \n",
              "4     AFG                  Afghanistan              937    \n",
              "5     AFG                  Afghanistan             1306    \n",
              "6     AFG                  Afghanistan             1561    \n",
              "7     AFG                  Afghanistan             1776    \n",
              "8     AFG                  Afghanistan             1947    \n",
              "9     AFG                  Afghanistan             2115    \n",
              "10    AFG                  Afghanistan             2445    \n",
              "11    AFG                  Afghanistan             2635    \n",
              "12    AFG                  Afghanistan             2870    \n",
              "13    AFG                  Afghanistan             3004    \n",
              "14    AFG                  Afghanistan             3168    \n",
              "15    AFG                  Afghanistan             3390    \n",
              "16    AFG                  Afghanistan             3512    \n",
              "17    AFG                  Afghanistan             3636    \n",
              "18    AFG                  Afghanistan             3808    \n",
              "19    AFG                  Afghanistan             3876    \n",
              "20    AFG                  Afghanistan             3988    \n",
              "21    AFG                  Afghanistan             4058    \n",
              "22    AFG                  Afghanistan             4163    \n",
              "23    AFG                  Afghanistan             4247    \n",
              "24    AFG                  Afghanistan             4308    \n",
              "25    AFG                  Afghanistan             4343    \n",
              "26    AFG                  Afghanistan             4431    \n",
              "27    AFG                  Afghanistan             4494    \n",
              "28    AFG                  Afghanistan             4545    \n",
              "29    AFG                  Afghanistan             4555    \n",
              "30    AFG                  Afghanistan             4625    \n",
              "⋮     ⋮                    ⋮                       ⋮       \n",
              "17129 ZWE                  Zimbabwe                13      \n",
              "17130 ZWE                  Zimbabwe                13      \n",
              "17131 ZWE                  Zimbabwe                14      \n",
              "17132 ZWE                  Zimbabwe                20      \n",
              "17133 ZWE                  Zimbabwe                20      \n",
              "17134 ZWE                  Zimbabwe                23      \n",
              "17135 ZWE                  Zimbabwe                23      \n",
              "17136 ZWE                  Zimbabwe                26      \n",
              "17137 ZWE                  Zimbabwe                26      \n",
              "17138 ZWE                  Zimbabwe                26      \n",
              "17139 ZWE                  Zimbabwe                27      \n",
              "17140 ZWE                  Zimbabwe                28      \n",
              "17141 ZWE                  Zimbabwe                28      \n",
              "17142 ZWE                  Zimbabwe                28      \n",
              "17143 ZWE                  Zimbabwe                28      \n",
              "17144 ZWE                  Zimbabwe                29      \n",
              "17145 ZWE                  Zimbabwe                29      \n",
              "17146 ZWE                  Zimbabwe                29      \n",
              "17147 ZWE                  Zimbabwe                30      \n",
              "17148 ZWE                  Zimbabwe                30      \n",
              "17149 ZWE                  Zimbabwe                30      \n",
              "17150 ZWE                  Zimbabwe                32      \n",
              "17151 ZWE                  Zimbabwe                34      \n",
              "17152 ZWE                  Zimbabwe                34      \n",
              "17153 ZWE                  Zimbabwe                35      \n",
              "17154 ZWE                  Zimbabwe                35      \n",
              "17155 ZWE                  Zimbabwe                35      \n",
              "17156 ZWE                  Zimbabwe                35      \n",
              "17157 ZWE                  Zimbabwe                36      \n",
              "17158 ZWE                  Zimbabwe                37      "
            ],
            "text/latex": "A grouped\\_df: 17158 × 3\n\\begin{tabular}{lll}\n countryterritoryCode & countriesAndTerritories & cumcases\\\\\n <fct> & <fct> & <int>\\\\\n\\hline\n\t AFG & Afghanistan &  113\\\\\n\t AFG & Afghanistan &  372\\\\\n\t AFG & Afghanistan &  652\\\\\n\t AFG & Afghanistan &  937\\\\\n\t AFG & Afghanistan & 1306\\\\\n\t AFG & Afghanistan & 1561\\\\\n\t AFG & Afghanistan & 1776\\\\\n\t AFG & Afghanistan & 1947\\\\\n\t AFG & Afghanistan & 2115\\\\\n\t AFG & Afghanistan & 2445\\\\\n\t AFG & Afghanistan & 2635\\\\\n\t AFG & Afghanistan & 2870\\\\\n\t AFG & Afghanistan & 3004\\\\\n\t AFG & Afghanistan & 3168\\\\\n\t AFG & Afghanistan & 3390\\\\\n\t AFG & Afghanistan & 3512\\\\\n\t AFG & Afghanistan & 3636\\\\\n\t AFG & Afghanistan & 3808\\\\\n\t AFG & Afghanistan & 3876\\\\\n\t AFG & Afghanistan & 3988\\\\\n\t AFG & Afghanistan & 4058\\\\\n\t AFG & Afghanistan & 4163\\\\\n\t AFG & Afghanistan & 4247\\\\\n\t AFG & Afghanistan & 4308\\\\\n\t AFG & Afghanistan & 4343\\\\\n\t AFG & Afghanistan & 4431\\\\\n\t AFG & Afghanistan & 4494\\\\\n\t AFG & Afghanistan & 4545\\\\\n\t AFG & Afghanistan & 4555\\\\\n\t AFG & Afghanistan & 4625\\\\\n\t ⋮ & ⋮ & ⋮\\\\\n\t ZWE & Zimbabwe & 13\\\\\n\t ZWE & Zimbabwe & 13\\\\\n\t ZWE & Zimbabwe & 14\\\\\n\t ZWE & Zimbabwe & 20\\\\\n\t ZWE & Zimbabwe & 20\\\\\n\t ZWE & Zimbabwe & 23\\\\\n\t ZWE & Zimbabwe & 23\\\\\n\t ZWE & Zimbabwe & 26\\\\\n\t ZWE & Zimbabwe & 26\\\\\n\t ZWE & Zimbabwe & 26\\\\\n\t ZWE & Zimbabwe & 27\\\\\n\t ZWE & Zimbabwe & 28\\\\\n\t ZWE & Zimbabwe & 28\\\\\n\t ZWE & Zimbabwe & 28\\\\\n\t ZWE & Zimbabwe & 28\\\\\n\t ZWE & Zimbabwe & 29\\\\\n\t ZWE & Zimbabwe & 29\\\\\n\t ZWE & Zimbabwe & 29\\\\\n\t ZWE & Zimbabwe & 30\\\\\n\t ZWE & Zimbabwe & 30\\\\\n\t ZWE & Zimbabwe & 30\\\\\n\t ZWE & Zimbabwe & 32\\\\\n\t ZWE & Zimbabwe & 34\\\\\n\t ZWE & Zimbabwe & 34\\\\\n\t ZWE & Zimbabwe & 35\\\\\n\t ZWE & Zimbabwe & 35\\\\\n\t ZWE & Zimbabwe & 35\\\\\n\t ZWE & Zimbabwe & 35\\\\\n\t ZWE & Zimbabwe & 36\\\\\n\t ZWE & Zimbabwe & 37\\\\\n\\end{tabular}\n",
            "text/markdown": "\nA grouped_df: 17158 × 3\n\n| countryterritoryCode &lt;fct&gt; | countriesAndTerritories &lt;fct&gt; | cumcases &lt;int&gt; |\n|---|---|---|\n| AFG | Afghanistan |  113 |\n| AFG | Afghanistan |  372 |\n| AFG | Afghanistan |  652 |\n| AFG | Afghanistan |  937 |\n| AFG | Afghanistan | 1306 |\n| AFG | Afghanistan | 1561 |\n| AFG | Afghanistan | 1776 |\n| AFG | Afghanistan | 1947 |\n| AFG | Afghanistan | 2115 |\n| AFG | Afghanistan | 2445 |\n| AFG | Afghanistan | 2635 |\n| AFG | Afghanistan | 2870 |\n| AFG | Afghanistan | 3004 |\n| AFG | Afghanistan | 3168 |\n| AFG | Afghanistan | 3390 |\n| AFG | Afghanistan | 3512 |\n| AFG | Afghanistan | 3636 |\n| AFG | Afghanistan | 3808 |\n| AFG | Afghanistan | 3876 |\n| AFG | Afghanistan | 3988 |\n| AFG | Afghanistan | 4058 |\n| AFG | Afghanistan | 4163 |\n| AFG | Afghanistan | 4247 |\n| AFG | Afghanistan | 4308 |\n| AFG | Afghanistan | 4343 |\n| AFG | Afghanistan | 4431 |\n| AFG | Afghanistan | 4494 |\n| AFG | Afghanistan | 4545 |\n| AFG | Afghanistan | 4555 |\n| AFG | Afghanistan | 4625 |\n| ⋮ | ⋮ | ⋮ |\n| ZWE | Zimbabwe | 13 |\n| ZWE | Zimbabwe | 13 |\n| ZWE | Zimbabwe | 14 |\n| ZWE | Zimbabwe | 20 |\n| ZWE | Zimbabwe | 20 |\n| ZWE | Zimbabwe | 23 |\n| ZWE | Zimbabwe | 23 |\n| ZWE | Zimbabwe | 26 |\n| ZWE | Zimbabwe | 26 |\n| ZWE | Zimbabwe | 26 |\n| ZWE | Zimbabwe | 27 |\n| ZWE | Zimbabwe | 28 |\n| ZWE | Zimbabwe | 28 |\n| ZWE | Zimbabwe | 28 |\n| ZWE | Zimbabwe | 28 |\n| ZWE | Zimbabwe | 29 |\n| ZWE | Zimbabwe | 29 |\n| ZWE | Zimbabwe | 29 |\n| ZWE | Zimbabwe | 30 |\n| ZWE | Zimbabwe | 30 |\n| ZWE | Zimbabwe | 30 |\n| ZWE | Zimbabwe | 32 |\n| ZWE | Zimbabwe | 34 |\n| ZWE | Zimbabwe | 34 |\n| ZWE | Zimbabwe | 35 |\n| ZWE | Zimbabwe | 35 |\n| ZWE | Zimbabwe | 35 |\n| ZWE | Zimbabwe | 35 |\n| ZWE | Zimbabwe | 36 |\n| ZWE | Zimbabwe | 37 |\n\n",
            "text/html": [
              "<table>\n",
              "<caption>A grouped_df: 17158 × 3</caption>\n",
              "<thead>\n",
              "\t<tr><th scope=col>countryterritoryCode</th><th scope=col>countriesAndTerritories</th><th scope=col>cumcases</th></tr>\n",
              "\t<tr><th scope=col>&lt;fct&gt;</th><th scope=col>&lt;fct&gt;</th><th scope=col>&lt;int&gt;</th></tr>\n",
              "</thead>\n",
              "<tbody>\n",
              "\t<tr><td>AFG</td><td>Afghanistan</td><td> 113</td></tr>\n",
              "\t<tr><td>AFG</td><td>Afghanistan</td><td> 372</td></tr>\n",
              "\t<tr><td>AFG</td><td>Afghanistan</td><td> 652</td></tr>\n",
              "\t<tr><td>AFG</td><td>Afghanistan</td><td> 937</td></tr>\n",
              "\t<tr><td>AFG</td><td>Afghanistan</td><td>1306</td></tr>\n",
              "\t<tr><td>AFG</td><td>Afghanistan</td><td>1561</td></tr>\n",
              "\t<tr><td>AFG</td><td>Afghanistan</td><td>1776</td></tr>\n",
              "\t<tr><td>AFG</td><td>Afghanistan</td><td>1947</td></tr>\n",
              "\t<tr><td>AFG</td><td>Afghanistan</td><td>2115</td></tr>\n",
              "\t<tr><td>AFG</td><td>Afghanistan</td><td>2445</td></tr>\n",
              "\t<tr><td>AFG</td><td>Afghanistan</td><td>2635</td></tr>\n",
              "\t<tr><td>AFG</td><td>Afghanistan</td><td>2870</td></tr>\n",
              "\t<tr><td>AFG</td><td>Afghanistan</td><td>3004</td></tr>\n",
              "\t<tr><td>AFG</td><td>Afghanistan</td><td>3168</td></tr>\n",
              "\t<tr><td>AFG</td><td>Afghanistan</td><td>3390</td></tr>\n",
              "\t<tr><td>AFG</td><td>Afghanistan</td><td>3512</td></tr>\n",
              "\t<tr><td>AFG</td><td>Afghanistan</td><td>3636</td></tr>\n",
              "\t<tr><td>AFG</td><td>Afghanistan</td><td>3808</td></tr>\n",
              "\t<tr><td>AFG</td><td>Afghanistan</td><td>3876</td></tr>\n",
              "\t<tr><td>AFG</td><td>Afghanistan</td><td>3988</td></tr>\n",
              "\t<tr><td>AFG</td><td>Afghanistan</td><td>4058</td></tr>\n",
              "\t<tr><td>AFG</td><td>Afghanistan</td><td>4163</td></tr>\n",
              "\t<tr><td>AFG</td><td>Afghanistan</td><td>4247</td></tr>\n",
              "\t<tr><td>AFG</td><td>Afghanistan</td><td>4308</td></tr>\n",
              "\t<tr><td>AFG</td><td>Afghanistan</td><td>4343</td></tr>\n",
              "\t<tr><td>AFG</td><td>Afghanistan</td><td>4431</td></tr>\n",
              "\t<tr><td>AFG</td><td>Afghanistan</td><td>4494</td></tr>\n",
              "\t<tr><td>AFG</td><td>Afghanistan</td><td>4545</td></tr>\n",
              "\t<tr><td>AFG</td><td>Afghanistan</td><td>4555</td></tr>\n",
              "\t<tr><td>AFG</td><td>Afghanistan</td><td>4625</td></tr>\n",
              "\t<tr><td>⋮</td><td>⋮</td><td>⋮</td></tr>\n",
              "\t<tr><td>ZWE</td><td>Zimbabwe</td><td>13</td></tr>\n",
              "\t<tr><td>ZWE</td><td>Zimbabwe</td><td>13</td></tr>\n",
              "\t<tr><td>ZWE</td><td>Zimbabwe</td><td>14</td></tr>\n",
              "\t<tr><td>ZWE</td><td>Zimbabwe</td><td>20</td></tr>\n",
              "\t<tr><td>ZWE</td><td>Zimbabwe</td><td>20</td></tr>\n",
              "\t<tr><td>ZWE</td><td>Zimbabwe</td><td>23</td></tr>\n",
              "\t<tr><td>ZWE</td><td>Zimbabwe</td><td>23</td></tr>\n",
              "\t<tr><td>ZWE</td><td>Zimbabwe</td><td>26</td></tr>\n",
              "\t<tr><td>ZWE</td><td>Zimbabwe</td><td>26</td></tr>\n",
              "\t<tr><td>ZWE</td><td>Zimbabwe</td><td>26</td></tr>\n",
              "\t<tr><td>ZWE</td><td>Zimbabwe</td><td>27</td></tr>\n",
              "\t<tr><td>ZWE</td><td>Zimbabwe</td><td>28</td></tr>\n",
              "\t<tr><td>ZWE</td><td>Zimbabwe</td><td>28</td></tr>\n",
              "\t<tr><td>ZWE</td><td>Zimbabwe</td><td>28</td></tr>\n",
              "\t<tr><td>ZWE</td><td>Zimbabwe</td><td>28</td></tr>\n",
              "\t<tr><td>ZWE</td><td>Zimbabwe</td><td>29</td></tr>\n",
              "\t<tr><td>ZWE</td><td>Zimbabwe</td><td>29</td></tr>\n",
              "\t<tr><td>ZWE</td><td>Zimbabwe</td><td>29</td></tr>\n",
              "\t<tr><td>ZWE</td><td>Zimbabwe</td><td>30</td></tr>\n",
              "\t<tr><td>ZWE</td><td>Zimbabwe</td><td>30</td></tr>\n",
              "\t<tr><td>ZWE</td><td>Zimbabwe</td><td>30</td></tr>\n",
              "\t<tr><td>ZWE</td><td>Zimbabwe</td><td>32</td></tr>\n",
              "\t<tr><td>ZWE</td><td>Zimbabwe</td><td>34</td></tr>\n",
              "\t<tr><td>ZWE</td><td>Zimbabwe</td><td>34</td></tr>\n",
              "\t<tr><td>ZWE</td><td>Zimbabwe</td><td>35</td></tr>\n",
              "\t<tr><td>ZWE</td><td>Zimbabwe</td><td>35</td></tr>\n",
              "\t<tr><td>ZWE</td><td>Zimbabwe</td><td>35</td></tr>\n",
              "\t<tr><td>ZWE</td><td>Zimbabwe</td><td>35</td></tr>\n",
              "\t<tr><td>ZWE</td><td>Zimbabwe</td><td>36</td></tr>\n",
              "\t<tr><td>ZWE</td><td>Zimbabwe</td><td>37</td></tr>\n",
              "</tbody>\n",
              "</table>\n"
            ]
          },
          "metadata": {
            "tags": []
          }
        }
      ]
    },
    {
      "cell_type": "code",
      "metadata": {
        "id": "3VZBpXN8bbEu",
        "colab_type": "code",
        "colab": {
          "base_uri": "https://localhost:8080/",
          "height": 1000
        },
        "outputId": "60c69206-af39-41b2-d570-98c1ea85c18a"
      },
      "source": [
        "covid_sum %>%\n",
        "select(dateRep, countryterritoryCode, cumcases) %>%\n",
        "group_by(countryterritoryCode) %>%\n",
        "arrange(-cumcases)"
      ],
      "execution_count": 84,
      "outputs": [
        {
          "output_type": "display_data",
          "data": {
            "text/plain": [
              "      dateRep    countryterritoryCode cumcases\n",
              "1     21/01/2020 USA                  1417889 \n",
              "2     20/01/2020 USA                  1417889 \n",
              "3     19/01/2020 USA                  1417889 \n",
              "4     18/01/2020 USA                  1417889 \n",
              "5     17/01/2020 USA                  1417889 \n",
              "6     16/01/2020 USA                  1417889 \n",
              "7     15/01/2020 USA                  1417889 \n",
              "8     14/01/2020 USA                  1417889 \n",
              "9     13/01/2020 USA                  1417889 \n",
              "10    12/01/2020 USA                  1417889 \n",
              "11    11/01/2020 USA                  1417889 \n",
              "12    10/01/2020 USA                  1417889 \n",
              "13    09/01/2020 USA                  1417889 \n",
              "14    08/01/2020 USA                  1417889 \n",
              "15    07/01/2020 USA                  1417889 \n",
              "16    06/01/2020 USA                  1417889 \n",
              "17    05/01/2020 USA                  1417889 \n",
              "18    04/01/2020 USA                  1417889 \n",
              "19    03/01/2020 USA                  1417889 \n",
              "20    02/01/2020 USA                  1417889 \n",
              "21    01/01/2020 USA                  1417889 \n",
              "22    31/12/2019 USA                  1417889 \n",
              "23    25/01/2020 USA                  1417888 \n",
              "24    24/01/2020 USA                  1417888 \n",
              "25    23/01/2020 USA                  1417888 \n",
              "26    22/01/2020 USA                  1417888 \n",
              "27    27/01/2020 USA                  1417887 \n",
              "28    26/01/2020 USA                  1417887 \n",
              "29    31/01/2020 USA                  1417884 \n",
              "30    30/01/2020 USA                  1417884 \n",
              "⋮     ⋮          ⋮                    ⋮       \n",
              "17129 06/05/2020 TCA                      0   \n",
              "17130 05/05/2020 TCA                      0   \n",
              "17131 04/05/2020 TCA                      0   \n",
              "17132 03/05/2020 TCA                      0   \n",
              "17133 02/05/2020 TCA                      0   \n",
              "17134 01/05/2020 TCA                      0   \n",
              "17135 30/04/2020 TCA                      0   \n",
              "17136 29/04/2020 TCA                      0   \n",
              "17137 15/05/2020 TZA                      0   \n",
              "17138 14/05/2020 TZA                      0   \n",
              "17139 13/05/2020 TZA                      0   \n",
              "17140 12/05/2020 TZA                      0   \n",
              "17141 11/05/2020 TZA                      0   \n",
              "17142 10/05/2020 TZA                      0   \n",
              "17143 09/05/2020 TZA                      0   \n",
              "17144 15/05/2020 VIR                      0   \n",
              "17145 14/05/2020 VIR                      0   \n",
              "17146 13/05/2020 VIR                      0   \n",
              "17147 12/05/2020 VIR                      0   \n",
              "17148 11/05/2020 VIR                      0   \n",
              "17149 15/05/2020 ZWE                      0   \n",
              "17150 14/05/2020 ZWE                      0   \n",
              "17151 13/05/2020 ZWE                      0   \n",
              "17152 10/03/2020 N/A                     -9   \n",
              "17153 02/03/2020 N/A                     -9   \n",
              "17154 01/03/2020 N/A                     -9   \n",
              "17155 29/02/2020 N/A                     -9   \n",
              "17156 28/02/2020 N/A                     -9   \n",
              "17157 07/05/2020 ECU                  -1379   \n",
              "17158 06/05/2020 ECU                  -1379   "
            ],
            "text/latex": "A grouped\\_df: 17158 × 3\n\\begin{tabular}{lll}\n dateRep & countryterritoryCode & cumcases\\\\\n <fct> & <fct> & <int>\\\\\n\\hline\n\t 21/01/2020 & USA & 1417889\\\\\n\t 20/01/2020 & USA & 1417889\\\\\n\t 19/01/2020 & USA & 1417889\\\\\n\t 18/01/2020 & USA & 1417889\\\\\n\t 17/01/2020 & USA & 1417889\\\\\n\t 16/01/2020 & USA & 1417889\\\\\n\t 15/01/2020 & USA & 1417889\\\\\n\t 14/01/2020 & USA & 1417889\\\\\n\t 13/01/2020 & USA & 1417889\\\\\n\t 12/01/2020 & USA & 1417889\\\\\n\t 11/01/2020 & USA & 1417889\\\\\n\t 10/01/2020 & USA & 1417889\\\\\n\t 09/01/2020 & USA & 1417889\\\\\n\t 08/01/2020 & USA & 1417889\\\\\n\t 07/01/2020 & USA & 1417889\\\\\n\t 06/01/2020 & USA & 1417889\\\\\n\t 05/01/2020 & USA & 1417889\\\\\n\t 04/01/2020 & USA & 1417889\\\\\n\t 03/01/2020 & USA & 1417889\\\\\n\t 02/01/2020 & USA & 1417889\\\\\n\t 01/01/2020 & USA & 1417889\\\\\n\t 31/12/2019 & USA & 1417889\\\\\n\t 25/01/2020 & USA & 1417888\\\\\n\t 24/01/2020 & USA & 1417888\\\\\n\t 23/01/2020 & USA & 1417888\\\\\n\t 22/01/2020 & USA & 1417888\\\\\n\t 27/01/2020 & USA & 1417887\\\\\n\t 26/01/2020 & USA & 1417887\\\\\n\t 31/01/2020 & USA & 1417884\\\\\n\t 30/01/2020 & USA & 1417884\\\\\n\t ⋮ & ⋮ & ⋮\\\\\n\t 06/05/2020 & TCA &     0\\\\\n\t 05/05/2020 & TCA &     0\\\\\n\t 04/05/2020 & TCA &     0\\\\\n\t 03/05/2020 & TCA &     0\\\\\n\t 02/05/2020 & TCA &     0\\\\\n\t 01/05/2020 & TCA &     0\\\\\n\t 30/04/2020 & TCA &     0\\\\\n\t 29/04/2020 & TCA &     0\\\\\n\t 15/05/2020 & TZA &     0\\\\\n\t 14/05/2020 & TZA &     0\\\\\n\t 13/05/2020 & TZA &     0\\\\\n\t 12/05/2020 & TZA &     0\\\\\n\t 11/05/2020 & TZA &     0\\\\\n\t 10/05/2020 & TZA &     0\\\\\n\t 09/05/2020 & TZA &     0\\\\\n\t 15/05/2020 & VIR &     0\\\\\n\t 14/05/2020 & VIR &     0\\\\\n\t 13/05/2020 & VIR &     0\\\\\n\t 12/05/2020 & VIR &     0\\\\\n\t 11/05/2020 & VIR &     0\\\\\n\t 15/05/2020 & ZWE &     0\\\\\n\t 14/05/2020 & ZWE &     0\\\\\n\t 13/05/2020 & ZWE &     0\\\\\n\t 10/03/2020 & N/A &    -9\\\\\n\t 02/03/2020 & N/A &    -9\\\\\n\t 01/03/2020 & N/A &    -9\\\\\n\t 29/02/2020 & N/A &    -9\\\\\n\t 28/02/2020 & N/A &    -9\\\\\n\t 07/05/2020 & ECU & -1379\\\\\n\t 06/05/2020 & ECU & -1379\\\\\n\\end{tabular}\n",
            "text/markdown": "\nA grouped_df: 17158 × 3\n\n| dateRep &lt;fct&gt; | countryterritoryCode &lt;fct&gt; | cumcases &lt;int&gt; |\n|---|---|---|\n| 21/01/2020 | USA | 1417889 |\n| 20/01/2020 | USA | 1417889 |\n| 19/01/2020 | USA | 1417889 |\n| 18/01/2020 | USA | 1417889 |\n| 17/01/2020 | USA | 1417889 |\n| 16/01/2020 | USA | 1417889 |\n| 15/01/2020 | USA | 1417889 |\n| 14/01/2020 | USA | 1417889 |\n| 13/01/2020 | USA | 1417889 |\n| 12/01/2020 | USA | 1417889 |\n| 11/01/2020 | USA | 1417889 |\n| 10/01/2020 | USA | 1417889 |\n| 09/01/2020 | USA | 1417889 |\n| 08/01/2020 | USA | 1417889 |\n| 07/01/2020 | USA | 1417889 |\n| 06/01/2020 | USA | 1417889 |\n| 05/01/2020 | USA | 1417889 |\n| 04/01/2020 | USA | 1417889 |\n| 03/01/2020 | USA | 1417889 |\n| 02/01/2020 | USA | 1417889 |\n| 01/01/2020 | USA | 1417889 |\n| 31/12/2019 | USA | 1417889 |\n| 25/01/2020 | USA | 1417888 |\n| 24/01/2020 | USA | 1417888 |\n| 23/01/2020 | USA | 1417888 |\n| 22/01/2020 | USA | 1417888 |\n| 27/01/2020 | USA | 1417887 |\n| 26/01/2020 | USA | 1417887 |\n| 31/01/2020 | USA | 1417884 |\n| 30/01/2020 | USA | 1417884 |\n| ⋮ | ⋮ | ⋮ |\n| 06/05/2020 | TCA |     0 |\n| 05/05/2020 | TCA |     0 |\n| 04/05/2020 | TCA |     0 |\n| 03/05/2020 | TCA |     0 |\n| 02/05/2020 | TCA |     0 |\n| 01/05/2020 | TCA |     0 |\n| 30/04/2020 | TCA |     0 |\n| 29/04/2020 | TCA |     0 |\n| 15/05/2020 | TZA |     0 |\n| 14/05/2020 | TZA |     0 |\n| 13/05/2020 | TZA |     0 |\n| 12/05/2020 | TZA |     0 |\n| 11/05/2020 | TZA |     0 |\n| 10/05/2020 | TZA |     0 |\n| 09/05/2020 | TZA |     0 |\n| 15/05/2020 | VIR |     0 |\n| 14/05/2020 | VIR |     0 |\n| 13/05/2020 | VIR |     0 |\n| 12/05/2020 | VIR |     0 |\n| 11/05/2020 | VIR |     0 |\n| 15/05/2020 | ZWE |     0 |\n| 14/05/2020 | ZWE |     0 |\n| 13/05/2020 | ZWE |     0 |\n| 10/03/2020 | N/A |    -9 |\n| 02/03/2020 | N/A |    -9 |\n| 01/03/2020 | N/A |    -9 |\n| 29/02/2020 | N/A |    -9 |\n| 28/02/2020 | N/A |    -9 |\n| 07/05/2020 | ECU | -1379 |\n| 06/05/2020 | ECU | -1379 |\n\n",
            "text/html": [
              "<table>\n",
              "<caption>A grouped_df: 17158 × 3</caption>\n",
              "<thead>\n",
              "\t<tr><th scope=col>dateRep</th><th scope=col>countryterritoryCode</th><th scope=col>cumcases</th></tr>\n",
              "\t<tr><th scope=col>&lt;fct&gt;</th><th scope=col>&lt;fct&gt;</th><th scope=col>&lt;int&gt;</th></tr>\n",
              "</thead>\n",
              "<tbody>\n",
              "\t<tr><td>21/01/2020</td><td>USA</td><td>1417889</td></tr>\n",
              "\t<tr><td>20/01/2020</td><td>USA</td><td>1417889</td></tr>\n",
              "\t<tr><td>19/01/2020</td><td>USA</td><td>1417889</td></tr>\n",
              "\t<tr><td>18/01/2020</td><td>USA</td><td>1417889</td></tr>\n",
              "\t<tr><td>17/01/2020</td><td>USA</td><td>1417889</td></tr>\n",
              "\t<tr><td>16/01/2020</td><td>USA</td><td>1417889</td></tr>\n",
              "\t<tr><td>15/01/2020</td><td>USA</td><td>1417889</td></tr>\n",
              "\t<tr><td>14/01/2020</td><td>USA</td><td>1417889</td></tr>\n",
              "\t<tr><td>13/01/2020</td><td>USA</td><td>1417889</td></tr>\n",
              "\t<tr><td>12/01/2020</td><td>USA</td><td>1417889</td></tr>\n",
              "\t<tr><td>11/01/2020</td><td>USA</td><td>1417889</td></tr>\n",
              "\t<tr><td>10/01/2020</td><td>USA</td><td>1417889</td></tr>\n",
              "\t<tr><td>09/01/2020</td><td>USA</td><td>1417889</td></tr>\n",
              "\t<tr><td>08/01/2020</td><td>USA</td><td>1417889</td></tr>\n",
              "\t<tr><td>07/01/2020</td><td>USA</td><td>1417889</td></tr>\n",
              "\t<tr><td>06/01/2020</td><td>USA</td><td>1417889</td></tr>\n",
              "\t<tr><td>05/01/2020</td><td>USA</td><td>1417889</td></tr>\n",
              "\t<tr><td>04/01/2020</td><td>USA</td><td>1417889</td></tr>\n",
              "\t<tr><td>03/01/2020</td><td>USA</td><td>1417889</td></tr>\n",
              "\t<tr><td>02/01/2020</td><td>USA</td><td>1417889</td></tr>\n",
              "\t<tr><td>01/01/2020</td><td>USA</td><td>1417889</td></tr>\n",
              "\t<tr><td>31/12/2019</td><td>USA</td><td>1417889</td></tr>\n",
              "\t<tr><td>25/01/2020</td><td>USA</td><td>1417888</td></tr>\n",
              "\t<tr><td>24/01/2020</td><td>USA</td><td>1417888</td></tr>\n",
              "\t<tr><td>23/01/2020</td><td>USA</td><td>1417888</td></tr>\n",
              "\t<tr><td>22/01/2020</td><td>USA</td><td>1417888</td></tr>\n",
              "\t<tr><td>27/01/2020</td><td>USA</td><td>1417887</td></tr>\n",
              "\t<tr><td>26/01/2020</td><td>USA</td><td>1417887</td></tr>\n",
              "\t<tr><td>31/01/2020</td><td>USA</td><td>1417884</td></tr>\n",
              "\t<tr><td>30/01/2020</td><td>USA</td><td>1417884</td></tr>\n",
              "\t<tr><td>⋮</td><td>⋮</td><td>⋮</td></tr>\n",
              "\t<tr><td>06/05/2020</td><td>TCA</td><td>    0</td></tr>\n",
              "\t<tr><td>05/05/2020</td><td>TCA</td><td>    0</td></tr>\n",
              "\t<tr><td>04/05/2020</td><td>TCA</td><td>    0</td></tr>\n",
              "\t<tr><td>03/05/2020</td><td>TCA</td><td>    0</td></tr>\n",
              "\t<tr><td>02/05/2020</td><td>TCA</td><td>    0</td></tr>\n",
              "\t<tr><td>01/05/2020</td><td>TCA</td><td>    0</td></tr>\n",
              "\t<tr><td>30/04/2020</td><td>TCA</td><td>    0</td></tr>\n",
              "\t<tr><td>29/04/2020</td><td>TCA</td><td>    0</td></tr>\n",
              "\t<tr><td>15/05/2020</td><td>TZA</td><td>    0</td></tr>\n",
              "\t<tr><td>14/05/2020</td><td>TZA</td><td>    0</td></tr>\n",
              "\t<tr><td>13/05/2020</td><td>TZA</td><td>    0</td></tr>\n",
              "\t<tr><td>12/05/2020</td><td>TZA</td><td>    0</td></tr>\n",
              "\t<tr><td>11/05/2020</td><td>TZA</td><td>    0</td></tr>\n",
              "\t<tr><td>10/05/2020</td><td>TZA</td><td>    0</td></tr>\n",
              "\t<tr><td>09/05/2020</td><td>TZA</td><td>    0</td></tr>\n",
              "\t<tr><td>15/05/2020</td><td>VIR</td><td>    0</td></tr>\n",
              "\t<tr><td>14/05/2020</td><td>VIR</td><td>    0</td></tr>\n",
              "\t<tr><td>13/05/2020</td><td>VIR</td><td>    0</td></tr>\n",
              "\t<tr><td>12/05/2020</td><td>VIR</td><td>    0</td></tr>\n",
              "\t<tr><td>11/05/2020</td><td>VIR</td><td>    0</td></tr>\n",
              "\t<tr><td>15/05/2020</td><td>ZWE</td><td>    0</td></tr>\n",
              "\t<tr><td>14/05/2020</td><td>ZWE</td><td>    0</td></tr>\n",
              "\t<tr><td>13/05/2020</td><td>ZWE</td><td>    0</td></tr>\n",
              "\t<tr><td>10/03/2020</td><td>N/A</td><td>   -9</td></tr>\n",
              "\t<tr><td>02/03/2020</td><td>N/A</td><td>   -9</td></tr>\n",
              "\t<tr><td>01/03/2020</td><td>N/A</td><td>   -9</td></tr>\n",
              "\t<tr><td>29/02/2020</td><td>N/A</td><td>   -9</td></tr>\n",
              "\t<tr><td>28/02/2020</td><td>N/A</td><td>   -9</td></tr>\n",
              "\t<tr><td>07/05/2020</td><td>ECU</td><td>-1379</td></tr>\n",
              "\t<tr><td>06/05/2020</td><td>ECU</td><td>-1379</td></tr>\n",
              "</tbody>\n",
              "</table>\n"
            ]
          },
          "metadata": {
            "tags": []
          }
        }
      ]
    },
    {
      "cell_type": "markdown",
      "metadata": {
        "colab_type": "text",
        "id": "BpC_lzmP7ZyD"
      },
      "source": [
        "Next, we are interested in the monthly [incidence rate](https://en.wikipedia.org/wiki/Incidence_(epidemiology)) on a continent level. To calculate this rate, you first have to summarize the dataset on a year, month and continent level. Subsequently, you can calculate the incidence rate by using the ```mutate()``` function.\n",
        "\n",
        "Hint 1: Some countries do not report population data. To ignore NA values you can use the parameter ```na.rm=TRUE``` in most dplyr functions.\n",
        "\n",
        "Hint 2: You can remove the continet ```other``` prior to your analysis."
      ]
    },
    {
      "cell_type": "code",
      "metadata": {
        "colab_type": "code",
        "id": "s386UGmy_Nmj",
        "colab": {}
      },
      "source": [
        "# Insert your code here"
      ],
      "execution_count": 0,
      "outputs": []
    },
    {
      "cell_type": "markdown",
      "metadata": {
        "colab_type": "text",
        "id": "_YO05_QF_PRV"
      },
      "source": [
        "Modify your code to also calculate the death rate on the same aggregation level."
      ]
    },
    {
      "cell_type": "code",
      "metadata": {
        "colab_type": "code",
        "id": "MiuH6s-Q_WAl",
        "colab": {}
      },
      "source": [
        "# Insert your code here"
      ],
      "execution_count": 0,
      "outputs": []
    },
    {
      "cell_type": "markdown",
      "metadata": {
        "colab_type": "text",
        "id": "QUWvGqQ3_k9q"
      },
      "source": [
        "## Task 2\n",
        "\n",
        "**Contact tracing**\n",
        "\n",
        "Governments rely on contact tracing to avoid the spread of the COVID-19 disease. Once a new case has been identified, health authorities track down people who may have been in contact with the sick person. \n",
        "\n",
        "Recently, there has been a new case and you are tasked to help local authorities to identify all contact persons. Initially, your only infomation is that the infected person (Mike) started to show symptoms on May 1, 2020 and was tested positiv and quarantined on the same day. However, infected persons can be contagious for up to 2 weeks without showing any symptoms. Hence, you have to reconstruct all contacts in that time window. \n",
        "\n",
        "The health authorities provide you with a dataframe ```df``` containing the personal information on Mike."
      ]
    },
    {
      "cell_type": "code",
      "metadata": {
        "colab_type": "code",
        "id": "LKfMMd47_mWg",
        "colab": {}
      },
      "source": [
        "df = data.frame(first_name = 'Mike', last_name = 'Williams', job = 'Student', passport_number = 204934343, phone_number = '+1-202-555-0121', quarantine_date = '2020-05-1', stringsAsFactors = FALSE)\n",
        "df"
      ],
      "execution_count": 0,
      "outputs": []
    },
    {
      "cell_type": "markdown",
      "metadata": {
        "colab_type": "text",
        "id": "l_h8EWJ2GYvy"
      },
      "source": [
        "In order to identify all contacts you first have to find the date Mike stated to be contagious.\n",
        "\n",
        "Hint: You should use the ```lubridate``` package."
      ]
    },
    {
      "cell_type": "code",
      "metadata": {
        "colab_type": "code",
        "id": "t7-FwmNYHxo5",
        "colab": {}
      },
      "source": [
        "# Insert your code here"
      ],
      "execution_count": 0,
      "outputs": []
    },
    {
      "cell_type": "markdown",
      "metadata": {
        "colab_type": "text",
        "id": "VtxFrJ_qES3I"
      },
      "source": [
        "During your investigations you find out that Mike visited the local gym once in the last month. Luckily, the gym uses an electronic gate and logs all visits with time stamps and member id. To help you reconstruct the data, the gym owner provides you with an additional file containing information on the members.  \n",
        "\n",
        "You can downlaod the member data from https://raw.githubusercontent.com/NikoStein/ADS20_Data/master/Assignment%201/gym_data.csv\n",
        "and the visitor logs from https://raw.githubusercontent.com/NikoStein/ADS20_Data/master/Assignment%201/gym_log.csv\n",
        "\n",
        "Load both dataframes and identify all possible contact persons (by name and member number) that could have met Mike in the gym for at least 15 minutes while he was contagious.\n",
        "\n",
        "\n",
        "\n",
        "Hint: You might have to use ```lubridate``` to transform the checkin and checkout columns\n"
      ]
    },
    {
      "cell_type": "code",
      "metadata": {
        "colab_type": "code",
        "id": "zQNlJHh4OeLV",
        "colab": {}
      },
      "source": [
        "# Insert your code here"
      ],
      "execution_count": 0,
      "outputs": []
    },
    {
      "cell_type": "markdown",
      "metadata": {
        "colab_type": "text",
        "id": "Cgn3psPZkLD7"
      },
      "source": [
        "Additionally, you learn that Mike took several exams in the university. While the university has social distancing measures in place it is still important to identify all students sitting close to Mike during one of the exams. Students with seat numbers in the range of -5 to +5 to Mike have to be identified. \n",
        "\n",
        "You can download a list of all exams Mike was registered for from https://raw.githubusercontent.com/NikoStein/ADS20_Data/master/Assignment%201/exams_data.csv\n",
        "\n",
        "\n",
        "\n"
      ]
    },
    {
      "cell_type": "code",
      "metadata": {
        "colab_type": "code",
        "id": "C5GZDYBZoD4n",
        "colab": {}
      },
      "source": [
        "# Insert your code here"
      ],
      "execution_count": 0,
      "outputs": []
    },
    {
      "cell_type": "markdown",
      "metadata": {
        "colab_type": "text",
        "id": "4OzpizX5oOvo"
      },
      "source": [
        "After downloading and inspecting the files you have to find all exams taken by Mike while he was contagious."
      ]
    },
    {
      "cell_type": "code",
      "metadata": {
        "colab_type": "code",
        "id": "nam6SmALot90",
        "colab": {}
      },
      "source": [
        "# Insert your code here"
      ],
      "execution_count": 0,
      "outputs": []
    },
    {
      "cell_type": "markdown",
      "metadata": {
        "colab_type": "text",
        "id": "ubbwbYb8pa7T"
      },
      "source": [
        "Next, identify all students that came into contact with Mike during one of the relevant exams. Store the first and last names of the students in a new data frame."
      ]
    },
    {
      "cell_type": "code",
      "metadata": {
        "colab_type": "code",
        "id": "KfSDY0dIpikI",
        "colab": {}
      },
      "source": [
        "# Insert your code here"
      ],
      "execution_count": 0,
      "outputs": []
    }
  ]
}