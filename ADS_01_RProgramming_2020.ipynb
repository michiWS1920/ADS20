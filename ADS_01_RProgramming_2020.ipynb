{
  "nbformat": 4,
  "nbformat_minor": 0,
  "metadata": {
    "celltoolbar": "Slideshow",
    "kernelspec": {
      "display_name": "R",
      "language": "R",
      "name": "ir"
    },
    "language_info": {
      "codemirror_mode": "r",
      "file_extension": ".r",
      "mimetype": "text/x-r-source",
      "name": "R",
      "pygments_lexer": "r",
      "version": "3.4.3"
    },
    "rise": {
      "enable_chalkboard": false,
      "overlay": "<div class='background'></div><div class='logo'><img src='images/unilogo.png'></div><div class='bar'></div>",
      "scroll": true,
      "slideNumber": "c"
    },
    "toc": {
      "base_numbering": 1,
      "nav_menu": {},
      "number_sections": true,
      "sideBar": false,
      "skip_h1_title": true,
      "title_cell": "Table of Contents",
      "title_sidebar": "Contents",
      "toc_cell": true,
      "toc_position": {
        "height": "215.71px",
        "left": "25px",
        "top": "111.14px",
        "width": "179.76px"
      },
      "toc_section_display": true,
      "toc_window_display": false
    },
    "colab": {
      "name": "ADS_01_RProgramming_2020.ipynb",
      "provenance": [],
      "include_colab_link": true
    }
  },
  "cells": [
    {
      "cell_type": "markdown",
      "metadata": {
        "id": "view-in-github",
        "colab_type": "text"
      },
      "source": [
        "<a href=\"https://colab.research.google.com/github/michiWS1920/ADS20/blob/master/ADS_01_RProgramming_2020.ipynb\" target=\"_parent\"><img src=\"https://colab.research.google.com/assets/colab-badge.svg\" alt=\"Open In Colab\"/></a>"
      ]
    },
    {
      "cell_type": "markdown",
      "metadata": {
        "id": "Fe8SqYIzkHG2",
        "colab_type": "text"
      },
      "source": [
        "Statistical Programming with R\n",
        "========================================================\n",
        "\n",
        "WS2020\n",
        "\n",
        "Prof. Dr. Christoph Flath"
      ]
    },
    {
      "cell_type": "markdown",
      "metadata": {
        "toc": true,
        "id": "s-FjY2YmkHG5",
        "colab_type": "text"
      },
      "source": [
        "<h1>Table of Contents<span class=\"tocSkip\"></span></h1>\n",
        "<div class=\"toc\"><ul class=\"toc-item\"><li><span><a href=\"#R-Syntax\" data-toc-modified-id=\"R-Syntax-1\"><span class=\"toc-item-num\">1&nbsp;&nbsp;</span>R Syntax</a></span></li><li><span><a href=\"#Vectors\" data-toc-modified-id=\"Vectors-2\"><span class=\"toc-item-num\">2&nbsp;&nbsp;</span>Vectors</a></span></li><li><span><a href=\"#Special-atomic-data-types\" data-toc-modified-id=\"Special-atomic-data-types-3\"><span class=\"toc-item-num\">3&nbsp;&nbsp;</span>Special atomic data types</a></span></li><li><span><a href=\"#Data-frames\" data-toc-modified-id=\"Data-frames-4\"><span class=\"toc-item-num\">4&nbsp;&nbsp;</span>Data frames</a></span></li><li><span><a href=\"#Lists\" data-toc-modified-id=\"Lists-5\"><span class=\"toc-item-num\">5&nbsp;&nbsp;</span>Lists</a></span></li><li><span><a href=\"#R-Functions\" data-toc-modified-id=\"R-Functions-6\"><span class=\"toc-item-num\">6&nbsp;&nbsp;</span>R Functions</a></span></li></ul></div>"
      ]
    },
    {
      "cell_type": "code",
      "metadata": {
        "lines_to_next_cell": 2,
        "tags": [
          "remove_cell"
        ],
        "id": "8oX1feZukHG7",
        "colab_type": "code",
        "colab": {}
      },
      "source": [
        "set.seed(1)"
      ],
      "execution_count": 0,
      "outputs": []
    },
    {
      "cell_type": "markdown",
      "metadata": {
        "id": "k1YCy8f3kHHF",
        "colab_type": "text"
      },
      "source": [
        "R Syntax\n",
        "--------------------------------------------\n",
        "* Lightweight, script-oriented syntax\n",
        "* No line ends (e.g., \";\" in JAVA)\n",
        "* Common mathematical operators are used:\n",
        "* Whitespace typically without meaning\n",
        "* Round brackets: Function arguments, e.g., `mean(x)`\n",
        "* Square brackets: Array locations, e.g., `playerList[1]`\n",
        "* Curly brackets: Code blocks (e.g., around loops or logical structures)\n",
        "* Values are assigned using `<-` or `=`\n",
        "* Comments initalized by `#`"
      ]
    },
    {
      "cell_type": "markdown",
      "metadata": {
        "id": "Po1gRXGlkHHH",
        "colab_type": "text"
      },
      "source": [
        "### Package Management\n",
        "\n",
        "* Packages are collections of R functions, data, and compiled code\n",
        "* Numerous packages are available for download and installation\n",
        "* Installing and loading is done via the GUI or the console (script)\n",
        "* Example for installing and loading the `tidyverse` package\n",
        "    * With root privileges\n",
        "        * `install.packages(\"tidyverse\")`\n",
        "        * `library(tidyverse)`\n",
        "    * Without root privileges\n",
        "        * `install.packages(\"tidyverse\", lib=\"/data/Rpackages/\")`\n",
        "        * `library(tidyverse, lib.loc=\"/data/Rpackages/\")`"
      ]
    },
    {
      "cell_type": "markdown",
      "metadata": {
        "id": "VXWn3lKpkHHJ",
        "colab_type": "text"
      },
      "source": [
        "### R Objects and Data Types\n",
        "* Everything in R is an object\n",
        "* No strict but dynamic typing\n",
        "* Basic data types available in R:\n",
        "    * Numeric: decimal numbers `2.3`\n",
        "    * Integer: integer numbers `2`\n",
        "    * Logical: true / false values `TRUE`\n",
        "    * Character: single or multiple characters `\"HOUSE\"`\n",
        "    * (Ordered) Factor: discrete values from a pre-defined scale `\"good\", \"medium\", \"bad\"`"
      ]
    },
    {
      "cell_type": "markdown",
      "metadata": {
        "id": "vNb8xvXwkHHK",
        "colab_type": "text"
      },
      "source": [
        "Vectors\n",
        "--------------------------------------------\n",
        "* A vector is a sequence of data elements of the same basic type\n",
        "    * Members of a vector are called components\n",
        "    * Vectors are initialized using the `c()` command"
      ]
    },
    {
      "cell_type": "code",
      "metadata": {
        "id": "9YzGr-FokHHM",
        "colab_type": "code",
        "colab": {}
      },
      "source": [
        "numericVector <- c(1.2, 1.3, 1.4)"
      ],
      "execution_count": 0,
      "outputs": []
    },
    {
      "cell_type": "markdown",
      "metadata": {
        "lines_to_next_cell": 0,
        "id": "c04SwSgekHHV",
        "colab_type": "text"
      },
      "source": [
        "* The number of members in a vector is given by the length function:"
      ]
    },
    {
      "cell_type": "code",
      "metadata": {
        "id": "rVVkbVcwkHHX",
        "colab_type": "code",
        "outputId": "ba8b32ff-741d-4997-bc03-e5d286c592e4",
        "colab": {}
      },
      "source": [
        "length(numericVector)"
      ],
      "execution_count": 0,
      "outputs": [
        {
          "output_type": "display_data",
          "data": {
            "text/html": [
              "3"
            ],
            "text/latex": "3",
            "text/markdown": "3",
            "text/plain": [
              "[1] 3"
            ]
          },
          "metadata": {
            "tags": []
          }
        }
      ]
    },
    {
      "cell_type": "markdown",
      "metadata": {
        "lines_to_next_cell": 0,
        "id": "I8c8cWtJkHHk",
        "colab_type": "text"
      },
      "source": [
        "### Some vector creation helpers: Sequences\n",
        "\n",
        "The `seq` function has three arguments:\n",
        "* `from`: starting point\n",
        "* `to`: end point\n",
        "* `by`: increment"
      ]
    },
    {
      "cell_type": "code",
      "metadata": {
        "lines_to_next_cell": 0,
        "id": "-blSsytjkHHm",
        "colab_type": "code",
        "colab": {}
      },
      "source": [
        "seq(10, 100, by=10)"
      ],
      "execution_count": 0,
      "outputs": []
    },
    {
      "cell_type": "markdown",
      "metadata": {
        "id": "WTyqNNzNkHHt",
        "colab_type": "text"
      },
      "source": [
        "The colon operator `1:10` is a shorthand for `by=1`\n"
      ]
    },
    {
      "cell_type": "markdown",
      "metadata": {
        "id": "v4iOFLVPkHHu",
        "colab_type": "text"
      },
      "source": [
        "### Some vector creation helpers: Repetitions / Replications\n",
        "\n",
        "The `rep` function has two arguments:\n",
        "* `x`: object to be replicated\n",
        "* `times`: how often"
      ]
    },
    {
      "cell_type": "code",
      "metadata": {
        "lines_to_next_cell": 0,
        "id": "x6GoTZOvkHHv",
        "colab_type": "code",
        "colab": {}
      },
      "source": [
        "rep(10, 10) "
      ],
      "execution_count": 0,
      "outputs": []
    },
    {
      "cell_type": "markdown",
      "metadata": {
        "id": "XK220dSskHH1",
        "colab_type": "text"
      },
      "source": [
        "Note: The first argument can be again a vector (e.g., sequences)\n"
      ]
    },
    {
      "cell_type": "markdown",
      "metadata": {
        "id": "YL_djeXwkHH2",
        "colab_type": "text"
      },
      "source": [
        "### Vector Recycling\n",
        "\n",
        "* If a vector is of insufficient length for an operation, R will recycle previous values\n",
        "* If longer length is not a mutltiple it will raise a warning\n"
      ]
    },
    {
      "cell_type": "code",
      "metadata": {
        "lines_to_next_cell": 0,
        "warning": true,
        "id": "DBtCMRPhkHH4",
        "colab_type": "code",
        "colab": {}
      },
      "source": [
        "x = c(10,11,12,13)\n",
        "x + c(0,1)\n",
        "x + c(0,1,2)"
      ],
      "execution_count": 0,
      "outputs": []
    },
    {
      "cell_type": "markdown",
      "metadata": {
        "lines_to_next_cell": 0,
        "id": "AzRsG9hmkHH9",
        "colab_type": "text"
      },
      "source": [
        "### Subsetting Vectors\n",
        "\n",
        "* Vector subsetting is done via the `[]` operator\n",
        "* Positive integers return elements at the specified positions (whitelisting), identical indexes will yield duplicates"
      ]
    },
    {
      "cell_type": "code",
      "metadata": {
        "lines_to_next_cell": 0,
        "id": "h3bvijVXkHH-",
        "colab_type": "code",
        "colab": {}
      },
      "source": [
        "x=LETTERS\n",
        "x[1:3]\n",
        "x[c(1,1)]"
      ],
      "execution_count": 0,
      "outputs": []
    },
    {
      "cell_type": "markdown",
      "metadata": {
        "id": "rdqefWqxkHIA",
        "colab_type": "text"
      },
      "source": [
        "* Negative integers suppress elements at the specified positions (blacklisting)\n",
        "You cannot mix positive and negative integers in subsetting!"
      ]
    },
    {
      "cell_type": "code",
      "metadata": {
        "id": "FQYj5MjkkHIB",
        "colab_type": "code",
        "colab": {}
      },
      "source": [
        "x[-seq(1,26,2)]"
      ],
      "execution_count": 0,
      "outputs": []
    },
    {
      "cell_type": "markdown",
      "metadata": {
        "lines_to_next_cell": 0,
        "id": "aYhB_KStkHIF",
        "colab_type": "text"
      },
      "source": [
        "* Logical vectors will return all positions where the vector is TRUE, This is clearly the most useful approach if we master logical expressions"
      ]
    },
    {
      "cell_type": "code",
      "metadata": {
        "lines_to_next_cell": 0,
        "id": "8DzYoJrrkHII",
        "colab_type": "code",
        "colab": {}
      },
      "source": [
        "x[x<\"D\"]"
      ],
      "execution_count": 0,
      "outputs": []
    },
    {
      "cell_type": "markdown",
      "metadata": {
        "lines_to_next_cell": 0,
        "id": "umM7K0eikHIO",
        "colab_type": "text"
      },
      "source": [
        "### Sorting Vectors"
      ]
    },
    {
      "cell_type": "code",
      "metadata": {
        "lines_to_next_cell": 0,
        "id": "U5G3KSk9kHIQ",
        "colab_type": "code",
        "colab": {}
      },
      "source": [
        "x = c(4, 3, 6, 2, 1, 10, 5, 8, 9, 7)"
      ],
      "execution_count": 0,
      "outputs": []
    },
    {
      "cell_type": "code",
      "metadata": {
        "lines_to_next_cell": 0,
        "id": "9DfB3Zu9kHIW",
        "colab_type": "code",
        "outputId": "4081b8f3-5932-4cd5-fee0-853591c5dd7d",
        "colab": {}
      },
      "source": [
        "sort(x)"
      ],
      "execution_count": 0,
      "outputs": [
        {
          "output_type": "display_data",
          "data": {
            "text/html": [
              "<ol class=list-inline>\n",
              "\t<li>1</li>\n",
              "\t<li>2</li>\n",
              "\t<li>3</li>\n",
              "\t<li>4</li>\n",
              "\t<li>5</li>\n",
              "\t<li>6</li>\n",
              "\t<li>7</li>\n",
              "\t<li>8</li>\n",
              "\t<li>9</li>\n",
              "\t<li>10</li>\n",
              "</ol>\n"
            ],
            "text/latex": "\\begin{enumerate*}\n\\item 1\n\\item 2\n\\item 3\n\\item 4\n\\item 5\n\\item 6\n\\item 7\n\\item 8\n\\item 9\n\\item 10\n\\end{enumerate*}\n",
            "text/markdown": "1. 1\n2. 2\n3. 3\n4. 4\n5. 5\n6. 6\n7. 7\n8. 8\n9. 9\n10. 10\n\n\n",
            "text/plain": [
              " [1]  1  2  3  4  5  6  7  8  9 10"
            ]
          },
          "metadata": {
            "tags": []
          }
        }
      ]
    },
    {
      "cell_type": "code",
      "metadata": {
        "lines_to_next_cell": 0,
        "id": "zBLtZXYAkHIe",
        "colab_type": "code",
        "outputId": "fc881849-93fb-4968-9e98-6f3f389e52d0",
        "colab": {}
      },
      "source": [
        "sort(x, decreasing = T)"
      ],
      "execution_count": 0,
      "outputs": [
        {
          "output_type": "display_data",
          "data": {
            "text/html": [
              "<ol class=list-inline>\n",
              "\t<li>10</li>\n",
              "\t<li>9</li>\n",
              "\t<li>8</li>\n",
              "\t<li>7</li>\n",
              "\t<li>6</li>\n",
              "\t<li>5</li>\n",
              "\t<li>4</li>\n",
              "\t<li>3</li>\n",
              "\t<li>2</li>\n",
              "\t<li>1</li>\n",
              "</ol>\n"
            ],
            "text/latex": "\\begin{enumerate*}\n\\item 10\n\\item 9\n\\item 8\n\\item 7\n\\item 6\n\\item 5\n\\item 4\n\\item 3\n\\item 2\n\\item 1\n\\end{enumerate*}\n",
            "text/markdown": "1. 10\n2. 9\n3. 8\n4. 7\n5. 6\n6. 5\n7. 4\n8. 3\n9. 2\n10. 1\n\n\n",
            "text/plain": [
              " [1] 10  9  8  7  6  5  4  3  2  1"
            ]
          },
          "metadata": {
            "tags": []
          }
        }
      ]
    },
    {
      "cell_type": "code",
      "metadata": {
        "lines_to_next_cell": 0,
        "id": "LeOCrVGkkHIi",
        "colab_type": "code",
        "outputId": "57ccac13-2c92-4ebb-eb91-f63a6134e962",
        "colab": {}
      },
      "source": [
        "order(x)"
      ],
      "execution_count": 0,
      "outputs": [
        {
          "output_type": "display_data",
          "data": {
            "text/html": [
              "<ol class=list-inline>\n",
              "\t<li>5</li>\n",
              "\t<li>4</li>\n",
              "\t<li>2</li>\n",
              "\t<li>1</li>\n",
              "\t<li>7</li>\n",
              "\t<li>3</li>\n",
              "\t<li>10</li>\n",
              "\t<li>8</li>\n",
              "\t<li>9</li>\n",
              "\t<li>6</li>\n",
              "</ol>\n"
            ],
            "text/latex": "\\begin{enumerate*}\n\\item 5\n\\item 4\n\\item 2\n\\item 1\n\\item 7\n\\item 3\n\\item 10\n\\item 8\n\\item 9\n\\item 6\n\\end{enumerate*}\n",
            "text/markdown": "1. 5\n2. 4\n3. 2\n4. 1\n5. 7\n6. 3\n7. 10\n8. 8\n9. 9\n10. 6\n\n\n",
            "text/plain": [
              " [1]  5  4  2  1  7  3 10  8  9  6"
            ]
          },
          "metadata": {
            "tags": []
          }
        }
      ]
    },
    {
      "cell_type": "markdown",
      "metadata": {
        "lines_to_next_cell": 0,
        "id": "YF5Q7RYnkHIm",
        "colab_type": "text"
      },
      "source": [
        "### Sampling from Vectors"
      ]
    },
    {
      "cell_type": "code",
      "metadata": {
        "lines_to_next_cell": 0,
        "id": "y-sXBDiukHIm",
        "colab_type": "code",
        "colab": {}
      },
      "source": [
        "sample(1:6, 5) #sample from a vector (no replacement)\n",
        "sample(1:6, 5, replace = T) #sample from a vector (replacement)"
      ],
      "execution_count": 0,
      "outputs": []
    },
    {
      "cell_type": "markdown",
      "metadata": {
        "lines_to_next_cell": 0,
        "id": "n-GPgl5tkHIr",
        "colab_type": "text"
      },
      "source": [
        "## Special atomic data types\n",
        "\n",
        "### NA Values\n",
        "* Oftentimes we will have missing or corrupt data\n",
        "* These will often pop up as `NA` entries\n",
        "* Running analyses on these values can cause problems"
      ]
    },
    {
      "cell_type": "code",
      "metadata": {
        "lines_to_next_cell": 0,
        "id": "l5dd4Wp8kHIs",
        "colab_type": "code",
        "colab": {}
      },
      "source": [
        "set.seed(1)\n",
        "v = sample(c(NA,1,2,3),8,replace = T)\n",
        "mean(v)"
      ],
      "execution_count": 0,
      "outputs": []
    },
    {
      "cell_type": "markdown",
      "metadata": {
        "lines_to_next_cell": 0,
        "id": "QrXiPd0tkHIw",
        "colab_type": "text"
      },
      "source": [
        "### Handling NA values\n",
        "* Identify and remove NA values"
      ]
    },
    {
      "cell_type": "code",
      "metadata": {
        "lines_to_next_cell": 2,
        "id": "oryo9S2hkHIx",
        "colab_type": "code",
        "colab": {}
      },
      "source": [
        "is.na(v)\n",
        "mean(v[!is.na(v)])"
      ],
      "execution_count": 0,
      "outputs": []
    },
    {
      "cell_type": "markdown",
      "metadata": {
        "lines_to_next_cell": 0,
        "id": "BU_PTvXEkHIz",
        "colab_type": "text"
      },
      "source": [
        "* Replace NA values"
      ]
    },
    {
      "cell_type": "code",
      "metadata": {
        "lines_to_next_cell": 0,
        "id": "zP2djV0xkHI0",
        "colab_type": "code",
        "colab": {}
      },
      "source": [
        "v.na.replaced <- v\n",
        "v.na.replaced[is.na(v)] <- 0\n",
        "mean(v.na.replaced)"
      ],
      "execution_count": 0,
      "outputs": []
    },
    {
      "cell_type": "markdown",
      "metadata": {
        "id": "bjJsr9APkHI3",
        "colab_type": "text"
      },
      "source": [
        "### Logical Expressions\n",
        "* A AND B: `A & B`\n",
        "* A OR B: `A | B`\n",
        "* IF-THEN-ELSE: `ifelse(v>=0, \"+\", \"-\")`\n",
        "\n",
        "\n",
        "* Conditions may include the following:\n",
        "    * `==` equal\n",
        "    * `!=` not equal to\n",
        "    * `> (>=)` greater (or equal) than\n",
        "    * `< (<=)` less (or equal) than\n",
        "    * `%in%` left element in vector on right"
      ]
    },
    {
      "cell_type": "markdown",
      "metadata": {
        "lines_to_next_cell": 0,
        "id": "Lcm6HFmIkHI4",
        "colab_type": "text"
      },
      "source": [
        "### Standard statistical expressions"
      ]
    },
    {
      "cell_type": "code",
      "metadata": {
        "id": "fpp8el5gkHI5",
        "colab_type": "code",
        "colab": {}
      },
      "source": [
        "v = sample(1:6, 5, T)\n",
        "mean(v)\n",
        "max(v)\n",
        "min(v)"
      ],
      "execution_count": 0,
      "outputs": []
    },
    {
      "cell_type": "code",
      "metadata": {
        "lines_to_next_cell": 0,
        "id": "2ytOEWx7kHI_",
        "colab_type": "code",
        "colab": {}
      },
      "source": [
        "length(v)\n",
        "length(v[v>3])\n",
        "quantile(v)"
      ],
      "execution_count": 0,
      "outputs": []
    },
    {
      "cell_type": "markdown",
      "metadata": {
        "lines_to_next_cell": 0,
        "id": "evEzA8hmkHJE",
        "colab_type": "text"
      },
      "source": [
        "### Extracting Information from Objects"
      ]
    },
    {
      "cell_type": "code",
      "metadata": {
        "lines_to_next_cell": 2,
        "id": "oAFXehsAkHJF",
        "colab_type": "code",
        "colab": {}
      },
      "source": [
        "str(v) #structure\n",
        "summary(v) #summary\n",
        "class(v) #class\n",
        "head(v, 5) #first 5 elements"
      ],
      "execution_count": 0,
      "outputs": []
    },
    {
      "cell_type": "code",
      "metadata": {
        "lines_to_next_cell": 0,
        "id": "nLxrk-D0kHJN",
        "colab_type": "code",
        "colab": {}
      },
      "source": [
        "length(v) #number of elements\n",
        "dim(v) #dimensionality\n",
        "unique(v) #unique value"
      ],
      "execution_count": 0,
      "outputs": []
    },
    {
      "cell_type": "markdown",
      "metadata": {
        "lines_to_next_cell": 0,
        "id": "7hrTfVTVkHJT",
        "colab_type": "text"
      },
      "source": [
        "### Character vector manipulation\n",
        "* The command `paste` creates a single string from character representations of the argument vectors, sep specifies the separator"
      ]
    },
    {
      "cell_type": "code",
      "metadata": {
        "lines_to_next_cell": 2,
        "id": "dSlmYzwekHJU",
        "colab_type": "code",
        "colab": {}
      },
      "source": [
        "paste(LETTERS[1:8], 1:4, sep=\"!\") "
      ],
      "execution_count": 0,
      "outputs": []
    },
    {
      "cell_type": "markdown",
      "metadata": {
        "lines_to_next_cell": 0,
        "id": "YXMVjEkMkHJa",
        "colab_type": "text"
      },
      "source": [
        "* `paste0` offers a shortcut"
      ]
    },
    {
      "cell_type": "code",
      "metadata": {
        "lines_to_next_cell": 0,
        "id": "_30OtGBskHJb",
        "colab_type": "code",
        "colab": {}
      },
      "source": [
        "paste(rep(\"A\", 5), 1:4, sep=\"\")\n",
        "paste0(rep(\"A\", 5), 1:4)"
      ],
      "execution_count": 0,
      "outputs": []
    },
    {
      "cell_type": "markdown",
      "metadata": {
        "lines_to_next_cell": 0,
        "id": "PiTa57XqkHJe",
        "colab_type": "text"
      },
      "source": [
        "### Text and string operations\n",
        "\n",
        "* Extracting substrings"
      ]
    },
    {
      "cell_type": "code",
      "metadata": {
        "id": "iJEzp5U3kHJf",
        "colab_type": "code",
        "colab": {}
      },
      "source": [
        "substr(\"ABCDEFG\",\n",
        "       start=2, stop=3)"
      ],
      "execution_count": 0,
      "outputs": []
    },
    {
      "cell_type": "markdown",
      "metadata": {
        "lines_to_next_cell": 0,
        "id": "xG4t5iR8kHJi",
        "colab_type": "text"
      },
      "source": [
        "* Constructing compound strings with `sprintf()`"
      ]
    },
    {
      "cell_type": "code",
      "metadata": {
        "lines_to_next_cell": 2,
        "id": "N0wtZSWAkHJj",
        "colab_type": "code",
        "colab": {}
      },
      "source": [
        "sprintf(\"%s is %f feet tall\", \"Sven\", 7.1)"
      ],
      "execution_count": 0,
      "outputs": []
    },
    {
      "cell_type": "markdown",
      "metadata": {
        "lines_to_next_cell": 0,
        "id": "Nunkw1AUkHJo",
        "colab_type": "text"
      },
      "source": [
        "* Splitting string on characters"
      ]
    },
    {
      "cell_type": "code",
      "metadata": {
        "id": "M2UnNOECkHJp",
        "colab_type": "code",
        "colab": {}
      },
      "source": [
        "x <- \"Split words.\"\n",
        "strsplit(x,\" \")"
      ],
      "execution_count": 0,
      "outputs": []
    },
    {
      "cell_type": "markdown",
      "metadata": {
        "lines_to_next_cell": 0,
        "id": "pIp_rg8BkHJu",
        "colab_type": "text"
      },
      "source": [
        "* String length"
      ]
    },
    {
      "cell_type": "code",
      "metadata": {
        "lines_to_next_cell": 0,
        "id": "TFgEGc8KkHJw",
        "colab_type": "code",
        "colab": {}
      },
      "source": [
        "nchar(\"ABC\")"
      ],
      "execution_count": 0,
      "outputs": []
    },
    {
      "cell_type": "markdown",
      "metadata": {
        "lines_to_next_cell": 0,
        "id": "Duw-RfmikHJ0",
        "colab_type": "text"
      },
      "source": [
        "* Check if string `x` contains expression `pattern`"
      ]
    },
    {
      "cell_type": "code",
      "metadata": {
        "id": "exdP2SSLkHJ1",
        "colab_type": "code",
        "colab": {}
      },
      "source": [
        "grepl(pattern = \"aus\",\n",
        "      x = \"Nikolaus\")\n",
        "grepl(pattern = \"haus\",\n",
        "      x = \"Nikolaus\")"
      ],
      "execution_count": 0,
      "outputs": []
    },
    {
      "cell_type": "markdown",
      "metadata": {
        "lines_to_next_cell": 0,
        "id": "mWcZ00t3kHJ6",
        "colab_type": "text"
      },
      "source": [
        "* Replacement"
      ]
    },
    {
      "cell_type": "code",
      "metadata": {
        "lines_to_next_cell": 0,
        "id": "RNMKKHrpkHJ7",
        "colab_type": "code",
        "colab": {}
      },
      "source": [
        "gsub(pattern = \"aus\",\n",
        "     replacement = \"aushaus\",\n",
        "     x = \"Nikolaus\")"
      ],
      "execution_count": 0,
      "outputs": []
    },
    {
      "cell_type": "markdown",
      "metadata": {
        "id": "ZXNoUOr_kHJ-",
        "colab_type": "text"
      },
      "source": [
        "### `lubridate`: temporal data made easy"
      ]
    },
    {
      "cell_type": "code",
      "metadata": {
        "lines_to_next_cell": 0,
        "tags": [
          "remove_input"
        ],
        "warning": false,
        "id": "uzWULJHCkHJ_",
        "colab_type": "code",
        "colab": {}
      },
      "source": [
        "library(lubridate)"
      ],
      "execution_count": 0,
      "outputs": []
    },
    {
      "cell_type": "markdown",
      "metadata": {
        "lines_to_next_cell": 0,
        "id": "fxB-ZSR6kHKC",
        "colab_type": "text"
      },
      "source": [
        "* Parsing time strings"
      ]
    },
    {
      "cell_type": "code",
      "metadata": {
        "id": "8QvqXttskHKD",
        "colab_type": "code",
        "colab": {}
      },
      "source": [
        "a = ymd(\"20110720\")\n",
        "c = dmy(\"31/08/2011\")\n",
        "arrive <- ymd_hms(\"2011-06-04 12:00:00\")\n",
        "leave <- ymd_hms(\"2011-08-10 14:00:00\")\n",
        "\n",
        "a\n",
        "c\n",
        "arrive\n",
        "leave"
      ],
      "execution_count": 0,
      "outputs": []
    },
    {
      "cell_type": "markdown",
      "metadata": {
        "lines_to_next_cell": 0,
        "id": "RjE1OEdikHKI",
        "colab_type": "text"
      },
      "source": [
        "* Extracting time details"
      ]
    },
    {
      "cell_type": "code",
      "metadata": {
        "id": "UM7xZs8ykHKJ",
        "colab_type": "code",
        "colab": {}
      },
      "source": [
        "wday(arrive) #also second / hour ..."
      ],
      "execution_count": 0,
      "outputs": []
    },
    {
      "cell_type": "code",
      "metadata": {
        "id": "uHL8mgpPkHKQ",
        "colab_type": "code",
        "colab": {}
      },
      "source": [
        "wday(arrive, label = TRUE)"
      ],
      "execution_count": 0,
      "outputs": []
    },
    {
      "cell_type": "markdown",
      "metadata": {
        "lines_to_next_cell": 0,
        "id": "6TgvwHmFkHKW",
        "colab_type": "text"
      },
      "source": [
        "* Time intervals"
      ]
    },
    {
      "cell_type": "code",
      "metadata": {
        "lines_to_next_cell": 0,
        "id": "EKNMPCo4kHKX",
        "colab_type": "code",
        "colab": {}
      },
      "source": [
        "A <- interval(arrive, leave)\n",
        "B <- interval(a, c)\n",
        "int_overlaps(A,B)"
      ],
      "execution_count": 0,
      "outputs": []
    },
    {
      "cell_type": "markdown",
      "metadata": {
        "id": "ST-_uL6ukHKc",
        "colab_type": "text"
      },
      "source": [
        "### Programming task\n",
        "* Create two vectors which reflecting 100 throws of two standard dices by sampling from 1:6.\n",
        "    * How often did dice 1 show the higher number?\n",
        "    * How often did dice 1 show a number which was at least 3 larger than dice 2?\n",
        "    * Compare the ten highest throws of the two dices\n",
        "\n",
        "* Create a third vector reflecting the sum of the two other throws\n",
        "    * Determine the five highest and the five lowest combined scores\n"
      ]
    },
    {
      "cell_type": "code",
      "metadata": {
        "id": "6_hYGMo2kHKd",
        "colab_type": "code",
        "colab": {
          "base_uri": "https://localhost:8080/",
          "height": 118
        },
        "outputId": "e34286ed-8917-4d0e-cc81-c7c39daf3fcf"
      },
      "source": [
        "set.seed(1)\n",
        "dice1 <- sample(1:6, 100, replace=TRUE)\n",
        "dice2 <- sample(1:6, 100, replace=TRUE)\n",
        "sum(dice1>dice2)\n",
        "sum(dice1>dice2+2)\n",
        "head(sort(dice1, decreasing=TRUE), 10)\n",
        "head(sort(dice2, decreasing=TRUE), 10)\n",
        "\n",
        "dice3 <- dice1+dice2\n",
        "head(sort(dice3, decreasing= TRUE), 5)\n",
        "head(sort(dice3, decreasing=FALSE), 5)"
      ],
      "execution_count": 14,
      "outputs": [
        {
          "output_type": "display_data",
          "data": {
            "text/plain": [
              "[1] 46"
            ],
            "text/latex": "46",
            "text/markdown": "46",
            "text/html": [
              "46"
            ]
          },
          "metadata": {
            "tags": []
          }
        },
        {
          "output_type": "display_data",
          "data": {
            "text/plain": [
              "[1] 18"
            ],
            "text/latex": "18",
            "text/markdown": "18",
            "text/html": [
              "18"
            ]
          },
          "metadata": {
            "tags": []
          }
        },
        {
          "output_type": "display_data",
          "data": {
            "text/plain": [
              " [1] 6 6 6 6 6 6 6 6 6 6"
            ],
            "text/latex": "\\begin{enumerate*}\n\\item 6\n\\item 6\n\\item 6\n\\item 6\n\\item 6\n\\item 6\n\\item 6\n\\item 6\n\\item 6\n\\item 6\n\\end{enumerate*}\n",
            "text/markdown": "1. 6\n2. 6\n3. 6\n4. 6\n5. 6\n6. 6\n7. 6\n8. 6\n9. 6\n10. 6\n\n\n",
            "text/html": [
              "<style>\n",
              ".list-inline {list-style: none; margin:0; padding: 0}\n",
              ".list-inline>li {display: inline-block}\n",
              ".list-inline>li:not(:last-child)::after {content: \"\\00b7\"; padding: 0 .5ex}\n",
              "</style>\n",
              "<ol class=list-inline><li>6</li><li>6</li><li>6</li><li>6</li><li>6</li><li>6</li><li>6</li><li>6</li><li>6</li><li>6</li></ol>\n"
            ]
          },
          "metadata": {
            "tags": []
          }
        },
        {
          "output_type": "display_data",
          "data": {
            "text/plain": [
              " [1] 6 6 6 6 6 6 6 6 6 6"
            ],
            "text/latex": "\\begin{enumerate*}\n\\item 6\n\\item 6\n\\item 6\n\\item 6\n\\item 6\n\\item 6\n\\item 6\n\\item 6\n\\item 6\n\\item 6\n\\end{enumerate*}\n",
            "text/markdown": "1. 6\n2. 6\n3. 6\n4. 6\n5. 6\n6. 6\n7. 6\n8. 6\n9. 6\n10. 6\n\n\n",
            "text/html": [
              "<style>\n",
              ".list-inline {list-style: none; margin:0; padding: 0}\n",
              ".list-inline>li {display: inline-block}\n",
              ".list-inline>li:not(:last-child)::after {content: \"\\00b7\"; padding: 0 .5ex}\n",
              "</style>\n",
              "<ol class=list-inline><li>6</li><li>6</li><li>6</li><li>6</li><li>6</li><li>6</li><li>6</li><li>6</li><li>6</li><li>6</li></ol>\n"
            ]
          },
          "metadata": {
            "tags": []
          }
        },
        {
          "output_type": "display_data",
          "data": {
            "text/plain": [
              "[1] 12 12 11 11 11"
            ],
            "text/latex": "\\begin{enumerate*}\n\\item 12\n\\item 12\n\\item 11\n\\item 11\n\\item 11\n\\end{enumerate*}\n",
            "text/markdown": "1. 12\n2. 12\n3. 11\n4. 11\n5. 11\n\n\n",
            "text/html": [
              "<style>\n",
              ".list-inline {list-style: none; margin:0; padding: 0}\n",
              ".list-inline>li {display: inline-block}\n",
              ".list-inline>li:not(:last-child)::after {content: \"\\00b7\"; padding: 0 .5ex}\n",
              "</style>\n",
              "<ol class=list-inline><li>12</li><li>12</li><li>11</li><li>11</li><li>11</li></ol>\n"
            ]
          },
          "metadata": {
            "tags": []
          }
        },
        {
          "output_type": "display_data",
          "data": {
            "text/plain": [
              "[1] 2 2 2 3 3"
            ],
            "text/latex": "\\begin{enumerate*}\n\\item 2\n\\item 2\n\\item 2\n\\item 3\n\\item 3\n\\end{enumerate*}\n",
            "text/markdown": "1. 2\n2. 2\n3. 2\n4. 3\n5. 3\n\n\n",
            "text/html": [
              "<style>\n",
              ".list-inline {list-style: none; margin:0; padding: 0}\n",
              ".list-inline>li {display: inline-block}\n",
              ".list-inline>li:not(:last-child)::after {content: \"\\00b7\"; padding: 0 .5ex}\n",
              "</style>\n",
              "<ol class=list-inline><li>2</li><li>2</li><li>2</li><li>3</li><li>3</li></ol>\n"
            ]
          },
          "metadata": {
            "tags": []
          }
        }
      ]
    },
    {
      "cell_type": "markdown",
      "metadata": {
        "id": "i4fyFJZSkHKk",
        "colab_type": "text"
      },
      "source": [
        "### Matrices\n",
        "* A matrix is a collection of data elements arranged in a two-dimensional rectangular layout\n",
        "* Matrices are created in R with the matrix function"
      ]
    },
    {
      "cell_type": "code",
      "metadata": {
        "lines_to_next_cell": 0,
        "id": "XXu-QQvvkHKl",
        "colab_type": "code",
        "colab": {}
      },
      "source": [
        "A = matrix(c(2,4,3,1,5,7), nrow=2, ncol=3, byrow = TRUE)\n",
        "A"
      ],
      "execution_count": 0,
      "outputs": []
    },
    {
      "cell_type": "markdown",
      "metadata": {
        "lines_to_next_cell": 0,
        "id": "HTL0EjAkkHKq",
        "colab_type": "text"
      },
      "source": [
        "Data frames\n",
        "--------------------------------------------\n",
        "* A data frame is used for storing data tables\n",
        "* It is a collection of vectors of equal length\n",
        "* For example, here is a built-in data frame in R, called `mtcars`."
      ]
    },
    {
      "cell_type": "code",
      "metadata": {
        "paged.print": true,
        "tags": [
          "remove_input"
        ],
        "id": "oQpXkp5ykHKr",
        "colab_type": "code",
        "colab": {}
      },
      "source": [
        "head(mtcars, 5) #first 5 elements"
      ],
      "execution_count": 0,
      "outputs": []
    },
    {
      "cell_type": "markdown",
      "metadata": {
        "lines_to_next_cell": 0,
        "id": "Up0DW7aBkHKv",
        "colab_type": "text"
      },
      "source": [
        "* The top line of the table, called the header, contains the column names\n",
        "* Each horizontal line afterward denotes a data row, which begins with the name of the row, and then followed by the actual data Each data member of a row is called a cell"
      ]
    },
    {
      "cell_type": "markdown",
      "metadata": {
        "lines_to_next_cell": 0,
        "id": "z5NPKF_hkHKw",
        "colab_type": "text"
      },
      "source": [
        "### Adressing Data frames\n",
        "* To retrieve data in a cell, we would enter its row and column coordinates in the single square bracket `[]` operator"
      ]
    },
    {
      "cell_type": "code",
      "metadata": {
        "lines_to_next_cell": 0,
        "id": "5x8-SrsNkHK0",
        "colab_type": "code",
        "colab": {}
      },
      "source": [
        "mtcars[1, 2]\n",
        "mtcars[\"Mazda RX4\", \"cyl\"]"
      ],
      "execution_count": 0,
      "outputs": []
    },
    {
      "cell_type": "markdown",
      "metadata": {
        "lines_to_next_cell": 0,
        "id": "axxeulhskHK5",
        "colab_type": "text"
      },
      "source": [
        "### Subsetting Data frames\n",
        "* Subsetting of data frames in base R relies on addressing using vectors instead of single values\n",
        "* Individual columns are accessed and created using the $ operator"
      ]
    },
    {
      "cell_type": "code",
      "metadata": {
        "id": "8wzrToiwkHK8",
        "colab_type": "code",
        "colab": {}
      },
      "source": [
        "head(mtcars$mpg, 5)\n",
        "mtcars$l100km = 282.48 / mtcars$mpg\n",
        "head(mtcars$l100km, 5)"
      ],
      "execution_count": 0,
      "outputs": []
    },
    {
      "cell_type": "markdown",
      "metadata": {
        "id": "FzO95qlmkHLD",
        "colab_type": "text"
      },
      "source": [
        "* Going forward, data frames will be our most important object\n",
        "* Base R is fairly clunky in operating on data frames. Soon we will explore the `tidyverse` which features very elegant and efficient ways for data frame manipulation"
      ]
    },
    {
      "cell_type": "markdown",
      "metadata": {
        "id": "tuLT1a25kHLE",
        "colab_type": "text"
      },
      "source": [
        "### Programming task\n",
        "\n",
        "* What is the mean / max / min mpg of the vehicles in `mtcars`?\n",
        "\n",
        "* Create a new column which states the ratio of power vs. weight\n",
        "    * Which is the best car according to this dimension?\n",
        "\n",
        "\n"
      ]
    },
    {
      "cell_type": "code",
      "metadata": {
        "id": "X6zwurR1kHLF",
        "colab_type": "code",
        "colab": {}
      },
      "source": [
        ""
      ],
      "execution_count": 0,
      "outputs": []
    },
    {
      "cell_type": "markdown",
      "metadata": {
        "lines_to_next_cell": 0,
        "id": "bVb0ZIJkkHLK",
        "colab_type": "text"
      },
      "source": [
        "### Creating Data Frames\n",
        "* Manual specification of data frame df"
      ]
    },
    {
      "cell_type": "code",
      "metadata": {
        "id": "evNRR_8ukHLL",
        "colab_type": "code",
        "colab": {}
      },
      "source": [
        "n = c(2, 3, 5)\n",
        "s = c(\"aa\", \"bb\", \"cc\")\n",
        "b = c(TRUE, FALSE, TRUE)\n",
        "df = data.frame(n, s, b)\n",
        "df"
      ],
      "execution_count": 0,
      "outputs": []
    },
    {
      "cell_type": "markdown",
      "metadata": {
        "lines_to_next_cell": 0,
        "id": "y4EK7_tKkHLQ",
        "colab_type": "text"
      },
      "source": [
        "* Reading external data from text files `df = read.csv2(\"pathToData\", header=TRUE, sep =\";\")`\n",
        "* `read.csv2` will also work on URL to remote files, e.g.,"
      ]
    },
    {
      "cell_type": "code",
      "metadata": {
        "id": "D53GNRNUkHLR",
        "colab_type": "code",
        "colab": {}
      },
      "source": [
        "hsb2 <- read.csv2('https://raw.githubusercontent.com/rpruim/OpenIntro/master/data/hsb2.csv', header=T, sep=\",\")\n",
        "head(hsb2,2)"
      ],
      "execution_count": 0,
      "outputs": []
    },
    {
      "cell_type": "markdown",
      "metadata": {
        "lines_to_next_cell": 0,
        "id": "8veUbSFnkHLX",
        "colab_type": "text"
      },
      "source": [
        "### Extending Data Frames\n",
        "* Extra rows: `rbind`"
      ]
    },
    {
      "cell_type": "code",
      "metadata": {
        "lines_to_next_cell": 2,
        "id": "wUusRXt6kHLX",
        "colab_type": "code",
        "colab": {}
      },
      "source": [
        "\n",
        "df1 = data.frame(numbers=c(1, 2, 3), letters=c(\"a\", \"b\", \"c\"))\n",
        "df2 = data.frame(numbers=c(4), letters=c(\"d\"))\n",
        "rbind(df1, df2)\n"
      ],
      "execution_count": 0,
      "outputs": []
    },
    {
      "cell_type": "markdown",
      "metadata": {
        "lines_to_next_cell": 0,
        "id": "9czVnoZWkHLd",
        "colab_type": "text"
      },
      "source": [
        "* Extra columns: `cbind`"
      ]
    },
    {
      "cell_type": "code",
      "metadata": {
        "lines_to_next_cell": 2,
        "id": "ub0RcTW5kHLe",
        "colab_type": "code",
        "colab": {}
      },
      "source": [
        "df1 = data.frame(numbers=c(1, 2, 3, 4))\n",
        "df2 = data.frame(letters=c(\"a\", \"b\", \"c\", \"d\"))\n",
        "cbind(df1, df2)"
      ],
      "execution_count": 0,
      "outputs": []
    },
    {
      "cell_type": "markdown",
      "metadata": {
        "id": "uZnErYMkkHLr",
        "colab_type": "text"
      },
      "source": [
        "Lists\n",
        "--------------------------------------------\n",
        "* A list is a generic vector containing different objects.\n",
        "* We will typically avoid using this unstructured format but may often face it when obtaining data through web services\n",
        "\n",
        "![lists](http://venus.ifca.unican.es/Rintro/_images/dataStructuresNew.png)"
      ]
    },
    {
      "cell_type": "code",
      "metadata": {
        "lines_to_next_cell": 0,
        "id": "G8wukmqWkHLu",
        "colab_type": "code",
        "colab": {}
      },
      "source": [
        "n = c(2, 3, 5)\n",
        "s = c(\"aa\", \"bb\", \"cc\", \"dd\", \"ee\")\n",
        "b = c(TRUE, FALSE, TRUE, FALSE, FALSE)\n",
        "x = list(n, s, b, 3)   # x contains copies of n, s, b\n",
        "x"
      ],
      "execution_count": 0,
      "outputs": []
    },
    {
      "cell_type": "code",
      "metadata": {
        "id": "4Jxny0vbkHL3",
        "colab_type": "code",
        "colab": {}
      },
      "source": [
        "typeof(x[1])"
      ],
      "execution_count": 0,
      "outputs": []
    },
    {
      "cell_type": "markdown",
      "metadata": {
        "lines_to_next_cell": 0,
        "id": "LhGmJ28bkHMA",
        "colab_type": "text"
      },
      "source": [
        "* List elements: We retrieve list elements with the double square bracket `[[]]` operator, result is the original type"
      ]
    },
    {
      "cell_type": "code",
      "metadata": {
        "id": "8WvSZgVqkHMB",
        "colab_type": "code",
        "colab": {}
      },
      "source": [
        "typeof(x[[1]])"
      ],
      "execution_count": 0,
      "outputs": []
    },
    {
      "cell_type": "markdown",
      "metadata": {
        "id": "kUF4pmp6kHMF",
        "colab_type": "text"
      },
      "source": [
        "* Named elements: Similar to data frame columns the list elements can be named and referenced using these names\n",
        "* `unlist(x)` converts (flattens) a list of vectors into a single vector"
      ]
    },
    {
      "cell_type": "markdown",
      "metadata": {
        "id": "v3jWNfG8kHMG",
        "colab_type": "text"
      },
      "source": [
        "### Webservice example\n",
        "* JSON call from google API - Retrieve bars within 500 meters of Sanderring 2"
      ]
    },
    {
      "cell_type": "code",
      "metadata": {
        "id": "LadCMGoakHMH",
        "colab_type": "code",
        "colab": {}
      },
      "source": [
        "key = readChar(\"googleAPIkey.txt\", file.info(\"googleAPIkey.txt\")$size)\n",
        "URL <- paste0(\"https://maps.googleapis.com/maps/api/place/nearbysearch/json?location=49.7881799,9.93524&radius=500&types=bar&key=\",key)\n",
        "library(RCurl)\n",
        "library(RJSONIO)\n",
        "response_parsed <- fromJSON(getURL(URL,ssl.verifyhost = 0L, ssl.verifypeer = 0L))"
      ],
      "execution_count": 0,
      "outputs": []
    },
    {
      "cell_type": "markdown",
      "metadata": {
        "id": "EHwEuSyHkHML",
        "colab_type": "text"
      },
      "source": [
        "* The google webservice returns an XML file which is parsed by R into a list\n",
        "* Parsed response is a list of three lists, results are stored in the list results"
      ]
    },
    {
      "cell_type": "code",
      "metadata": {
        "lines_to_next_cell": 2,
        "id": "X7XHghvXkHMM",
        "colab_type": "code",
        "colab": {}
      },
      "source": [
        "names(response_parsed)"
      ],
      "execution_count": 0,
      "outputs": []
    },
    {
      "cell_type": "code",
      "metadata": {
        "lines_to_next_cell": 0,
        "id": "kofEqDpWkHMS",
        "colab_type": "code",
        "outputId": "5881b337-9d4b-4814-d86d-082419c35a98",
        "colab": {}
      },
      "source": [
        "names(response_parsed$results[[1]])\n",
        "response_parsed$results[[1]]$name\n",
        "response_parsed$results[[1]]$geometry$location\n",
        "response_parsed$results[[1]]$rating"
      ],
      "execution_count": 0,
      "outputs": [
        {
          "output_type": "error",
          "ename": "ERROR",
          "evalue": "Error in eval(expr, envir, enclos): Objekt 'response_parsed' nicht gefunden\n",
          "traceback": [
            "Error in eval(expr, envir, enclos): Objekt 'response_parsed' nicht gefunden\nTraceback:\n"
          ]
        }
      ]
    },
    {
      "cell_type": "markdown",
      "metadata": {
        "id": "Ty7uG_AAkHMX",
        "colab_type": "text"
      },
      "source": [
        "### Another API"
      ]
    },
    {
      "cell_type": "code",
      "metadata": {
        "lines_to_next_cell": 2,
        "id": "J6av4mivkHMY",
        "colab_type": "code",
        "colab": {}
      },
      "source": [
        "URL = \"https://www.anapioficeandfire.com/api/characters?page=1&pageSize=200\"\n",
        "response_parsed_got <- fromJSON(getURL(URL,ssl.verifyhost = 0L, ssl.verifypeer = 0L))\n",
        "names(response_parsed_got[[27]])\n",
        "response_parsed_got[[27]]$name\n",
        "response_parsed_got[[27]]$title\n",
        "response_parsed_got[[27]]$died"
      ],
      "execution_count": 0,
      "outputs": []
    },
    {
      "cell_type": "markdown",
      "metadata": {
        "lines_to_next_cell": 0,
        "id": "1pCNqPQ8kHMc",
        "colab_type": "text"
      },
      "source": [
        "## R Functions\n",
        "\n",
        "* R allows us to easily and elegantly write virtually any function that we want to implement\n",
        "* Basic setup for functions:\n",
        "`fun <- function(arguments) {code}`\n",
        "* Multiple calculation steps are separated by line breaks\n",
        "* Without return statement the last evaluation result is returned, if multiple calculations should be returned use `return()`\n",
        "* For multiple return values use vector or list"
      ]
    },
    {
      "cell_type": "code",
      "metadata": {
        "id": "llYgC3NkkHMc",
        "colab_type": "code",
        "colab": {}
      },
      "source": [
        "fun <- function(x, y) {x+y}\n",
        "fun(1,5)\n",
        "fun2 <- function(x, y) {\n",
        "  z1 <- 2*x + y\n",
        "  z2 <- x + 2*y\n",
        "  return(c(z1, z2))}\n",
        "fun2(1,5)"
      ],
      "execution_count": 0,
      "outputs": []
    },
    {
      "cell_type": "markdown",
      "metadata": {
        "id": "s4rgzqXPkHMf",
        "colab_type": "text"
      },
      "source": [
        "###  Programming task\n",
        "\n",
        "* Create a function getNameAndRating(listing) that returns name and rating for a Google Places Listing (from our earlier API call) as a data frame\n",
        "\n",
        "* If there is no rating available return -1 using ifelse\n"
      ]
    },
    {
      "cell_type": "code",
      "metadata": {
        "id": "GOJ4WP6_kHMf",
        "colab_type": "code",
        "colab": {}
      },
      "source": [
        ""
      ],
      "execution_count": 0,
      "outputs": []
    },
    {
      "cell_type": "markdown",
      "metadata": {
        "id": "rc4JcuSSkHMh",
        "colab_type": "text"
      },
      "source": [
        "### Applying functions to vectors / data frames / lists\n",
        "* Very often we may be interested in performing the same operation on multiple entries\n",
        "* While looping is possible in R it should typically avoided\n",
        "* In base R the `apply` scheme covers this approach, in this course we use the more versatile and performant map function from the `purrr` package\n",
        "\n",
        "`library(purrr)`\n",
        "\n",
        "`map(.x, .f) for every element of .x apply .f`\n",
        "\n",
        "* The base map function returns a list, there are special versions returning typed vectors or data frames: e.g., `map_chr`, `map_dbl`, `map_df`, ...\n",
        "* For functions with two arguments use `map2(.x, .y, .f)`\n"
      ]
    },
    {
      "cell_type": "markdown",
      "metadata": {
        "id": "fweoeC6ckHMh",
        "colab_type": "text"
      },
      "source": [
        "### @JennyBryan Lego illustrations\n",
        "![optional caption text](https://github.com/chrisflath/ADS20/blob/master/figures/minis1.png?raw=1)"
      ]
    },
    {
      "cell_type": "markdown",
      "metadata": {
        "id": "lOI5aSm_kHMi",
        "colab_type": "text"
      },
      "source": [
        "### map\n",
        "![optional caption text](https://github.com/chrisflath/ADS20/blob/master/figures/minis2.png?raw=1)"
      ]
    },
    {
      "cell_type": "markdown",
      "metadata": {
        "id": "zelQDGAxkHMi",
        "colab_type": "text"
      },
      "source": [
        "### map2\n",
        "![optional caption text](https://github.com/chrisflath/ADS20/blob/master/figures/minis3.png?raw=1)"
      ]
    },
    {
      "cell_type": "markdown",
      "metadata": {
        "id": "rJy5SGwZkHMi",
        "colab_type": "text"
      },
      "source": [
        "### map2\n",
        "![optional caption text](https://github.com/chrisflath/ADS20/blob/master/figures/minis4.png?raw=1)"
      ]
    },
    {
      "cell_type": "markdown",
      "metadata": {
        "id": "8wNQutuZkHMj",
        "colab_type": "text"
      },
      "source": [
        "### map2\n",
        "![](https://github.com/chrisflath/ADS20/blob/master/figures/minis5.png?raw=1)"
      ]
    },
    {
      "cell_type": "markdown",
      "metadata": {
        "id": "IlkrNuUjkHMj",
        "colab_type": "text"
      },
      "source": [
        "### map2\n",
        "![](https://github.com/chrisflath/ADS20/blob/master/figures/minis6.png?raw=1)"
      ]
    },
    {
      "cell_type": "markdown",
      "metadata": {
        "id": "RpZyfAjakHMk",
        "colab_type": "text"
      },
      "source": [
        "### Programming task\n",
        "\n",
        "* Leveraging our function, get names and ratings of all bars from our API call in a nice data frame"
      ]
    },
    {
      "cell_type": "code",
      "metadata": {
        "id": "f3F-5pWzkHMk",
        "colab_type": "code",
        "colab": {}
      },
      "source": [
        ""
      ],
      "execution_count": 0,
      "outputs": []
    }
  ]
}